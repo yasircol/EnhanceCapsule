{
  "cells": [
    {
      "cell_type": "markdown",
      "metadata": {
        "id": "m6ykcRlRcFBT"
      },
      "source": [
        "# **ACT-CIFAR10-**"
      ]
    },
    {
      "cell_type": "markdown",
      "metadata": {
        "id": "mRJRH3ANRET4"
      },
      "source": [
        "# Importing libraries"
      ]
    },
    {
      "cell_type": "code",
      "execution_count": null,
      "metadata": {
        "id": "HH27F0LLNrA7"
      },
      "outputs": [],
      "source": [
        "#!pip install tensorflow==2.14.1"
      ]
    },
    {
      "cell_type": "code",
      "execution_count": null,
      "metadata": {
        "colab": {
          "base_uri": "https://localhost:8080/"
        },
        "id": "SaTWufzwbCFZ",
        "outputId": "d7fa0388-d0c8-43cf-d25a-c6e48775cc70"
      },
      "outputs": [
        {
          "output_type": "stream",
          "name": "stdout",
          "text": [
            "Mounted at /content/drive\n"
          ]
        }
      ],
      "source": [
        "#Mount drive\n",
        "from google.colab import drive\n",
        "drive.mount('/content/drive')"
      ]
    },
    {
      "cell_type": "code",
      "execution_count": null,
      "metadata": {
        "id": "283DRIIoRET-"
      },
      "outputs": [],
      "source": [
        "import pandas as pd\n",
        "import numpy as np\n",
        "import keras\n",
        "import tensorflow as tf\n",
        "import keras.layers as L\n",
        "import keras.models as M\n",
        "import keras.initializers as I\n",
        "import keras.backend as K\n",
        "from keras import optimizers\n",
        "from sklearn.model_selection import train_test_split\n",
        "from keras.utils import to_categorical\n",
        "import matplotlib.pyplot as plt\n",
        "import cv2,os\n",
        "from PIL import Image, ImageOps\n",
        "from google.colab.patches import cv2_imshow\n",
        "import csv\n",
        "import math\n",
        "from keras.utils import to_categorical\n",
        "from sklearn.metrics import confusion_matrix , classification_report,accuracy_score, ConfusionMatrixDisplay, recall_score\n",
        "from keras.layers import BatchNormalization\n",
        "from keras.preprocessing.image import ImageDataGenerator\n",
        "from keras.datasets import cifar10"
      ]
    },
    {
      "cell_type": "code",
      "execution_count": null,
      "metadata": {
        "colab": {
          "base_uri": "https://localhost:8080/"
        },
        "id": "yWIo27ngMqCL",
        "outputId": "e084dd8a-d98d-4be7-c61a-171a3768403f"
      },
      "outputs": [
        {
          "output_type": "stream",
          "name": "stdout",
          "text": [
            "Downloading data from https://www.cs.toronto.edu/~kriz/cifar-10-python.tar.gz\n",
            "170498071/170498071 [==============================] - 19s 0us/step\n",
            "x_train shape: (50000, 32, 32, 3)\n",
            "y_train shape: (50000, 10)\n",
            "x_test shape: (10000, 32, 32, 3)\n",
            "y_test shape: (10000, 10)\n"
          ]
        }
      ],
      "source": [
        "img_size=32\n",
        "\n",
        "(x_train, y_train), (x_test, y_test) = cifar10.load_data()\n",
        "\n",
        "x_train = x_train.astype('float32') / 255.\n",
        "x_test = x_test.astype('float32') / 255.\n",
        "\n",
        "y_train = to_categorical(y_train, 10) # CIFAR-10 has 10 classes\n",
        "y_test = to_categorical(y_test, 10)\n",
        "\n",
        "\n",
        "print(\"x_train shape:\", x_train.shape)\n",
        "print(\"y_train shape:\", y_train.shape)\n",
        "print(\"x_test shape:\", x_test.shape)\n",
        "print(\"y_test shape:\", y_test.shape)"
      ]
    },
    {
      "cell_type": "code",
      "execution_count": null,
      "metadata": {
        "colab": {
          "base_uri": "https://localhost:8080/"
        },
        "id": "cRjVnx3IygSc",
        "outputId": "22a4bac1-1ef4-4db6-9e5d-593ee41155cc"
      },
      "outputs": [
        {
          "output_type": "stream",
          "name": "stdout",
          "text": [
            "[1, 2, 4, 5, 8, 10, 16, 20, 25, 40, 50, 80, 100, 125, 200, 250, 400, 500, 625, 1000, 1250, 2000, 2500, 3125, 5000, 6250, 10000, 12500, 25000, 50000]\n"
          ]
        }
      ],
      "source": [
        "#Define the range of batch size for network\n",
        "def find_factors(n):\n",
        "    factors = []\n",
        "    for i in range(1, n + 1):\n",
        "        if n % i == 0:\n",
        "            factors.append(i)\n",
        "    return factors\n",
        "\n",
        "\n",
        "print(find_factors(x_train.shape[0]))"
      ]
    },
    {
      "cell_type": "code",
      "execution_count": null,
      "metadata": {
        "id": "rQmFQ_eI2nfC"
      },
      "outputs": [],
      "source": [
        "# Makign the squash function\n",
        "def squash(vectors, axis=-1):\n",
        "    squared_norm = K.sum(K.square(vectors), axis, keepdims=True)\n",
        "    scale = squared_norm / (1 + squared_norm) / (K.sqrt(squared_norm) + K.epsilon())\n",
        "    return scale * vectors"
      ]
    },
    {
      "cell_type": "code",
      "execution_count": null,
      "metadata": {
        "id": "0-9LcURiGQ7A"
      },
      "outputs": [],
      "source": [
        "from keras.applications.densenet import DenseNet201\n",
        "from keras.layers import (Input, Conv2D, BatchNormalization, ReLU, Dense, AveragePooling2D, Concatenate, GlobalAveragePooling2D, Multiply, Conv2DTranspose)"
      ]
    },
    {
      "cell_type": "code",
      "execution_count": null,
      "metadata": {
        "id": "tMzv19ToEpea"
      },
      "outputs": [],
      "source": [
        "from keras.src.layers import MaxPooling2D\n",
        "from keras.src.layers.regularization.dropout import Dropout\n",
        "batch_size = 100\n",
        "\n",
        "img_shape = (img_size, img_size, 3)\n",
        "\n",
        "# # Define a custom input layer with a hardcoded batch size\n",
        "input_layer = L.Input(batch_shape=(batch_size,) + img_shape)\n",
        "\n",
        "\n",
        "from keras.layers import DepthwiseConv2D, GlobalAveragePooling2D, Reshape, Multiply\n",
        "\n",
        "def powerfeature(input_layer, num_layers, expansion_factor, reduction_factor=0.9):\n",
        "\n",
        "    # x = L.Conv2D(32, (3, 3), activation='relu', kernel_initializer='he_normal', padding='same')(x)\n",
        "    # x = L.Dropout(0.2)(x)\n",
        "    # x = L.Conv2D(32, (3, 3), activation='relu', kernel_initializer='he_normal', padding='same')(x)\n",
        "    # x = L.MaxPooling2D((2, 2))(x)\n",
        "\n",
        "    x = L.Conv2D(64, (3, 3), activation='relu', kernel_initializer='he_normal', padding='same')(input_layer)\n",
        "    x = L.Dropout(0.2)(x)\n",
        "    x = L.Conv2D(64, (3, 3), activation='relu', kernel_initializer='he_normal', padding='same')(x)\n",
        "    x = L.MaxPooling2D((2, 2))(x)\n",
        "\n",
        "    x = L.Conv2D(128, (3, 3), activation='relu', kernel_initializer='he_normal', padding='same')(x)\n",
        "    x = L.Dropout(0.3)(x)\n",
        "    x = L.Conv2D(128, (3, 3), activation='relu', kernel_initializer='he_normal', padding='same')(x)\n",
        "    x = L.MaxPooling2D((2, 2))(x)\n",
        "\n",
        "\n",
        "    for _ in range(num_layers):\n",
        "        x1 = L.Conv2D(2 * expansion_factor, (3, 3), kernel_initializer='he_normal', padding='same')(x)\n",
        "        x1 = L.Dropout(0.2)(x1)\n",
        "        x1 = L.Conv2D(expansion_factor, (3, 3), kernel_initializer='he_normal', padding='same')(x1)\n",
        "        x = L.Concatenate()([x, x1])\n",
        "\n",
        "\n",
        "    # Attention Mechanism\n",
        "    attention = GlobalAveragePooling2D()(x)\n",
        "    attention = Reshape((1, 1, K.int_shape(x)[-1]))(attention)\n",
        "    attention = L.Conv2D(K.int_shape(x)[-1] // 16, (3,3), activation='relu', kernel_initializer='he_normal', padding='same')(attention)\n",
        "    attention = L.Conv2D(K.int_shape(x)[-1], (3,3), activation='relu', kernel_initializer='he_normal', padding='same')(attention)\n",
        "    x = Multiply()([x, attention])\n",
        "\n",
        "\n",
        " # Transition Mechanism\n",
        "    contracted_filters = int(K.int_shape(x)[-1] * reduction_factor)\n",
        "\n",
        "    x = L.Conv2D(contracted_filters, (3, 3), kernel_initializer='he_normal', padding='same')(x)\n",
        "    x = L.Dropout(0.5)(x)\n",
        "    x = L.Conv2D(contracted_filters, (3, 3), kernel_initializer='he_normal', padding='same')(x)\n",
        "    x = L.MaxPooling2D((2, 2))(x)\n",
        "\n",
        "    return x\n",
        "\n",
        "\n",
        "x = powerfeature(input_layer,num_layers=2, expansion_factor=4)\n",
        "\n",
        "\n",
        "\n",
        "#Primary Capsule Layer\n",
        "conv2 = L.Conv2D(filters=8 * 16, kernel_size=(3, 3), strides=(2, 2), padding='same')(x)\n",
        "reshape2 = L.Reshape([-1, 8])(conv2)  # Reduce dimensions here\n",
        "squashed_output = L.Lambda(squash)(reshape2)\n"
      ]
    },
    {
      "cell_type": "code",
      "execution_count": null,
      "metadata": {
        "id": "eSjA995S2vFR"
      },
      "outputs": [],
      "source": [
        "# Making capsule layer from scratch\n",
        "class CapsuleLayer(L.Layer):\n",
        "    def __init__(self, num_capsule, dim_capsule, routing=3, kernel_initializer='glorot_uniform', **kwargs):\n",
        "        super(CapsuleLayer, self).__init__(**kwargs)\n",
        "        self.num_capsule = num_capsule\n",
        "        self.dim_capsule = dim_capsule\n",
        "        self.routing = routing\n",
        "        self.kernel_initializer = kernel_initializer\n",
        "\n",
        "    def build(self, input_shape):\n",
        "        assert len(input_shape) >= 3\n",
        "        self.input_num_capsule = input_shape[1]\n",
        "        self.input_dim_capsule = input_shape[2]\n",
        "\n",
        "        # transforming the matrix\n",
        "        self.W = self.add_weight(\n",
        "            shape=[self.num_capsule, self.input_num_capsule, self.dim_capsule, self.input_dim_capsule],\n",
        "            initializer=self.kernel_initializer, name='w')\n",
        "        self.built = True\n",
        "\n",
        "    def call(self, inputs, training=None):\n",
        "        input_expand = tf.expand_dims(tf.expand_dims(inputs, 1), -1)\n",
        "        inputs_tiled = K.tile(input_expand, [1, self.num_capsule, 1, 1, 1])\n",
        "        input_hat = tf.squeeze(tf.map_fn(lambda x: tf.matmul(self.W, x), elems=inputs_tiled))\n",
        "        # b = tf.zeros(shape=[inputs.shape[0], self.num_capsule, 1, self.input_num_capsule])\n",
        "        b = tf.zeros(shape=[tf.shape(inputs)[0], self.num_capsule, 1, self.input_num_capsule])\n",
        "\n",
        "        assert self.routing > 0\n",
        "        for i in range(self.routing):\n",
        "            c = tf.nn.softmax(b, axis=1)\n",
        "            output = squash(tf.matmul(c, input_hat))\n",
        "            if i < self.routing - 1:\n",
        "                b += tf.matmul(output, input_hat, transpose_b=True)\n",
        "        return tf.squeeze(output)\n",
        "\n",
        "    def compute_output_shape(self, input_shape):\n",
        "        return tuple([None, self.num_capsule, self.dim_capsule])\n",
        "\n",
        "    def get_config(self):\n",
        "        config = {\n",
        "            'num_capsule': self.num_capsule,\n",
        "            'dim_capsule': self.dim_capsule,\n",
        "            'routings': self.routings\n",
        "        }\n",
        "        base_config = super(CapsuleLayer, self).get_config()\n",
        "        return dict(list(base_config.items()) + list(config.items()))"
      ]
    },
    {
      "cell_type": "code",
      "execution_count": null,
      "metadata": {
        "id": "YYVJEJLK2zkQ"
      },
      "outputs": [],
      "source": [
        "aeccaps = CapsuleLayer(num_capsule=10, dim_capsule=8, routing=3, name='aeccaps')(squashed_output)"
      ]
    },
    {
      "cell_type": "code",
      "execution_count": null,
      "metadata": {
        "id": "8hLcnT7E2198"
      },
      "outputs": [],
      "source": [
        "# Making length layer which will calculate the length of the vectors\n",
        "class Length(L.Layer):\n",
        "    def call(self, inputs, **kwargs):\n",
        "        return tf.sqrt(tf.reduce_sum(tf.square(inputs), -1))\n",
        "\n",
        "    def compute_output_shape(self, input_shape):\n",
        "        return input_shape[:-1]\n",
        "\n",
        "    def get_config(self):\n",
        "        config = super(Length, self).get_config()\n",
        "        return config\n"
      ]
    },
    {
      "cell_type": "code",
      "execution_count": null,
      "metadata": {
        "id": "XsBv1LhL255V"
      },
      "outputs": [],
      "source": [
        "# Layer 4: This is an auxiliary layer to replace each capsule with its length. Just to match the true label's shape.\n",
        "# If using tensorflow, this will not be necessary. :)\n",
        "out_caps = Length(name='capsnet')(aeccaps)"
      ]
    },
    {
      "cell_type": "code",
      "execution_count": null,
      "metadata": {
        "id": "66Gkk4uW28NV"
      },
      "outputs": [],
      "source": [
        "# Making the masking layer\n",
        "class Mask(L.Layer):\n",
        "    def call(self, inputs, **kwargs):\n",
        "        if type(inputs) is list:\n",
        "            assert len(inputs) == 2\n",
        "            inputs, mask = inputs\n",
        "        else:\n",
        "            x = tf.sqrt(tf.reduce_sum(tf.square(inputs), -1))\n",
        "            mask = tf.one_hot(indices=tf.argmax(x, 1), depth=x.shape[1])\n",
        "        masked = K.batch_flatten(inputs * tf.expand_dims(mask, -1))\n",
        "        return masked\n",
        "\n",
        "    def compute_output_shape(self, input_shape):\n",
        "        if type(input_shape[0]) is tuple:  # true label provided\n",
        "            return tuple([None, input_shape[0][1] * input_shape[0][2]])\n",
        "        else:  # no true label provided\n",
        "            return tuple([None, input_shape[1] * input_shape[2]])\n",
        "\n",
        "    def get_config(self):\n",
        "        config = super(Mask, self).get_config()\n",
        "        return config"
      ]
    },
    {
      "cell_type": "code",
      "execution_count": null,
      "metadata": {
        "colab": {
          "base_uri": "https://localhost:8080/"
        },
        "id": "iTdeWoNC3ANO",
        "outputId": "1b4147a8-6851-4067-ad51-f4c30c42e594"
      },
      "outputs": [
        {
          "output_type": "stream",
          "name": "stdout",
          "text": [
            "(None, 10)\n",
            "(100, 10, 8)\n",
            "(100, 80)\n",
            "(100, 80)\n"
          ]
        }
      ],
      "source": [
        "y = L.Input(shape=(10,))\n",
        "print(y.shape)\n",
        "print(aeccaps.shape)\n",
        "masked_by_y = Mask()([aeccaps, y])  # The true label is used to mask the output of capsule layer. For training\n",
        "print(masked_by_y.shape)\n",
        "masked = Mask()(aeccaps)\n",
        "print(masked.shape)"
      ]
    },
    {
      "cell_type": "code",
      "execution_count": null,
      "metadata": {
        "id": "mF-ZO0HM3H3E"
      },
      "outputs": [],
      "source": [
        "input_shape = x_train.shape[1:]\n",
        "decoder = M.Sequential(name='decoder')\n",
        "decoder.add(L.Dense(512, activation='relu',kernel_initializer='he_normal', input_dim=8 * 10))\n",
        "decoder.add(L.Dense(1024, activation='relu',kernel_initializer='he_normal'))\n",
        "decoder.add(L.Dense(img_size * img_size * 3, activation='softmax'))\n",
        "decoder.add(L.Reshape(target_shape=input_shape, name='out_recon'))\n"
      ]
    },
    {
      "cell_type": "code",
      "execution_count": null,
      "metadata": {
        "id": "t8oX42aK3IkE"
      },
      "outputs": [],
      "source": [
        "# Making models\n",
        "train_model = M.Model([input_layer, y], [out_caps, decoder(masked_by_y)])\n",
        "eval_model = M.Model(input_layer, [out_caps, decoder(masked)])"
      ]
    },
    {
      "cell_type": "code",
      "execution_count": null,
      "metadata": {
        "id": "3PFKjgTb3LCH"
      },
      "outputs": [],
      "source": [
        "# Making the loss function\n",
        "def margin_loss(y_true, y_pred):\n",
        "    L = y_true * tf.square(tf.maximum(0., 0.9 - y_pred)) + \\\n",
        "        0.5 * (1 - y_true) * tf.square(tf.maximum(0., y_pred - 0.1))\n",
        "    return tf.reduce_mean(tf.reduce_sum(L, 1))"
      ]
    },
    {
      "cell_type": "code",
      "execution_count": null,
      "metadata": {
        "colab": {
          "base_uri": "https://localhost:8080/"
        },
        "id": "h7OIvuRA3P56",
        "outputId": "cc2b7f8c-586b-4826-9a37-dbd4cf53bc68"
      },
      "outputs": [
        {
          "output_type": "stream",
          "name": "stdout",
          "text": [
            "Model: \"model\"\n",
            "__________________________________________________________________________________________________\n",
            " Layer (type)                Output Shape                 Param #   Connected to                  \n",
            "==================================================================================================\n",
            " input_1 (InputLayer)        [(100, 32, 32, 3)]           0         []                            \n",
            "                                                                                                  \n",
            " conv2d (Conv2D)             (100, 32, 32, 32)            896       ['input_1[0][0]']             \n",
            "                                                                                                  \n",
            " dropout (Dropout)           (100, 32, 32, 32)            0         ['conv2d[0][0]']              \n",
            "                                                                                                  \n",
            " conv2d_1 (Conv2D)           (100, 32, 32, 32)            9248      ['dropout[0][0]']             \n",
            "                                                                                                  \n",
            " max_pooling2d (MaxPooling2  (100, 16, 16, 32)            0         ['conv2d_1[0][0]']            \n",
            " D)                                                                                               \n",
            "                                                                                                  \n",
            " conv2d_2 (Conv2D)           (100, 16, 16, 64)            18496     ['max_pooling2d[0][0]']       \n",
            "                                                                                                  \n",
            " dropout_1 (Dropout)         (100, 16, 16, 64)            0         ['conv2d_2[0][0]']            \n",
            "                                                                                                  \n",
            " conv2d_3 (Conv2D)           (100, 16, 16, 64)            36928     ['dropout_1[0][0]']           \n",
            "                                                                                                  \n",
            " max_pooling2d_1 (MaxPoolin  (100, 8, 8, 64)              0         ['conv2d_3[0][0]']            \n",
            " g2D)                                                                                             \n",
            "                                                                                                  \n",
            " conv2d_4 (Conv2D)           (100, 8, 8, 128)             73856     ['max_pooling2d_1[0][0]']     \n",
            "                                                                                                  \n",
            " dropout_2 (Dropout)         (100, 8, 8, 128)             0         ['conv2d_4[0][0]']            \n",
            "                                                                                                  \n",
            " conv2d_5 (Conv2D)           (100, 8, 8, 128)             147584    ['dropout_2[0][0]']           \n",
            "                                                                                                  \n",
            " max_pooling2d_2 (MaxPoolin  (100, 4, 4, 128)             0         ['conv2d_5[0][0]']            \n",
            " g2D)                                                                                             \n",
            "                                                                                                  \n",
            " conv2d_6 (Conv2D)           (100, 4, 4, 8)               9224      ['max_pooling2d_2[0][0]']     \n",
            "                                                                                                  \n",
            " dropout_3 (Dropout)         (100, 4, 4, 8)               0         ['conv2d_6[0][0]']            \n",
            "                                                                                                  \n",
            " conv2d_7 (Conv2D)           (100, 4, 4, 4)               292       ['dropout_3[0][0]']           \n",
            "                                                                                                  \n",
            " concatenate (Concatenate)   (100, 4, 4, 132)             0         ['max_pooling2d_2[0][0]',     \n",
            "                                                                     'conv2d_7[0][0]']            \n",
            "                                                                                                  \n",
            " conv2d_8 (Conv2D)           (100, 4, 4, 8)               9512      ['concatenate[0][0]']         \n",
            "                                                                                                  \n",
            " dropout_4 (Dropout)         (100, 4, 4, 8)               0         ['conv2d_8[0][0]']            \n",
            "                                                                                                  \n",
            " conv2d_9 (Conv2D)           (100, 4, 4, 4)               292       ['dropout_4[0][0]']           \n",
            "                                                                                                  \n",
            " concatenate_1 (Concatenate  (100, 4, 4, 136)             0         ['concatenate[0][0]',         \n",
            " )                                                                   'conv2d_9[0][0]']            \n",
            "                                                                                                  \n",
            " global_average_pooling2d (  (100, 136)                   0         ['concatenate_1[0][0]']       \n",
            " GlobalAveragePooling2D)                                                                          \n",
            "                                                                                                  \n",
            " reshape (Reshape)           (100, 1, 1, 136)             0         ['global_average_pooling2d[0][\n",
            "                                                                    0]']                          \n",
            "                                                                                                  \n",
            " conv2d_10 (Conv2D)          (100, 1, 1, 8)               9800      ['reshape[0][0]']             \n",
            "                                                                                                  \n",
            " conv2d_11 (Conv2D)          (100, 1, 1, 136)             9928      ['conv2d_10[0][0]']           \n",
            "                                                                                                  \n",
            " multiply (Multiply)         (100, 4, 4, 136)             0         ['concatenate_1[0][0]',       \n",
            "                                                                     'conv2d_11[0][0]']           \n",
            "                                                                                                  \n",
            " conv2d_12 (Conv2D)          (100, 4, 4, 122)             149450    ['multiply[0][0]']            \n",
            "                                                                                                  \n",
            " dropout_5 (Dropout)         (100, 4, 4, 122)             0         ['conv2d_12[0][0]']           \n",
            "                                                                                                  \n",
            " conv2d_13 (Conv2D)          (100, 4, 4, 122)             134078    ['dropout_5[0][0]']           \n",
            "                                                                                                  \n",
            " max_pooling2d_3 (MaxPoolin  (100, 2, 2, 122)             0         ['conv2d_13[0][0]']           \n",
            " g2D)                                                                                             \n",
            "                                                                                                  \n",
            " conv2d_14 (Conv2D)          (100, 1, 1, 128)             140672    ['max_pooling2d_3[0][0]']     \n",
            "                                                                                                  \n",
            " reshape_1 (Reshape)         (100, 16, 8)                 0         ['conv2d_14[0][0]']           \n",
            "                                                                                                  \n",
            " lambda (Lambda)             (100, 16, 8)                 0         ['reshape_1[0][0]']           \n",
            "                                                                                                  \n",
            " heelcaps (CapsuleLayer)     (100, 10, 8)                 10240     ['lambda[0][0]']              \n",
            "                                                                                                  \n",
            " input_2 (InputLayer)        [(None, 10)]                 0         []                            \n",
            "                                                                                                  \n",
            " mask (Mask)                 (100, 80)                    0         ['heelcaps[0][0]',            \n",
            "                                                                     'input_2[0][0]']             \n",
            "                                                                                                  \n",
            " capsnet (Length)            (100, 10)                    0         ['heelcaps[0][0]']            \n",
            "                                                                                                  \n",
            " decoder (Sequential)        (None, 32, 32, 3)            3715584   ['mask[0][0]']                \n",
            "                                                                                                  \n",
            "==================================================================================================\n",
            "Total params: 4476080 (17.07 MB)\n",
            "Trainable params: 4476080 (17.07 MB)\n",
            "Non-trainable params: 0 (0.00 Byte)\n",
            "__________________________________________________________________________________________________\n"
          ]
        }
      ],
      "source": [
        "train_model.summary()"
      ]
    },
    {
      "cell_type": "code",
      "execution_count": null,
      "metadata": {
        "id": "GWIlgOnjzdhT"
      },
      "outputs": [],
      "source": [
        "train_model.save_weights('/content/drive/MyDrive/models/yasir-CIFAR10-ACT_model_NoAug.weights.h5')\n",
        "train_model.load_weights('/content/drive/MyDrive/models/yasir-CIFAR10-ACT_model_NoAug.weights.h5')\n"
      ]
    },
    {
      "cell_type": "code",
      "execution_count": null,
      "metadata": {
        "id": "Rx7H3E783WfF"
      },
      "outputs": [],
      "source": [
        "n_samples = 5"
      ]
    },
    {
      "cell_type": "code",
      "execution_count": null,
      "metadata": {
        "id": "rdniU6893YnS"
      },
      "outputs": [],
      "source": [
        "# plt.figure(figsize=(n_samples * 2, 3))\n",
        "# for index in range(n_samples):\n",
        "#     plt.subplot(1, n_samples, index + 1)\n",
        "#     sample_image = x_test[index]\n",
        "#     plt.imshow(sample_image, cmap=\"binary\")\n",
        "#     plt.title(\"Label:\" + str(y_test[index]))\n",
        "#     plt.axis(\"off\")\n",
        "\n",
        "# plt.show()"
      ]
    },
    {
      "cell_type": "code",
      "execution_count": null,
      "metadata": {
        "id": "WHyvs0QG3bV-"
      },
      "outputs": [],
      "source": [
        "m = batch_size\n",
        "epochs = 100\n",
        "# Using EarlyStopping, end training when val_accuracy is not improved for 10 consecutive times\n",
        "early_stopping = keras.callbacks.EarlyStopping(monitor='val_capsnet_accuracy', mode='max',\n",
        "                                               patience=2, restore_best_weights=True)\n"
      ]
    },
    {
      "cell_type": "code",
      "execution_count": null,
      "metadata": {
        "colab": {
          "base_uri": "https://localhost:8080/"
        },
        "id": "6eDzzIMj5v8J",
        "outputId": "8afbd708-6207-433b-ae00-baa1fbb83c92"
      },
      "outputs": [
        {
          "output_type": "stream",
          "name": "stdout",
          "text": [
            "(50000, 32, 32, 3)\n",
            "(50000, 10)\n",
            "(10000, 32, 32, 3)\n",
            "(10000, 10)\n"
          ]
        }
      ],
      "source": [
        "print(x_train.shape)  # should be (num_samples, 28, 28, 1) or something similar\n",
        "print(y_train.shape)  # should be (num_samples, 3) given your model summary\n",
        "print(x_test.shape)   # should be (num_test_samples, 28, 28, 1) or similar\n",
        "print(y_test.shape)   # should be (num_test_samples, 3)\n"
      ]
    },
    {
      "cell_type": "code",
      "execution_count": null,
      "metadata": {
        "colab": {
          "base_uri": "https://localhost:8080/"
        },
        "id": "k5t0yhoE3fY9",
        "outputId": "1a9e940f-4ddb-42a3-e0f2-790d68a2f2f2"
      },
      "outputs": [
        {
          "output_type": "stream",
          "name": "stdout",
          "text": [
            "Epoch 1/100\n",
            "500/500 [==============================] - 106s 205ms/step - loss: 0.4509 - capsnet_loss: 0.4507 - decoder_loss: 0.2871 - capsnet_accuracy: 0.3056 - decoder_accuracy: 0.3342 - val_loss: 0.3759 - val_capsnet_loss: 0.3758 - val_decoder_loss: 0.2899 - val_capsnet_accuracy: 0.4170 - val_decoder_accuracy: 0.3345\n",
            "Epoch 2/100\n",
            "500/500 [==============================] - 99s 197ms/step - loss: 0.3392 - capsnet_loss: 0.3391 - decoder_loss: 0.2871 - capsnet_accuracy: 0.4852 - decoder_accuracy: 0.3346 - val_loss: 0.2927 - val_capsnet_loss: 0.2925 - val_decoder_loss: 0.2899 - val_capsnet_accuracy: 0.5663 - val_decoder_accuracy: 0.3347\n",
            "Epoch 3/100\n",
            "500/500 [==============================] - 98s 195ms/step - loss: 0.2778 - capsnet_loss: 0.2777 - decoder_loss: 0.2871 - capsnet_accuracy: 0.5864 - decoder_accuracy: 0.3348 - val_loss: 0.2544 - val_capsnet_loss: 0.2543 - val_decoder_loss: 0.2899 - val_capsnet_accuracy: 0.6241 - val_decoder_accuracy: 0.3349\n",
            "Epoch 4/100\n",
            "500/500 [==============================] - 98s 195ms/step - loss: 0.2372 - capsnet_loss: 0.2370 - decoder_loss: 0.2871 - capsnet_accuracy: 0.6525 - decoder_accuracy: 0.3350 - val_loss: 0.2241 - val_capsnet_loss: 0.2240 - val_decoder_loss: 0.2899 - val_capsnet_accuracy: 0.6773 - val_decoder_accuracy: 0.3352\n",
            "Epoch 5/100\n",
            "500/500 [==============================] - 97s 194ms/step - loss: 0.2095 - capsnet_loss: 0.2094 - decoder_loss: 0.2871 - capsnet_accuracy: 0.6964 - decoder_accuracy: 0.3351 - val_loss: 0.2044 - val_capsnet_loss: 0.2042 - val_decoder_loss: 0.2899 - val_capsnet_accuracy: 0.7083 - val_decoder_accuracy: 0.3353\n",
            "Epoch 6/100\n",
            "500/500 [==============================] - 99s 197ms/step - loss: 0.1893 - capsnet_loss: 0.1892 - decoder_loss: 0.2871 - capsnet_accuracy: 0.7261 - decoder_accuracy: 0.3352 - val_loss: 0.1850 - val_capsnet_loss: 0.1848 - val_decoder_loss: 0.2899 - val_capsnet_accuracy: 0.7330 - val_decoder_accuracy: 0.3353\n",
            "Epoch 7/100\n",
            "500/500 [==============================] - 98s 197ms/step - loss: 0.1738 - capsnet_loss: 0.1737 - decoder_loss: 0.2871 - capsnet_accuracy: 0.7509 - decoder_accuracy: 0.3354 - val_loss: 0.1801 - val_capsnet_loss: 0.1800 - val_decoder_loss: 0.2899 - val_capsnet_accuracy: 0.7398 - val_decoder_accuracy: 0.3353\n",
            "Epoch 8/100\n",
            "500/500 [==============================] - 97s 193ms/step - loss: 0.1606 - capsnet_loss: 0.1605 - decoder_loss: 0.2871 - capsnet_accuracy: 0.7705 - decoder_accuracy: 0.3355 - val_loss: 0.1670 - val_capsnet_loss: 0.1668 - val_decoder_loss: 0.2899 - val_capsnet_accuracy: 0.7581 - val_decoder_accuracy: 0.3356\n",
            "Epoch 9/100\n",
            "500/500 [==============================] - 97s 194ms/step - loss: 0.1505 - capsnet_loss: 0.1504 - decoder_loss: 0.2871 - capsnet_accuracy: 0.7872 - decoder_accuracy: 0.3356 - val_loss: 0.1552 - val_capsnet_loss: 0.1551 - val_decoder_loss: 0.2899 - val_capsnet_accuracy: 0.7812 - val_decoder_accuracy: 0.3357\n",
            "Epoch 10/100\n",
            "500/500 [==============================] - 97s 194ms/step - loss: 0.1418 - capsnet_loss: 0.1417 - decoder_loss: 0.2871 - capsnet_accuracy: 0.7992 - decoder_accuracy: 0.3358 - val_loss: 0.1524 - val_capsnet_loss: 0.1523 - val_decoder_loss: 0.2899 - val_capsnet_accuracy: 0.7832 - val_decoder_accuracy: 0.3359\n",
            "Epoch 11/100\n",
            "500/500 [==============================] - 96s 191ms/step - loss: 0.1323 - capsnet_loss: 0.1321 - decoder_loss: 0.2871 - capsnet_accuracy: 0.8145 - decoder_accuracy: 0.3359 - val_loss: 0.1484 - val_capsnet_loss: 0.1482 - val_decoder_loss: 0.2899 - val_capsnet_accuracy: 0.7916 - val_decoder_accuracy: 0.3362\n",
            "Epoch 12/100\n",
            "500/500 [==============================] - 95s 190ms/step - loss: 0.1268 - capsnet_loss: 0.1266 - decoder_loss: 0.2871 - capsnet_accuracy: 0.8215 - decoder_accuracy: 0.3360 - val_loss: 0.1561 - val_capsnet_loss: 0.1559 - val_decoder_loss: 0.2899 - val_capsnet_accuracy: 0.7767 - val_decoder_accuracy: 0.3363\n",
            "Epoch 13/100\n",
            "500/500 [==============================] - 96s 192ms/step - loss: 0.1195 - capsnet_loss: 0.1194 - decoder_loss: 0.2871 - capsnet_accuracy: 0.8307 - decoder_accuracy: 0.3362 - val_loss: 0.1458 - val_capsnet_loss: 0.1457 - val_decoder_loss: 0.2899 - val_capsnet_accuracy: 0.7960 - val_decoder_accuracy: 0.3364\n",
            "Epoch 14/100\n",
            "500/500 [==============================] - 95s 190ms/step - loss: 0.1158 - capsnet_loss: 0.1157 - decoder_loss: 0.2871 - capsnet_accuracy: 0.8374 - decoder_accuracy: 0.3363 - val_loss: 0.1414 - val_capsnet_loss: 0.1413 - val_decoder_loss: 0.2899 - val_capsnet_accuracy: 0.7981 - val_decoder_accuracy: 0.3365\n",
            "Epoch 15/100\n",
            "500/500 [==============================] - 95s 190ms/step - loss: 0.1104 - capsnet_loss: 0.1103 - decoder_loss: 0.2871 - capsnet_accuracy: 0.8446 - decoder_accuracy: 0.3364 - val_loss: 0.1446 - val_capsnet_loss: 0.1444 - val_decoder_loss: 0.2899 - val_capsnet_accuracy: 0.7981 - val_decoder_accuracy: 0.3365\n",
            "Epoch 16/100\n",
            "500/500 [==============================] - 95s 191ms/step - loss: 0.1070 - capsnet_loss: 0.1069 - decoder_loss: 0.2871 - capsnet_accuracy: 0.8500 - decoder_accuracy: 0.3365 - val_loss: 0.1355 - val_capsnet_loss: 0.1354 - val_decoder_loss: 0.2899 - val_capsnet_accuracy: 0.8109 - val_decoder_accuracy: 0.3367\n",
            "Epoch 17/100\n",
            "500/500 [==============================] - 97s 193ms/step - loss: 0.1018 - capsnet_loss: 0.1017 - decoder_loss: 0.2871 - capsnet_accuracy: 0.8575 - decoder_accuracy: 0.3366 - val_loss: 0.1390 - val_capsnet_loss: 0.1388 - val_decoder_loss: 0.2899 - val_capsnet_accuracy: 0.8091 - val_decoder_accuracy: 0.3369\n",
            "Epoch 18/100\n",
            "500/500 [==============================] - 96s 193ms/step - loss: 0.0975 - capsnet_loss: 0.0974 - decoder_loss: 0.2871 - capsnet_accuracy: 0.8640 - decoder_accuracy: 0.3367 - val_loss: 0.1394 - val_capsnet_loss: 0.1392 - val_decoder_loss: 0.2899 - val_capsnet_accuracy: 0.8098 - val_decoder_accuracy: 0.3370\n",
            "Epoch 19/100\n",
            "500/500 [==============================] - 96s 193ms/step - loss: 0.0943 - capsnet_loss: 0.0941 - decoder_loss: 0.2871 - capsnet_accuracy: 0.8673 - decoder_accuracy: 0.3368 - val_loss: 0.1371 - val_capsnet_loss: 0.1370 - val_decoder_loss: 0.2899 - val_capsnet_accuracy: 0.8087 - val_decoder_accuracy: 0.3372\n",
            "Epoch 20/100\n",
            "500/500 [==============================] - 96s 192ms/step - loss: 0.0906 - capsnet_loss: 0.0904 - decoder_loss: 0.2871 - capsnet_accuracy: 0.8750 - decoder_accuracy: 0.3369 - val_loss: 0.1318 - val_capsnet_loss: 0.1316 - val_decoder_loss: 0.2899 - val_capsnet_accuracy: 0.8197 - val_decoder_accuracy: 0.3371\n",
            "Epoch 21/100\n",
            "500/500 [==============================] - 97s 194ms/step - loss: 0.0890 - capsnet_loss: 0.0888 - decoder_loss: 0.2871 - capsnet_accuracy: 0.8766 - decoder_accuracy: 0.3369 - val_loss: 0.1358 - val_capsnet_loss: 0.1357 - val_decoder_loss: 0.2899 - val_capsnet_accuracy: 0.8138 - val_decoder_accuracy: 0.3373\n",
            "Epoch 22/100\n",
            "500/500 [==============================] - 96s 192ms/step - loss: 0.0854 - capsnet_loss: 0.0852 - decoder_loss: 0.2871 - capsnet_accuracy: 0.8825 - decoder_accuracy: 0.3370 - val_loss: 0.1351 - val_capsnet_loss: 0.1350 - val_decoder_loss: 0.2899 - val_capsnet_accuracy: 0.8152 - val_decoder_accuracy: 0.3374\n",
            "Epoch 23/100\n",
            "500/500 [==============================] - 96s 192ms/step - loss: 0.0843 - capsnet_loss: 0.0841 - decoder_loss: 0.2871 - capsnet_accuracy: 0.8833 - decoder_accuracy: 0.3371 - val_loss: 0.1349 - val_capsnet_loss: 0.1348 - val_decoder_loss: 0.2899 - val_capsnet_accuracy: 0.8169 - val_decoder_accuracy: 0.3374\n",
            "Epoch 24/100\n",
            "500/500 [==============================] - 97s 195ms/step - loss: 0.0808 - capsnet_loss: 0.0807 - decoder_loss: 0.2871 - capsnet_accuracy: 0.8882 - decoder_accuracy: 0.3372 - val_loss: 0.1365 - val_capsnet_loss: 0.1363 - val_decoder_loss: 0.2899 - val_capsnet_accuracy: 0.8144 - val_decoder_accuracy: 0.3375\n",
            "Epoch 25/100\n",
            "500/500 [==============================] - 97s 193ms/step - loss: 0.0787 - capsnet_loss: 0.0785 - decoder_loss: 0.2871 - capsnet_accuracy: 0.8898 - decoder_accuracy: 0.3373 - val_loss: 0.1347 - val_capsnet_loss: 0.1345 - val_decoder_loss: 0.2899 - val_capsnet_accuracy: 0.8173 - val_decoder_accuracy: 0.3378\n",
            "Epoch 26/100\n",
            "500/500 [==============================] - 96s 193ms/step - loss: 0.0773 - capsnet_loss: 0.0771 - decoder_loss: 0.2871 - capsnet_accuracy: 0.8933 - decoder_accuracy: 0.3375 - val_loss: 0.1340 - val_capsnet_loss: 0.1338 - val_decoder_loss: 0.2899 - val_capsnet_accuracy: 0.8166 - val_decoder_accuracy: 0.3379\n",
            "Epoch 27/100\n",
            "500/500 [==============================] - 97s 194ms/step - loss: 0.0745 - capsnet_loss: 0.0744 - decoder_loss: 0.2871 - capsnet_accuracy: 0.8967 - decoder_accuracy: 0.3376 - val_loss: 0.1428 - val_capsnet_loss: 0.1426 - val_decoder_loss: 0.2899 - val_capsnet_accuracy: 0.8074 - val_decoder_accuracy: 0.3382\n",
            "Epoch 28/100\n",
            "500/500 [==============================] - 97s 193ms/step - loss: 0.0724 - capsnet_loss: 0.0723 - decoder_loss: 0.2871 - capsnet_accuracy: 0.9000 - decoder_accuracy: 0.3378 - val_loss: 0.1356 - val_capsnet_loss: 0.1355 - val_decoder_loss: 0.2899 - val_capsnet_accuracy: 0.8175 - val_decoder_accuracy: 0.3382\n",
            "Epoch 29/100\n",
            "500/500 [==============================] - 96s 192ms/step - loss: 0.0709 - capsnet_loss: 0.0708 - decoder_loss: 0.2871 - capsnet_accuracy: 0.9017 - decoder_accuracy: 0.3380 - val_loss: 0.1298 - val_capsnet_loss: 0.1296 - val_decoder_loss: 0.2899 - val_capsnet_accuracy: 0.8254 - val_decoder_accuracy: 0.3385\n",
            "Epoch 30/100\n",
            "500/500 [==============================] - 96s 193ms/step - loss: 0.0698 - capsnet_loss: 0.0696 - decoder_loss: 0.2871 - capsnet_accuracy: 0.9043 - decoder_accuracy: 0.3381 - val_loss: 0.1329 - val_capsnet_loss: 0.1328 - val_decoder_loss: 0.2899 - val_capsnet_accuracy: 0.8246 - val_decoder_accuracy: 0.3386\n",
            "Epoch 31/100\n",
            "500/500 [==============================] - 96s 192ms/step - loss: 0.0671 - capsnet_loss: 0.0669 - decoder_loss: 0.2871 - capsnet_accuracy: 0.9085 - decoder_accuracy: 0.3383 - val_loss: 0.1310 - val_capsnet_loss: 0.1308 - val_decoder_loss: 0.2899 - val_capsnet_accuracy: 0.8228 - val_decoder_accuracy: 0.3387\n",
            "Epoch 32/100\n",
            "500/500 [==============================] - 96s 193ms/step - loss: 0.0658 - capsnet_loss: 0.0657 - decoder_loss: 0.2871 - capsnet_accuracy: 0.9103 - decoder_accuracy: 0.3384 - val_loss: 0.1321 - val_capsnet_loss: 0.1320 - val_decoder_loss: 0.2899 - val_capsnet_accuracy: 0.8241 - val_decoder_accuracy: 0.3389\n",
            "Epoch 33/100\n",
            "500/500 [==============================] - 97s 193ms/step - loss: 0.0645 - capsnet_loss: 0.0644 - decoder_loss: 0.2871 - capsnet_accuracy: 0.9110 - decoder_accuracy: 0.3385 - val_loss: 0.1329 - val_capsnet_loss: 0.1327 - val_decoder_loss: 0.2899 - val_capsnet_accuracy: 0.8234 - val_decoder_accuracy: 0.3390\n",
            "Epoch 34/100\n",
            "500/500 [==============================] - 96s 193ms/step - loss: 0.0640 - capsnet_loss: 0.0638 - decoder_loss: 0.2871 - capsnet_accuracy: 0.9120 - decoder_accuracy: 0.3388 - val_loss: 0.1314 - val_capsnet_loss: 0.1313 - val_decoder_loss: 0.2899 - val_capsnet_accuracy: 0.8254 - val_decoder_accuracy: 0.3394\n",
            "Epoch 35/100\n",
            "500/500 [==============================] - 96s 191ms/step - loss: 0.0624 - capsnet_loss: 0.0623 - decoder_loss: 0.2871 - capsnet_accuracy: 0.9148 - decoder_accuracy: 0.3389 - val_loss: 0.1376 - val_capsnet_loss: 0.1375 - val_decoder_loss: 0.2899 - val_capsnet_accuracy: 0.8187 - val_decoder_accuracy: 0.3396\n",
            "Epoch 36/100\n",
            "500/500 [==============================] - 96s 192ms/step - loss: 0.0594 - capsnet_loss: 0.0593 - decoder_loss: 0.2871 - capsnet_accuracy: 0.9190 - decoder_accuracy: 0.3390 - val_loss: 0.1395 - val_capsnet_loss: 0.1393 - val_decoder_loss: 0.2899 - val_capsnet_accuracy: 0.8138 - val_decoder_accuracy: 0.3397\n",
            "Epoch 37/100\n",
            "500/500 [==============================] - 96s 191ms/step - loss: 0.0593 - capsnet_loss: 0.0591 - decoder_loss: 0.2871 - capsnet_accuracy: 0.9186 - decoder_accuracy: 0.3391 - val_loss: 0.1360 - val_capsnet_loss: 0.1358 - val_decoder_loss: 0.2899 - val_capsnet_accuracy: 0.8179 - val_decoder_accuracy: 0.3397\n",
            "Epoch 38/100\n",
            "500/500 [==============================] - 96s 192ms/step - loss: 0.0583 - capsnet_loss: 0.0582 - decoder_loss: 0.2871 - capsnet_accuracy: 0.9197 - decoder_accuracy: 0.3392 - val_loss: 0.1336 - val_capsnet_loss: 0.1334 - val_decoder_loss: 0.2899 - val_capsnet_accuracy: 0.8246 - val_decoder_accuracy: 0.3399\n",
            "Epoch 39/100\n",
            "500/500 [==============================] - 97s 194ms/step - loss: 0.0579 - capsnet_loss: 0.0577 - decoder_loss: 0.2871 - capsnet_accuracy: 0.9200 - decoder_accuracy: 0.3394 - val_loss: 0.1268 - val_capsnet_loss: 0.1266 - val_decoder_loss: 0.2899 - val_capsnet_accuracy: 0.8338 - val_decoder_accuracy: 0.3400\n",
            "Epoch 40/100\n",
            "500/500 [==============================] - 95s 191ms/step - loss: 0.0559 - capsnet_loss: 0.0558 - decoder_loss: 0.2871 - capsnet_accuracy: 0.9241 - decoder_accuracy: 0.3396 - val_loss: 0.1334 - val_capsnet_loss: 0.1332 - val_decoder_loss: 0.2899 - val_capsnet_accuracy: 0.8228 - val_decoder_accuracy: 0.3403\n",
            "Epoch 41/100\n",
            "500/500 [==============================] - 96s 193ms/step - loss: 0.0545 - capsnet_loss: 0.0543 - decoder_loss: 0.2871 - capsnet_accuracy: 0.9248 - decoder_accuracy: 0.3397 - val_loss: 0.1285 - val_capsnet_loss: 0.1283 - val_decoder_loss: 0.2899 - val_capsnet_accuracy: 0.8320 - val_decoder_accuracy: 0.3402\n",
            "Epoch 42/100\n",
            "500/500 [==============================] - 97s 193ms/step - loss: 0.0547 - capsnet_loss: 0.0546 - decoder_loss: 0.2871 - capsnet_accuracy: 0.9254 - decoder_accuracy: 0.3398 - val_loss: 0.1334 - val_capsnet_loss: 0.1333 - val_decoder_loss: 0.2899 - val_capsnet_accuracy: 0.8236 - val_decoder_accuracy: 0.3404\n",
            "Epoch 43/100\n",
            "500/500 [==============================] - 96s 193ms/step - loss: 0.0530 - capsnet_loss: 0.0528 - decoder_loss: 0.2871 - capsnet_accuracy: 0.9266 - decoder_accuracy: 0.3400 - val_loss: 0.1268 - val_capsnet_loss: 0.1266 - val_decoder_loss: 0.2899 - val_capsnet_accuracy: 0.8355 - val_decoder_accuracy: 0.3406\n",
            "Epoch 44/100\n",
            "500/500 [==============================] - 97s 193ms/step - loss: 0.0520 - capsnet_loss: 0.0519 - decoder_loss: 0.2871 - capsnet_accuracy: 0.9286 - decoder_accuracy: 0.3401 - val_loss: 0.1280 - val_capsnet_loss: 0.1278 - val_decoder_loss: 0.2899 - val_capsnet_accuracy: 0.8312 - val_decoder_accuracy: 0.3408\n",
            "Epoch 45/100\n",
            "500/500 [==============================] - 97s 193ms/step - loss: 0.0517 - capsnet_loss: 0.0516 - decoder_loss: 0.2871 - capsnet_accuracy: 0.9292 - decoder_accuracy: 0.3403 - val_loss: 0.1305 - val_capsnet_loss: 0.1303 - val_decoder_loss: 0.2899 - val_capsnet_accuracy: 0.8294 - val_decoder_accuracy: 0.3410\n",
            "Epoch 46/100\n",
            "500/500 [==============================] - 96s 193ms/step - loss: 0.0507 - capsnet_loss: 0.0506 - decoder_loss: 0.2871 - capsnet_accuracy: 0.9308 - decoder_accuracy: 0.3404 - val_loss: 0.1313 - val_capsnet_loss: 0.1312 - val_decoder_loss: 0.2899 - val_capsnet_accuracy: 0.8306 - val_decoder_accuracy: 0.3413\n",
            "Epoch 47/100\n",
            "500/500 [==============================] - 97s 194ms/step - loss: 0.0499 - capsnet_loss: 0.0498 - decoder_loss: 0.2871 - capsnet_accuracy: 0.9319 - decoder_accuracy: 0.3407 - val_loss: 0.1346 - val_capsnet_loss: 0.1344 - val_decoder_loss: 0.2899 - val_capsnet_accuracy: 0.8240 - val_decoder_accuracy: 0.3414\n",
            "Epoch 48/100\n",
            "500/500 [==============================] - 96s 192ms/step - loss: 0.0484 - capsnet_loss: 0.0482 - decoder_loss: 0.2871 - capsnet_accuracy: 0.9345 - decoder_accuracy: 0.3407 - val_loss: 0.1315 - val_capsnet_loss: 0.1313 - val_decoder_loss: 0.2899 - val_capsnet_accuracy: 0.8277 - val_decoder_accuracy: 0.3417\n",
            "Epoch 49/100\n",
            "500/500 [==============================] - 95s 190ms/step - loss: 0.0489 - capsnet_loss: 0.0487 - decoder_loss: 0.2871 - capsnet_accuracy: 0.9330 - decoder_accuracy: 0.3410 - val_loss: 0.1354 - val_capsnet_loss: 0.1353 - val_decoder_loss: 0.2899 - val_capsnet_accuracy: 0.8266 - val_decoder_accuracy: 0.3419\n",
            "Epoch 50/100\n",
            "500/500 [==============================] - 95s 190ms/step - loss: 0.0476 - capsnet_loss: 0.0475 - decoder_loss: 0.2871 - capsnet_accuracy: 0.9354 - decoder_accuracy: 0.3410 - val_loss: 0.1266 - val_capsnet_loss: 0.1264 - val_decoder_loss: 0.2899 - val_capsnet_accuracy: 0.8334 - val_decoder_accuracy: 0.3419\n",
            "Epoch 51/100\n",
            "500/500 [==============================] - 95s 189ms/step - loss: 0.0469 - capsnet_loss: 0.0468 - decoder_loss: 0.2871 - capsnet_accuracy: 0.9364 - decoder_accuracy: 0.3412 - val_loss: 0.1304 - val_capsnet_loss: 0.1302 - val_decoder_loss: 0.2899 - val_capsnet_accuracy: 0.8299 - val_decoder_accuracy: 0.3421\n",
            "Epoch 52/100\n",
            "500/500 [==============================] - 95s 190ms/step - loss: 0.0459 - capsnet_loss: 0.0458 - decoder_loss: 0.2871 - capsnet_accuracy: 0.9379 - decoder_accuracy: 0.3413 - val_loss: 0.1291 - val_capsnet_loss: 0.1290 - val_decoder_loss: 0.2899 - val_capsnet_accuracy: 0.8306 - val_decoder_accuracy: 0.3421\n",
            "Epoch 53/100\n",
            "500/500 [==============================] - 95s 191ms/step - loss: 0.0458 - capsnet_loss: 0.0456 - decoder_loss: 0.2871 - capsnet_accuracy: 0.9374 - decoder_accuracy: 0.3415 - val_loss: 0.1332 - val_capsnet_loss: 0.1330 - val_decoder_loss: 0.2899 - val_capsnet_accuracy: 0.8268 - val_decoder_accuracy: 0.3425\n",
            "Epoch 54/100\n",
            "500/500 [==============================] - 96s 191ms/step - loss: 0.0446 - capsnet_loss: 0.0445 - decoder_loss: 0.2871 - capsnet_accuracy: 0.9384 - decoder_accuracy: 0.3417 - val_loss: 0.1295 - val_capsnet_loss: 0.1293 - val_decoder_loss: 0.2899 - val_capsnet_accuracy: 0.8306 - val_decoder_accuracy: 0.3428\n",
            "Epoch 55/100\n",
            "500/500 [==============================] - 97s 193ms/step - loss: 0.0448 - capsnet_loss: 0.0446 - decoder_loss: 0.2871 - capsnet_accuracy: 0.9387 - decoder_accuracy: 0.3418 - val_loss: 0.1295 - val_capsnet_loss: 0.1294 - val_decoder_loss: 0.2899 - val_capsnet_accuracy: 0.8318 - val_decoder_accuracy: 0.3429\n",
            "Epoch 56/100\n",
            "500/500 [==============================] - 95s 191ms/step - loss: 0.0429 - capsnet_loss: 0.0428 - decoder_loss: 0.2871 - capsnet_accuracy: 0.9416 - decoder_accuracy: 0.3419 - val_loss: 0.1338 - val_capsnet_loss: 0.1336 - val_decoder_loss: 0.2899 - val_capsnet_accuracy: 0.8281 - val_decoder_accuracy: 0.3430\n",
            "Epoch 57/100\n",
            "500/500 [==============================] - 95s 191ms/step - loss: 0.0430 - capsnet_loss: 0.0429 - decoder_loss: 0.2871 - capsnet_accuracy: 0.9408 - decoder_accuracy: 0.3420 - val_loss: 0.1337 - val_capsnet_loss: 0.1336 - val_decoder_loss: 0.2899 - val_capsnet_accuracy: 0.8284 - val_decoder_accuracy: 0.3430\n",
            "Epoch 58/100\n",
            "500/500 [==============================] - 95s 190ms/step - loss: 0.0422 - capsnet_loss: 0.0421 - decoder_loss: 0.2871 - capsnet_accuracy: 0.9422 - decoder_accuracy: 0.3422 - val_loss: 0.1331 - val_capsnet_loss: 0.1329 - val_decoder_loss: 0.2899 - val_capsnet_accuracy: 0.8276 - val_decoder_accuracy: 0.3434\n",
            "Epoch 59/100\n",
            "500/500 [==============================] - 95s 191ms/step - loss: 0.0406 - capsnet_loss: 0.0405 - decoder_loss: 0.2871 - capsnet_accuracy: 0.9453 - decoder_accuracy: 0.3423 - val_loss: 0.1299 - val_capsnet_loss: 0.1298 - val_decoder_loss: 0.2899 - val_capsnet_accuracy: 0.8333 - val_decoder_accuracy: 0.3434\n",
            "Epoch 60/100\n",
            "500/500 [==============================] - 95s 190ms/step - loss: 0.0411 - capsnet_loss: 0.0410 - decoder_loss: 0.2871 - capsnet_accuracy: 0.9435 - decoder_accuracy: 0.3424 - val_loss: 0.1371 - val_capsnet_loss: 0.1369 - val_decoder_loss: 0.2899 - val_capsnet_accuracy: 0.8227 - val_decoder_accuracy: 0.3436\n",
            "Epoch 61/100\n",
            "500/500 [==============================] - 95s 189ms/step - loss: 0.0402 - capsnet_loss: 0.0401 - decoder_loss: 0.2871 - capsnet_accuracy: 0.9451 - decoder_accuracy: 0.3424 - val_loss: 0.1320 - val_capsnet_loss: 0.1318 - val_decoder_loss: 0.2899 - val_capsnet_accuracy: 0.8309 - val_decoder_accuracy: 0.3435\n",
            "Epoch 62/100\n",
            "500/500 [==============================] - 95s 190ms/step - loss: 0.0400 - capsnet_loss: 0.0399 - decoder_loss: 0.2871 - capsnet_accuracy: 0.9456 - decoder_accuracy: 0.3425 - val_loss: 0.1324 - val_capsnet_loss: 0.1323 - val_decoder_loss: 0.2899 - val_capsnet_accuracy: 0.8339 - val_decoder_accuracy: 0.3439\n",
            "Epoch 63/100\n",
            "500/500 [==============================] - 96s 193ms/step - loss: 0.0394 - capsnet_loss: 0.0392 - decoder_loss: 0.2871 - capsnet_accuracy: 0.9462 - decoder_accuracy: 0.3426 - val_loss: 0.1319 - val_capsnet_loss: 0.1318 - val_decoder_loss: 0.2899 - val_capsnet_accuracy: 0.8302 - val_decoder_accuracy: 0.3438\n",
            "Epoch 64/100\n",
            "500/500 [==============================] - 96s 192ms/step - loss: 0.0397 - capsnet_loss: 0.0395 - decoder_loss: 0.2871 - capsnet_accuracy: 0.9455 - decoder_accuracy: 0.3428 - val_loss: 0.1379 - val_capsnet_loss: 0.1378 - val_decoder_loss: 0.2899 - val_capsnet_accuracy: 0.8222 - val_decoder_accuracy: 0.3440\n",
            "Epoch 65/100\n",
            "500/500 [==============================] - 96s 192ms/step - loss: 0.0381 - capsnet_loss: 0.0380 - decoder_loss: 0.2871 - capsnet_accuracy: 0.9472 - decoder_accuracy: 0.3428 - val_loss: 0.1282 - val_capsnet_loss: 0.1281 - val_decoder_loss: 0.2899 - val_capsnet_accuracy: 0.8374 - val_decoder_accuracy: 0.3443\n",
            "Epoch 66/100\n",
            "500/500 [==============================] - 96s 192ms/step - loss: 0.0379 - capsnet_loss: 0.0378 - decoder_loss: 0.2871 - capsnet_accuracy: 0.9480 - decoder_accuracy: 0.3429 - val_loss: 0.1351 - val_capsnet_loss: 0.1350 - val_decoder_loss: 0.2899 - val_capsnet_accuracy: 0.8304 - val_decoder_accuracy: 0.3445\n",
            "Epoch 67/100\n",
            "500/500 [==============================] - 97s 193ms/step - loss: 0.0375 - capsnet_loss: 0.0374 - decoder_loss: 0.2871 - capsnet_accuracy: 0.9492 - decoder_accuracy: 0.3431 - val_loss: 0.1318 - val_capsnet_loss: 0.1317 - val_decoder_loss: 0.2899 - val_capsnet_accuracy: 0.8328 - val_decoder_accuracy: 0.3444\n",
            "Epoch 68/100\n",
            "500/500 [==============================] - 97s 193ms/step - loss: 0.0368 - capsnet_loss: 0.0366 - decoder_loss: 0.2871 - capsnet_accuracy: 0.9498 - decoder_accuracy: 0.3432 - val_loss: 0.1353 - val_capsnet_loss: 0.1351 - val_decoder_loss: 0.2899 - val_capsnet_accuracy: 0.8287 - val_decoder_accuracy: 0.3449\n",
            "Epoch 69/100\n",
            "500/500 [==============================] - 97s 194ms/step - loss: 0.0384 - capsnet_loss: 0.0382 - decoder_loss: 0.2871 - capsnet_accuracy: 0.9469 - decoder_accuracy: 0.3434 - val_loss: 0.1306 - val_capsnet_loss: 0.1305 - val_decoder_loss: 0.2899 - val_capsnet_accuracy: 0.8333 - val_decoder_accuracy: 0.3447\n",
            "Epoch 70/100\n",
            "500/500 [==============================] - 97s 193ms/step - loss: 0.0367 - capsnet_loss: 0.0365 - decoder_loss: 0.2871 - capsnet_accuracy: 0.9499 - decoder_accuracy: 0.3435 - val_loss: 0.1295 - val_capsnet_loss: 0.1293 - val_decoder_loss: 0.2899 - val_capsnet_accuracy: 0.8353 - val_decoder_accuracy: 0.3451\n",
            "Epoch 71/100\n",
            "500/500 [==============================] - 96s 192ms/step - loss: 0.0357 - capsnet_loss: 0.0356 - decoder_loss: 0.2871 - capsnet_accuracy: 0.9515 - decoder_accuracy: 0.3437 - val_loss: 0.1306 - val_capsnet_loss: 0.1305 - val_decoder_loss: 0.2899 - val_capsnet_accuracy: 0.8334 - val_decoder_accuracy: 0.3452\n",
            "Epoch 72/100\n",
            "500/500 [==============================] - 96s 192ms/step - loss: 0.0356 - capsnet_loss: 0.0355 - decoder_loss: 0.2871 - capsnet_accuracy: 0.9511 - decoder_accuracy: 0.3438 - val_loss: 0.1302 - val_capsnet_loss: 0.1300 - val_decoder_loss: 0.2899 - val_capsnet_accuracy: 0.8357 - val_decoder_accuracy: 0.3452\n",
            "Epoch 73/100\n",
            "500/500 [==============================] - 97s 194ms/step - loss: 0.0355 - capsnet_loss: 0.0353 - decoder_loss: 0.2871 - capsnet_accuracy: 0.9521 - decoder_accuracy: 0.3439 - val_loss: 0.1363 - val_capsnet_loss: 0.1362 - val_decoder_loss: 0.2899 - val_capsnet_accuracy: 0.8308 - val_decoder_accuracy: 0.3455\n",
            "Epoch 74/100\n",
            "500/500 [==============================] - 96s 192ms/step - loss: 0.0352 - capsnet_loss: 0.0350 - decoder_loss: 0.2871 - capsnet_accuracy: 0.9514 - decoder_accuracy: 0.3442 - val_loss: 0.1280 - val_capsnet_loss: 0.1279 - val_decoder_loss: 0.2899 - val_capsnet_accuracy: 0.8366 - val_decoder_accuracy: 0.3457\n",
            "Epoch 75/100\n",
            "500/500 [==============================] - 96s 192ms/step - loss: 0.0343 - capsnet_loss: 0.0342 - decoder_loss: 0.2871 - capsnet_accuracy: 0.9535 - decoder_accuracy: 0.3442 - val_loss: 0.1337 - val_capsnet_loss: 0.1336 - val_decoder_loss: 0.2899 - val_capsnet_accuracy: 0.8287 - val_decoder_accuracy: 0.3457\n",
            "Epoch 76/100\n",
            "500/500 [==============================] - 96s 193ms/step - loss: 0.0354 - capsnet_loss: 0.0353 - decoder_loss: 0.2871 - capsnet_accuracy: 0.9520 - decoder_accuracy: 0.3444 - val_loss: 0.1349 - val_capsnet_loss: 0.1347 - val_decoder_loss: 0.2899 - val_capsnet_accuracy: 0.8330 - val_decoder_accuracy: 0.3461\n",
            "Epoch 77/100\n",
            "500/500 [==============================] - 97s 193ms/step - loss: 0.0352 - capsnet_loss: 0.0351 - decoder_loss: 0.2871 - capsnet_accuracy: 0.9518 - decoder_accuracy: 0.3446 - val_loss: 0.1366 - val_capsnet_loss: 0.1364 - val_decoder_loss: 0.2899 - val_capsnet_accuracy: 0.8281 - val_decoder_accuracy: 0.3462\n",
            "Epoch 78/100\n",
            "500/500 [==============================] - 95s 191ms/step - loss: 0.0339 - capsnet_loss: 0.0338 - decoder_loss: 0.2871 - capsnet_accuracy: 0.9545 - decoder_accuracy: 0.3447 - val_loss: 0.1317 - val_capsnet_loss: 0.1316 - val_decoder_loss: 0.2899 - val_capsnet_accuracy: 0.8355 - val_decoder_accuracy: 0.3463\n",
            "Epoch 79/100\n",
            "500/500 [==============================] - 96s 192ms/step - loss: 0.0328 - capsnet_loss: 0.0327 - decoder_loss: 0.2871 - capsnet_accuracy: 0.9551 - decoder_accuracy: 0.3448 - val_loss: 0.1316 - val_capsnet_loss: 0.1315 - val_decoder_loss: 0.2899 - val_capsnet_accuracy: 0.8358 - val_decoder_accuracy: 0.3465\n",
            "Epoch 80/100\n",
            "500/500 [==============================] - 96s 192ms/step - loss: 0.0326 - capsnet_loss: 0.0324 - decoder_loss: 0.2871 - capsnet_accuracy: 0.9552 - decoder_accuracy: 0.3450 - val_loss: 0.1310 - val_capsnet_loss: 0.1308 - val_decoder_loss: 0.2899 - val_capsnet_accuracy: 0.8369 - val_decoder_accuracy: 0.3468\n",
            "Epoch 81/100\n",
            "500/500 [==============================] - 96s 192ms/step - loss: 0.0326 - capsnet_loss: 0.0324 - decoder_loss: 0.2871 - capsnet_accuracy: 0.9552 - decoder_accuracy: 0.3451 - val_loss: 0.1357 - val_capsnet_loss: 0.1356 - val_decoder_loss: 0.2899 - val_capsnet_accuracy: 0.8296 - val_decoder_accuracy: 0.3470\n",
            "Epoch 82/100\n",
            "500/500 [==============================] - 96s 192ms/step - loss: 0.0319 - capsnet_loss: 0.0317 - decoder_loss: 0.2871 - capsnet_accuracy: 0.9567 - decoder_accuracy: 0.3452 - val_loss: 0.1323 - val_capsnet_loss: 0.1322 - val_decoder_loss: 0.2899 - val_capsnet_accuracy: 0.8358 - val_decoder_accuracy: 0.3472\n",
            "Epoch 83/100\n",
            "500/500 [==============================] - 96s 192ms/step - loss: 0.0332 - capsnet_loss: 0.0331 - decoder_loss: 0.2871 - capsnet_accuracy: 0.9547 - decoder_accuracy: 0.3454 - val_loss: 0.1345 - val_capsnet_loss: 0.1344 - val_decoder_loss: 0.2899 - val_capsnet_accuracy: 0.8317 - val_decoder_accuracy: 0.3471\n",
            "Epoch 84/100\n",
            "500/500 [==============================] - 97s 193ms/step - loss: 0.0308 - capsnet_loss: 0.0307 - decoder_loss: 0.2871 - capsnet_accuracy: 0.9586 - decoder_accuracy: 0.3454 - val_loss: 0.1306 - val_capsnet_loss: 0.1305 - val_decoder_loss: 0.2899 - val_capsnet_accuracy: 0.8363 - val_decoder_accuracy: 0.3472\n",
            "Epoch 85/100\n",
            "500/500 [==============================] - 98s 195ms/step - loss: 0.0303 - capsnet_loss: 0.0302 - decoder_loss: 0.2871 - capsnet_accuracy: 0.9580 - decoder_accuracy: 0.3456 - val_loss: 0.1326 - val_capsnet_loss: 0.1324 - val_decoder_loss: 0.2899 - val_capsnet_accuracy: 0.8340 - val_decoder_accuracy: 0.3478\n",
            "Epoch 86/100\n",
            "500/500 [==============================] - 97s 194ms/step - loss: 0.0321 - capsnet_loss: 0.0320 - decoder_loss: 0.2871 - capsnet_accuracy: 0.9560 - decoder_accuracy: 0.3458 - val_loss: 0.1337 - val_capsnet_loss: 0.1335 - val_decoder_loss: 0.2899 - val_capsnet_accuracy: 0.8319 - val_decoder_accuracy: 0.3476\n",
            "Epoch 87/100\n",
            "500/500 [==============================] - 97s 195ms/step - loss: 0.0295 - capsnet_loss: 0.0293 - decoder_loss: 0.2871 - capsnet_accuracy: 0.9594 - decoder_accuracy: 0.3459 - val_loss: 0.1358 - val_capsnet_loss: 0.1357 - val_decoder_loss: 0.2899 - val_capsnet_accuracy: 0.8323 - val_decoder_accuracy: 0.3478\n",
            "Epoch 88/100\n",
            "500/500 [==============================] - 95s 191ms/step - loss: 0.0308 - capsnet_loss: 0.0307 - decoder_loss: 0.2871 - capsnet_accuracy: 0.9578 - decoder_accuracy: 0.3460 - val_loss: 0.1325 - val_capsnet_loss: 0.1323 - val_decoder_loss: 0.2899 - val_capsnet_accuracy: 0.8372 - val_decoder_accuracy: 0.3480\n",
            "Epoch 89/100\n",
            "500/500 [==============================] - 96s 191ms/step - loss: 0.0304 - capsnet_loss: 0.0303 - decoder_loss: 0.2871 - capsnet_accuracy: 0.9582 - decoder_accuracy: 0.3462 - val_loss: 0.1340 - val_capsnet_loss: 0.1339 - val_decoder_loss: 0.2899 - val_capsnet_accuracy: 0.8316 - val_decoder_accuracy: 0.3480\n",
            "Epoch 90/100\n",
            "500/500 [==============================] - 95s 191ms/step - loss: 0.0296 - capsnet_loss: 0.0295 - decoder_loss: 0.2871 - capsnet_accuracy: 0.9599 - decoder_accuracy: 0.3463 - val_loss: 0.1375 - val_capsnet_loss: 0.1374 - val_decoder_loss: 0.2899 - val_capsnet_accuracy: 0.8284 - val_decoder_accuracy: 0.3483\n",
            "Epoch 91/100\n",
            "500/500 [==============================] - 95s 189ms/step - loss: 0.0296 - capsnet_loss: 0.0294 - decoder_loss: 0.2871 - capsnet_accuracy: 0.9589 - decoder_accuracy: 0.3464 - val_loss: 0.1338 - val_capsnet_loss: 0.1337 - val_decoder_loss: 0.2899 - val_capsnet_accuracy: 0.8324 - val_decoder_accuracy: 0.3483\n",
            "Epoch 92/100\n",
            "500/500 [==============================] - 99s 198ms/step - loss: 0.0302 - capsnet_loss: 0.0301 - decoder_loss: 0.2871 - capsnet_accuracy: 0.9591 - decoder_accuracy: 0.3465 - val_loss: 0.1316 - val_capsnet_loss: 0.1314 - val_decoder_loss: 0.2899 - val_capsnet_accuracy: 0.8358 - val_decoder_accuracy: 0.3484\n",
            "Epoch 93/100\n",
            "500/500 [==============================] - 95s 190ms/step - loss: 0.0297 - capsnet_loss: 0.0296 - decoder_loss: 0.2871 - capsnet_accuracy: 0.9596 - decoder_accuracy: 0.3467 - val_loss: 0.1314 - val_capsnet_loss: 0.1313 - val_decoder_loss: 0.2899 - val_capsnet_accuracy: 0.8369 - val_decoder_accuracy: 0.3488\n",
            "Epoch 94/100\n",
            "500/500 [==============================] - 95s 191ms/step - loss: 0.0286 - capsnet_loss: 0.0284 - decoder_loss: 0.2871 - capsnet_accuracy: 0.9610 - decoder_accuracy: 0.3468 - val_loss: 0.1310 - val_capsnet_loss: 0.1308 - val_decoder_loss: 0.2899 - val_capsnet_accuracy: 0.8382 - val_decoder_accuracy: 0.3488\n",
            "Epoch 95/100\n",
            "500/500 [==============================] - 95s 190ms/step - loss: 0.0276 - capsnet_loss: 0.0274 - decoder_loss: 0.2871 - capsnet_accuracy: 0.9627 - decoder_accuracy: 0.3470 - val_loss: 0.1356 - val_capsnet_loss: 0.1354 - val_decoder_loss: 0.2899 - val_capsnet_accuracy: 0.8335 - val_decoder_accuracy: 0.3494\n",
            "Epoch 96/100\n",
            "500/500 [==============================] - 95s 191ms/step - loss: 0.0277 - capsnet_loss: 0.0276 - decoder_loss: 0.2871 - capsnet_accuracy: 0.9622 - decoder_accuracy: 0.3472 - val_loss: 0.1355 - val_capsnet_loss: 0.1354 - val_decoder_loss: 0.2899 - val_capsnet_accuracy: 0.8331 - val_decoder_accuracy: 0.3495\n",
            "Epoch 97/100\n",
            "500/500 [==============================] - 96s 191ms/step - loss: 0.0303 - capsnet_loss: 0.0301 - decoder_loss: 0.2871 - capsnet_accuracy: 0.9586 - decoder_accuracy: 0.3474 - val_loss: 0.1288 - val_capsnet_loss: 0.1286 - val_decoder_loss: 0.2899 - val_capsnet_accuracy: 0.8399 - val_decoder_accuracy: 0.3493\n",
            "Epoch 98/100\n",
            "500/500 [==============================] - 96s 192ms/step - loss: 0.0281 - capsnet_loss: 0.0280 - decoder_loss: 0.2871 - capsnet_accuracy: 0.9618 - decoder_accuracy: 0.3475 - val_loss: 0.1332 - val_capsnet_loss: 0.1330 - val_decoder_loss: 0.2899 - val_capsnet_accuracy: 0.8371 - val_decoder_accuracy: 0.3498\n",
            "Epoch 99/100\n",
            "500/500 [==============================] - 96s 193ms/step - loss: 0.0276 - capsnet_loss: 0.0275 - decoder_loss: 0.2871 - capsnet_accuracy: 0.9622 - decoder_accuracy: 0.3476 - val_loss: 0.1312 - val_capsnet_loss: 0.1310 - val_decoder_loss: 0.2899 - val_capsnet_accuracy: 0.8395 - val_decoder_accuracy: 0.3499\n",
            "Epoch 100/100\n",
            "500/500 [==============================] - 96s 192ms/step - loss: 0.0270 - capsnet_loss: 0.0268 - decoder_loss: 0.2871 - capsnet_accuracy: 0.9628 - decoder_accuracy: 0.3478 - val_loss: 0.1328 - val_capsnet_loss: 0.1327 - val_decoder_loss: 0.2899 - val_capsnet_accuracy: 0.8348 - val_decoder_accuracy: 0.3501\n"
          ]
        }
      ],
      "source": [
        "lr_scheduler = keras.callbacks.ReduceLROnPlateau(monitor='val_capsnet_accuracy', mode='max', factor=0.5, patience=4)\n",
        "train_model.compile(optimizer=keras.optimizers.Adam(learning_rate=0.001, beta_1=0.9, beta_2=0.999), loss=[margin_loss, 'mse'], loss_weights=[1., 0.0005],\n",
        "                    metrics=['accuracy'])\n",
        "\n",
        "history= train_model.fit([x_train, y_train], [y_train, x_train], batch_size=m, epochs=epochs,\n",
        "                validation_data=([x_test, y_test], [y_test, x_test])\n",
        "                # , callbacks=[early_stopping, lr_scheduler]\n",
        "                )\n"
      ]
    },
    {
      "cell_type": "code",
      "execution_count": null,
      "metadata": {
        "id": "EtUsVvEaOm5a",
        "colab": {
          "base_uri": "https://localhost:8080/"
        },
        "outputId": "128e707b-f540-42e1-fb25-c43ebf0ef6eb"
      },
      "outputs": [
        {
          "output_type": "stream",
          "name": "stdout",
          "text": [
            "Test Loss: 0.1327\n",
            "Test Accuracy: 83.48%\n"
          ]
        }
      ],
      "source": [
        "evaluation_results = train_model.evaluate([x_test, y_test], [y_test, x_test], batch_size=m, verbose=0)\n",
        "# print(\"Test Loss:\", evaluation_results[0])\n",
        "# print(\"Test Accuracy:\", evaluation_results[3])\n",
        "\n",
        "test_loss = evaluation_results[1]\n",
        "test_accuracy = evaluation_results[3]\n",
        "\n",
        "print(f\"Test Loss: {test_loss:.4f}\")\n",
        "print(f\"Test Accuracy: {test_accuracy * 100:.2f}%\")\n"
      ]
    },
    {
      "cell_type": "code",
      "execution_count": null,
      "metadata": {
        "id": "through-poker",
        "colab": {
          "base_uri": "https://localhost:8080/",
          "height": 430
        },
        "outputId": "359ec5f3-ed8f-4011-afa4-7487c5a21559"
      },
      "outputs": [
        {
          "output_type": "display_data",
          "data": {
            "text/plain": [
              "<Figure size 640x480 with 1 Axes>"
            ],
            "image/png": "[encoded data removed]"
          },
          "metadata": {}
        }
      ],
      "source": [
        "plt.plot(history.history[\"capsnet_accuracy\"] , 'ro-' , label = \"CapsNet Training Accuracy\")\n",
        "plt.plot(history.history[\"val_capsnet_accuracy\"] , 'go-' , label = \"CapsNet Testing Accuracy\")\n",
        "plt.legend()\n",
        "plt.show()"
      ]
    },
    {
      "cell_type": "code",
      "execution_count": null,
      "metadata": {
        "id": "statewide-individual",
        "colab": {
          "base_uri": "https://localhost:8080/",
          "height": 430
        },
        "outputId": "a70e1ac0-ff21-4b88-8d8c-beb8214c0a88"
      },
      "outputs": [
        {
          "output_type": "display_data",
          "data": {
            "text/plain": [
              "<Figure size 640x480 with 1 Axes>"
            ],
            "image/png": "[encoded data removed]"
          },
          "metadata": {}
        }
      ],
      "source": [
        "plt.plot(history.history[\"capsnet_loss\"] , 'ro-' , label = \"CapsNet Training Loss\")\n",
        "plt.plot(history.history[\"val_capsnet_loss\"] , 'go-' , label = \"CapsNet Testing Loss\")\n",
        "plt.legend()\n",
        "plt.show()"
      ]
    }
  ],
  "metadata": {
    "accelerator": "GPU",
    "colab": {
      "gpuType": "T4",
      "machine_shape": "hm",
      "provenance": []
    },
    "kernelspec": {
      "display_name": "Python 3",
      "name": "python3"
    },
    "language_info": {
      "codemirror_mode": {
        "name": "ipython",
        "version": 3
      },
      "file_extension": ".py",
      "mimetype": "text/x-python",
      "name": "python",
      "nbconvert_exporter": "python",
      "pygments_lexer": "ipython3",
      "version": "3.7.1"
    }
  },
  "nbformat": 4,
  "nbformat_minor": 0
}