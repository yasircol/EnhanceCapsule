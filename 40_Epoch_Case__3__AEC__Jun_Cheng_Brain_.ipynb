{
  "cells": [
    {
      "cell_type": "markdown",
      "metadata": {
        "id": "m6ykcRlRcFBT"
      },
      "source": [
        "# **AEC-CapsNet Brain Jun Cheng**"
      ]
    },
    {
      "cell_type": "markdown",
      "metadata": {
        "id": "mRJRH3ANRET4"
      },
      "source": [
        "# Importing libraries"
      ]
    },
    {
      "cell_type": "code",
      "execution_count": null,
      "metadata": {
        "id": "jqFbqwAsla8g",
        "colab": {
          "base_uri": "https://localhost:8080/"
        },
        "outputId": "962f18c7-2f21-44cc-bbfa-58b0cd198ecd"
      },
      "outputs": [
        {
          "output_type": "stream",
          "name": "stdout",
          "text": [
            "Collecting tensorflow==2.15.0\n",
            "  Downloading tensorflow-2.15.0-cp310-cp310-manylinux_2_17_x86_64.manylinux2014_x86_64.whl.metadata (4.4 kB)\n",
            "Requirement already satisfied: absl-py>=1.0.0 in /usr/local/lib/python3.10/dist-packages (from tensorflow==2.15.0) (1.4.0)\n",
            "Requirement already satisfied: astunparse>=1.6.0 in /usr/local/lib/python3.10/dist-packages (from tensorflow==2.15.0) (1.6.3)\n",
            "Requirement already satisfied: flatbuffers>=23.5.26 in /usr/local/lib/python3.10/dist-packages (from tensorflow==2.15.0) (24.3.25)\n",
            "Requirement already satisfied: gast!=0.5.0,!=0.5.1,!=0.5.2,>=0.2.1 in /usr/local/lib/python3.10/dist-packages (from tensorflow==2.15.0) (0.6.0)\n",
            "Requirement already satisfied: google-pasta>=0.1.1 in /usr/local/lib/python3.10/dist-packages (from tensorflow==2.15.0) (0.2.0)\n",
            "Requirement already satisfied: h5py>=2.9.0 in /usr/local/lib/python3.10/dist-packages (from tensorflow==2.15.0) (3.12.1)\n",
            "Requirement already satisfied: libclang>=13.0.0 in /usr/local/lib/python3.10/dist-packages (from tensorflow==2.15.0) (18.1.1)\n",
            "Collecting ml-dtypes~=0.2.0 (from tensorflow==2.15.0)\n",
            "  Downloading ml_dtypes-0.2.0-cp310-cp310-manylinux_2_17_x86_64.manylinux2014_x86_64.whl.metadata (20 kB)\n",
            "Requirement already satisfied: numpy<2.0.0,>=1.23.5 in /usr/local/lib/python3.10/dist-packages (from tensorflow==2.15.0) (1.26.4)\n",
            "Requirement already satisfied: opt-einsum>=2.3.2 in /usr/local/lib/python3.10/dist-packages (from tensorflow==2.15.0) (3.4.0)\n",
            "Requirement already satisfied: packaging in /usr/local/lib/python3.10/dist-packages (from tensorflow==2.15.0) (24.2)\n",
            "Requirement already satisfied: protobuf!=4.21.0,!=4.21.1,!=4.21.2,!=4.21.3,!=4.21.4,!=4.21.5,<5.0.0dev,>=3.20.3 in /usr/local/lib/python3.10/dist-packages (from tensorflow==2.15.0) (4.25.5)\n",
            "Requirement already satisfied: setuptools in /usr/local/lib/python3.10/dist-packages (from tensorflow==2.15.0) (75.1.0)\n",
            "Requirement already satisfied: six>=1.12.0 in /usr/local/lib/python3.10/dist-packages (from tensorflow==2.15.0) (1.17.0)\n",
            "Requirement already satisfied: termcolor>=1.1.0 in /usr/local/lib/python3.10/dist-packages (from tensorflow==2.15.0) (2.5.0)\n",
            "Requirement already satisfied: typing-extensions>=3.6.6 in /usr/local/lib/python3.10/dist-packages (from tensorflow==2.15.0) (4.12.2)\n",
            "Collecting wrapt<1.15,>=1.11.0 (from tensorflow==2.15.0)\n",
            "  Downloading wrapt-1.14.1-cp310-cp310-manylinux_2_5_x86_64.manylinux1_x86_64.manylinux_2_17_x86_64.manylinux2014_x86_64.whl.metadata (6.7 kB)\n",
            "Requirement already satisfied: tensorflow-io-gcs-filesystem>=0.23.1 in /usr/local/lib/python3.10/dist-packages (from tensorflow==2.15.0) (0.37.1)\n",
            "Requirement already satisfied: grpcio<2.0,>=1.24.3 in /usr/local/lib/python3.10/dist-packages (from tensorflow==2.15.0) (1.68.1)\n",
            "Collecting tensorboard<2.16,>=2.15 (from tensorflow==2.15.0)\n",
            "  Downloading tensorboard-2.15.2-py3-none-any.whl.metadata (1.7 kB)\n",
            "Collecting tensorflow-estimator<2.16,>=2.15.0 (from tensorflow==2.15.0)\n",
            "  Downloading tensorflow_estimator-2.15.0-py2.py3-none-any.whl.metadata (1.3 kB)\n",
            "Collecting keras<2.16,>=2.15.0 (from tensorflow==2.15.0)\n",
            "  Downloading keras-2.15.0-py3-none-any.whl.metadata (2.4 kB)\n",
            "Requirement already satisfied: wheel<1.0,>=0.23.0 in /usr/local/lib/python3.10/dist-packages (from astunparse>=1.6.0->tensorflow==2.15.0) (0.45.1)\n",
            "Requirement already satisfied: google-auth<3,>=1.6.3 in /usr/local/lib/python3.10/dist-packages (from tensorboard<2.16,>=2.15->tensorflow==2.15.0) (2.27.0)\n",
            "Requirement already satisfied: google-auth-oauthlib<2,>=0.5 in /usr/local/lib/python3.10/dist-packages (from tensorboard<2.16,>=2.15->tensorflow==2.15.0) (1.2.1)\n",
            "Requirement already satisfied: markdown>=2.6.8 in /usr/local/lib/python3.10/dist-packages (from tensorboard<2.16,>=2.15->tensorflow==2.15.0) (3.7)\n",
            "Requirement already satisfied: requests<3,>=2.21.0 in /usr/local/lib/python3.10/dist-packages (from tensorboard<2.16,>=2.15->tensorflow==2.15.0) (2.32.3)\n",
            "Requirement already satisfied: tensorboard-data-server<0.8.0,>=0.7.0 in /usr/local/lib/python3.10/dist-packages (from tensorboard<2.16,>=2.15->tensorflow==2.15.0) (0.7.2)\n",
            "Requirement already satisfied: werkzeug>=1.0.1 in /usr/local/lib/python3.10/dist-packages (from tensorboard<2.16,>=2.15->tensorflow==2.15.0) (3.1.3)\n",
            "Requirement already satisfied: cachetools<6.0,>=2.0.0 in /usr/local/lib/python3.10/dist-packages (from google-auth<3,>=1.6.3->tensorboard<2.16,>=2.15->tensorflow==2.15.0) (5.5.0)\n",
            "Requirement already satisfied: pyasn1-modules>=0.2.1 in /usr/local/lib/python3.10/dist-packages (from google-auth<3,>=1.6.3->tensorboard<2.16,>=2.15->tensorflow==2.15.0) (0.4.1)\n",
            "Requirement already satisfied: rsa<5,>=3.1.4 in /usr/local/lib/python3.10/dist-packages (from google-auth<3,>=1.6.3->tensorboard<2.16,>=2.15->tensorflow==2.15.0) (4.9)\n",
            "Requirement already satisfied: requests-oauthlib>=0.7.0 in /usr/local/lib/python3.10/dist-packages (from google-auth-oauthlib<2,>=0.5->tensorboard<2.16,>=2.15->tensorflow==2.15.0) (1.3.1)\n",
            "Requirement already satisfied: charset-normalizer<4,>=2 in /usr/local/lib/python3.10/dist-packages (from requests<3,>=2.21.0->tensorboard<2.16,>=2.15->tensorflow==2.15.0) (3.4.0)\n",
            "Requirement already satisfied: idna<4,>=2.5 in /usr/local/lib/python3.10/dist-packages (from requests<3,>=2.21.0->tensorboard<2.16,>=2.15->tensorflow==2.15.0) (3.10)\n",
            "Requirement already satisfied: urllib3<3,>=1.21.1 in /usr/local/lib/python3.10/dist-packages (from requests<3,>=2.21.0->tensorboard<2.16,>=2.15->tensorflow==2.15.0) (2.2.3)\n",
            "Requirement already satisfied: certifi>=2017.4.17 in /usr/local/lib/python3.10/dist-packages (from requests<3,>=2.21.0->tensorboard<2.16,>=2.15->tensorflow==2.15.0) (2024.12.14)\n",
            "Requirement already satisfied: MarkupSafe>=2.1.1 in /usr/local/lib/python3.10/dist-packages (from werkzeug>=1.0.1->tensorboard<2.16,>=2.15->tensorflow==2.15.0) (3.0.2)\n",
            "Requirement already satisfied: pyasn1<0.7.0,>=0.4.6 in /usr/local/lib/python3.10/dist-packages (from pyasn1-modules>=0.2.1->google-auth<3,>=1.6.3->tensorboard<2.16,>=2.15->tensorflow==2.15.0) (0.6.1)\n",
            "Requirement already satisfied: oauthlib>=3.0.0 in /usr/local/lib/python3.10/dist-packages (from requests-oauthlib>=0.7.0->google-auth-oauthlib<2,>=0.5->tensorboard<2.16,>=2.15->tensorflow==2.15.0) (3.2.2)\n",
            "Downloading tensorflow-2.15.0-cp310-cp310-manylinux_2_17_x86_64.manylinux2014_x86_64.whl (475.2 MB)\n",
            "\u001b[2K   \u001b[90m━━━━━━━━━━━━━━━━━━━━━━━━━━━━━━━━━━━━━━━━\u001b[0m \u001b[32m475.2/475.2 MB\u001b[0m \u001b[31m3.2 MB/s\u001b[0m eta \u001b[36m0:00:00\u001b[0m\n",
            "\u001b[?25hDownloading keras-2.15.0-py3-none-any.whl (1.7 MB)\n",
            "\u001b[2K   \u001b[90m━━━━━━━━━━━━━━━━━━━━━━━━━━━━━━━━━━━━━━━━\u001b[0m \u001b[32m1.7/1.7 MB\u001b[0m \u001b[31m45.0 MB/s\u001b[0m eta \u001b[36m0:00:00\u001b[0m\n",
            "\u001b[?25hDownloading ml_dtypes-0.2.0-cp310-cp310-manylinux_2_17_x86_64.manylinux2014_x86_64.whl (1.0 MB)\n",
            "\u001b[2K   \u001b[90m━━━━━━━━━━━━━━━━━━━━━━━━━━━━━━━━━━━━━━━━\u001b[0m \u001b[32m1.0/1.0 MB\u001b[0m \u001b[31m30.1 MB/s\u001b[0m eta \u001b[36m0:00:00\u001b[0m\n",
            "\u001b[?25hDownloading tensorboard-2.15.2-py3-none-any.whl (5.5 MB)\n",
            "\u001b[2K   \u001b[90m━━━━━━━━━━━━━━━━━━━━━━━━━━━━━━━━━━━━━━━━\u001b[0m \u001b[32m5.5/5.5 MB\u001b[0m \u001b[31m52.1 MB/s\u001b[0m eta \u001b[36m0:00:00\u001b[0m\n",
            "\u001b[?25hDownloading tensorflow_estimator-2.15.0-py2.py3-none-any.whl (441 kB)\n",
            "\u001b[2K   \u001b[90m━━━━━━━━━━━━━━━━━━━━━━━━━━━━━━━━━━━━━━━━\u001b[0m \u001b[32m442.0/442.0 kB\u001b[0m \u001b[31m26.1 MB/s\u001b[0m eta \u001b[36m0:00:00\u001b[0m\n",
            "\u001b[?25hDownloading wrapt-1.14.1-cp310-cp310-manylinux_2_5_x86_64.manylinux1_x86_64.manylinux_2_17_x86_64.manylinux2014_x86_64.whl (77 kB)\n",
            "\u001b[2K   \u001b[90m━━━━━━━━━━━━━━━━━━━━━━━━━━━━━━━━━━━━━━━━\u001b[0m \u001b[32m77.9/77.9 kB\u001b[0m \u001b[31m6.4 MB/s\u001b[0m eta \u001b[36m0:00:00\u001b[0m\n",
            "\u001b[?25hInstalling collected packages: wrapt, tensorflow-estimator, ml-dtypes, keras, tensorboard, tensorflow\n",
            "  Attempting uninstall: wrapt\n",
            "    Found existing installation: wrapt 1.17.0\n",
            "    Uninstalling wrapt-1.17.0:\n",
            "      Successfully uninstalled wrapt-1.17.0\n",
            "  Attempting uninstall: ml-dtypes\n",
            "    Found existing installation: ml-dtypes 0.4.1\n",
            "    Uninstalling ml-dtypes-0.4.1:\n",
            "      Successfully uninstalled ml-dtypes-0.4.1\n",
            "  Attempting uninstall: keras\n",
            "    Found existing installation: keras 3.5.0\n",
            "    Uninstalling keras-3.5.0:\n",
            "      Successfully uninstalled keras-3.5.0\n",
            "  Attempting uninstall: tensorboard\n",
            "    Found existing installation: tensorboard 2.17.1\n",
            "    Uninstalling tensorboard-2.17.1:\n",
            "      Successfully uninstalled tensorboard-2.17.1\n",
            "  Attempting uninstall: tensorflow\n",
            "    Found existing installation: tensorflow 2.17.1\n",
            "    Uninstalling tensorflow-2.17.1:\n",
            "      Successfully uninstalled tensorflow-2.17.1\n",
            "\u001b[31mERROR: pip's dependency resolver does not currently take into account all the packages that are installed. This behaviour is the source of the following dependency conflicts.\n",
            "tensorstore 0.1.71 requires ml_dtypes>=0.3.1, but you have ml-dtypes 0.2.0 which is incompatible.\n",
            "tf-keras 2.17.0 requires tensorflow<2.18,>=2.17, but you have tensorflow 2.15.0 which is incompatible.\u001b[0m\u001b[31m\n",
            "\u001b[0mSuccessfully installed keras-2.15.0 ml-dtypes-0.2.0 tensorboard-2.15.2 tensorflow-2.15.0 tensorflow-estimator-2.15.0 wrapt-1.14.1\n"
          ]
        }
      ],
      "source": [
        " !pip install tensorflow==2.15.0"
      ]
    },
    {
      "cell_type": "code",
      "execution_count": null,
      "metadata": {
        "id": "vl_-GAxdCqwl"
      },
      "outputs": [],
      "source": [
        "#!pip install tensorflow==2.14.0"
      ]
    },
    {
      "cell_type": "code",
      "execution_count": null,
      "metadata": {
        "colab": {
          "base_uri": "https://localhost:8080/"
        },
        "id": "YYCpfiwlB65J",
        "outputId": "628668be-dbe6-492c-d105-6b073bcf48ea"
      },
      "outputs": [
        {
          "output_type": "stream",
          "name": "stdout",
          "text": [
            "2.15.0\n"
          ]
        }
      ],
      "source": [
        "import tensorflow as tf\n",
        "print(tf.__version__)\n"
      ]
    },
    {
      "cell_type": "code",
      "execution_count": null,
      "metadata": {
        "colab": {
          "base_uri": "https://localhost:8080/"
        },
        "id": "SaTWufzwbCFZ",
        "outputId": "f7eebb32-e33f-4b38-fa71-1454beda9e16"
      },
      "outputs": [
        {
          "output_type": "stream",
          "name": "stdout",
          "text": [
            "Mounted at /content/drive\n"
          ]
        }
      ],
      "source": [
        "#Mount drive\n",
        "from google.colab import drive\n",
        "drive.mount('/content/drive')"
      ]
    },
    {
      "cell_type": "code",
      "execution_count": null,
      "metadata": {
        "id": "283DRIIoRET-"
      },
      "outputs": [],
      "source": [
        "import pandas as pd\n",
        "import numpy as np\n",
        "import keras\n",
        "import tensorflow as tf\n",
        "import keras.layers as L\n",
        "import keras.models as M\n",
        "import keras.initializers as I\n",
        "import keras.backend as K\n",
        "from keras import optimizers\n",
        "from sklearn.model_selection import train_test_split\n",
        "from keras.utils import to_categorical\n",
        "import matplotlib.pyplot as plt\n",
        "import cv2,os\n",
        "from PIL import Image, ImageOps\n",
        "from google.colab.patches import cv2_imshow\n",
        "import csv\n",
        "import math\n",
        "from keras.utils import to_categorical\n",
        "from sklearn.metrics import confusion_matrix , classification_report,accuracy_score, ConfusionMatrixDisplay, recall_score\n",
        "from keras.layers import BatchNormalization\n"
      ]
    },
    {
      "cell_type": "code",
      "execution_count": null,
      "metadata": {
        "colab": {
          "base_uri": "https://localhost:8080/"
        },
        "id": "t3jOBOOQh35-",
        "outputId": "46ae772b-bcdd-42b1-d02c-60d76a34bd40"
      },
      "outputs": [
        {
          "output_type": "stream",
          "name": "stdout",
          "text": [
            "['1', '3', '2']\n"
          ]
        }
      ],
      "source": [
        "data_path='/content/drive/MyDrive/Dataset/Jun Cheng Brain MRI dataset/'\n",
        "categories=os.listdir(data_path)\n",
        "\n",
        "print(categories)\n",
        "labels = ['1', '2', '3']\n",
        "label_dict = {label: i for i, label in enumerate(labels)}"
      ]
    },
    {
      "cell_type": "code",
      "execution_count": null,
      "metadata": {
        "id": "V2qBG9psy3ID"
      },
      "outputs": [],
      "source": [
        "img_size=65"
      ]
    },
    {
      "cell_type": "code",
      "execution_count": null,
      "metadata": {
        "colab": {
          "base_uri": "https://localhost:8080/"
        },
        "id": "YFDJJKB0Wnzm",
        "outputId": "396b7d84-06ba-4721-ce20-c052d59c975f"
      },
      "outputs": [
        {
          "output_type": "stream",
          "name": "stdout",
          "text": [
            "data (3040, 65, 65, 3)\n",
            "label (3040,)\n"
          ]
        }
      ],
      "source": [
        "folder='/content/drive/MyDrive/Dataset/Jun Cheng Brain MRI dataset/'\n",
        "images = []\n",
        "img_labels = []\n",
        "for label in labels:\n",
        "    path = f\"{folder}/{label}\"\n",
        "    for filename in os.listdir(path):\n",
        "        # img = Image.open(os.path.join(path, filename)).convert('L')  # grayscale\n",
        "        img = Image.open(os.path.join(path, filename)).convert('RGB')\n",
        "        img = img.resize((img_size, img_size))\n",
        "        img = np.array(img)\n",
        "        if img is not None:\n",
        "            images.append(img)\n",
        "            img_labels.append(label_dict[label])\n",
        "data=np.array(images)\n",
        "label=np.array(img_labels)\n",
        "print('data', data.shape)\n",
        "print('label', label.shape)\n"
      ]
    },
    {
      "cell_type": "code",
      "execution_count": null,
      "metadata": {
        "colab": {
          "base_uri": "https://localhost:8080/",
          "height": 666
        },
        "id": "KhfPidCvrvNX",
        "outputId": "1757b8e4-1ea8-4739-93b3-7bc029c16ecd"
      },
      "outputs": [
        {
          "output_type": "stream",
          "name": "stderr",
          "text": [
            "/usr/local/lib/python3.10/dist-packages/sklearn/utils/deprecation.py:151: FutureWarning: 'force_all_finite' was renamed to 'ensure_all_finite' in 1.6 and will be removed in 1.8.\n",
            "  warnings.warn(\n",
            "/usr/local/lib/python3.10/dist-packages/sklearn/base.py:484: FutureWarning: `BaseEstimator._check_n_features` is deprecated in 1.6 and will be removed in 1.7. Use `sklearn.utils.validation._check_n_features` instead.\n",
            "  warnings.warn(\n",
            "/usr/local/lib/python3.10/dist-packages/sklearn/base.py:493: FutureWarning: `BaseEstimator._check_feature_names` is deprecated in 1.6 and will be removed in 1.7. Use `sklearn.utils.validation._check_feature_names` instead.\n",
            "  warnings.warn(\n"
          ]
        },
        {
          "output_type": "stream",
          "name": "stdout",
          "text": [
            "Original dataset shape Counter({1: 1432, 2: 937, 0: 671})\n",
            "Resampled dataset shape Counter({0: 1432, 1: 1432, 2: 1432})\n"
          ]
        },
        {
          "output_type": "display_data",
          "data": {
            "text/plain": [
              "<Figure size 1200x500 with 2 Axes>"
            ],
            "image/png": "[encoded data removed]"
          },
          "metadata": {}
        }
      ],
      "source": [
        "from collections import Counter\n",
        "from imblearn.over_sampling import RandomOverSampler\n",
        "import seaborn as sns\n",
        "import matplotlib.pyplot as plt\n",
        "\n",
        "# Convert your data and label lists to numpy arrays\n",
        "data_np = np.array(data)\n",
        "label_np = np.array(label)\n",
        "\n",
        "# Reshape the data for oversampling\n",
        "data_reshaped = data_np.reshape(data_np.shape[0], -1)\n",
        "\n",
        "# Use RandomOverSampler for oversampling\n",
        "ros = RandomOverSampler(random_state=42)\n",
        "x_resampled, y_resampled = ros.fit_resample(data_reshaped, label_np)\n",
        "\n",
        "# Reshape the data to its original shape\n",
        "x_resampled = x_resampled.reshape(-1, img_size, img_size, 3)\n",
        "\n",
        "print(f\"Original dataset shape {Counter(label_np)}\")\n",
        "print(f\"Resampled dataset shape {Counter(y_resampled)}\")\n",
        "\n",
        "# Define the ordering for the x-axis labels\n",
        "order_labels = [0, 1, 2]\n",
        "class_names = ['meningioma', 'glioma', 'pituitary']\n",
        "\n",
        "plt.figure(figsize=(12, 5))\n",
        "\n",
        "plt.subplot(1, 2, 1)\n",
        "sns.countplot(x=label_np, order=order_labels)\n",
        "plt.title(\"Original Data Distribution\")\n",
        "plt.xlabel(\"Classes\")\n",
        "plt.ylabel(\"Frequency\")\n",
        "plt.xticks(ticks=order_labels, labels=class_names)  # Setting the x-axis tick labels\n",
        "\n",
        "\n",
        "# Plot the resampled data distribution\n",
        "plt.subplot(1, 2, 2)\n",
        "sns.countplot(x=y_resampled, order=order_labels)\n",
        "plt.title(\"Resampled Data Distribution\")\n",
        "plt.xlabel(\"Classes\")\n",
        "plt.ylabel(\"Frequency\")\n",
        "plt.xticks(ticks=order_labels, labels=class_names)  # Setting the x-axis tick labels\n",
        "\n",
        "plt.tight_layout()\n",
        "plt.show()\n"
      ]
    },
    {
      "cell_type": "code",
      "execution_count": null,
      "metadata": {
        "id": "pfsy7kzdhg7L"
      },
      "outputs": [],
      "source": [
        "# data =np.array(data)\n",
        "# label=np.array(label)"
      ]
    },
    {
      "cell_type": "code",
      "execution_count": null,
      "metadata": {
        "colab": {
          "base_uri": "https://localhost:8080/"
        },
        "id": "yWIo27ngMqCL",
        "outputId": "37edc754-14b3-4860-db40-b78e41af50ea"
      },
      "outputs": [
        {
          "output_type": "stream",
          "name": "stdout",
          "text": [
            "(3436, 65, 65, 3)\n"
          ]
        }
      ],
      "source": [
        "X_train, X_test, y_train, y_test = train_test_split(x_resampled, y_resampled, test_size=0.2, random_state=42)\n",
        "# X_train, X_test, y_train, y_test = train_test_split(data, label, test_size=0.2, random_state=42)\n",
        "x_train = X_train.astype('float32') / 255.\n",
        "x_train = x_train.reshape(-1, img_size, img_size, 3)\n",
        "y_train = np.array(to_categorical(y_train.astype('float32')))\n",
        "\n",
        "x_test = X_test.astype('float32') / 255.\n",
        "x_test = x_test.reshape(-1, img_size, img_size, 3)\n",
        "y_test = np.array(to_categorical(y_test.astype('float32')))\n",
        "print(x_train.shape)\n"
      ]
    },
    {
      "cell_type": "code",
      "execution_count": null,
      "metadata": {
        "colab": {
          "base_uri": "https://localhost:8080/"
        },
        "id": "cRjVnx3IygSc",
        "outputId": "025a2088-7ee7-4585-c307-0fa52f73c082"
      },
      "outputs": [
        {
          "output_type": "stream",
          "name": "stdout",
          "text": [
            "[1, 2, 4, 859, 1718, 3436]\n"
          ]
        }
      ],
      "source": [
        "#Define the range of batch size for network\n",
        "def find_factors(n):\n",
        "    factors = []\n",
        "    for i in range(1, n + 1):\n",
        "        if n % i == 0:\n",
        "            factors.append(i)\n",
        "    return factors\n",
        "\n",
        "\n",
        "print(find_factors(x_train.shape[0]))"
      ]
    },
    {
      "cell_type": "code",
      "execution_count": null,
      "metadata": {
        "id": "rQmFQ_eI2nfC"
      },
      "outputs": [],
      "source": [
        "# Makign the squash function\n",
        "def squash(vectors, axis=-1):\n",
        "    squared_norm = K.sum(K.square(vectors), axis, keepdims=True)\n",
        "    scale = squared_norm / (1 + squared_norm) / (K.sqrt(squared_norm) + K.epsilon())\n",
        "    return scale * vectors"
      ]
    },
    {
      "cell_type": "code",
      "execution_count": null,
      "metadata": {
        "id": "eSjA995S2vFR"
      },
      "outputs": [],
      "source": [
        "# Making capsule layer from scratch\n",
        "class CapsuleLayer(L.Layer):\n",
        "    def __init__(self, num_capsule, dim_capsule, routing=3, kernel_initializer='glorot_uniform', **kwargs):\n",
        "        super(CapsuleLayer, self).__init__(**kwargs)\n",
        "        self.num_capsule = num_capsule\n",
        "        self.dim_capsule = dim_capsule\n",
        "        self.routing = routing\n",
        "        self.kernel_initializer = kernel_initializer\n",
        "\n",
        "    def build(self, input_shape):\n",
        "        assert len(input_shape) >= 3\n",
        "        self.input_num_capsule = input_shape[1]\n",
        "        self.input_dim_capsule = input_shape[2]\n",
        "\n",
        "        # transforming the matrix\n",
        "        self.W = self.add_weight(\n",
        "            shape=[self.num_capsule, self.input_num_capsule, self.dim_capsule, self.input_dim_capsule],\n",
        "            initializer=self.kernel_initializer, name='w')\n",
        "        self.built = True\n",
        "\n",
        "    def call(self, inputs, training=None):\n",
        "        input_expand = tf.expand_dims(tf.expand_dims(inputs, 1), -1)\n",
        "        inputs_tiled = K.tile(input_expand, [1, self.num_capsule, 1, 1, 1])\n",
        "        input_hat = tf.squeeze(tf.map_fn(lambda x: tf.matmul(self.W, x), elems=inputs_tiled))\n",
        "        # b = tf.zeros(shape=[inputs.shape[0], self.num_capsule, 1, self.input_num_capsule])\n",
        "        b = tf.zeros(shape=[tf.shape(inputs)[0], self.num_capsule, 1, self.input_num_capsule])\n",
        "\n",
        "        assert self.routing > 0\n",
        "        for i in range(self.routing):\n",
        "            c = tf.nn.softmax(b, axis=1)\n",
        "            output = squash(tf.matmul(c, input_hat))\n",
        "            if i < self.routing - 1:\n",
        "                b += tf.matmul(output, input_hat, transpose_b=True)\n",
        "        return tf.squeeze(output)\n",
        "\n",
        "    def compute_output_shape(self, input_shape):\n",
        "        return tuple([None, self.num_capsule, self.dim_capsule])\n",
        "\n",
        "    def get_config(self):\n",
        "        config = {\n",
        "            'num_capsule': self.num_capsule,\n",
        "            'dim_capsule': self.dim_capsule,\n",
        "            'routings': self.routings\n",
        "        }\n",
        "        base_config = super(CapsuleLayer, self).get_config()\n",
        "        return dict(list(base_config.items()) + list(config.items()))"
      ]
    },
    {
      "cell_type": "code",
      "execution_count": null,
      "metadata": {
        "id": "tMzv19ToEpea"
      },
      "outputs": [],
      "source": [
        "\n",
        "from keras.src.layers import MaxPooling2D\n",
        "from keras.src.layers.regularization.dropout import Dropout\n",
        "batch_size = 2\n",
        "\n",
        "img_shape = (img_size, img_size, 3)\n",
        "\n",
        "# # Define a custom input layer with a hardcoded batch size\n",
        "input_layer = L.Input(batch_shape=(batch_size,) + img_shape)\n",
        "\n",
        "\n",
        "from keras.layers import DepthwiseConv2D, GlobalAveragePooling2D, Reshape, Multiply\n",
        "\n",
        "def powerfeature(input_layer, num_layers, expansion_factor, reduction_factor=0.9):\n",
        "\n",
        "    x = L.Conv2D(64, (3, 3), activation='relu', kernel_initializer='he_normal', padding='same')(input_layer)\n",
        "    x = L.Dropout(0.2)(x)\n",
        "    x = L.Conv2D(64, (3, 3), activation='relu', kernel_initializer='he_normal', padding='same')(x)\n",
        "    x = L.MaxPooling2D((2, 2))(x)\n",
        "\n",
        "    x = L.Conv2D(128, (3, 3), activation='relu', kernel_initializer='he_normal', padding='same')(x)\n",
        "    x = L.Dropout(0.3)(x)\n",
        "    x = L.Conv2D(128, (3, 3), activation='relu', kernel_initializer='he_normal', padding='same')(x)\n",
        "    x = L.MaxPooling2D((2, 2))(x)\n",
        "\n",
        "\n",
        "    for _ in range(num_layers):\n",
        "        x1 = L.Conv2D(2 * expansion_factor, (3, 3), kernel_initializer='he_normal', padding='same')(x)\n",
        "        x1 = L.Dropout(0.2)(x1)\n",
        "        x1 = L.Conv2D(expansion_factor, (3, 3), kernel_initializer='he_normal', padding='same')(x1)\n",
        "        x = L.Concatenate()([x, x1])\n",
        "\n",
        "\n",
        "    # Attention Mechanism\n",
        "    attention = GlobalAveragePooling2D()(x)\n",
        "    attention = Reshape((1, 1, K.int_shape(x)[-1]))(attention)\n",
        "    attention = L.Conv2D(K.int_shape(x)[-1] // 16, (3,3), activation='relu', kernel_initializer='he_normal', padding='same')(attention)\n",
        "    attention = L.Conv2D(K.int_shape(x)[-1], (3,3), activation='relu', kernel_initializer='he_normal', padding='same')(attention)\n",
        "    x = Multiply()([x, attention])\n",
        "\n",
        "\n",
        " # Transition Mechanism\n",
        "    contracted_filters = int(K.int_shape(x)[-1] * reduction_factor)\n",
        "\n",
        "    x = L.Conv2D(contracted_filters, (3, 3), kernel_initializer='he_normal', padding='same')(x)\n",
        "    x = L.Dropout(0.5)(x)\n",
        "    x = L.Conv2D(contracted_filters, (3, 3), kernel_initializer='he_normal', padding='same')(x)\n",
        "    x = L.MaxPooling2D((2, 2))(x)\n",
        "\n",
        "    return x\n",
        "\n",
        "\n",
        "x = powerfeature(input_layer,num_layers=2, expansion_factor=4)\n",
        "\n",
        "\n",
        "\n",
        "#Primary Capsule Layer\n",
        "conv2 = L.Conv2D(filters=8 * 16, kernel_size=(3, 3), strides=(2, 2), padding='same')(x)\n",
        "reshape2 = L.Reshape([-1, 8])(conv2)  # Reduce dimensions here\n",
        "squashed_output = L.Lambda(squash)(reshape2)\n"
      ]
    },
    {
      "cell_type": "code",
      "execution_count": null,
      "metadata": {
        "id": "YYVJEJLK2zkQ"
      },
      "outputs": [],
      "source": [
        "braincaps = CapsuleLayer(num_capsule=3, dim_capsule=8, routing=3, name='braincaps')(squashed_output)"
      ]
    },
    {
      "cell_type": "code",
      "execution_count": null,
      "metadata": {
        "id": "8hLcnT7E2198"
      },
      "outputs": [],
      "source": [
        "# Making length layer which will calculate the length of the vectors\n",
        "class Length(L.Layer):\n",
        "    def call(self, inputs, **kwargs):\n",
        "        return tf.sqrt(tf.reduce_sum(tf.square(inputs), -1))\n",
        "\n",
        "    def compute_output_shape(self, input_shape):\n",
        "        return input_shape[:-1]\n",
        "\n",
        "    def get_config(self):\n",
        "        config = super(Length, self).get_config()\n",
        "        return config\n"
      ]
    },
    {
      "cell_type": "code",
      "execution_count": null,
      "metadata": {
        "id": "XsBv1LhL255V"
      },
      "outputs": [],
      "source": [
        "# Layer 4: This is an auxiliary layer to replace each capsule with its length. Just to match the true label's shape.\n",
        "# If using tensorflow, this will not be necessary. :)\n",
        "out_caps = Length(name='capsnet')(braincaps)"
      ]
    },
    {
      "cell_type": "code",
      "execution_count": null,
      "metadata": {
        "id": "66Gkk4uW28NV"
      },
      "outputs": [],
      "source": [
        "# Making the masking layer\n",
        "class Mask(L.Layer):\n",
        "    def call(self, inputs, **kwargs):\n",
        "        if type(inputs) is list:\n",
        "            assert len(inputs) == 2\n",
        "            inputs, mask = inputs\n",
        "        else:\n",
        "            x = tf.sqrt(tf.reduce_sum(tf.square(inputs), -1))\n",
        "            mask = tf.one_hot(indices=tf.argmax(x, 1), depth=x.shape[1])\n",
        "        masked = K.batch_flatten(inputs * tf.expand_dims(mask, -1))\n",
        "        return masked\n",
        "\n",
        "    def compute_output_shape(self, input_shape):\n",
        "        if type(input_shape[0]) is tuple:  # true label provided\n",
        "            return tuple([None, input_shape[0][1] * input_shape[0][2]])\n",
        "        else:  # no true label provided\n",
        "            return tuple([None, input_shape[1] * input_shape[2]])\n",
        "\n",
        "    def get_config(self):\n",
        "        config = super(Mask, self).get_config()\n",
        "        return config"
      ]
    },
    {
      "cell_type": "code",
      "execution_count": null,
      "metadata": {
        "colab": {
          "base_uri": "https://localhost:8080/"
        },
        "id": "iTdeWoNC3ANO",
        "outputId": "a155b956-5e9e-45cc-86c7-c27d01dfc7c8"
      },
      "outputs": [
        {
          "output_type": "stream",
          "name": "stdout",
          "text": [
            "(None, 3)\n",
            "(2, 3, 8)\n",
            "(2, 24)\n",
            "(2, 24)\n"
          ]
        }
      ],
      "source": [
        "y = L.Input(shape=(3,))\n",
        "print(y.shape)\n",
        "print(braincaps.shape)\n",
        "masked_by_y = Mask()([braincaps, y])  # The true label is used to mask the output of capsule layer. For training\n",
        "print(masked_by_y.shape)\n",
        "masked = Mask()(braincaps)\n",
        "print(masked.shape)"
      ]
    },
    {
      "cell_type": "code",
      "execution_count": null,
      "metadata": {
        "id": "mF-ZO0HM3H3E"
      },
      "outputs": [],
      "source": [
        "input_shape = x_train.shape[1:]\n",
        "decoder = M.Sequential(name='decoder')\n",
        "decoder.add(L.Dense(512, activation='relu', input_dim=8 * 3))\n",
        "decoder.add(L.Dense(1024, activation='relu'))\n",
        "decoder.add(L.Dense(img_size * img_size * 3, activation='softmax'))\n",
        "decoder.add(L.Reshape(target_shape=input_shape, name='out_recon'))\n"
      ]
    },
    {
      "cell_type": "code",
      "execution_count": null,
      "metadata": {
        "id": "t8oX42aK3IkE"
      },
      "outputs": [],
      "source": [
        "# Making models\n",
        "train_model = M.Model([input_layer, y], [out_caps, decoder(masked_by_y)])\n",
        "eval_model = M.Model(input_layer, [out_caps, decoder(masked)])"
      ]
    },
    {
      "cell_type": "code",
      "execution_count": null,
      "metadata": {
        "id": "3PFKjgTb3LCH"
      },
      "outputs": [],
      "source": [
        "# Making the loss function\n",
        "def margin_loss(y_true, y_pred):\n",
        "    L = y_true * tf.square(tf.maximum(0., 0.9 - y_pred)) + \\\n",
        "        0.5 * (1 - y_true) * tf.square(tf.maximum(0., y_pred - 0.1))\n",
        "    return tf.reduce_mean(tf.reduce_sum(L, 1))"
      ]
    },
    {
      "cell_type": "code",
      "execution_count": null,
      "metadata": {
        "colab": {
          "base_uri": "https://localhost:8080/"
        },
        "id": "h7OIvuRA3P56",
        "outputId": "bf6e24de-61c7-4945-ffd6-94174b3e1a4b"
      },
      "outputs": [
        {
          "output_type": "stream",
          "name": "stdout",
          "text": [
            "Model: \"model\"\n",
            "__________________________________________________________________________________________________\n",
            " Layer (type)                Output Shape                 Param #   Connected to                  \n",
            "==================================================================================================\n",
            " input_1 (InputLayer)        [(2, 65, 65, 3)]             0         []                            \n",
            "                                                                                                  \n",
            " conv2d (Conv2D)             (2, 65, 65, 64)              1792      ['input_1[0][0]']             \n",
            "                                                                                                  \n",
            " dropout (Dropout)           (2, 65, 65, 64)              0         ['conv2d[0][0]']              \n",
            "                                                                                                  \n",
            " conv2d_1 (Conv2D)           (2, 65, 65, 64)              36928     ['dropout[0][0]']             \n",
            "                                                                                                  \n",
            " max_pooling2d (MaxPooling2  (2, 32, 32, 64)              0         ['conv2d_1[0][0]']            \n",
            " D)                                                                                               \n",
            "                                                                                                  \n",
            " conv2d_2 (Conv2D)           (2, 32, 32, 128)             73856     ['max_pooling2d[0][0]']       \n",
            "                                                                                                  \n",
            " dropout_1 (Dropout)         (2, 32, 32, 128)             0         ['conv2d_2[0][0]']            \n",
            "                                                                                                  \n",
            " conv2d_3 (Conv2D)           (2, 32, 32, 128)             147584    ['dropout_1[0][0]']           \n",
            "                                                                                                  \n",
            " max_pooling2d_1 (MaxPoolin  (2, 16, 16, 128)             0         ['conv2d_3[0][0]']            \n",
            " g2D)                                                                                             \n",
            "                                                                                                  \n",
            " conv2d_4 (Conv2D)           (2, 16, 16, 8)               9224      ['max_pooling2d_1[0][0]']     \n",
            "                                                                                                  \n",
            " dropout_2 (Dropout)         (2, 16, 16, 8)               0         ['conv2d_4[0][0]']            \n",
            "                                                                                                  \n",
            " conv2d_5 (Conv2D)           (2, 16, 16, 4)               292       ['dropout_2[0][0]']           \n",
            "                                                                                                  \n",
            " concatenate (Concatenate)   (2, 16, 16, 132)             0         ['max_pooling2d_1[0][0]',     \n",
            "                                                                     'conv2d_5[0][0]']            \n",
            "                                                                                                  \n",
            " conv2d_6 (Conv2D)           (2, 16, 16, 8)               9512      ['concatenate[0][0]']         \n",
            "                                                                                                  \n",
            " dropout_3 (Dropout)         (2, 16, 16, 8)               0         ['conv2d_6[0][0]']            \n",
            "                                                                                                  \n",
            " conv2d_7 (Conv2D)           (2, 16, 16, 4)               292       ['dropout_3[0][0]']           \n",
            "                                                                                                  \n",
            " concatenate_1 (Concatenate  (2, 16, 16, 136)             0         ['concatenate[0][0]',         \n",
            " )                                                                   'conv2d_7[0][0]']            \n",
            "                                                                                                  \n",
            " global_average_pooling2d (  (2, 136)                     0         ['concatenate_1[0][0]']       \n",
            " GlobalAveragePooling2D)                                                                          \n",
            "                                                                                                  \n",
            " reshape (Reshape)           (2, 1, 1, 136)               0         ['global_average_pooling2d[0][\n",
            "                                                                    0]']                          \n",
            "                                                                                                  \n",
            " conv2d_8 (Conv2D)           (2, 1, 1, 8)                 9800      ['reshape[0][0]']             \n",
            "                                                                                                  \n",
            " conv2d_9 (Conv2D)           (2, 1, 1, 136)               9928      ['conv2d_8[0][0]']            \n",
            "                                                                                                  \n",
            " multiply (Multiply)         (2, 16, 16, 136)             0         ['concatenate_1[0][0]',       \n",
            "                                                                     'conv2d_9[0][0]']            \n",
            "                                                                                                  \n",
            " conv2d_10 (Conv2D)          (2, 16, 16, 122)             149450    ['multiply[0][0]']            \n",
            "                                                                                                  \n",
            " dropout_4 (Dropout)         (2, 16, 16, 122)             0         ['conv2d_10[0][0]']           \n",
            "                                                                                                  \n",
            " conv2d_11 (Conv2D)          (2, 16, 16, 122)             134078    ['dropout_4[0][0]']           \n",
            "                                                                                                  \n",
            " max_pooling2d_2 (MaxPoolin  (2, 8, 8, 122)               0         ['conv2d_11[0][0]']           \n",
            " g2D)                                                                                             \n",
            "                                                                                                  \n",
            " conv2d_12 (Conv2D)          (2, 4, 4, 128)               140672    ['max_pooling2d_2[0][0]']     \n",
            "                                                                                                  \n",
            " reshape_1 (Reshape)         (2, 256, 8)                  0         ['conv2d_12[0][0]']           \n",
            "                                                                                                  \n",
            " lambda (Lambda)             (2, 256, 8)                  0         ['reshape_1[0][0]']           \n",
            "                                                                                                  \n",
            " heelcaps (CapsuleLayer)     (2, 3, 8)                    49152     ['lambda[0][0]']              \n",
            "                                                                                                  \n",
            " input_2 (InputLayer)        [(None, 3)]                  0         []                            \n",
            "                                                                                                  \n",
            " mask (Mask)                 (2, 24)                      0         ['heelcaps[0][0]',            \n",
            "                                                                     'input_2[0][0]']             \n",
            "                                                                                                  \n",
            " capsnet (Length)            (2, 3)                       0         ['heelcaps[0][0]']            \n",
            "                                                                                                  \n",
            " decoder (Sequential)        (None, 65, 65, 3)            1352998   ['mask[0][0]']                \n",
            "                                                          7                                       \n",
            "                                                                                                  \n",
            "==================================================================================================\n",
            "Total params: 14302547 (54.56 MB)\n",
            "Trainable params: 14302547 (54.56 MB)\n",
            "Non-trainable params: 0 (0.00 Byte)\n",
            "__________________________________________________________________________________________________\n"
          ]
        }
      ],
      "source": [
        "train_model.summary()"
      ]
    },
    {
      "cell_type": "code",
      "execution_count": null,
      "metadata": {
        "id": "GWIlgOnjzdhT"
      },
      "outputs": [],
      "source": [
        "train_model.save_weights('/content/drive/MyDrive/models/NewBrain2_ACTCAPSNET_model.weights.h5')\n",
        "train_model.load_weights('/content/drive/MyDrive/models/NewBrain2_ACTCAPSNET_model.weights.h5')\n"
      ]
    },
    {
      "cell_type": "code",
      "execution_count": null,
      "metadata": {
        "id": "Rx7H3E783WfF"
      },
      "outputs": [],
      "source": [
        "n_samples = 5"
      ]
    },
    {
      "cell_type": "code",
      "execution_count": null,
      "metadata": {
        "id": "rdniU6893YnS"
      },
      "outputs": [],
      "source": [
        "# plt.figure(figsize=(n_samples * 2, 3))\n",
        "# for index in range(n_samples):\n",
        "#     plt.subplot(1, n_samples, index + 1)\n",
        "#     sample_image = x_test[index]\n",
        "#     plt.imshow(sample_image, cmap=\"binary\")\n",
        "#     plt.title(\"Label:\" + str(y_test[index]))\n",
        "#     plt.axis(\"off\")\n",
        "\n",
        "# plt.show()"
      ]
    },
    {
      "cell_type": "code",
      "execution_count": null,
      "metadata": {
        "id": "WHyvs0QG3bV-"
      },
      "outputs": [],
      "source": [
        "m = batch_size\n",
        "epochs = 40\n",
        "# Using EarlyStopping, end training when val_accuracy is not improved for 10 consecutive times\n",
        "early_stopping = keras.callbacks.EarlyStopping(monitor='val_capsnet_accuracy', mode='max',\n",
        "                                               patience=2, restore_best_weights=True)\n"
      ]
    },
    {
      "cell_type": "code",
      "execution_count": null,
      "metadata": {
        "colab": {
          "base_uri": "https://localhost:8080/"
        },
        "id": "6eDzzIMj5v8J",
        "outputId": "c6ec0435-79ca-4557-b436-f1cd4d4a4878"
      },
      "outputs": [
        {
          "output_type": "stream",
          "name": "stdout",
          "text": [
            "(3436, 65, 65, 3)\n",
            "(3436, 3)\n",
            "(860, 65, 65, 3)\n",
            "(860, 3)\n"
          ]
        }
      ],
      "source": [
        "print(x_train.shape)  # should be (num_samples, 28, 28, 1) or something similar\n",
        "print(y_train.shape)  # should be (num_samples, 3) given your model summary\n",
        "print(x_test.shape)   # should be (num_test_samples, 28, 28, 1) or similar\n",
        "print(y_test.shape)   # should be (num_test_samples, 3)\n"
      ]
    },
    {
      "cell_type": "code",
      "execution_count": null,
      "metadata": {
        "colab": {
          "base_uri": "https://localhost:8080/"
        },
        "id": "k5t0yhoE3fY9",
        "outputId": "0e1624f6-7f6a-48fd-b61b-9d77f96e760e"
      },
      "outputs": [
        {
          "output_type": "stream",
          "name": "stdout",
          "text": [
            "Epoch 1/40\n",
            "1718/1718 [==============================] - 49s 18ms/step - loss: 0.2659 - capsnet_loss: 0.2659 - decoder_loss: 0.1131 - capsnet_accuracy: 0.5498 - decoder_accuracy: 0.3268 - val_loss: 0.1785 - val_capsnet_loss: 0.1785 - val_decoder_loss: 0.1129 - val_capsnet_accuracy: 0.7081 - val_decoder_accuracy: 0.3280\n",
            "Epoch 2/40\n",
            "1718/1718 [==============================] - 27s 16ms/step - loss: 0.1529 - capsnet_loss: 0.1528 - decoder_loss: 0.1131 - capsnet_accuracy: 0.7942 - decoder_accuracy: 0.3278 - val_loss: 0.1342 - val_capsnet_loss: 0.1341 - val_decoder_loss: 0.1129 - val_capsnet_accuracy: 0.8209 - val_decoder_accuracy: 0.3261\n",
            "Epoch 3/40\n",
            "1718/1718 [==============================] - 27s 16ms/step - loss: 0.1205 - capsnet_loss: 0.1204 - decoder_loss: 0.1131 - capsnet_accuracy: 0.8455 - decoder_accuracy: 0.3274 - val_loss: 0.1071 - val_capsnet_loss: 0.1070 - val_decoder_loss: 0.1129 - val_capsnet_accuracy: 0.8674 - val_decoder_accuracy: 0.3279\n",
            "Epoch 4/40\n",
            "1718/1718 [==============================] - 28s 16ms/step - loss: 0.1008 - capsnet_loss: 0.1007 - decoder_loss: 0.1131 - capsnet_accuracy: 0.8792 - decoder_accuracy: 0.3291 - val_loss: 0.0974 - val_capsnet_loss: 0.0973 - val_decoder_loss: 0.1129 - val_capsnet_accuracy: 0.8849 - val_decoder_accuracy: 0.3299\n",
            "Epoch 5/40\n",
            "1718/1718 [==============================] - 29s 17ms/step - loss: 0.0861 - capsnet_loss: 0.0860 - decoder_loss: 0.1131 - capsnet_accuracy: 0.9042 - decoder_accuracy: 0.3301 - val_loss: 0.0778 - val_capsnet_loss: 0.0777 - val_decoder_loss: 0.1129 - val_capsnet_accuracy: 0.9198 - val_decoder_accuracy: 0.3303\n",
            "Epoch 6/40\n",
            "1718/1718 [==============================] - 27s 15ms/step - loss: 0.0739 - capsnet_loss: 0.0739 - decoder_loss: 0.1131 - capsnet_accuracy: 0.9246 - decoder_accuracy: 0.3312 - val_loss: 0.0785 - val_capsnet_loss: 0.0784 - val_decoder_loss: 0.1129 - val_capsnet_accuracy: 0.8988 - val_decoder_accuracy: 0.3313\n",
            "Epoch 7/40\n",
            "1718/1718 [==============================] - 27s 15ms/step - loss: 0.0613 - capsnet_loss: 0.0612 - decoder_loss: 0.1131 - capsnet_accuracy: 0.9447 - decoder_accuracy: 0.3321 - val_loss: 0.0573 - val_capsnet_loss: 0.0573 - val_decoder_loss: 0.1129 - val_capsnet_accuracy: 0.9372 - val_decoder_accuracy: 0.3329\n",
            "Epoch 8/40\n",
            "1718/1718 [==============================] - 25s 15ms/step - loss: 0.0562 - capsnet_loss: 0.0561 - decoder_loss: 0.1131 - capsnet_accuracy: 0.9529 - decoder_accuracy: 0.3333 - val_loss: 0.0579 - val_capsnet_loss: 0.0579 - val_decoder_loss: 0.1129 - val_capsnet_accuracy: 0.9372 - val_decoder_accuracy: 0.3339\n",
            "Epoch 9/40\n",
            "1718/1718 [==============================] - 26s 15ms/step - loss: 0.0491 - capsnet_loss: 0.0490 - decoder_loss: 0.1131 - capsnet_accuracy: 0.9581 - decoder_accuracy: 0.3340 - val_loss: 0.0573 - val_capsnet_loss: 0.0573 - val_decoder_loss: 0.1129 - val_capsnet_accuracy: 0.9488 - val_decoder_accuracy: 0.3349\n",
            "Epoch 10/40\n",
            "1718/1718 [==============================] - 26s 15ms/step - loss: 0.0412 - capsnet_loss: 0.0412 - decoder_loss: 0.1131 - capsnet_accuracy: 0.9692 - decoder_accuracy: 0.3346 - val_loss: 0.0486 - val_capsnet_loss: 0.0485 - val_decoder_loss: 0.1129 - val_capsnet_accuracy: 0.9547 - val_decoder_accuracy: 0.3353\n",
            "Epoch 11/40\n",
            "1718/1718 [==============================] - 29s 17ms/step - loss: 0.0380 - capsnet_loss: 0.0380 - decoder_loss: 0.1131 - capsnet_accuracy: 0.9732 - decoder_accuracy: 0.3357 - val_loss: 0.0532 - val_capsnet_loss: 0.0532 - val_decoder_loss: 0.1129 - val_capsnet_accuracy: 0.9465 - val_decoder_accuracy: 0.3365\n",
            "Epoch 12/40\n",
            "1718/1718 [==============================] - 27s 16ms/step - loss: 0.0334 - capsnet_loss: 0.0334 - decoder_loss: 0.1131 - capsnet_accuracy: 0.9776 - decoder_accuracy: 0.3366 - val_loss: 0.0466 - val_capsnet_loss: 0.0465 - val_decoder_loss: 0.1129 - val_capsnet_accuracy: 0.9581 - val_decoder_accuracy: 0.3367\n",
            "Epoch 13/40\n",
            "1718/1718 [==============================] - 26s 15ms/step - loss: 0.0315 - capsnet_loss: 0.0314 - decoder_loss: 0.1131 - capsnet_accuracy: 0.9834 - decoder_accuracy: 0.3372 - val_loss: 0.0367 - val_capsnet_loss: 0.0367 - val_decoder_loss: 0.1129 - val_capsnet_accuracy: 0.9663 - val_decoder_accuracy: 0.3384\n",
            "Epoch 14/40\n",
            "1718/1718 [==============================] - 26s 15ms/step - loss: 0.0257 - capsnet_loss: 0.0256 - decoder_loss: 0.1131 - capsnet_accuracy: 0.9878 - decoder_accuracy: 0.3382 - val_loss: 0.0461 - val_capsnet_loss: 0.0461 - val_decoder_loss: 0.1129 - val_capsnet_accuracy: 0.9709 - val_decoder_accuracy: 0.3382\n",
            "Epoch 15/40\n",
            "1718/1718 [==============================] - 27s 16ms/step - loss: 0.0244 - capsnet_loss: 0.0243 - decoder_loss: 0.1131 - capsnet_accuracy: 0.9884 - decoder_accuracy: 0.3390 - val_loss: 0.0306 - val_capsnet_loss: 0.0306 - val_decoder_loss: 0.1129 - val_capsnet_accuracy: 0.9651 - val_decoder_accuracy: 0.3396\n",
            "Epoch 16/40\n",
            "1718/1718 [==============================] - 27s 15ms/step - loss: 0.0216 - capsnet_loss: 0.0216 - decoder_loss: 0.1131 - capsnet_accuracy: 0.9907 - decoder_accuracy: 0.3399 - val_loss: 0.0582 - val_capsnet_loss: 0.0581 - val_decoder_loss: 0.1129 - val_capsnet_accuracy: 0.9372 - val_decoder_accuracy: 0.3414\n",
            "Epoch 17/40\n",
            "1718/1718 [==============================] - 29s 17ms/step - loss: 0.0215 - capsnet_loss: 0.0214 - decoder_loss: 0.1131 - capsnet_accuracy: 0.9898 - decoder_accuracy: 0.3408 - val_loss: 0.0372 - val_capsnet_loss: 0.0371 - val_decoder_loss: 0.1129 - val_capsnet_accuracy: 0.9698 - val_decoder_accuracy: 0.3425\n",
            "Epoch 18/40\n",
            "1718/1718 [==============================] - 27s 16ms/step - loss: 0.0189 - capsnet_loss: 0.0188 - decoder_loss: 0.1131 - capsnet_accuracy: 0.9913 - decoder_accuracy: 0.3418 - val_loss: 0.0517 - val_capsnet_loss: 0.0516 - val_decoder_loss: 0.1129 - val_capsnet_accuracy: 0.9721 - val_decoder_accuracy: 0.3434\n",
            "Epoch 19/40\n",
            "1718/1718 [==============================] - 27s 15ms/step - loss: 0.0183 - capsnet_loss: 0.0182 - decoder_loss: 0.1131 - capsnet_accuracy: 0.9916 - decoder_accuracy: 0.3430 - val_loss: 0.0373 - val_capsnet_loss: 0.0372 - val_decoder_loss: 0.1129 - val_capsnet_accuracy: 0.9721 - val_decoder_accuracy: 0.3447\n",
            "Epoch 20/40\n",
            "1718/1718 [==============================] - 28s 16ms/step - loss: 0.0162 - capsnet_loss: 0.0161 - decoder_loss: 0.1131 - capsnet_accuracy: 0.9933 - decoder_accuracy: 0.3437 - val_loss: 0.0367 - val_capsnet_loss: 0.0367 - val_decoder_loss: 0.1129 - val_capsnet_accuracy: 0.9616 - val_decoder_accuracy: 0.3451\n",
            "Epoch 21/40\n",
            "1718/1718 [==============================] - 28s 16ms/step - loss: 0.0150 - capsnet_loss: 0.0150 - decoder_loss: 0.1131 - capsnet_accuracy: 0.9921 - decoder_accuracy: 0.3447 - val_loss: 0.0355 - val_capsnet_loss: 0.0354 - val_decoder_loss: 0.1129 - val_capsnet_accuracy: 0.9628 - val_decoder_accuracy: 0.3459\n",
            "Epoch 22/40\n",
            "1718/1718 [==============================] - 28s 16ms/step - loss: 0.0164 - capsnet_loss: 0.0164 - decoder_loss: 0.1131 - capsnet_accuracy: 0.9913 - decoder_accuracy: 0.3457 - val_loss: 0.0305 - val_capsnet_loss: 0.0304 - val_decoder_loss: 0.1129 - val_capsnet_accuracy: 0.9663 - val_decoder_accuracy: 0.3466\n",
            "Epoch 23/40\n",
            "1718/1718 [==============================] - 31s 18ms/step - loss: 0.0142 - capsnet_loss: 0.0141 - decoder_loss: 0.1131 - capsnet_accuracy: 0.9942 - decoder_accuracy: 0.3463 - val_loss: 0.0273 - val_capsnet_loss: 0.0272 - val_decoder_loss: 0.1129 - val_capsnet_accuracy: 0.9698 - val_decoder_accuracy: 0.3485\n",
            "Epoch 24/40\n",
            "1718/1718 [==============================] - 30s 17ms/step - loss: 0.0116 - capsnet_loss: 0.0116 - decoder_loss: 0.1131 - capsnet_accuracy: 0.9962 - decoder_accuracy: 0.3470 - val_loss: 0.0461 - val_capsnet_loss: 0.0461 - val_decoder_loss: 0.1129 - val_capsnet_accuracy: 0.9616 - val_decoder_accuracy: 0.3479\n",
            "Epoch 25/40\n",
            "1718/1718 [==============================] - 29s 17ms/step - loss: 0.0131 - capsnet_loss: 0.0130 - decoder_loss: 0.1131 - capsnet_accuracy: 0.9933 - decoder_accuracy: 0.3479 - val_loss: 0.0377 - val_capsnet_loss: 0.0377 - val_decoder_loss: 0.1129 - val_capsnet_accuracy: 0.9593 - val_decoder_accuracy: 0.3493\n",
            "Epoch 26/40\n",
            "1718/1718 [==============================] - 29s 17ms/step - loss: 0.0156 - capsnet_loss: 0.0156 - decoder_loss: 0.1131 - capsnet_accuracy: 0.9924 - decoder_accuracy: 0.3485 - val_loss: 0.0300 - val_capsnet_loss: 0.0299 - val_decoder_loss: 0.1129 - val_capsnet_accuracy: 0.9581 - val_decoder_accuracy: 0.3506\n",
            "Epoch 27/40\n",
            "1718/1718 [==============================] - 29s 17ms/step - loss: 0.0105 - capsnet_loss: 0.0105 - decoder_loss: 0.1131 - capsnet_accuracy: 0.9965 - decoder_accuracy: 0.3496 - val_loss: 0.0308 - val_capsnet_loss: 0.0307 - val_decoder_loss: 0.1129 - val_capsnet_accuracy: 0.9616 - val_decoder_accuracy: 0.3528\n",
            "Epoch 28/40\n",
            "1718/1718 [==============================] - 30s 17ms/step - loss: 0.0113 - capsnet_loss: 0.0113 - decoder_loss: 0.1131 - capsnet_accuracy: 0.9948 - decoder_accuracy: 0.3507 - val_loss: 0.0258 - val_capsnet_loss: 0.0257 - val_decoder_loss: 0.1129 - val_capsnet_accuracy: 0.9651 - val_decoder_accuracy: 0.3528\n",
            "Epoch 29/40\n",
            "1718/1718 [==============================] - 31s 18ms/step - loss: 0.0129 - capsnet_loss: 0.0129 - decoder_loss: 0.1131 - capsnet_accuracy: 0.9939 - decoder_accuracy: 0.3515 - val_loss: 0.0297 - val_capsnet_loss: 0.0296 - val_decoder_loss: 0.1129 - val_capsnet_accuracy: 0.9686 - val_decoder_accuracy: 0.3538\n",
            "Epoch 30/40\n",
            "1718/1718 [==============================] - 29s 17ms/step - loss: 0.0081 - capsnet_loss: 0.0081 - decoder_loss: 0.1131 - capsnet_accuracy: 0.9968 - decoder_accuracy: 0.3525 - val_loss: 0.0712 - val_capsnet_loss: 0.0712 - val_decoder_loss: 0.1129 - val_capsnet_accuracy: 0.9593 - val_decoder_accuracy: 0.3549\n",
            "Epoch 31/40\n",
            "1718/1718 [==============================] - 28s 16ms/step - loss: 0.0097 - capsnet_loss: 0.0097 - decoder_loss: 0.1131 - capsnet_accuracy: 0.9977 - decoder_accuracy: 0.3534 - val_loss: 0.0274 - val_capsnet_loss: 0.0274 - val_decoder_loss: 0.1129 - val_capsnet_accuracy: 0.9663 - val_decoder_accuracy: 0.3565\n",
            "Epoch 32/40\n",
            "1718/1718 [==============================] - 27s 16ms/step - loss: 0.0108 - capsnet_loss: 0.0107 - decoder_loss: 0.1131 - capsnet_accuracy: 0.9959 - decoder_accuracy: 0.3542 - val_loss: 0.0299 - val_capsnet_loss: 0.0298 - val_decoder_loss: 0.1129 - val_capsnet_accuracy: 0.9651 - val_decoder_accuracy: 0.3569\n",
            "Epoch 33/40\n",
            "1718/1718 [==============================] - 26s 15ms/step - loss: 0.0117 - capsnet_loss: 0.0116 - decoder_loss: 0.1131 - capsnet_accuracy: 0.9948 - decoder_accuracy: 0.3551 - val_loss: 0.0291 - val_capsnet_loss: 0.0290 - val_decoder_loss: 0.1129 - val_capsnet_accuracy: 0.9616 - val_decoder_accuracy: 0.3575\n",
            "Epoch 34/40\n",
            "1718/1718 [==============================] - 28s 16ms/step - loss: 0.0086 - capsnet_loss: 0.0085 - decoder_loss: 0.1131 - capsnet_accuracy: 0.9968 - decoder_accuracy: 0.3560 - val_loss: 0.0387 - val_capsnet_loss: 0.0386 - val_decoder_loss: 0.1129 - val_capsnet_accuracy: 0.9674 - val_decoder_accuracy: 0.3581\n",
            "Epoch 35/40\n",
            "1718/1718 [==============================] - 30s 17ms/step - loss: 0.0125 - capsnet_loss: 0.0124 - decoder_loss: 0.1131 - capsnet_accuracy: 0.9930 - decoder_accuracy: 0.3567 - val_loss: 0.0210 - val_capsnet_loss: 0.0209 - val_decoder_loss: 0.1129 - val_capsnet_accuracy: 0.9744 - val_decoder_accuracy: 0.3587\n",
            "Epoch 36/40\n",
            "1718/1718 [==============================] - 28s 16ms/step - loss: 0.0061 - capsnet_loss: 0.0060 - decoder_loss: 0.1131 - capsnet_accuracy: 0.9988 - decoder_accuracy: 0.3575 - val_loss: 0.0439 - val_capsnet_loss: 0.0438 - val_decoder_loss: 0.1129 - val_capsnet_accuracy: 0.9651 - val_decoder_accuracy: 0.3608\n",
            "Epoch 37/40\n",
            "1718/1718 [==============================] - 27s 16ms/step - loss: 0.0098 - capsnet_loss: 0.0097 - decoder_loss: 0.1131 - capsnet_accuracy: 0.9980 - decoder_accuracy: 0.3581 - val_loss: 0.0260 - val_capsnet_loss: 0.0259 - val_decoder_loss: 0.1129 - val_capsnet_accuracy: 0.9686 - val_decoder_accuracy: 0.3614\n",
            "Epoch 38/40\n",
            "1718/1718 [==============================] - 27s 16ms/step - loss: 0.0080 - capsnet_loss: 0.0080 - decoder_loss: 0.1131 - capsnet_accuracy: 0.9962 - decoder_accuracy: 0.3591 - val_loss: 0.0227 - val_capsnet_loss: 0.0226 - val_decoder_loss: 0.1129 - val_capsnet_accuracy: 0.9698 - val_decoder_accuracy: 0.3616\n",
            "Epoch 39/40\n",
            "1718/1718 [==============================] - 27s 16ms/step - loss: 0.0116 - capsnet_loss: 0.0116 - decoder_loss: 0.1131 - capsnet_accuracy: 0.9942 - decoder_accuracy: 0.3600 - val_loss: 0.0368 - val_capsnet_loss: 0.0367 - val_decoder_loss: 0.1129 - val_capsnet_accuracy: 0.9674 - val_decoder_accuracy: 0.3622\n",
            "Epoch 40/40\n",
            "1718/1718 [==============================] - 29s 17ms/step - loss: 0.0105 - capsnet_loss: 0.0104 - decoder_loss: 0.1131 - capsnet_accuracy: 0.9942 - decoder_accuracy: 0.3610 - val_loss: 0.0270 - val_capsnet_loss: 0.0270 - val_decoder_loss: 0.1129 - val_capsnet_accuracy: 0.9709 - val_decoder_accuracy: 0.3644\n"
          ]
        }
      ],
      "source": [
        "lr_scheduler = keras.callbacks.ReduceLROnPlateau(monitor='val_capsnet_accuracy', mode='max', factor=0.5, patience=4)\n",
        "train_model.compile(optimizer=keras.optimizers.Adam(learning_rate=0.001, beta_1=0.9, beta_2=0.999), loss=[margin_loss, 'mse'], loss_weights=[1., 0.0005],\n",
        "                    metrics=['accuracy'])\n",
        "\n",
        "history= train_model.fit([x_train, y_train], [y_train, x_train], batch_size=m, epochs=epochs,\n",
        "                validation_data=([x_test, y_test], [y_test, x_test])\n",
        "                # , callbacks=[tensorboard_callback]\n",
        "                )\n"
      ]
    },
    {
      "cell_type": "code",
      "execution_count": null,
      "metadata": {
        "colab": {
          "base_uri": "https://localhost:8080/"
        },
        "id": "EtUsVvEaOm5a",
        "outputId": "4d3912ae-f494-4549-ac4f-203ab8e122b7"
      },
      "outputs": [
        {
          "output_type": "stream",
          "name": "stdout",
          "text": [
            "Test Loss: 0.0270\n",
            "Test Accuracy: 97.09%\n"
          ]
        }
      ],
      "source": [
        "evaluation_results = train_model.evaluate([x_test, y_test], [y_test, x_test], batch_size=m, verbose=0)\n",
        "# print(\"Test Loss:\", evaluation_results[0])\n",
        "# print(\"Test Accuracy:\", evaluation_results[3])\n",
        "\n",
        "test_loss = evaluation_results[1]\n",
        "test_accuracy = evaluation_results[3]\n",
        "\n",
        "print(f\"Test Loss: {test_loss:.4f}\")\n",
        "print(f\"Test Accuracy: {test_accuracy * 100:.2f}%\")\n"
      ]
    },
    {
      "cell_type": "code",
      "execution_count": null,
      "metadata": {
        "colab": {
          "base_uri": "https://localhost:8080/",
          "height": 430
        },
        "id": "through-poker",
        "outputId": "4f6e04e3-965b-47bb-fc72-04c8d119d570"
      },
      "outputs": [
        {
          "output_type": "display_data",
          "data": {
            "text/plain": [
              "<Figure size 640x480 with 1 Axes>"
            ],
            "image/png": "[encoded data removed]"
          },
          "metadata": {}
        }
      ],
      "source": [
        "plt.plot(history.history[\"capsnet_accuracy\"] , 'ro-' , label = \"CapsNet Training Accuracy\")\n",
        "plt.plot(history.history[\"val_capsnet_accuracy\"] , 'go-' , label = \"CapsNet Testing Accuracy\")\n",
        "plt.legend()\n",
        "plt.show()"
      ]
    },
    {
      "cell_type": "code",
      "execution_count": null,
      "metadata": {
        "colab": {
          "base_uri": "https://localhost:8080/",
          "height": 430
        },
        "id": "statewide-individual",
        "outputId": "a37caf3c-5b63-4a39-d747-da2c7d88b4c6"
      },
      "outputs": [
        {
          "output_type": "display_data",
          "data": {
            "text/plain": [
              "<Figure size 640x480 with 1 Axes>"
            ],
            "image/png": "[encoded data removed]"
          },
          "metadata": {}
        }
      ],
      "source": [
        "plt.plot(history.history[\"capsnet_loss\"] , 'ro-' , label = \"CapsNet Training Loss\")\n",
        "plt.plot(history.history[\"val_capsnet_loss\"] , 'go-' , label = \"CapsNet Testing Loss\")\n",
        "plt.legend()\n",
        "plt.show()"
      ]
    },
    {
      "cell_type": "code",
      "execution_count": null,
      "metadata": {
        "id": "VpIbIBddkBhf"
      },
      "outputs": [],
      "source": [
        "classes = {0: ('1','meningioma'),\n",
        "           1: ('2','glioma'),\n",
        "           2: ('3','pituitary')\n",
        "           }"
      ]
    },
    {
      "cell_type": "code",
      "execution_count": null,
      "metadata": {
        "colab": {
          "base_uri": "https://localhost:8080/"
        },
        "id": "a_W22XGGKnKT",
        "outputId": "400485a3-c9cf-4ae2-dc20-a016b985729b"
      },
      "outputs": [
        {
          "output_type": "stream",
          "name": "stdout",
          "text": [
            "(860,)\n"
          ]
        }
      ],
      "source": [
        "y_pred_list = train_model.predict([x_test, y_test], batch_size=m, verbose=0)  # Providing both image and label data\n",
        "y_pred_capsnet = y_pred_list[0]   # Getting the output from the capsnet layer\n",
        "y_pred_labels = np.argmax(y_pred_capsnet, axis=1)\n",
        "y_test_labels = np.argmax(y_test, axis=1)\n",
        "\n",
        "print(y_pred_labels.shape)\n"
      ]
    },
    {
      "cell_type": "code",
      "execution_count": null,
      "metadata": {
        "colab": {
          "base_uri": "https://localhost:8080/"
        },
        "id": "bzkENFKVjpto",
        "outputId": "5354047c-5e90-4256-cdfd-c8d1bc64f21a"
      },
      "outputs": [
        {
          "output_type": "stream",
          "name": "stdout",
          "text": [
            "                     precision    recall  f1-score   support\n",
            "\n",
            "('1', 'meningioma')       0.95      0.98      0.96       277\n",
            "    ('2', 'glioma')       0.97      0.95      0.96       297\n",
            " ('3', 'pituitary')       0.99      0.99      0.99       286\n",
            "\n",
            "           accuracy                           0.97       860\n",
            "          macro avg       0.97      0.97      0.97       860\n",
            "       weighted avg       0.97      0.97      0.97       860\n",
            "\n"
          ]
        }
      ],
      "source": [
        "target_names = [f\"{classes[i]}\" for i in range(3)]\n",
        "print(classification_report(y_test_labels, y_pred_labels, target_names=target_names))"
      ]
    },
    {
      "cell_type": "code",
      "execution_count": null,
      "metadata": {
        "id": "mO_qh8EZl8qZ",
        "colab": {
          "base_uri": "https://localhost:8080/",
          "height": 467
        },
        "outputId": "6ed3627c-a297-41ce-deda-5b75830d43cf"
      },
      "outputs": [
        {
          "output_type": "stream",
          "name": "stdout",
          "text": [
            "430/430 [==============================] - 2s 3ms/step\n",
            "A.I predicts: 1\n"
          ]
        },
        {
          "output_type": "display_data",
          "data": {
            "text/plain": [
              "<Figure size 640x480 with 1 Axes>"
            ],
            "image/png": "[encoded data removed]"
          },
          "metadata": {}
        }
      ],
      "source": [
        "from keras.models import Model\n",
        "simplified_model = Model(inputs=train_model.input, outputs=train_model.get_layer('capsnet').output)\n",
        "y_pred_capsnet = simplified_model.predict([x_test, y_test], batch_size=m)\n",
        "y_pred_labels = np.argmax(y_pred_capsnet, axis=1)\n",
        "\n",
        "X = 130\n",
        "\n",
        "# Preprocessing the image\n",
        "img_single = x_test[X]\n",
        "img_single_exp = np.expand_dims(img_single, 0)\n",
        "img_single_exp = img_single_exp.reshape(img_single_exp.shape[0], img_size, img_size, 3)\n",
        "\n",
        "# Ensure y_test is 2D (like one-hot encoded labels)\n",
        "if len(y_test.shape) != 2:\n",
        "    print(\"y_test doesn't have two dimensions. Please check its shape!\")\n",
        "else:\n",
        "    # Creating a dummy label to make a prediction since our model expects 2 inputs\n",
        "    dummy_label = np.zeros((1, y_test.shape[1]))\n",
        "\n",
        "    # Making the prediction for the single image\n",
        "    # predictions_list = train_model.predict([img_single_exp, dummy_label])\n",
        "\n",
        "\n",
        "    predictions_single = y_pred_labels[0]  # Extracting capsnet predictions\n",
        "\n",
        "        # Ensure the predicted category index doesn't exceed the categories list length\n",
        "    predicted_index = np.argmax(predictions_single)\n",
        "    if predicted_index >= len(categories):\n",
        "        print(\"Predicted index out of range for categories list!\")\n",
        "    else:\n",
        "        print('A.I predicts:', categories[predicted_index])\n",
        "\n",
        "# Visualizing the preprocessed image\n",
        "plt.imshow(np.squeeze(img_single_exp), cmap='gray')\n",
        "plt.grid(False)\n",
        "plt.show()\n"
      ]
    },
    {
      "cell_type": "code",
      "execution_count": null,
      "metadata": {
        "id": "cpA7vLLpgL0E",
        "colab": {
          "base_uri": "https://localhost:8080/"
        },
        "outputId": "78cc18f4-219e-4b60-deb0-d389189b23fb"
      },
      "outputs": [
        {
          "output_type": "stream",
          "name": "stdout",
          "text": [
            "430/430 [==============================] - 2s 3ms/step\n"
          ]
        }
      ],
      "source": [
        "from keras.models import Model\n",
        "simplified_model = Model(inputs=train_model.input, outputs=train_model.get_layer('capsnet').output)\n",
        "y_pred_capsnet = simplified_model.predict([x_test, y_test], batch_size=m)\n",
        "y_pred_labels = np.argmax(y_pred_capsnet, axis=1)\n",
        "\n"
      ]
    },
    {
      "cell_type": "code",
      "execution_count": null,
      "metadata": {
        "colab": {
          "base_uri": "https://localhost:8080/",
          "height": 431
        },
        "id": "YO55PPeenshy",
        "outputId": "4e19ca8b-df84-4940-f85a-39860c5ec763"
      },
      "outputs": [
        {
          "output_type": "display_data",
          "data": {
            "text/plain": [
              "<Figure size 500x400 with 2 Axes>"
            ],
            "image/png": "[encoded data removed]"
          },
          "metadata": {}
        }
      ],
      "source": [
        "from mlxtend.plotting import plot_confusion_matrix\n",
        "\n",
        "if y_test.shape[1] > 1:  # This checks if y_test is one-hot encoded\n",
        "    y_test_labels = np.argmax(y_test, axis=1)\n",
        "else:\n",
        "    y_test_labels = y_test\n",
        "from sklearn.metrics import confusion_matrix\n",
        "import seaborn as sns\n",
        "\n",
        "cm = confusion_matrix(y_test_labels, y_pred_labels)\n",
        "\n",
        "plt.figure(figsize=(5,4))\n",
        "sns.heatmap(cm, annot=True, fmt='g', cmap=plt.cm.Blues)\n",
        "plt.xlabel('Predicted')\n",
        "plt.ylabel('True')\n",
        "plt.xticks(range(3), ['meningioma', ' glioma', 'pituitary'], fontsize=10)\n",
        "plt.yticks(range(3), ['meningioma', ' glioma', 'pituitary'], fontsize=10)\n",
        "plt.show()\n"
      ]
    },
    {
      "cell_type": "code",
      "execution_count": null,
      "metadata": {
        "id": "twWzRWtKjDQy",
        "colab": {
          "base_uri": "https://localhost:8080/"
        },
        "outputId": "06291f9a-2781-448d-eb83-19ac022f1497"
      },
      "outputs": [
        {
          "output_type": "stream",
          "name": "stdout",
          "text": [
            "430/430 [==============================] - 3s 5ms/step\n"
          ]
        }
      ],
      "source": [
        "from sklearn.metrics import roc_curve, auc, roc_auc_score\n",
        "from keras.models import Model\n",
        "fpr = dict()\n",
        "tpr = dict()\n",
        "roc_auc = dict()\n",
        "\n",
        "simplified_model = Model(inputs=train_model.input, outputs=train_model.get_layer('capsnet').output)\n",
        "y_pred_capsnet = simplified_model.predict([x_test, y_test], batch_size=m).round()\n",
        "y_pred_labels = np.argmax(y_pred_capsnet, axis=1)\n",
        "\n",
        "Y_test_1hot = to_categorical(y_test).round()\n",
        "Y_train_1hot = to_categorical(y_train).round()\n",
        "\n",
        "fpr = dict()\n",
        "tpr = dict()\n",
        "roc_auc = dict()\n",
        "\n",
        "# Ensure y_test is one-hot encoded, if not, convert it\n",
        "if y_test.shape[1] <= 1:\n",
        "    print(\"y_test doesn't appear to be one-hot encoded. Please check its shape!\")\n",
        "else:\n",
        "    Y_test_1hot = y_test\n",
        "    for i in range(3):\n",
        "        fpr[i], tpr[i], _ = roc_curve(Y_test_1hot[:, i], y_pred_capsnet[:, i])\n",
        "        roc_auc[i] = auc(fpr[i], tpr[i])\n",
        "\n",
        "\n",
        "fpr[\"micro\"], tpr[\"micro\"], _ = roc_curve(Y_test_1hot.ravel(), y_pred_capsnet.ravel())\n",
        "roc_auc[\"micro\"] = auc(fpr[\"micro\"], tpr[\"micro\"])"
      ]
    },
    {
      "cell_type": "code",
      "source": [],
      "metadata": {
        "id": "8z8cmxSqcUMa"
      },
      "execution_count": null,
      "outputs": []
    },
    {
      "cell_type": "code",
      "execution_count": null,
      "metadata": {
        "colab": {
          "base_uri": "https://localhost:8080/",
          "height": 472
        },
        "id": "IZDN5ioBJq-b",
        "outputId": "e987e51d-edb4-4e8c-e3a3-b4320166a7a1"
      },
      "outputs": [
        {
          "output_type": "display_data",
          "data": {
            "text/plain": [
              "<Figure size 640x480 with 1 Axes>"
            ],
            "image/png": "[encoded data removed]"
          },
          "metadata": {}
        }
      ],
      "source": [
        "plt.figure()\n",
        "lw = 2\n",
        "plt.plot(fpr[2], tpr[2], color='darkorange',\n",
        "         lw=lw, label='ROC curve (area = %0.3f)' % roc_auc[2])\n",
        "plt.plot([0, 1], [0, 1], color='navy', lw=lw, linestyle='--')\n",
        "plt.xlim([0.0, 1.0])\n",
        "plt.ylim([0.0, 1.05])\n",
        "plt.xlabel('False Positive Rate')\n",
        "plt.ylabel('True Positive Rate')\n",
        "plt.title('Braib characteristic')\n",
        "plt.legend(loc=\"lower right\")\n",
        "plt.show()"
      ]
    }
  ],
  "metadata": {
    "accelerator": "GPU",
    "colab": {
      "gpuType": "T4",
      "machine_shape": "hm",
      "provenance": []
    },
    "kernelspec": {
      "display_name": "Python 3",
      "name": "python3"
    },
    "language_info": {
      "codemirror_mode": {
        "name": "ipython",
        "version": 3
      },
      "file_extension": ".py",
      "mimetype": "text/x-python",
      "name": "python",
      "nbconvert_exporter": "python",
      "pygments_lexer": "ipython3",
      "version": "3.7.1"
    }
  },
  "nbformat": 4,
  "nbformat_minor": 0
}