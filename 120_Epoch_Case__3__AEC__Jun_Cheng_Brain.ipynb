{
  "cells": [
    {
      "cell_type": "markdown",
      "metadata": {
        "id": "m6ykcRlRcFBT"
      },
      "source": [
        "# **AEC-CapsNet Brain Jun Cheng**"
      ]
    },
    {
      "cell_type": "markdown",
      "metadata": {
        "id": "mRJRH3ANRET4"
      },
      "source": [
        "# Importing libraries"
      ]
    },
    {
      "cell_type": "code",
      "execution_count": null,
      "metadata": {
        "id": "jqFbqwAsla8g",
        "colab": {
          "base_uri": "https://localhost:8080/"
        },
        "outputId": "4a9d9c65-3d36-4cf7-f960-fe45efbc0f4c"
      },
      "outputs": [
        {
          "output_type": "stream",
          "name": "stdout",
          "text": [
            "Collecting tensorflow==2.15.0\n",
            "  Downloading tensorflow-2.15.0-cp310-cp310-manylinux_2_17_x86_64.manylinux2014_x86_64.whl.metadata (4.4 kB)\n",
            "Requirement already satisfied: absl-py>=1.0.0 in /usr/local/lib/python3.10/dist-packages (from tensorflow==2.15.0) (1.4.0)\n",
            "Requirement already satisfied: astunparse>=1.6.0 in /usr/local/lib/python3.10/dist-packages (from tensorflow==2.15.0) (1.6.3)\n",
            "Requirement already satisfied: flatbuffers>=23.5.26 in /usr/local/lib/python3.10/dist-packages (from tensorflow==2.15.0) (24.3.25)\n",
            "Requirement already satisfied: gast!=0.5.0,!=0.5.1,!=0.5.2,>=0.2.1 in /usr/local/lib/python3.10/dist-packages (from tensorflow==2.15.0) (0.6.0)\n",
            "Requirement already satisfied: google-pasta>=0.1.1 in /usr/local/lib/python3.10/dist-packages (from tensorflow==2.15.0) (0.2.0)\n",
            "Requirement already satisfied: h5py>=2.9.0 in /usr/local/lib/python3.10/dist-packages (from tensorflow==2.15.0) (3.12.1)\n",
            "Requirement already satisfied: libclang>=13.0.0 in /usr/local/lib/python3.10/dist-packages (from tensorflow==2.15.0) (18.1.1)\n",
            "Collecting ml-dtypes~=0.2.0 (from tensorflow==2.15.0)\n",
            "  Downloading ml_dtypes-0.2.0-cp310-cp310-manylinux_2_17_x86_64.manylinux2014_x86_64.whl.metadata (20 kB)\n",
            "Requirement already satisfied: numpy<2.0.0,>=1.23.5 in /usr/local/lib/python3.10/dist-packages (from tensorflow==2.15.0) (1.26.4)\n",
            "Requirement already satisfied: opt-einsum>=2.3.2 in /usr/local/lib/python3.10/dist-packages (from tensorflow==2.15.0) (3.4.0)\n",
            "Requirement already satisfied: packaging in /usr/local/lib/python3.10/dist-packages (from tensorflow==2.15.0) (24.2)\n",
            "Requirement already satisfied: protobuf!=4.21.0,!=4.21.1,!=4.21.2,!=4.21.3,!=4.21.4,!=4.21.5,<5.0.0dev,>=3.20.3 in /usr/local/lib/python3.10/dist-packages (from tensorflow==2.15.0) (4.25.5)\n",
            "Requirement already satisfied: setuptools in /usr/local/lib/python3.10/dist-packages (from tensorflow==2.15.0) (75.1.0)\n",
            "Requirement already satisfied: six>=1.12.0 in /usr/local/lib/python3.10/dist-packages (from tensorflow==2.15.0) (1.17.0)\n",
            "Requirement already satisfied: termcolor>=1.1.0 in /usr/local/lib/python3.10/dist-packages (from tensorflow==2.15.0) (2.5.0)\n",
            "Requirement already satisfied: typing-extensions>=3.6.6 in /usr/local/lib/python3.10/dist-packages (from tensorflow==2.15.0) (4.12.2)\n",
            "Collecting wrapt<1.15,>=1.11.0 (from tensorflow==2.15.0)\n",
            "  Downloading wrapt-1.14.1-cp310-cp310-manylinux_2_5_x86_64.manylinux1_x86_64.manylinux_2_17_x86_64.manylinux2014_x86_64.whl.metadata (6.7 kB)\n",
            "Requirement already satisfied: tensorflow-io-gcs-filesystem>=0.23.1 in /usr/local/lib/python3.10/dist-packages (from tensorflow==2.15.0) (0.37.1)\n",
            "Requirement already satisfied: grpcio<2.0,>=1.24.3 in /usr/local/lib/python3.10/dist-packages (from tensorflow==2.15.0) (1.68.1)\n",
            "Collecting tensorboard<2.16,>=2.15 (from tensorflow==2.15.0)\n",
            "  Downloading tensorboard-2.15.2-py3-none-any.whl.metadata (1.7 kB)\n",
            "Collecting tensorflow-estimator<2.16,>=2.15.0 (from tensorflow==2.15.0)\n",
            "  Downloading tensorflow_estimator-2.15.0-py2.py3-none-any.whl.metadata (1.3 kB)\n",
            "Collecting keras<2.16,>=2.15.0 (from tensorflow==2.15.0)\n",
            "  Downloading keras-2.15.0-py3-none-any.whl.metadata (2.4 kB)\n",
            "Requirement already satisfied: wheel<1.0,>=0.23.0 in /usr/local/lib/python3.10/dist-packages (from astunparse>=1.6.0->tensorflow==2.15.0) (0.45.1)\n",
            "Requirement already satisfied: google-auth<3,>=1.6.3 in /usr/local/lib/python3.10/dist-packages (from tensorboard<2.16,>=2.15->tensorflow==2.15.0) (2.27.0)\n",
            "Requirement already satisfied: google-auth-oauthlib<2,>=0.5 in /usr/local/lib/python3.10/dist-packages (from tensorboard<2.16,>=2.15->tensorflow==2.15.0) (1.2.1)\n",
            "Requirement already satisfied: markdown>=2.6.8 in /usr/local/lib/python3.10/dist-packages (from tensorboard<2.16,>=2.15->tensorflow==2.15.0) (3.7)\n",
            "Requirement already satisfied: requests<3,>=2.21.0 in /usr/local/lib/python3.10/dist-packages (from tensorboard<2.16,>=2.15->tensorflow==2.15.0) (2.32.3)\n",
            "Requirement already satisfied: tensorboard-data-server<0.8.0,>=0.7.0 in /usr/local/lib/python3.10/dist-packages (from tensorboard<2.16,>=2.15->tensorflow==2.15.0) (0.7.2)\n",
            "Requirement already satisfied: werkzeug>=1.0.1 in /usr/local/lib/python3.10/dist-packages (from tensorboard<2.16,>=2.15->tensorflow==2.15.0) (3.1.3)\n",
            "Requirement already satisfied: cachetools<6.0,>=2.0.0 in /usr/local/lib/python3.10/dist-packages (from google-auth<3,>=1.6.3->tensorboard<2.16,>=2.15->tensorflow==2.15.0) (5.5.0)\n",
            "Requirement already satisfied: pyasn1-modules>=0.2.1 in /usr/local/lib/python3.10/dist-packages (from google-auth<3,>=1.6.3->tensorboard<2.16,>=2.15->tensorflow==2.15.0) (0.4.1)\n",
            "Requirement already satisfied: rsa<5,>=3.1.4 in /usr/local/lib/python3.10/dist-packages (from google-auth<3,>=1.6.3->tensorboard<2.16,>=2.15->tensorflow==2.15.0) (4.9)\n",
            "Requirement already satisfied: requests-oauthlib>=0.7.0 in /usr/local/lib/python3.10/dist-packages (from google-auth-oauthlib<2,>=0.5->tensorboard<2.16,>=2.15->tensorflow==2.15.0) (1.3.1)\n",
            "Requirement already satisfied: charset-normalizer<4,>=2 in /usr/local/lib/python3.10/dist-packages (from requests<3,>=2.21.0->tensorboard<2.16,>=2.15->tensorflow==2.15.0) (3.4.0)\n",
            "Requirement already satisfied: idna<4,>=2.5 in /usr/local/lib/python3.10/dist-packages (from requests<3,>=2.21.0->tensorboard<2.16,>=2.15->tensorflow==2.15.0) (3.10)\n",
            "Requirement already satisfied: urllib3<3,>=1.21.1 in /usr/local/lib/python3.10/dist-packages (from requests<3,>=2.21.0->tensorboard<2.16,>=2.15->tensorflow==2.15.0) (2.2.3)\n",
            "Requirement already satisfied: certifi>=2017.4.17 in /usr/local/lib/python3.10/dist-packages (from requests<3,>=2.21.0->tensorboard<2.16,>=2.15->tensorflow==2.15.0) (2024.12.14)\n",
            "Requirement already satisfied: MarkupSafe>=2.1.1 in /usr/local/lib/python3.10/dist-packages (from werkzeug>=1.0.1->tensorboard<2.16,>=2.15->tensorflow==2.15.0) (3.0.2)\n",
            "Requirement already satisfied: pyasn1<0.7.0,>=0.4.6 in /usr/local/lib/python3.10/dist-packages (from pyasn1-modules>=0.2.1->google-auth<3,>=1.6.3->tensorboard<2.16,>=2.15->tensorflow==2.15.0) (0.6.1)\n",
            "Requirement already satisfied: oauthlib>=3.0.0 in /usr/local/lib/python3.10/dist-packages (from requests-oauthlib>=0.7.0->google-auth-oauthlib<2,>=0.5->tensorboard<2.16,>=2.15->tensorflow==2.15.0) (3.2.2)\n",
            "Downloading tensorflow-2.15.0-cp310-cp310-manylinux_2_17_x86_64.manylinux2014_x86_64.whl (475.2 MB)\n",
            "\u001b[2K   \u001b[90m━━━━━━━━━━━━━━━━━━━━━━━━━━━━━━━━━━━━━━━━\u001b[0m \u001b[32m475.2/475.2 MB\u001b[0m \u001b[31m3.7 MB/s\u001b[0m eta \u001b[36m0:00:00\u001b[0m\n",
            "\u001b[?25hDownloading keras-2.15.0-py3-none-any.whl (1.7 MB)\n",
            "\u001b[2K   \u001b[90m━━━━━━━━━━━━━━━━━━━━━━━━━━━━━━━━━━━━━━━━\u001b[0m \u001b[32m1.7/1.7 MB\u001b[0m \u001b[31m53.1 MB/s\u001b[0m eta \u001b[36m0:00:00\u001b[0m\n",
            "\u001b[?25hDownloading ml_dtypes-0.2.0-cp310-cp310-manylinux_2_17_x86_64.manylinux2014_x86_64.whl (1.0 MB)\n",
            "\u001b[2K   \u001b[90m━━━━━━━━━━━━━━━━━━━━━━━━━━━━━━━━━━━━━━━━\u001b[0m \u001b[32m1.0/1.0 MB\u001b[0m \u001b[31m28.8 MB/s\u001b[0m eta \u001b[36m0:00:00\u001b[0m\n",
            "\u001b[?25hDownloading tensorboard-2.15.2-py3-none-any.whl (5.5 MB)\n",
            "\u001b[2K   \u001b[90m━━━━━━━━━━━━━━━━━━━━━━━━━━━━━━━━━━━━━━━━\u001b[0m \u001b[32m5.5/5.5 MB\u001b[0m \u001b[31m26.1 MB/s\u001b[0m eta \u001b[36m0:00:00\u001b[0m\n",
            "\u001b[?25hDownloading tensorflow_estimator-2.15.0-py2.py3-none-any.whl (441 kB)\n",
            "\u001b[2K   \u001b[90m━━━━━━━━━━━━━━━━━━━━━━━━━━━━━━━━━━━━━━━━\u001b[0m \u001b[32m442.0/442.0 kB\u001b[0m \u001b[31m17.2 MB/s\u001b[0m eta \u001b[36m0:00:00\u001b[0m\n",
            "\u001b[?25hDownloading wrapt-1.14.1-cp310-cp310-manylinux_2_5_x86_64.manylinux1_x86_64.manylinux_2_17_x86_64.manylinux2014_x86_64.whl (77 kB)\n",
            "\u001b[2K   \u001b[90m━━━━━━━━━━━━━━━━━━━━━━━━━━━━━━━━━━━━━━━━\u001b[0m \u001b[32m77.9/77.9 kB\u001b[0m \u001b[31m5.6 MB/s\u001b[0m eta \u001b[36m0:00:00\u001b[0m\n",
            "\u001b[?25hInstalling collected packages: wrapt, tensorflow-estimator, ml-dtypes, keras, tensorboard, tensorflow\n",
            "  Attempting uninstall: wrapt\n",
            "    Found existing installation: wrapt 1.17.0\n",
            "    Uninstalling wrapt-1.17.0:\n",
            "      Successfully uninstalled wrapt-1.17.0\n",
            "  Attempting uninstall: ml-dtypes\n",
            "    Found existing installation: ml-dtypes 0.4.1\n",
            "    Uninstalling ml-dtypes-0.4.1:\n",
            "      Successfully uninstalled ml-dtypes-0.4.1\n",
            "  Attempting uninstall: keras\n",
            "    Found existing installation: keras 3.5.0\n",
            "    Uninstalling keras-3.5.0:\n",
            "      Successfully uninstalled keras-3.5.0\n",
            "  Attempting uninstall: tensorboard\n",
            "    Found existing installation: tensorboard 2.17.1\n",
            "    Uninstalling tensorboard-2.17.1:\n",
            "      Successfully uninstalled tensorboard-2.17.1\n",
            "  Attempting uninstall: tensorflow\n",
            "    Found existing installation: tensorflow 2.17.1\n",
            "    Uninstalling tensorflow-2.17.1:\n",
            "      Successfully uninstalled tensorflow-2.17.1\n",
            "\u001b[31mERROR: pip's dependency resolver does not currently take into account all the packages that are installed. This behaviour is the source of the following dependency conflicts.\n",
            "tensorstore 0.1.71 requires ml_dtypes>=0.3.1, but you have ml-dtypes 0.2.0 which is incompatible.\n",
            "tf-keras 2.17.0 requires tensorflow<2.18,>=2.17, but you have tensorflow 2.15.0 which is incompatible.\u001b[0m\u001b[31m\n",
            "\u001b[0mSuccessfully installed keras-2.15.0 ml-dtypes-0.2.0 tensorboard-2.15.2 tensorflow-2.15.0 tensorflow-estimator-2.15.0 wrapt-1.14.1\n"
          ]
        }
      ],
      "source": [
        " !pip install tensorflow==2.15.0"
      ]
    },
    {
      "cell_type": "code",
      "execution_count": null,
      "metadata": {
        "id": "vl_-GAxdCqwl"
      },
      "outputs": [],
      "source": [
        "#!pip install tensorflow==2.14.0"
      ]
    },
    {
      "cell_type": "code",
      "execution_count": null,
      "metadata": {
        "colab": {
          "base_uri": "https://localhost:8080/"
        },
        "id": "YYCpfiwlB65J",
        "outputId": "2670500c-f380-4f7c-96b9-76df6897bc0f"
      },
      "outputs": [
        {
          "output_type": "stream",
          "name": "stdout",
          "text": [
            "2.15.0\n"
          ]
        }
      ],
      "source": [
        "import tensorflow as tf\n",
        "print(tf.__version__)\n"
      ]
    },
    {
      "cell_type": "code",
      "execution_count": null,
      "metadata": {
        "colab": {
          "base_uri": "https://localhost:8080/"
        },
        "id": "SaTWufzwbCFZ",
        "outputId": "336b31b9-23e1-46d6-9eca-ee00acc1e3e0"
      },
      "outputs": [
        {
          "output_type": "stream",
          "name": "stdout",
          "text": [
            "Mounted at /content/drive\n"
          ]
        }
      ],
      "source": [
        "#Mount drive\n",
        "from google.colab import drive\n",
        "drive.mount('/content/drive')"
      ]
    },
    {
      "cell_type": "code",
      "execution_count": null,
      "metadata": {
        "id": "283DRIIoRET-"
      },
      "outputs": [],
      "source": [
        "import pandas as pd\n",
        "import numpy as np\n",
        "import keras\n",
        "import tensorflow as tf\n",
        "import keras.layers as L\n",
        "import keras.models as M\n",
        "import keras.initializers as I\n",
        "import keras.backend as K\n",
        "from keras import optimizers\n",
        "from sklearn.model_selection import train_test_split\n",
        "from keras.utils import to_categorical\n",
        "import matplotlib.pyplot as plt\n",
        "import cv2,os\n",
        "from PIL import Image, ImageOps\n",
        "from google.colab.patches import cv2_imshow\n",
        "import csv\n",
        "import math\n",
        "from keras.utils import to_categorical\n",
        "from sklearn.metrics import confusion_matrix , classification_report,accuracy_score, ConfusionMatrixDisplay, recall_score\n",
        "from keras.layers import BatchNormalization\n"
      ]
    },
    {
      "cell_type": "code",
      "execution_count": null,
      "metadata": {
        "colab": {
          "base_uri": "https://localhost:8080/"
        },
        "id": "t3jOBOOQh35-",
        "outputId": "a257976c-b712-409f-9671-f5d6bbc26df0"
      },
      "outputs": [
        {
          "output_type": "stream",
          "name": "stdout",
          "text": [
            "['1', '3', '2']\n"
          ]
        }
      ],
      "source": [
        "data_path='/content/drive/MyDrive/Dataset/Jun Cheng Brain MRI dataset/'\n",
        "categories=os.listdir(data_path)\n",
        "\n",
        "print(categories)\n",
        "labels = ['1', '2', '3']\n",
        "label_dict = {label: i for i, label in enumerate(labels)}"
      ]
    },
    {
      "cell_type": "code",
      "execution_count": null,
      "metadata": {
        "id": "V2qBG9psy3ID"
      },
      "outputs": [],
      "source": [
        "img_size=65"
      ]
    },
    {
      "cell_type": "code",
      "execution_count": null,
      "metadata": {
        "colab": {
          "base_uri": "https://localhost:8080/"
        },
        "id": "YFDJJKB0Wnzm",
        "outputId": "f370af91-1df9-418c-c7fe-c4729a9648aa"
      },
      "outputs": [
        {
          "output_type": "stream",
          "name": "stdout",
          "text": [
            "data (3040, 65, 65, 3)\n",
            "label (3040,)\n"
          ]
        }
      ],
      "source": [
        "folder='/content/drive/MyDrive/Dataset/Jun Cheng Brain MRI dataset/'\n",
        "images = []\n",
        "img_labels = []\n",
        "for label in labels:\n",
        "    path = f\"{folder}/{label}\"\n",
        "    for filename in os.listdir(path):\n",
        "        # img = Image.open(os.path.join(path, filename)).convert('L')  # grayscale\n",
        "        img = Image.open(os.path.join(path, filename)).convert('RGB')\n",
        "        img = img.resize((img_size, img_size))\n",
        "        img = np.array(img)\n",
        "        if img is not None:\n",
        "            images.append(img)\n",
        "            img_labels.append(label_dict[label])\n",
        "data=np.array(images)\n",
        "label=np.array(img_labels)\n",
        "print('data', data.shape)\n",
        "print('label', label.shape)\n"
      ]
    },
    {
      "cell_type": "code",
      "execution_count": null,
      "metadata": {
        "colab": {
          "base_uri": "https://localhost:8080/",
          "height": 666
        },
        "id": "KhfPidCvrvNX",
        "outputId": "6ff2cb33-b348-4aa8-9282-8735275204ea"
      },
      "outputs": [
        {
          "output_type": "stream",
          "name": "stderr",
          "text": [
            "/usr/local/lib/python3.10/dist-packages/sklearn/utils/deprecation.py:151: FutureWarning: 'force_all_finite' was renamed to 'ensure_all_finite' in 1.6 and will be removed in 1.8.\n",
            "  warnings.warn(\n",
            "/usr/local/lib/python3.10/dist-packages/sklearn/base.py:484: FutureWarning: `BaseEstimator._check_n_features` is deprecated in 1.6 and will be removed in 1.7. Use `sklearn.utils.validation._check_n_features` instead.\n",
            "  warnings.warn(\n",
            "/usr/local/lib/python3.10/dist-packages/sklearn/base.py:493: FutureWarning: `BaseEstimator._check_feature_names` is deprecated in 1.6 and will be removed in 1.7. Use `sklearn.utils.validation._check_feature_names` instead.\n",
            "  warnings.warn(\n"
          ]
        },
        {
          "output_type": "stream",
          "name": "stdout",
          "text": [
            "Original dataset shape Counter({1: 1432, 2: 937, 0: 671})\n",
            "Resampled dataset shape Counter({0: 1432, 1: 1432, 2: 1432})\n"
          ]
        },
        {
          "output_type": "display_data",
          "data": {
            "text/plain": [
              "<Figure size 1200x500 with 2 Axes>"
            ],
            "image/png": "[encoded data removed]"
          },
          "metadata": {}
        }
      ],
      "source": [
        "from collections import Counter\n",
        "from imblearn.over_sampling import RandomOverSampler\n",
        "import seaborn as sns\n",
        "import matplotlib.pyplot as plt\n",
        "\n",
        "# Convert your data and label lists to numpy arrays\n",
        "data_np = np.array(data)\n",
        "label_np = np.array(label)\n",
        "\n",
        "# Reshape the data for oversampling\n",
        "data_reshaped = data_np.reshape(data_np.shape[0], -1)\n",
        "\n",
        "# Use RandomOverSampler for oversampling\n",
        "ros = RandomOverSampler(random_state=42)\n",
        "x_resampled, y_resampled = ros.fit_resample(data_reshaped, label_np)\n",
        "\n",
        "# Reshape the data to its original shape\n",
        "x_resampled = x_resampled.reshape(-1, img_size, img_size, 3)\n",
        "\n",
        "print(f\"Original dataset shape {Counter(label_np)}\")\n",
        "print(f\"Resampled dataset shape {Counter(y_resampled)}\")\n",
        "\n",
        "# Define the ordering for the x-axis labels\n",
        "order_labels = [0, 1, 2]\n",
        "class_names = ['meningioma', 'glioma', 'pituitary']\n",
        "\n",
        "plt.figure(figsize=(12, 5))\n",
        "\n",
        "plt.subplot(1, 2, 1)\n",
        "sns.countplot(x=label_np, order=order_labels)\n",
        "plt.title(\"Original Data Distribution\")\n",
        "plt.xlabel(\"Classes\")\n",
        "plt.ylabel(\"Frequency\")\n",
        "plt.xticks(ticks=order_labels, labels=class_names)  # Setting the x-axis tick labels\n",
        "\n",
        "\n",
        "# Plot the resampled data distribution\n",
        "plt.subplot(1, 2, 2)\n",
        "sns.countplot(x=y_resampled, order=order_labels)\n",
        "plt.title(\"Resampled Data Distribution\")\n",
        "plt.xlabel(\"Classes\")\n",
        "plt.ylabel(\"Frequency\")\n",
        "plt.xticks(ticks=order_labels, labels=class_names)  # Setting the x-axis tick labels\n",
        "\n",
        "plt.tight_layout()\n",
        "plt.show()\n"
      ]
    },
    {
      "cell_type": "code",
      "execution_count": null,
      "metadata": {
        "id": "pfsy7kzdhg7L"
      },
      "outputs": [],
      "source": [
        "# data =np.array(data)\n",
        "# label=np.array(label)"
      ]
    },
    {
      "cell_type": "code",
      "execution_count": null,
      "metadata": {
        "colab": {
          "base_uri": "https://localhost:8080/"
        },
        "id": "yWIo27ngMqCL",
        "outputId": "4ed1f0c9-f466-40c0-eb66-bccca1c8728c"
      },
      "outputs": [
        {
          "output_type": "stream",
          "name": "stdout",
          "text": [
            "(3436, 65, 65, 3)\n"
          ]
        }
      ],
      "source": [
        "X_train, X_test, y_train, y_test = train_test_split(x_resampled, y_resampled, test_size=0.2, random_state=42)\n",
        "# X_train, X_test, y_train, y_test = train_test_split(data, label, test_size=0.2, random_state=42)\n",
        "x_train = X_train.astype('float32') / 255.\n",
        "x_train = x_train.reshape(-1, img_size, img_size, 3)\n",
        "y_train = np.array(to_categorical(y_train.astype('float32')))\n",
        "\n",
        "x_test = X_test.astype('float32') / 255.\n",
        "x_test = x_test.reshape(-1, img_size, img_size, 3)\n",
        "y_test = np.array(to_categorical(y_test.astype('float32')))\n",
        "print(x_train.shape)\n"
      ]
    },
    {
      "cell_type": "code",
      "execution_count": null,
      "metadata": {
        "colab": {
          "base_uri": "https://localhost:8080/"
        },
        "id": "cRjVnx3IygSc",
        "outputId": "081447d2-edcf-4bd3-d7a6-d765337a9848"
      },
      "outputs": [
        {
          "output_type": "stream",
          "name": "stdout",
          "text": [
            "[1, 2, 4, 859, 1718, 3436]\n"
          ]
        }
      ],
      "source": [
        "#Define the range of batch size for network\n",
        "def find_factors(n):\n",
        "    factors = []\n",
        "    for i in range(1, n + 1):\n",
        "        if n % i == 0:\n",
        "            factors.append(i)\n",
        "    return factors\n",
        "\n",
        "\n",
        "print(find_factors(x_train.shape[0]))"
      ]
    },
    {
      "cell_type": "code",
      "execution_count": null,
      "metadata": {
        "id": "rQmFQ_eI2nfC"
      },
      "outputs": [],
      "source": [
        "# Makign the squash function\n",
        "def squash(vectors, axis=-1):\n",
        "    squared_norm = K.sum(K.square(vectors), axis, keepdims=True)\n",
        "    scale = squared_norm / (1 + squared_norm) / (K.sqrt(squared_norm) + K.epsilon())\n",
        "    return scale * vectors"
      ]
    },
    {
      "cell_type": "code",
      "execution_count": null,
      "metadata": {
        "id": "eSjA995S2vFR"
      },
      "outputs": [],
      "source": [
        "# Making capsule layer from scratch\n",
        "class CapsuleLayer(L.Layer):\n",
        "    def __init__(self, num_capsule, dim_capsule, routing=3, kernel_initializer='glorot_uniform', **kwargs):\n",
        "        super(CapsuleLayer, self).__init__(**kwargs)\n",
        "        self.num_capsule = num_capsule\n",
        "        self.dim_capsule = dim_capsule\n",
        "        self.routing = routing\n",
        "        self.kernel_initializer = kernel_initializer\n",
        "\n",
        "    def build(self, input_shape):\n",
        "        assert len(input_shape) >= 3\n",
        "        self.input_num_capsule = input_shape[1]\n",
        "        self.input_dim_capsule = input_shape[2]\n",
        "\n",
        "        # transforming the matrix\n",
        "        self.W = self.add_weight(\n",
        "            shape=[self.num_capsule, self.input_num_capsule, self.dim_capsule, self.input_dim_capsule],\n",
        "            initializer=self.kernel_initializer, name='w')\n",
        "        self.built = True\n",
        "\n",
        "    def call(self, inputs, training=None):\n",
        "        input_expand = tf.expand_dims(tf.expand_dims(inputs, 1), -1)\n",
        "        inputs_tiled = K.tile(input_expand, [1, self.num_capsule, 1, 1, 1])\n",
        "        input_hat = tf.squeeze(tf.map_fn(lambda x: tf.matmul(self.W, x), elems=inputs_tiled))\n",
        "        # b = tf.zeros(shape=[inputs.shape[0], self.num_capsule, 1, self.input_num_capsule])\n",
        "        b = tf.zeros(shape=[tf.shape(inputs)[0], self.num_capsule, 1, self.input_num_capsule])\n",
        "\n",
        "        assert self.routing > 0\n",
        "        for i in range(self.routing):\n",
        "            c = tf.nn.softmax(b, axis=1)\n",
        "            output = squash(tf.matmul(c, input_hat))\n",
        "            if i < self.routing - 1:\n",
        "                b += tf.matmul(output, input_hat, transpose_b=True)\n",
        "        return tf.squeeze(output)\n",
        "\n",
        "    def compute_output_shape(self, input_shape):\n",
        "        return tuple([None, self.num_capsule, self.dim_capsule])\n",
        "\n",
        "    def get_config(self):\n",
        "        config = {\n",
        "            'num_capsule': self.num_capsule,\n",
        "            'dim_capsule': self.dim_capsule,\n",
        "            'routings': self.routings\n",
        "        }\n",
        "        base_config = super(CapsuleLayer, self).get_config()\n",
        "        return dict(list(base_config.items()) + list(config.items()))"
      ]
    },
    {
      "cell_type": "code",
      "execution_count": null,
      "metadata": {
        "id": "tMzv19ToEpea"
      },
      "outputs": [],
      "source": [
        "\n",
        "from keras.src.layers import MaxPooling2D\n",
        "from keras.src.layers.regularization.dropout import Dropout\n",
        "batch_size = 2\n",
        "\n",
        "img_shape = (img_size, img_size, 3)\n",
        "\n",
        "# # Define a custom input layer with a hardcoded batch size\n",
        "input_layer = L.Input(batch_shape=(batch_size,) + img_shape)\n",
        "\n",
        "\n",
        "from keras.layers import DepthwiseConv2D, GlobalAveragePooling2D, Reshape, Multiply\n",
        "\n",
        "def powerfeature(input_layer, num_layers, expansion_factor, reduction_factor=0.9):\n",
        "\n",
        "    x = L.Conv2D(64, (3, 3), activation='relu', kernel_initializer='he_normal', padding='same')(input_layer)\n",
        "    x = L.Dropout(0.2)(x)\n",
        "    x = L.Conv2D(64, (3, 3), activation='relu', kernel_initializer='he_normal', padding='same')(x)\n",
        "    x = L.MaxPooling2D((2, 2))(x)\n",
        "\n",
        "    x = L.Conv2D(128, (3, 3), activation='relu', kernel_initializer='he_normal', padding='same')(x)\n",
        "    x = L.Dropout(0.3)(x)\n",
        "    x = L.Conv2D(128, (3, 3), activation='relu', kernel_initializer='he_normal', padding='same')(x)\n",
        "    x = L.MaxPooling2D((2, 2))(x)\n",
        "\n",
        "\n",
        "    for _ in range(num_layers):\n",
        "        x1 = L.Conv2D(2 * expansion_factor, (3, 3), kernel_initializer='he_normal', padding='same')(x)\n",
        "        x1 = L.Dropout(0.2)(x1)\n",
        "        x1 = L.Conv2D(expansion_factor, (3, 3), kernel_initializer='he_normal', padding='same')(x1)\n",
        "        x = L.Concatenate()([x, x1])\n",
        "\n",
        "\n",
        "    # Attention Mechanism\n",
        "    attention = GlobalAveragePooling2D()(x)\n",
        "    attention = Reshape((1, 1, K.int_shape(x)[-1]))(attention)\n",
        "    attention = L.Conv2D(K.int_shape(x)[-1] // 16, (3,3), activation='relu', kernel_initializer='he_normal', padding='same')(attention)\n",
        "    attention = L.Conv2D(K.int_shape(x)[-1], (3,3), activation='relu', kernel_initializer='he_normal', padding='same')(attention)\n",
        "    x = Multiply()([x, attention])\n",
        "\n",
        "\n",
        " # Transition Mechanism\n",
        "    contracted_filters = int(K.int_shape(x)[-1] * reduction_factor)\n",
        "\n",
        "    x = L.Conv2D(contracted_filters, (3, 3), kernel_initializer='he_normal', padding='same')(x)\n",
        "    x = L.Dropout(0.5)(x)\n",
        "    x = L.Conv2D(contracted_filters, (3, 3), kernel_initializer='he_normal', padding='same')(x)\n",
        "    x = L.MaxPooling2D((2, 2))(x)\n",
        "\n",
        "    return x\n",
        "\n",
        "\n",
        "x = powerfeature(input_layer,num_layers=2, expansion_factor=4)\n",
        "\n",
        "\n",
        "\n",
        "#Primary Capsule Layer\n",
        "conv2 = L.Conv2D(filters=8 * 16, kernel_size=(3, 3), strides=(2, 2), padding='same')(x)\n",
        "reshape2 = L.Reshape([-1, 8])(conv2)  # Reduce dimensions here\n",
        "squashed_output = L.Lambda(squash)(reshape2)\n"
      ]
    },
    {
      "cell_type": "code",
      "execution_count": null,
      "metadata": {
        "id": "YYVJEJLK2zkQ"
      },
      "outputs": [],
      "source": [
        "braincaps = CapsuleLayer(num_capsule=3, dim_capsule=8, routing=3, name='braincaps')(squashed_output)"
      ]
    },
    {
      "cell_type": "code",
      "execution_count": null,
      "metadata": {
        "id": "8hLcnT7E2198"
      },
      "outputs": [],
      "source": [
        "# Making length layer which will calculate the length of the vectors\n",
        "class Length(L.Layer):\n",
        "    def call(self, inputs, **kwargs):\n",
        "        return tf.sqrt(tf.reduce_sum(tf.square(inputs), -1))\n",
        "\n",
        "    def compute_output_shape(self, input_shape):\n",
        "        return input_shape[:-1]\n",
        "\n",
        "    def get_config(self):\n",
        "        config = super(Length, self).get_config()\n",
        "        return config\n"
      ]
    },
    {
      "cell_type": "code",
      "execution_count": null,
      "metadata": {
        "id": "XsBv1LhL255V"
      },
      "outputs": [],
      "source": [
        "# Layer 4: This is an auxiliary layer to replace each capsule with its length. Just to match the true label's shape.\n",
        "# If using tensorflow, this will not be necessary. :)\n",
        "out_caps = Length(name='capsnet')(braincaps)"
      ]
    },
    {
      "cell_type": "code",
      "execution_count": null,
      "metadata": {
        "id": "66Gkk4uW28NV"
      },
      "outputs": [],
      "source": [
        "# Making the masking layer\n",
        "class Mask(L.Layer):\n",
        "    def call(self, inputs, **kwargs):\n",
        "        if type(inputs) is list:\n",
        "            assert len(inputs) == 2\n",
        "            inputs, mask = inputs\n",
        "        else:\n",
        "            x = tf.sqrt(tf.reduce_sum(tf.square(inputs), -1))\n",
        "            mask = tf.one_hot(indices=tf.argmax(x, 1), depth=x.shape[1])\n",
        "        masked = K.batch_flatten(inputs * tf.expand_dims(mask, -1))\n",
        "        return masked\n",
        "\n",
        "    def compute_output_shape(self, input_shape):\n",
        "        if type(input_shape[0]) is tuple:  # true label provided\n",
        "            return tuple([None, input_shape[0][1] * input_shape[0][2]])\n",
        "        else:  # no true label provided\n",
        "            return tuple([None, input_shape[1] * input_shape[2]])\n",
        "\n",
        "    def get_config(self):\n",
        "        config = super(Mask, self).get_config()\n",
        "        return config"
      ]
    },
    {
      "cell_type": "code",
      "execution_count": null,
      "metadata": {
        "colab": {
          "base_uri": "https://localhost:8080/"
        },
        "id": "iTdeWoNC3ANO",
        "outputId": "28d29374-3bd1-41e5-bdbd-d6afa416ffb8"
      },
      "outputs": [
        {
          "output_type": "stream",
          "name": "stdout",
          "text": [
            "(None, 3)\n",
            "(2, 3, 8)\n",
            "(2, 24)\n",
            "(2, 24)\n"
          ]
        }
      ],
      "source": [
        "y = L.Input(shape=(3,))\n",
        "print(y.shape)\n",
        "print(braincaps.shape)\n",
        "masked_by_y = Mask()([braincaps, y])  # The true label is used to mask the output of capsule layer. For training\n",
        "print(masked_by_y.shape)\n",
        "masked = Mask()(braincaps)\n",
        "print(masked.shape)"
      ]
    },
    {
      "cell_type": "code",
      "execution_count": null,
      "metadata": {
        "id": "mF-ZO0HM3H3E"
      },
      "outputs": [],
      "source": [
        "input_shape = x_train.shape[1:]\n",
        "decoder = M.Sequential(name='decoder')\n",
        "decoder.add(L.Dense(512, activation='relu', input_dim=8 * 3))\n",
        "decoder.add(L.Dense(1024, activation='relu'))\n",
        "decoder.add(L.Dense(img_size * img_size * 3, activation='softmax'))\n",
        "decoder.add(L.Reshape(target_shape=input_shape, name='out_recon'))\n"
      ]
    },
    {
      "cell_type": "code",
      "execution_count": null,
      "metadata": {
        "id": "t8oX42aK3IkE"
      },
      "outputs": [],
      "source": [
        "# Making models\n",
        "train_model = M.Model([input_layer, y], [out_caps, decoder(masked_by_y)])\n",
        "eval_model = M.Model(input_layer, [out_caps, decoder(masked)])"
      ]
    },
    {
      "cell_type": "code",
      "execution_count": null,
      "metadata": {
        "id": "3PFKjgTb3LCH"
      },
      "outputs": [],
      "source": [
        "# Making the loss function\n",
        "def margin_loss(y_true, y_pred):\n",
        "    L = y_true * tf.square(tf.maximum(0., 0.9 - y_pred)) + \\\n",
        "        0.5 * (1 - y_true) * tf.square(tf.maximum(0., y_pred - 0.1))\n",
        "    return tf.reduce_mean(tf.reduce_sum(L, 1))"
      ]
    },
    {
      "cell_type": "code",
      "execution_count": null,
      "metadata": {
        "colab": {
          "base_uri": "https://localhost:8080/"
        },
        "id": "h7OIvuRA3P56",
        "outputId": "ec5d96b3-ae75-454b-c8ba-9a84895cbc22"
      },
      "outputs": [
        {
          "output_type": "stream",
          "name": "stdout",
          "text": [
            "Model: \"model\"\n",
            "__________________________________________________________________________________________________\n",
            " Layer (type)                Output Shape                 Param #   Connected to                  \n",
            "==================================================================================================\n",
            " input_1 (InputLayer)        [(2, 65, 65, 3)]             0         []                            \n",
            "                                                                                                  \n",
            " conv2d (Conv2D)             (2, 65, 65, 64)              1792      ['input_1[0][0]']             \n",
            "                                                                                                  \n",
            " dropout (Dropout)           (2, 65, 65, 64)              0         ['conv2d[0][0]']              \n",
            "                                                                                                  \n",
            " conv2d_1 (Conv2D)           (2, 65, 65, 64)              36928     ['dropout[0][0]']             \n",
            "                                                                                                  \n",
            " max_pooling2d (MaxPooling2  (2, 32, 32, 64)              0         ['conv2d_1[0][0]']            \n",
            " D)                                                                                               \n",
            "                                                                                                  \n",
            " conv2d_2 (Conv2D)           (2, 32, 32, 128)             73856     ['max_pooling2d[0][0]']       \n",
            "                                                                                                  \n",
            " dropout_1 (Dropout)         (2, 32, 32, 128)             0         ['conv2d_2[0][0]']            \n",
            "                                                                                                  \n",
            " conv2d_3 (Conv2D)           (2, 32, 32, 128)             147584    ['dropout_1[0][0]']           \n",
            "                                                                                                  \n",
            " max_pooling2d_1 (MaxPoolin  (2, 16, 16, 128)             0         ['conv2d_3[0][0]']            \n",
            " g2D)                                                                                             \n",
            "                                                                                                  \n",
            " conv2d_4 (Conv2D)           (2, 16, 16, 8)               9224      ['max_pooling2d_1[0][0]']     \n",
            "                                                                                                  \n",
            " dropout_2 (Dropout)         (2, 16, 16, 8)               0         ['conv2d_4[0][0]']            \n",
            "                                                                                                  \n",
            " conv2d_5 (Conv2D)           (2, 16, 16, 4)               292       ['dropout_2[0][0]']           \n",
            "                                                                                                  \n",
            " concatenate (Concatenate)   (2, 16, 16, 132)             0         ['max_pooling2d_1[0][0]',     \n",
            "                                                                     'conv2d_5[0][0]']            \n",
            "                                                                                                  \n",
            " conv2d_6 (Conv2D)           (2, 16, 16, 8)               9512      ['concatenate[0][0]']         \n",
            "                                                                                                  \n",
            " dropout_3 (Dropout)         (2, 16, 16, 8)               0         ['conv2d_6[0][0]']            \n",
            "                                                                                                  \n",
            " conv2d_7 (Conv2D)           (2, 16, 16, 4)               292       ['dropout_3[0][0]']           \n",
            "                                                                                                  \n",
            " concatenate_1 (Concatenate  (2, 16, 16, 136)             0         ['concatenate[0][0]',         \n",
            " )                                                                   'conv2d_7[0][0]']            \n",
            "                                                                                                  \n",
            " global_average_pooling2d (  (2, 136)                     0         ['concatenate_1[0][0]']       \n",
            " GlobalAveragePooling2D)                                                                          \n",
            "                                                                                                  \n",
            " reshape (Reshape)           (2, 1, 1, 136)               0         ['global_average_pooling2d[0][\n",
            "                                                                    0]']                          \n",
            "                                                                                                  \n",
            " conv2d_8 (Conv2D)           (2, 1, 1, 8)                 9800      ['reshape[0][0]']             \n",
            "                                                                                                  \n",
            " conv2d_9 (Conv2D)           (2, 1, 1, 136)               9928      ['conv2d_8[0][0]']            \n",
            "                                                                                                  \n",
            " multiply (Multiply)         (2, 16, 16, 136)             0         ['concatenate_1[0][0]',       \n",
            "                                                                     'conv2d_9[0][0]']            \n",
            "                                                                                                  \n",
            " conv2d_10 (Conv2D)          (2, 16, 16, 122)             149450    ['multiply[0][0]']            \n",
            "                                                                                                  \n",
            " dropout_4 (Dropout)         (2, 16, 16, 122)             0         ['conv2d_10[0][0]']           \n",
            "                                                                                                  \n",
            " conv2d_11 (Conv2D)          (2, 16, 16, 122)             134078    ['dropout_4[0][0]']           \n",
            "                                                                                                  \n",
            " max_pooling2d_2 (MaxPoolin  (2, 8, 8, 122)               0         ['conv2d_11[0][0]']           \n",
            " g2D)                                                                                             \n",
            "                                                                                                  \n",
            " conv2d_12 (Conv2D)          (2, 4, 4, 128)               140672    ['max_pooling2d_2[0][0]']     \n",
            "                                                                                                  \n",
            " reshape_1 (Reshape)         (2, 256, 8)                  0         ['conv2d_12[0][0]']           \n",
            "                                                                                                  \n",
            " lambda (Lambda)             (2, 256, 8)                  0         ['reshape_1[0][0]']           \n",
            "                                                                                                  \n",
            " heelcaps (CapsuleLayer)     (2, 3, 8)                    49152     ['lambda[0][0]']              \n",
            "                                                                                                  \n",
            " input_2 (InputLayer)        [(None, 3)]                  0         []                            \n",
            "                                                                                                  \n",
            " mask (Mask)                 (2, 24)                      0         ['heelcaps[0][0]',            \n",
            "                                                                     'input_2[0][0]']             \n",
            "                                                                                                  \n",
            " capsnet (Length)            (2, 3)                       0         ['heelcaps[0][0]']            \n",
            "                                                                                                  \n",
            " decoder (Sequential)        (None, 65, 65, 3)            1352998   ['mask[0][0]']                \n",
            "                                                          7                                       \n",
            "                                                                                                  \n",
            "==================================================================================================\n",
            "Total params: 14302547 (54.56 MB)\n",
            "Trainable params: 14302547 (54.56 MB)\n",
            "Non-trainable params: 0 (0.00 Byte)\n",
            "__________________________________________________________________________________________________\n"
          ]
        }
      ],
      "source": [
        "train_model.summary()"
      ]
    },
    {
      "cell_type": "code",
      "execution_count": null,
      "metadata": {
        "id": "GWIlgOnjzdhT"
      },
      "outputs": [],
      "source": [
        "train_model.save_weights('/content/drive/MyDrive/models/NewBrain2_ACTCAPSNET_model.weights.h5')\n",
        "train_model.load_weights('/content/drive/MyDrive/models/NewBrain2_ACTCAPSNET_model.weights.h5')\n"
      ]
    },
    {
      "cell_type": "code",
      "execution_count": null,
      "metadata": {
        "id": "Rx7H3E783WfF"
      },
      "outputs": [],
      "source": [
        "n_samples = 5"
      ]
    },
    {
      "cell_type": "code",
      "execution_count": null,
      "metadata": {
        "id": "rdniU6893YnS"
      },
      "outputs": [],
      "source": [
        "# plt.figure(figsize=(n_samples * 2, 3))\n",
        "# for index in range(n_samples):\n",
        "#     plt.subplot(1, n_samples, index + 1)\n",
        "#     sample_image = x_test[index]\n",
        "#     plt.imshow(sample_image, cmap=\"binary\")\n",
        "#     plt.title(\"Label:\" + str(y_test[index]))\n",
        "#     plt.axis(\"off\")\n",
        "\n",
        "# plt.show()"
      ]
    },
    {
      "cell_type": "code",
      "execution_count": null,
      "metadata": {
        "id": "WHyvs0QG3bV-"
      },
      "outputs": [],
      "source": [
        "m = batch_size\n",
        "epochs = 120\n",
        "# Using EarlyStopping, end training when val_accuracy is not improved for 10 consecutive times\n",
        "early_stopping = keras.callbacks.EarlyStopping(monitor='val_capsnet_accuracy', mode='max',\n",
        "                                               patience=2, restore_best_weights=True)\n"
      ]
    },
    {
      "cell_type": "code",
      "execution_count": null,
      "metadata": {
        "colab": {
          "base_uri": "https://localhost:8080/"
        },
        "id": "6eDzzIMj5v8J",
        "outputId": "39de5515-eb5f-4580-853a-7fc47da3ce27"
      },
      "outputs": [
        {
          "output_type": "stream",
          "name": "stdout",
          "text": [
            "(3436, 65, 65, 3)\n",
            "(3436, 3)\n",
            "(860, 65, 65, 3)\n",
            "(860, 3)\n"
          ]
        }
      ],
      "source": [
        "print(x_train.shape)  # should be (num_samples, 28, 28, 1) or something similar\n",
        "print(y_train.shape)  # should be (num_samples, 3) given your model summary\n",
        "print(x_test.shape)   # should be (num_test_samples, 28, 28, 1) or similar\n",
        "print(y_test.shape)   # should be (num_test_samples, 3)\n"
      ]
    },
    {
      "cell_type": "code",
      "execution_count": null,
      "metadata": {
        "colab": {
          "base_uri": "https://localhost:8080/"
        },
        "id": "k5t0yhoE3fY9",
        "outputId": "81ae1f8f-13ba-414e-a956-03c784d05de3"
      },
      "outputs": [
        {
          "output_type": "stream",
          "name": "stdout",
          "text": [
            "Epoch 1/120\n",
            "1718/1718 [==============================] - 44s 17ms/step - loss: 0.1931 - capsnet_loss: 0.1931 - decoder_loss: 0.1131 - capsnet_accuracy: 0.7145 - decoder_accuracy: 0.3342 - val_loss: 0.1728 - val_capsnet_loss: 0.1728 - val_decoder_loss: 0.1129 - val_capsnet_accuracy: 0.7570 - val_decoder_accuracy: 0.3346\n",
            "Epoch 2/120\n",
            "1718/1718 [==============================] - 25s 15ms/step - loss: 0.1255 - capsnet_loss: 0.1254 - decoder_loss: 0.1131 - capsnet_accuracy: 0.8405 - decoder_accuracy: 0.3352 - val_loss: 0.1336 - val_capsnet_loss: 0.1335 - val_decoder_loss: 0.1129 - val_capsnet_accuracy: 0.8326 - val_decoder_accuracy: 0.3350\n",
            "Epoch 3/120\n",
            "1718/1718 [==============================] - 25s 14ms/step - loss: 0.0967 - capsnet_loss: 0.0967 - decoder_loss: 0.1131 - capsnet_accuracy: 0.8801 - decoder_accuracy: 0.3356 - val_loss: 0.1376 - val_capsnet_loss: 0.1375 - val_decoder_loss: 0.1129 - val_capsnet_accuracy: 0.8477 - val_decoder_accuracy: 0.3346\n",
            "Epoch 4/120\n",
            "1718/1718 [==============================] - 26s 15ms/step - loss: 0.0820 - capsnet_loss: 0.0819 - decoder_loss: 0.1131 - capsnet_accuracy: 0.9022 - decoder_accuracy: 0.3360 - val_loss: 0.1063 - val_capsnet_loss: 0.1062 - val_decoder_loss: 0.1129 - val_capsnet_accuracy: 0.8593 - val_decoder_accuracy: 0.3353\n",
            "Epoch 5/120\n",
            "1718/1718 [==============================] - 26s 15ms/step - loss: 0.0713 - capsnet_loss: 0.0712 - decoder_loss: 0.1131 - capsnet_accuracy: 0.9179 - decoder_accuracy: 0.3359 - val_loss: 0.0725 - val_capsnet_loss: 0.0725 - val_decoder_loss: 0.1129 - val_capsnet_accuracy: 0.9198 - val_decoder_accuracy: 0.3368\n",
            "Epoch 6/120\n",
            "1718/1718 [==============================] - 26s 15ms/step - loss: 0.0560 - capsnet_loss: 0.0559 - decoder_loss: 0.1131 - capsnet_accuracy: 0.9459 - decoder_accuracy: 0.3369 - val_loss: 0.0622 - val_capsnet_loss: 0.0622 - val_decoder_loss: 0.1129 - val_capsnet_accuracy: 0.9349 - val_decoder_accuracy: 0.3365\n",
            "Epoch 7/120\n",
            "1718/1718 [==============================] - 26s 15ms/step - loss: 0.0503 - capsnet_loss: 0.0503 - decoder_loss: 0.1131 - capsnet_accuracy: 0.9587 - decoder_accuracy: 0.3372 - val_loss: 0.0660 - val_capsnet_loss: 0.0660 - val_decoder_loss: 0.1129 - val_capsnet_accuracy: 0.9372 - val_decoder_accuracy: 0.3381\n",
            "Epoch 8/120\n",
            "1718/1718 [==============================] - 27s 15ms/step - loss: 0.0418 - capsnet_loss: 0.0418 - decoder_loss: 0.1131 - capsnet_accuracy: 0.9677 - decoder_accuracy: 0.3382 - val_loss: 0.0511 - val_capsnet_loss: 0.0511 - val_decoder_loss: 0.1129 - val_capsnet_accuracy: 0.9453 - val_decoder_accuracy: 0.3391\n",
            "Epoch 9/120\n",
            "1718/1718 [==============================] - 24s 14ms/step - loss: 0.0351 - capsnet_loss: 0.0350 - decoder_loss: 0.1131 - capsnet_accuracy: 0.9741 - decoder_accuracy: 0.3389 - val_loss: 0.0490 - val_capsnet_loss: 0.0490 - val_decoder_loss: 0.1129 - val_capsnet_accuracy: 0.9500 - val_decoder_accuracy: 0.3400\n",
            "Epoch 10/120\n",
            "1718/1718 [==============================] - 26s 15ms/step - loss: 0.0303 - capsnet_loss: 0.0302 - decoder_loss: 0.1131 - capsnet_accuracy: 0.9814 - decoder_accuracy: 0.3395 - val_loss: 0.0449 - val_capsnet_loss: 0.0448 - val_decoder_loss: 0.1129 - val_capsnet_accuracy: 0.9488 - val_decoder_accuracy: 0.3403\n",
            "Epoch 11/120\n",
            "1718/1718 [==============================] - 27s 16ms/step - loss: 0.0299 - capsnet_loss: 0.0299 - decoder_loss: 0.1131 - capsnet_accuracy: 0.9782 - decoder_accuracy: 0.3404 - val_loss: 0.0490 - val_capsnet_loss: 0.0490 - val_decoder_loss: 0.1129 - val_capsnet_accuracy: 0.9616 - val_decoder_accuracy: 0.3407\n",
            "Epoch 12/120\n",
            "1718/1718 [==============================] - 27s 16ms/step - loss: 0.0266 - capsnet_loss: 0.0266 - decoder_loss: 0.1131 - capsnet_accuracy: 0.9857 - decoder_accuracy: 0.3413 - val_loss: 0.0449 - val_capsnet_loss: 0.0449 - val_decoder_loss: 0.1129 - val_capsnet_accuracy: 0.9535 - val_decoder_accuracy: 0.3418\n",
            "Epoch 13/120\n",
            "1718/1718 [==============================] - 26s 15ms/step - loss: 0.0217 - capsnet_loss: 0.0217 - decoder_loss: 0.1131 - capsnet_accuracy: 0.9895 - decoder_accuracy: 0.3418 - val_loss: 0.0464 - val_capsnet_loss: 0.0463 - val_decoder_loss: 0.1129 - val_capsnet_accuracy: 0.9535 - val_decoder_accuracy: 0.3436\n",
            "Epoch 14/120\n",
            "1718/1718 [==============================] - 27s 16ms/step - loss: 0.0218 - capsnet_loss: 0.0217 - decoder_loss: 0.1131 - capsnet_accuracy: 0.9927 - decoder_accuracy: 0.3427 - val_loss: 0.0360 - val_capsnet_loss: 0.0360 - val_decoder_loss: 0.1129 - val_capsnet_accuracy: 0.9651 - val_decoder_accuracy: 0.3440\n",
            "Epoch 15/120\n",
            "1718/1718 [==============================] - 25s 15ms/step - loss: 0.0158 - capsnet_loss: 0.0157 - decoder_loss: 0.1131 - capsnet_accuracy: 0.9936 - decoder_accuracy: 0.3436 - val_loss: 0.0336 - val_capsnet_loss: 0.0336 - val_decoder_loss: 0.1129 - val_capsnet_accuracy: 0.9605 - val_decoder_accuracy: 0.3450\n",
            "Epoch 16/120\n",
            "1718/1718 [==============================] - 25s 14ms/step - loss: 0.0193 - capsnet_loss: 0.0192 - decoder_loss: 0.1131 - capsnet_accuracy: 0.9927 - decoder_accuracy: 0.3444 - val_loss: 0.0294 - val_capsnet_loss: 0.0293 - val_decoder_loss: 0.1129 - val_capsnet_accuracy: 0.9651 - val_decoder_accuracy: 0.3455\n",
            "Epoch 17/120\n",
            "1718/1718 [==============================] - 27s 15ms/step - loss: 0.0151 - capsnet_loss: 0.0150 - decoder_loss: 0.1131 - capsnet_accuracy: 0.9971 - decoder_accuracy: 0.3450 - val_loss: 0.0299 - val_capsnet_loss: 0.0299 - val_decoder_loss: 0.1129 - val_capsnet_accuracy: 0.9605 - val_decoder_accuracy: 0.3465\n",
            "Epoch 18/120\n",
            "1718/1718 [==============================] - 26s 15ms/step - loss: 0.0147 - capsnet_loss: 0.0146 - decoder_loss: 0.1131 - capsnet_accuracy: 0.9951 - decoder_accuracy: 0.3461 - val_loss: 0.0310 - val_capsnet_loss: 0.0309 - val_decoder_loss: 0.1129 - val_capsnet_accuracy: 0.9640 - val_decoder_accuracy: 0.3479\n",
            "Epoch 19/120\n",
            "1718/1718 [==============================] - 26s 15ms/step - loss: 0.0137 - capsnet_loss: 0.0137 - decoder_loss: 0.1131 - capsnet_accuracy: 0.9945 - decoder_accuracy: 0.3471 - val_loss: 0.0303 - val_capsnet_loss: 0.0302 - val_decoder_loss: 0.1129 - val_capsnet_accuracy: 0.9698 - val_decoder_accuracy: 0.3490\n",
            "Epoch 20/120\n",
            "1718/1718 [==============================] - 26s 15ms/step - loss: 0.0115 - capsnet_loss: 0.0115 - decoder_loss: 0.1131 - capsnet_accuracy: 0.9974 - decoder_accuracy: 0.3478 - val_loss: 0.0287 - val_capsnet_loss: 0.0286 - val_decoder_loss: 0.1129 - val_capsnet_accuracy: 0.9674 - val_decoder_accuracy: 0.3493\n",
            "Epoch 21/120\n",
            "1718/1718 [==============================] - 27s 16ms/step - loss: 0.0135 - capsnet_loss: 0.0134 - decoder_loss: 0.1131 - capsnet_accuracy: 0.9945 - decoder_accuracy: 0.3487 - val_loss: 0.0350 - val_capsnet_loss: 0.0350 - val_decoder_loss: 0.1129 - val_capsnet_accuracy: 0.9570 - val_decoder_accuracy: 0.3510\n",
            "Epoch 22/120\n",
            "1718/1718 [==============================] - 25s 15ms/step - loss: 0.0088 - capsnet_loss: 0.0087 - decoder_loss: 0.1131 - capsnet_accuracy: 0.9977 - decoder_accuracy: 0.3495 - val_loss: 0.0320 - val_capsnet_loss: 0.0319 - val_decoder_loss: 0.1129 - val_capsnet_accuracy: 0.9721 - val_decoder_accuracy: 0.3511\n",
            "Epoch 23/120\n",
            "1718/1718 [==============================] - 27s 16ms/step - loss: 0.0121 - capsnet_loss: 0.0120 - decoder_loss: 0.1131 - capsnet_accuracy: 0.9951 - decoder_accuracy: 0.3505 - val_loss: 0.0461 - val_capsnet_loss: 0.0460 - val_decoder_loss: 0.1129 - val_capsnet_accuracy: 0.9593 - val_decoder_accuracy: 0.3518\n",
            "Epoch 24/120\n",
            "1718/1718 [==============================] - 27s 16ms/step - loss: 0.0178 - capsnet_loss: 0.0177 - decoder_loss: 0.1131 - capsnet_accuracy: 0.9907 - decoder_accuracy: 0.3516 - val_loss: 0.0345 - val_capsnet_loss: 0.0345 - val_decoder_loss: 0.1129 - val_capsnet_accuracy: 0.9581 - val_decoder_accuracy: 0.3532\n",
            "Epoch 25/120\n",
            "1718/1718 [==============================] - 26s 15ms/step - loss: 0.0068 - capsnet_loss: 0.0068 - decoder_loss: 0.1131 - capsnet_accuracy: 0.9983 - decoder_accuracy: 0.3519 - val_loss: 0.0263 - val_capsnet_loss: 0.0262 - val_decoder_loss: 0.1129 - val_capsnet_accuracy: 0.9709 - val_decoder_accuracy: 0.3551\n",
            "Epoch 26/120\n",
            "1718/1718 [==============================] - 27s 16ms/step - loss: 0.0146 - capsnet_loss: 0.0145 - decoder_loss: 0.1131 - capsnet_accuracy: 0.9936 - decoder_accuracy: 0.3533 - val_loss: 0.0425 - val_capsnet_loss: 0.0424 - val_decoder_loss: 0.1129 - val_capsnet_accuracy: 0.9651 - val_decoder_accuracy: 0.3561\n",
            "Epoch 27/120\n",
            "1718/1718 [==============================] - 27s 16ms/step - loss: 0.0081 - capsnet_loss: 0.0080 - decoder_loss: 0.1131 - capsnet_accuracy: 0.9983 - decoder_accuracy: 0.3538 - val_loss: 0.0284 - val_capsnet_loss: 0.0283 - val_decoder_loss: 0.1129 - val_capsnet_accuracy: 0.9616 - val_decoder_accuracy: 0.3566\n",
            "Epoch 28/120\n",
            "1718/1718 [==============================] - 25s 15ms/step - loss: 0.0139 - capsnet_loss: 0.0138 - decoder_loss: 0.1131 - capsnet_accuracy: 0.9942 - decoder_accuracy: 0.3547 - val_loss: 0.0575 - val_capsnet_loss: 0.0574 - val_decoder_loss: 0.1129 - val_capsnet_accuracy: 0.9663 - val_decoder_accuracy: 0.3551\n",
            "Epoch 29/120\n",
            "1718/1718 [==============================] - 25s 14ms/step - loss: 0.0079 - capsnet_loss: 0.0078 - decoder_loss: 0.1131 - capsnet_accuracy: 0.9983 - decoder_accuracy: 0.3557 - val_loss: 0.0313 - val_capsnet_loss: 0.0312 - val_decoder_loss: 0.1129 - val_capsnet_accuracy: 0.9616 - val_decoder_accuracy: 0.3591\n",
            "Epoch 30/120\n",
            "1718/1718 [==============================] - 27s 16ms/step - loss: 0.0075 - capsnet_loss: 0.0074 - decoder_loss: 0.1131 - capsnet_accuracy: 0.9974 - decoder_accuracy: 0.3563 - val_loss: 0.0319 - val_capsnet_loss: 0.0319 - val_decoder_loss: 0.1129 - val_capsnet_accuracy: 0.9651 - val_decoder_accuracy: 0.3585\n",
            "Epoch 31/120\n",
            "1718/1718 [==============================] - 26s 15ms/step - loss: 0.0101 - capsnet_loss: 0.0100 - decoder_loss: 0.1131 - capsnet_accuracy: 0.9959 - decoder_accuracy: 0.3573 - val_loss: 0.0407 - val_capsnet_loss: 0.0407 - val_decoder_loss: 0.1129 - val_capsnet_accuracy: 0.9593 - val_decoder_accuracy: 0.3615\n",
            "Epoch 32/120\n",
            "1718/1718 [==============================] - 27s 15ms/step - loss: 0.0074 - capsnet_loss: 0.0074 - decoder_loss: 0.1131 - capsnet_accuracy: 0.9977 - decoder_accuracy: 0.3579 - val_loss: 0.0327 - val_capsnet_loss: 0.0326 - val_decoder_loss: 0.1129 - val_capsnet_accuracy: 0.9605 - val_decoder_accuracy: 0.3609\n",
            "Epoch 33/120\n",
            "1718/1718 [==============================] - 26s 15ms/step - loss: 0.0067 - capsnet_loss: 0.0066 - decoder_loss: 0.1131 - capsnet_accuracy: 0.9980 - decoder_accuracy: 0.3586 - val_loss: 0.0446 - val_capsnet_loss: 0.0445 - val_decoder_loss: 0.1129 - val_capsnet_accuracy: 0.9558 - val_decoder_accuracy: 0.3619\n",
            "Epoch 34/120\n",
            "1718/1718 [==============================] - 28s 16ms/step - loss: 0.0091 - capsnet_loss: 0.0090 - decoder_loss: 0.1131 - capsnet_accuracy: 0.9968 - decoder_accuracy: 0.3596 - val_loss: 0.0282 - val_capsnet_loss: 0.0282 - val_decoder_loss: 0.1129 - val_capsnet_accuracy: 0.9698 - val_decoder_accuracy: 0.3634\n",
            "Epoch 35/120\n",
            "1718/1718 [==============================] - 25s 15ms/step - loss: 0.0056 - capsnet_loss: 0.0055 - decoder_loss: 0.1131 - capsnet_accuracy: 0.9983 - decoder_accuracy: 0.3604 - val_loss: 0.0295 - val_capsnet_loss: 0.0295 - val_decoder_loss: 0.1129 - val_capsnet_accuracy: 0.9698 - val_decoder_accuracy: 0.3637\n",
            "Epoch 36/120\n",
            "1718/1718 [==============================] - 26s 15ms/step - loss: 0.0071 - capsnet_loss: 0.0070 - decoder_loss: 0.1131 - capsnet_accuracy: 0.9983 - decoder_accuracy: 0.3611 - val_loss: 0.0252 - val_capsnet_loss: 0.0252 - val_decoder_loss: 0.1129 - val_capsnet_accuracy: 0.9698 - val_decoder_accuracy: 0.3644\n",
            "Epoch 37/120\n",
            "1718/1718 [==============================] - 26s 15ms/step - loss: 0.0112 - capsnet_loss: 0.0112 - decoder_loss: 0.1131 - capsnet_accuracy: 0.9942 - decoder_accuracy: 0.3616 - val_loss: 0.0238 - val_capsnet_loss: 0.0238 - val_decoder_loss: 0.1129 - val_capsnet_accuracy: 0.9756 - val_decoder_accuracy: 0.3656\n",
            "Epoch 38/120\n",
            "1718/1718 [==============================] - 27s 16ms/step - loss: 0.0082 - capsnet_loss: 0.0081 - decoder_loss: 0.1131 - capsnet_accuracy: 0.9962 - decoder_accuracy: 0.3628 - val_loss: 0.0239 - val_capsnet_loss: 0.0239 - val_decoder_loss: 0.1129 - val_capsnet_accuracy: 0.9674 - val_decoder_accuracy: 0.3656\n",
            "Epoch 39/120\n",
            "1718/1718 [==============================] - 27s 16ms/step - loss: 0.0079 - capsnet_loss: 0.0078 - decoder_loss: 0.1131 - capsnet_accuracy: 0.9971 - decoder_accuracy: 0.3636 - val_loss: 0.0412 - val_capsnet_loss: 0.0411 - val_decoder_loss: 0.1129 - val_capsnet_accuracy: 0.9605 - val_decoder_accuracy: 0.3674\n",
            "Epoch 40/120\n",
            "1718/1718 [==============================] - 26s 15ms/step - loss: 0.0070 - capsnet_loss: 0.0069 - decoder_loss: 0.1131 - capsnet_accuracy: 0.9965 - decoder_accuracy: 0.3642 - val_loss: 0.0360 - val_capsnet_loss: 0.0359 - val_decoder_loss: 0.1129 - val_capsnet_accuracy: 0.9547 - val_decoder_accuracy: 0.3668\n",
            "Epoch 41/120\n",
            "1718/1718 [==============================] - 28s 16ms/step - loss: 0.0057 - capsnet_loss: 0.0056 - decoder_loss: 0.1131 - capsnet_accuracy: 0.9988 - decoder_accuracy: 0.3651 - val_loss: 0.0254 - val_capsnet_loss: 0.0253 - val_decoder_loss: 0.1129 - val_capsnet_accuracy: 0.9674 - val_decoder_accuracy: 0.3688\n",
            "Epoch 42/120\n",
            "1718/1718 [==============================] - 25s 14ms/step - loss: 0.0077 - capsnet_loss: 0.0077 - decoder_loss: 0.1131 - capsnet_accuracy: 0.9974 - decoder_accuracy: 0.3663 - val_loss: 0.0242 - val_capsnet_loss: 0.0242 - val_decoder_loss: 0.1129 - val_capsnet_accuracy: 0.9721 - val_decoder_accuracy: 0.3707\n",
            "Epoch 43/120\n",
            "1718/1718 [==============================] - 26s 15ms/step - loss: 0.0040 - capsnet_loss: 0.0039 - decoder_loss: 0.1131 - capsnet_accuracy: 0.9997 - decoder_accuracy: 0.3671 - val_loss: 0.0334 - val_capsnet_loss: 0.0334 - val_decoder_loss: 0.1129 - val_capsnet_accuracy: 0.9593 - val_decoder_accuracy: 0.3725\n",
            "Epoch 44/120\n",
            "1718/1718 [==============================] - 26s 15ms/step - loss: 0.0076 - capsnet_loss: 0.0075 - decoder_loss: 0.1131 - capsnet_accuracy: 0.9968 - decoder_accuracy: 0.3679 - val_loss: 0.0245 - val_capsnet_loss: 0.0245 - val_decoder_loss: 0.1129 - val_capsnet_accuracy: 0.9663 - val_decoder_accuracy: 0.3717\n",
            "Epoch 45/120\n",
            "1718/1718 [==============================] - 26s 15ms/step - loss: 0.0054 - capsnet_loss: 0.0054 - decoder_loss: 0.1131 - capsnet_accuracy: 0.9974 - decoder_accuracy: 0.3687 - val_loss: 0.0252 - val_capsnet_loss: 0.0252 - val_decoder_loss: 0.1129 - val_capsnet_accuracy: 0.9686 - val_decoder_accuracy: 0.3729\n",
            "Epoch 46/120\n",
            "1718/1718 [==============================] - 27s 16ms/step - loss: 0.0068 - capsnet_loss: 0.0067 - decoder_loss: 0.1131 - capsnet_accuracy: 0.9971 - decoder_accuracy: 0.3698 - val_loss: 0.0250 - val_capsnet_loss: 0.0249 - val_decoder_loss: 0.1129 - val_capsnet_accuracy: 0.9709 - val_decoder_accuracy: 0.3729\n",
            "Epoch 47/120\n",
            "1718/1718 [==============================] - 27s 16ms/step - loss: 0.0054 - capsnet_loss: 0.0054 - decoder_loss: 0.1131 - capsnet_accuracy: 0.9983 - decoder_accuracy: 0.3706 - val_loss: 0.0331 - val_capsnet_loss: 0.0331 - val_decoder_loss: 0.1129 - val_capsnet_accuracy: 0.9663 - val_decoder_accuracy: 0.3735\n",
            "Epoch 48/120\n",
            "1718/1718 [==============================] - 27s 16ms/step - loss: 0.0039 - capsnet_loss: 0.0039 - decoder_loss: 0.1131 - capsnet_accuracy: 0.9997 - decoder_accuracy: 0.3715 - val_loss: 0.0252 - val_capsnet_loss: 0.0252 - val_decoder_loss: 0.1129 - val_capsnet_accuracy: 0.9663 - val_decoder_accuracy: 0.3756\n",
            "Epoch 49/120\n",
            "1718/1718 [==============================] - 26s 15ms/step - loss: 0.0070 - capsnet_loss: 0.0070 - decoder_loss: 0.1131 - capsnet_accuracy: 0.9980 - decoder_accuracy: 0.3725 - val_loss: 0.0291 - val_capsnet_loss: 0.0290 - val_decoder_loss: 0.1129 - val_capsnet_accuracy: 0.9640 - val_decoder_accuracy: 0.3767\n",
            "Epoch 50/120\n",
            "1718/1718 [==============================] - 25s 14ms/step - loss: 0.0048 - capsnet_loss: 0.0047 - decoder_loss: 0.1131 - capsnet_accuracy: 0.9983 - decoder_accuracy: 0.3731 - val_loss: 0.0341 - val_capsnet_loss: 0.0340 - val_decoder_loss: 0.1129 - val_capsnet_accuracy: 0.9605 - val_decoder_accuracy: 0.3777\n",
            "Epoch 51/120\n",
            "1718/1718 [==============================] - 25s 15ms/step - loss: 0.0108 - capsnet_loss: 0.0107 - decoder_loss: 0.1131 - capsnet_accuracy: 0.9919 - decoder_accuracy: 0.3745 - val_loss: 0.0239 - val_capsnet_loss: 0.0239 - val_decoder_loss: 0.1129 - val_capsnet_accuracy: 0.9674 - val_decoder_accuracy: 0.3788\n",
            "Epoch 52/120\n",
            "1718/1718 [==============================] - 27s 16ms/step - loss: 0.0034 - capsnet_loss: 0.0034 - decoder_loss: 0.1131 - capsnet_accuracy: 0.9988 - decoder_accuracy: 0.3751 - val_loss: 0.0283 - val_capsnet_loss: 0.0282 - val_decoder_loss: 0.1129 - val_capsnet_accuracy: 0.9605 - val_decoder_accuracy: 0.3794\n",
            "Epoch 53/120\n",
            "1718/1718 [==============================] - 26s 15ms/step - loss: 0.0047 - capsnet_loss: 0.0047 - decoder_loss: 0.1131 - capsnet_accuracy: 0.9983 - decoder_accuracy: 0.3763 - val_loss: 0.0272 - val_capsnet_loss: 0.0271 - val_decoder_loss: 0.1129 - val_capsnet_accuracy: 0.9616 - val_decoder_accuracy: 0.3808\n",
            "Epoch 54/120\n",
            "1718/1718 [==============================] - 28s 16ms/step - loss: 0.0040 - capsnet_loss: 0.0040 - decoder_loss: 0.1131 - capsnet_accuracy: 0.9985 - decoder_accuracy: 0.3770 - val_loss: 0.0245 - val_capsnet_loss: 0.0244 - val_decoder_loss: 0.1129 - val_capsnet_accuracy: 0.9744 - val_decoder_accuracy: 0.3803\n",
            "Epoch 55/120\n",
            "1718/1718 [==============================] - 27s 15ms/step - loss: 0.0071 - capsnet_loss: 0.0071 - decoder_loss: 0.1131 - capsnet_accuracy: 0.9980 - decoder_accuracy: 0.3781 - val_loss: 0.0226 - val_capsnet_loss: 0.0226 - val_decoder_loss: 0.1129 - val_capsnet_accuracy: 0.9674 - val_decoder_accuracy: 0.3822\n",
            "Epoch 56/120\n",
            "1718/1718 [==============================] - 26s 15ms/step - loss: 0.0049 - capsnet_loss: 0.0049 - decoder_loss: 0.1131 - capsnet_accuracy: 0.9983 - decoder_accuracy: 0.3788 - val_loss: 0.0257 - val_capsnet_loss: 0.0257 - val_decoder_loss: 0.1129 - val_capsnet_accuracy: 0.9651 - val_decoder_accuracy: 0.3830\n",
            "Epoch 57/120\n",
            "1718/1718 [==============================] - 25s 14ms/step - loss: 0.0052 - capsnet_loss: 0.0051 - decoder_loss: 0.1131 - capsnet_accuracy: 0.9980 - decoder_accuracy: 0.3794 - val_loss: 0.0836 - val_capsnet_loss: 0.0836 - val_decoder_loss: 0.1129 - val_capsnet_accuracy: 0.9442 - val_decoder_accuracy: 0.3835\n",
            "Epoch 58/120\n",
            "1718/1718 [==============================] - 26s 15ms/step - loss: 0.0093 - capsnet_loss: 0.0093 - decoder_loss: 0.1131 - capsnet_accuracy: 0.9953 - decoder_accuracy: 0.3807 - val_loss: 0.0267 - val_capsnet_loss: 0.0266 - val_decoder_loss: 0.1129 - val_capsnet_accuracy: 0.9651 - val_decoder_accuracy: 0.3850\n",
            "Epoch 59/120\n",
            "1718/1718 [==============================] - 27s 16ms/step - loss: 0.0038 - capsnet_loss: 0.0038 - decoder_loss: 0.1131 - capsnet_accuracy: 0.9991 - decoder_accuracy: 0.3813 - val_loss: 0.0248 - val_capsnet_loss: 0.0247 - val_decoder_loss: 0.1129 - val_capsnet_accuracy: 0.9709 - val_decoder_accuracy: 0.3855\n",
            "Epoch 60/120\n",
            "1718/1718 [==============================] - 26s 15ms/step - loss: 0.0056 - capsnet_loss: 0.0056 - decoder_loss: 0.1131 - capsnet_accuracy: 0.9974 - decoder_accuracy: 0.3822 - val_loss: 0.0322 - val_capsnet_loss: 0.0322 - val_decoder_loss: 0.1129 - val_capsnet_accuracy: 0.9628 - val_decoder_accuracy: 0.3880\n",
            "Epoch 61/120\n",
            "1718/1718 [==============================] - 29s 17ms/step - loss: 0.0054 - capsnet_loss: 0.0054 - decoder_loss: 0.1131 - capsnet_accuracy: 0.9985 - decoder_accuracy: 0.3828 - val_loss: 0.0212 - val_capsnet_loss: 0.0211 - val_decoder_loss: 0.1129 - val_capsnet_accuracy: 0.9756 - val_decoder_accuracy: 0.3877\n",
            "Epoch 62/120\n",
            "1718/1718 [==============================] - 26s 15ms/step - loss: 0.0035 - capsnet_loss: 0.0034 - decoder_loss: 0.1131 - capsnet_accuracy: 0.9988 - decoder_accuracy: 0.3839 - val_loss: 0.0262 - val_capsnet_loss: 0.0261 - val_decoder_loss: 0.1129 - val_capsnet_accuracy: 0.9663 - val_decoder_accuracy: 0.3898\n",
            "Epoch 63/120\n",
            "1718/1718 [==============================] - 26s 15ms/step - loss: 0.0067 - capsnet_loss: 0.0067 - decoder_loss: 0.1131 - capsnet_accuracy: 0.9968 - decoder_accuracy: 0.3850 - val_loss: 0.0246 - val_capsnet_loss: 0.0245 - val_decoder_loss: 0.1129 - val_capsnet_accuracy: 0.9698 - val_decoder_accuracy: 0.3898\n",
            "Epoch 64/120\n",
            "1718/1718 [==============================] - 26s 15ms/step - loss: 0.0038 - capsnet_loss: 0.0038 - decoder_loss: 0.1131 - capsnet_accuracy: 0.9985 - decoder_accuracy: 0.3854 - val_loss: 0.0194 - val_capsnet_loss: 0.0193 - val_decoder_loss: 0.1129 - val_capsnet_accuracy: 0.9744 - val_decoder_accuracy: 0.3895\n",
            "Epoch 65/120\n",
            "1718/1718 [==============================] - 26s 15ms/step - loss: 0.0047 - capsnet_loss: 0.0047 - decoder_loss: 0.1131 - capsnet_accuracy: 0.9980 - decoder_accuracy: 0.3861 - val_loss: 0.0323 - val_capsnet_loss: 0.0322 - val_decoder_loss: 0.1129 - val_capsnet_accuracy: 0.9721 - val_decoder_accuracy: 0.3893\n",
            "Epoch 66/120\n",
            "1718/1718 [==============================] - 27s 16ms/step - loss: 0.0058 - capsnet_loss: 0.0058 - decoder_loss: 0.1131 - capsnet_accuracy: 0.9971 - decoder_accuracy: 0.3869 - val_loss: 0.0217 - val_capsnet_loss: 0.0216 - val_decoder_loss: 0.1129 - val_capsnet_accuracy: 0.9733 - val_decoder_accuracy: 0.3922\n",
            "Epoch 67/120\n",
            "1718/1718 [==============================] - 28s 16ms/step - loss: 0.0018 - capsnet_loss: 0.0018 - decoder_loss: 0.1131 - capsnet_accuracy: 0.9997 - decoder_accuracy: 0.3874 - val_loss: 0.0295 - val_capsnet_loss: 0.0294 - val_decoder_loss: 0.1129 - val_capsnet_accuracy: 0.9674 - val_decoder_accuracy: 0.3938\n",
            "Epoch 68/120\n",
            "1718/1718 [==============================] - 28s 16ms/step - loss: 0.0074 - capsnet_loss: 0.0073 - decoder_loss: 0.1131 - capsnet_accuracy: 0.9968 - decoder_accuracy: 0.3885 - val_loss: 0.0222 - val_capsnet_loss: 0.0221 - val_decoder_loss: 0.1129 - val_capsnet_accuracy: 0.9651 - val_decoder_accuracy: 0.3930\n",
            "Epoch 69/120\n",
            "1718/1718 [==============================] - 27s 16ms/step - loss: 0.0039 - capsnet_loss: 0.0039 - decoder_loss: 0.1131 - capsnet_accuracy: 0.9985 - decoder_accuracy: 0.3892 - val_loss: 0.0308 - val_capsnet_loss: 0.0308 - val_decoder_loss: 0.1129 - val_capsnet_accuracy: 0.9605 - val_decoder_accuracy: 0.3940\n",
            "Epoch 70/120\n",
            "1718/1718 [==============================] - 27s 16ms/step - loss: 0.0034 - capsnet_loss: 0.0033 - decoder_loss: 0.1131 - capsnet_accuracy: 0.9988 - decoder_accuracy: 0.3896 - val_loss: 0.0218 - val_capsnet_loss: 0.0217 - val_decoder_loss: 0.1129 - val_capsnet_accuracy: 0.9767 - val_decoder_accuracy: 0.3949\n",
            "Epoch 71/120\n",
            "1718/1718 [==============================] - 26s 15ms/step - loss: 0.0045 - capsnet_loss: 0.0045 - decoder_loss: 0.1131 - capsnet_accuracy: 0.9994 - decoder_accuracy: 0.3908 - val_loss: 0.0251 - val_capsnet_loss: 0.0250 - val_decoder_loss: 0.1129 - val_capsnet_accuracy: 0.9721 - val_decoder_accuracy: 0.3956\n",
            "Epoch 72/120\n",
            "1718/1718 [==============================] - 26s 15ms/step - loss: 0.0054 - capsnet_loss: 0.0053 - decoder_loss: 0.1131 - capsnet_accuracy: 0.9974 - decoder_accuracy: 0.3918 - val_loss: 0.0256 - val_capsnet_loss: 0.0255 - val_decoder_loss: 0.1129 - val_capsnet_accuracy: 0.9651 - val_decoder_accuracy: 0.3962\n",
            "Epoch 73/120\n",
            "1718/1718 [==============================] - 26s 15ms/step - loss: 0.0022 - capsnet_loss: 0.0021 - decoder_loss: 0.1131 - capsnet_accuracy: 0.9991 - decoder_accuracy: 0.3922 - val_loss: 0.0226 - val_capsnet_loss: 0.0225 - val_decoder_loss: 0.1129 - val_capsnet_accuracy: 0.9674 - val_decoder_accuracy: 0.3983\n",
            "Epoch 74/120\n",
            "1718/1718 [==============================] - 28s 16ms/step - loss: 0.0035 - capsnet_loss: 0.0034 - decoder_loss: 0.1131 - capsnet_accuracy: 0.9988 - decoder_accuracy: 0.3929 - val_loss: 0.0197 - val_capsnet_loss: 0.0197 - val_decoder_loss: 0.1129 - val_capsnet_accuracy: 0.9733 - val_decoder_accuracy: 0.3982\n",
            "Epoch 75/120\n",
            "1718/1718 [==============================] - 26s 15ms/step - loss: 0.0063 - capsnet_loss: 0.0063 - decoder_loss: 0.1131 - capsnet_accuracy: 0.9968 - decoder_accuracy: 0.3945 - val_loss: 0.0299 - val_capsnet_loss: 0.0298 - val_decoder_loss: 0.1129 - val_capsnet_accuracy: 0.9674 - val_decoder_accuracy: 0.4009\n",
            "Epoch 76/120\n",
            "1718/1718 [==============================] - 26s 15ms/step - loss: 0.0016 - capsnet_loss: 0.0015 - decoder_loss: 0.1131 - capsnet_accuracy: 1.0000 - decoder_accuracy: 0.3950 - val_loss: 0.0309 - val_capsnet_loss: 0.0308 - val_decoder_loss: 0.1129 - val_capsnet_accuracy: 0.9605 - val_decoder_accuracy: 0.4022\n",
            "Epoch 77/120\n",
            "1718/1718 [==============================] - 27s 16ms/step - loss: 0.0054 - capsnet_loss: 0.0053 - decoder_loss: 0.1131 - capsnet_accuracy: 0.9980 - decoder_accuracy: 0.3964 - val_loss: 0.0218 - val_capsnet_loss: 0.0217 - val_decoder_loss: 0.1129 - val_capsnet_accuracy: 0.9674 - val_decoder_accuracy: 0.4003\n",
            "Epoch 78/120\n",
            "1718/1718 [==============================] - 27s 16ms/step - loss: 0.0030 - capsnet_loss: 0.0029 - decoder_loss: 0.1131 - capsnet_accuracy: 0.9997 - decoder_accuracy: 0.3970 - val_loss: 0.0346 - val_capsnet_loss: 0.0346 - val_decoder_loss: 0.1129 - val_capsnet_accuracy: 0.9570 - val_decoder_accuracy: 0.4045\n",
            "Epoch 79/120\n",
            "1718/1718 [==============================] - 28s 16ms/step - loss: 0.0027 - capsnet_loss: 0.0026 - decoder_loss: 0.1131 - capsnet_accuracy: 0.9997 - decoder_accuracy: 0.3972 - val_loss: 0.0259 - val_capsnet_loss: 0.0259 - val_decoder_loss: 0.1129 - val_capsnet_accuracy: 0.9733 - val_decoder_accuracy: 0.4037\n",
            "Epoch 80/120\n",
            "1718/1718 [==============================] - 27s 16ms/step - loss: 0.0050 - capsnet_loss: 0.0050 - decoder_loss: 0.1131 - capsnet_accuracy: 0.9977 - decoder_accuracy: 0.3985 - val_loss: 0.0212 - val_capsnet_loss: 0.0211 - val_decoder_loss: 0.1129 - val_capsnet_accuracy: 0.9733 - val_decoder_accuracy: 0.4030\n",
            "Epoch 81/120\n",
            "1718/1718 [==============================] - 30s 17ms/step - loss: 0.0031 - capsnet_loss: 0.0031 - decoder_loss: 0.1131 - capsnet_accuracy: 0.9997 - decoder_accuracy: 0.3992 - val_loss: 0.0187 - val_capsnet_loss: 0.0186 - val_decoder_loss: 0.1129 - val_capsnet_accuracy: 0.9709 - val_decoder_accuracy: 0.4041\n",
            "Epoch 82/120\n",
            "1718/1718 [==============================] - 27s 16ms/step - loss: 0.0045 - capsnet_loss: 0.0044 - decoder_loss: 0.1131 - capsnet_accuracy: 0.9977 - decoder_accuracy: 0.4005 - val_loss: 0.0233 - val_capsnet_loss: 0.0233 - val_decoder_loss: 0.1129 - val_capsnet_accuracy: 0.9663 - val_decoder_accuracy: 0.4072\n",
            "Epoch 83/120\n",
            "1718/1718 [==============================] - 26s 15ms/step - loss: 0.0017 - capsnet_loss: 0.0016 - decoder_loss: 0.1131 - capsnet_accuracy: 1.0000 - decoder_accuracy: 0.4009 - val_loss: 0.0207 - val_capsnet_loss: 0.0206 - val_decoder_loss: 0.1129 - val_capsnet_accuracy: 0.9698 - val_decoder_accuracy: 0.4071\n",
            "Epoch 84/120\n",
            "1718/1718 [==============================] - 25s 15ms/step - loss: 0.0035 - capsnet_loss: 0.0034 - decoder_loss: 0.1131 - capsnet_accuracy: 0.9994 - decoder_accuracy: 0.4023 - val_loss: 0.0321 - val_capsnet_loss: 0.0320 - val_decoder_loss: 0.1129 - val_capsnet_accuracy: 0.9616 - val_decoder_accuracy: 0.4111\n",
            "Epoch 85/120\n",
            "1718/1718 [==============================] - 27s 16ms/step - loss: 0.0026 - capsnet_loss: 0.0025 - decoder_loss: 0.1131 - capsnet_accuracy: 0.9997 - decoder_accuracy: 0.4030 - val_loss: 0.0207 - val_capsnet_loss: 0.0207 - val_decoder_loss: 0.1129 - val_capsnet_accuracy: 0.9721 - val_decoder_accuracy: 0.4085\n",
            "Epoch 86/120\n",
            "1718/1718 [==============================] - 27s 15ms/step - loss: 0.0056 - capsnet_loss: 0.0056 - decoder_loss: 0.1131 - capsnet_accuracy: 0.9980 - decoder_accuracy: 0.4036 - val_loss: 0.0209 - val_capsnet_loss: 0.0208 - val_decoder_loss: 0.1129 - val_capsnet_accuracy: 0.9721 - val_decoder_accuracy: 0.4082\n",
            "Epoch 87/120\n",
            "1718/1718 [==============================] - 29s 17ms/step - loss: 0.0026 - capsnet_loss: 0.0026 - decoder_loss: 0.1131 - capsnet_accuracy: 0.9994 - decoder_accuracy: 0.4042 - val_loss: 0.0200 - val_capsnet_loss: 0.0199 - val_decoder_loss: 0.1129 - val_capsnet_accuracy: 0.9744 - val_decoder_accuracy: 0.4109\n",
            "Epoch 88/120\n",
            "1718/1718 [==============================] - 28s 16ms/step - loss: 0.0041 - capsnet_loss: 0.0041 - decoder_loss: 0.1131 - capsnet_accuracy: 0.9985 - decoder_accuracy: 0.4057 - val_loss: 0.0201 - val_capsnet_loss: 0.0200 - val_decoder_loss: 0.1129 - val_capsnet_accuracy: 0.9744 - val_decoder_accuracy: 0.4112\n",
            "Epoch 89/120\n",
            "1718/1718 [==============================] - 27s 16ms/step - loss: 0.0038 - capsnet_loss: 0.0038 - decoder_loss: 0.1131 - capsnet_accuracy: 0.9985 - decoder_accuracy: 0.4062 - val_loss: 0.0463 - val_capsnet_loss: 0.0463 - val_decoder_loss: 0.1129 - val_capsnet_accuracy: 0.9384 - val_decoder_accuracy: 0.4171\n",
            "Epoch 90/120\n",
            "1718/1718 [==============================] - 27s 15ms/step - loss: 0.0041 - capsnet_loss: 0.0041 - decoder_loss: 0.1131 - capsnet_accuracy: 0.9977 - decoder_accuracy: 0.4068 - val_loss: 0.0191 - val_capsnet_loss: 0.0191 - val_decoder_loss: 0.1129 - val_capsnet_accuracy: 0.9767 - val_decoder_accuracy: 0.4120\n",
            "Epoch 91/120\n",
            "1718/1718 [==============================] - 27s 15ms/step - loss: 0.0029 - capsnet_loss: 0.0028 - decoder_loss: 0.1131 - capsnet_accuracy: 0.9994 - decoder_accuracy: 0.4078 - val_loss: 0.0209 - val_capsnet_loss: 0.0209 - val_decoder_loss: 0.1129 - val_capsnet_accuracy: 0.9709 - val_decoder_accuracy: 0.4137\n",
            "Epoch 92/120\n",
            "1718/1718 [==============================] - 28s 16ms/step - loss: 0.0048 - capsnet_loss: 0.0047 - decoder_loss: 0.1131 - capsnet_accuracy: 0.9977 - decoder_accuracy: 0.4091 - val_loss: 0.0202 - val_capsnet_loss: 0.0201 - val_decoder_loss: 0.1129 - val_capsnet_accuracy: 0.9709 - val_decoder_accuracy: 0.4142\n",
            "Epoch 93/120\n",
            "1718/1718 [==============================] - 27s 16ms/step - loss: 0.0020 - capsnet_loss: 0.0020 - decoder_loss: 0.1131 - capsnet_accuracy: 0.9997 - decoder_accuracy: 0.4096 - val_loss: 0.0185 - val_capsnet_loss: 0.0184 - val_decoder_loss: 0.1129 - val_capsnet_accuracy: 0.9791 - val_decoder_accuracy: 0.4151\n",
            "Epoch 94/120\n",
            "1718/1718 [==============================] - 28s 16ms/step - loss: 0.0034 - capsnet_loss: 0.0033 - decoder_loss: 0.1131 - capsnet_accuracy: 0.9994 - decoder_accuracy: 0.4107 - val_loss: 0.0236 - val_capsnet_loss: 0.0235 - val_decoder_loss: 0.1129 - val_capsnet_accuracy: 0.9698 - val_decoder_accuracy: 0.4150\n",
            "Epoch 95/120\n",
            "1718/1718 [==============================] - 26s 15ms/step - loss: 0.0026 - capsnet_loss: 0.0025 - decoder_loss: 0.1131 - capsnet_accuracy: 0.9991 - decoder_accuracy: 0.4116 - val_loss: 0.0231 - val_capsnet_loss: 0.0230 - val_decoder_loss: 0.1129 - val_capsnet_accuracy: 0.9709 - val_decoder_accuracy: 0.4179\n",
            "Epoch 96/120\n",
            "1718/1718 [==============================] - 27s 15ms/step - loss: 0.0046 - capsnet_loss: 0.0046 - decoder_loss: 0.1131 - capsnet_accuracy: 0.9985 - decoder_accuracy: 0.4124 - val_loss: 0.0255 - val_capsnet_loss: 0.0255 - val_decoder_loss: 0.1129 - val_capsnet_accuracy: 0.9663 - val_decoder_accuracy: 0.4172\n",
            "Epoch 97/120\n",
            "1718/1718 [==============================] - 27s 16ms/step - loss: 0.0028 - capsnet_loss: 0.0028 - decoder_loss: 0.1131 - capsnet_accuracy: 0.9988 - decoder_accuracy: 0.4132 - val_loss: 0.0252 - val_capsnet_loss: 0.0252 - val_decoder_loss: 0.1129 - val_capsnet_accuracy: 0.9640 - val_decoder_accuracy: 0.4200\n",
            "Epoch 98/120\n",
            "1718/1718 [==============================] - 27s 16ms/step - loss: 0.0036 - capsnet_loss: 0.0036 - decoder_loss: 0.1131 - capsnet_accuracy: 0.9991 - decoder_accuracy: 0.4140 - val_loss: 0.0249 - val_capsnet_loss: 0.0249 - val_decoder_loss: 0.1129 - val_capsnet_accuracy: 0.9640 - val_decoder_accuracy: 0.4219\n",
            "Epoch 99/120\n",
            "1718/1718 [==============================] - 28s 16ms/step - loss: 0.0019 - capsnet_loss: 0.0018 - decoder_loss: 0.1131 - capsnet_accuracy: 0.9997 - decoder_accuracy: 0.4157 - val_loss: 0.0571 - val_capsnet_loss: 0.0570 - val_decoder_loss: 0.1129 - val_capsnet_accuracy: 0.9674 - val_decoder_accuracy: 0.4223\n",
            "Epoch 100/120\n",
            "1718/1718 [==============================] - 28s 16ms/step - loss: 0.0031 - capsnet_loss: 0.0031 - decoder_loss: 0.1131 - capsnet_accuracy: 0.9991 - decoder_accuracy: 0.4165 - val_loss: 0.0241 - val_capsnet_loss: 0.0240 - val_decoder_loss: 0.1129 - val_capsnet_accuracy: 0.9709 - val_decoder_accuracy: 0.4223\n",
            "Epoch 101/120\n",
            "1718/1718 [==============================] - 29s 17ms/step - loss: 0.0017 - capsnet_loss: 0.0017 - decoder_loss: 0.1131 - capsnet_accuracy: 1.0000 - decoder_accuracy: 0.4172 - val_loss: 0.0254 - val_capsnet_loss: 0.0253 - val_decoder_loss: 0.1129 - val_capsnet_accuracy: 0.9674 - val_decoder_accuracy: 0.4252\n",
            "Epoch 102/120\n",
            "1718/1718 [==============================] - 28s 16ms/step - loss: 0.0053 - capsnet_loss: 0.0053 - decoder_loss: 0.1131 - capsnet_accuracy: 0.9977 - decoder_accuracy: 0.4181 - val_loss: 0.0284 - val_capsnet_loss: 0.0284 - val_decoder_loss: 0.1129 - val_capsnet_accuracy: 0.9640 - val_decoder_accuracy: 0.4266\n",
            "Epoch 103/120\n",
            "1718/1718 [==============================] - 28s 16ms/step - loss: 0.0030 - capsnet_loss: 0.0030 - decoder_loss: 0.1131 - capsnet_accuracy: 0.9985 - decoder_accuracy: 0.4190 - val_loss: 0.0243 - val_capsnet_loss: 0.0242 - val_decoder_loss: 0.1129 - val_capsnet_accuracy: 0.9640 - val_decoder_accuracy: 0.4243\n",
            "Epoch 104/120\n",
            "1718/1718 [==============================] - 28s 16ms/step - loss: 0.0052 - capsnet_loss: 0.0051 - decoder_loss: 0.1131 - capsnet_accuracy: 0.9977 - decoder_accuracy: 0.4197 - val_loss: 0.0230 - val_capsnet_loss: 0.0229 - val_decoder_loss: 0.1129 - val_capsnet_accuracy: 0.9686 - val_decoder_accuracy: 0.4255\n",
            "Epoch 105/120\n",
            "1718/1718 [==============================] - 27s 16ms/step - loss: 0.0025 - capsnet_loss: 0.0025 - decoder_loss: 0.1131 - capsnet_accuracy: 0.9997 - decoder_accuracy: 0.4200 - val_loss: 0.0227 - val_capsnet_loss: 0.0226 - val_decoder_loss: 0.1129 - val_capsnet_accuracy: 0.9709 - val_decoder_accuracy: 0.4274\n",
            "Epoch 106/120\n",
            "1718/1718 [==============================] - 26s 15ms/step - loss: 0.0032 - capsnet_loss: 0.0031 - decoder_loss: 0.1131 - capsnet_accuracy: 0.9994 - decoder_accuracy: 0.4215 - val_loss: 0.0228 - val_capsnet_loss: 0.0228 - val_decoder_loss: 0.1129 - val_capsnet_accuracy: 0.9721 - val_decoder_accuracy: 0.4251\n",
            "Epoch 107/120\n",
            "1718/1718 [==============================] - 28s 16ms/step - loss: 0.0029 - capsnet_loss: 0.0029 - decoder_loss: 0.1131 - capsnet_accuracy: 0.9991 - decoder_accuracy: 0.4220 - val_loss: 0.0249 - val_capsnet_loss: 0.0248 - val_decoder_loss: 0.1129 - val_capsnet_accuracy: 0.9674 - val_decoder_accuracy: 0.4299\n",
            "Epoch 108/120\n",
            "1718/1718 [==============================] - 28s 16ms/step - loss: 0.0043 - capsnet_loss: 0.0043 - decoder_loss: 0.1131 - capsnet_accuracy: 0.9988 - decoder_accuracy: 0.4231 - val_loss: 0.0198 - val_capsnet_loss: 0.0198 - val_decoder_loss: 0.1129 - val_capsnet_accuracy: 0.9698 - val_decoder_accuracy: 0.4287\n",
            "Epoch 109/120\n",
            "1718/1718 [==============================] - 27s 16ms/step - loss: 0.0015 - capsnet_loss: 0.0014 - decoder_loss: 0.1131 - capsnet_accuracy: 1.0000 - decoder_accuracy: 0.4240 - val_loss: 0.0218 - val_capsnet_loss: 0.0217 - val_decoder_loss: 0.1129 - val_capsnet_accuracy: 0.9698 - val_decoder_accuracy: 0.4301\n",
            "Epoch 110/120\n",
            "1718/1718 [==============================] - 28s 16ms/step - loss: 0.0033 - capsnet_loss: 0.0033 - decoder_loss: 0.1131 - capsnet_accuracy: 0.9988 - decoder_accuracy: 0.4250 - val_loss: 0.0270 - val_capsnet_loss: 0.0270 - val_decoder_loss: 0.1129 - val_capsnet_accuracy: 0.9593 - val_decoder_accuracy: 0.4324\n",
            "Epoch 111/120\n",
            "1718/1718 [==============================] - 28s 16ms/step - loss: 0.0035 - capsnet_loss: 0.0035 - decoder_loss: 0.1131 - capsnet_accuracy: 0.9988 - decoder_accuracy: 0.4251 - val_loss: 0.0189 - val_capsnet_loss: 0.0189 - val_decoder_loss: 0.1129 - val_capsnet_accuracy: 0.9756 - val_decoder_accuracy: 0.4297\n",
            "Epoch 112/120\n",
            "1718/1718 [==============================] - 28s 16ms/step - loss: 0.0034 - capsnet_loss: 0.0033 - decoder_loss: 0.1131 - capsnet_accuracy: 0.9991 - decoder_accuracy: 0.4263 - val_loss: 0.0227 - val_capsnet_loss: 0.0227 - val_decoder_loss: 0.1129 - val_capsnet_accuracy: 0.9651 - val_decoder_accuracy: 0.4321\n",
            "Epoch 113/120\n",
            "1718/1718 [==============================] - 28s 16ms/step - loss: 0.0020 - capsnet_loss: 0.0020 - decoder_loss: 0.1131 - capsnet_accuracy: 1.0000 - decoder_accuracy: 0.4272 - val_loss: 0.0195 - val_capsnet_loss: 0.0194 - val_decoder_loss: 0.1129 - val_capsnet_accuracy: 0.9698 - val_decoder_accuracy: 0.4330\n",
            "Epoch 114/120\n",
            "1718/1718 [==============================] - 29s 17ms/step - loss: 0.0038 - capsnet_loss: 0.0038 - decoder_loss: 0.1131 - capsnet_accuracy: 0.9991 - decoder_accuracy: 0.4279 - val_loss: 0.0205 - val_capsnet_loss: 0.0204 - val_decoder_loss: 0.1129 - val_capsnet_accuracy: 0.9767 - val_decoder_accuracy: 0.4349\n",
            "Epoch 115/120\n",
            "1718/1718 [==============================] - 27s 15ms/step - loss: 0.0041 - capsnet_loss: 0.0040 - decoder_loss: 0.1131 - capsnet_accuracy: 0.9985 - decoder_accuracy: 0.4288 - val_loss: 0.0219 - val_capsnet_loss: 0.0219 - val_decoder_loss: 0.1129 - val_capsnet_accuracy: 0.9744 - val_decoder_accuracy: 0.4351\n",
            "Epoch 116/120\n",
            "1718/1718 [==============================] - 27s 16ms/step - loss: 0.0017 - capsnet_loss: 0.0016 - decoder_loss: 0.1131 - capsnet_accuracy: 1.0000 - decoder_accuracy: 0.4294 - val_loss: 0.0173 - val_capsnet_loss: 0.0173 - val_decoder_loss: 0.1129 - val_capsnet_accuracy: 0.9744 - val_decoder_accuracy: 0.4344\n",
            "Epoch 117/120\n",
            "1718/1718 [==============================] - 26s 15ms/step - loss: 0.0040 - capsnet_loss: 0.0039 - decoder_loss: 0.1131 - capsnet_accuracy: 0.9985 - decoder_accuracy: 0.4310 - val_loss: 0.0197 - val_capsnet_loss: 0.0196 - val_decoder_loss: 0.1129 - val_capsnet_accuracy: 0.9744 - val_decoder_accuracy: 0.4365\n",
            "Epoch 118/120\n",
            "1718/1718 [==============================] - 26s 15ms/step - loss: 0.0016 - capsnet_loss: 0.0015 - decoder_loss: 0.1131 - capsnet_accuracy: 1.0000 - decoder_accuracy: 0.4318 - val_loss: 0.0246 - val_capsnet_loss: 0.0245 - val_decoder_loss: 0.1129 - val_capsnet_accuracy: 0.9663 - val_decoder_accuracy: 0.4383\n",
            "Epoch 119/120\n",
            "1718/1718 [==============================] - 27s 16ms/step - loss: 0.0035 - capsnet_loss: 0.0034 - decoder_loss: 0.1131 - capsnet_accuracy: 0.9977 - decoder_accuracy: 0.4325 - val_loss: 0.0249 - val_capsnet_loss: 0.0249 - val_decoder_loss: 0.1129 - val_capsnet_accuracy: 0.9663 - val_decoder_accuracy: 0.4396\n",
            "Epoch 120/120\n",
            "1718/1718 [==============================] - 29s 17ms/step - loss: 0.0023 - capsnet_loss: 0.0022 - decoder_loss: 0.1131 - capsnet_accuracy: 0.9991 - decoder_accuracy: 0.4329 - val_loss: 0.0200 - val_capsnet_loss: 0.0199 - val_decoder_loss: 0.1129 - val_capsnet_accuracy: 0.9709 - val_decoder_accuracy: 0.4394\n"
          ]
        }
      ],
      "source": [
        "lr_scheduler = keras.callbacks.ReduceLROnPlateau(monitor='val_capsnet_accuracy', mode='max', factor=0.5, patience=4)\n",
        "train_model.compile(optimizer=keras.optimizers.Adam(learning_rate=0.001, beta_1=0.9, beta_2=0.999), loss=[margin_loss, 'mse'], loss_weights=[1., 0.0005],\n",
        "                    metrics=['accuracy'])\n",
        "\n",
        "history= train_model.fit([x_train, y_train], [y_train, x_train], batch_size=m, epochs=epochs,\n",
        "                validation_data=([x_test, y_test], [y_test, x_test])\n",
        "                # , callbacks=[tensorboard_callback]\n",
        "                )\n"
      ]
    },
    {
      "cell_type": "code",
      "execution_count": null,
      "metadata": {
        "colab": {
          "base_uri": "https://localhost:8080/"
        },
        "id": "EtUsVvEaOm5a",
        "outputId": "42993c43-d783-494a-8a5f-33787f94187f"
      },
      "outputs": [
        {
          "output_type": "stream",
          "name": "stdout",
          "text": [
            "Test Loss: 0.0199\n",
            "Test Accuracy: 97.09%\n"
          ]
        }
      ],
      "source": [
        "evaluation_results = train_model.evaluate([x_test, y_test], [y_test, x_test], batch_size=m, verbose=0)\n",
        "# print(\"Test Loss:\", evaluation_results[0])\n",
        "# print(\"Test Accuracy:\", evaluation_results[3])\n",
        "\n",
        "test_loss = evaluation_results[1]\n",
        "test_accuracy = evaluation_results[3]\n",
        "\n",
        "print(f\"Test Loss: {test_loss:.4f}\")\n",
        "print(f\"Test Accuracy: {test_accuracy * 100:.2f}%\")\n"
      ]
    },
    {
      "cell_type": "code",
      "execution_count": null,
      "metadata": {
        "colab": {
          "base_uri": "https://localhost:8080/",
          "height": 430
        },
        "id": "through-poker",
        "outputId": "146ee545-bf0a-4a5b-80d7-793a12d66980"
      },
      "outputs": [
        {
          "output_type": "display_data",
          "data": {
            "text/plain": [
              "<Figure size 640x480 with 1 Axes>"
            ],
            "image/png": "[encoded data removed]"
          },
          "metadata": {}
        }
      ],
      "source": [
        "plt.plot(history.history[\"capsnet_accuracy\"] , 'ro-' , label = \"CapsNet Training Accuracy\")\n",
        "plt.plot(history.history[\"val_capsnet_accuracy\"] , 'go-' , label = \"CapsNet Testing Accuracy\")\n",
        "plt.legend()\n",
        "plt.show()"
      ]
    },
    {
      "cell_type": "code",
      "execution_count": null,
      "metadata": {
        "colab": {
          "base_uri": "https://localhost:8080/",
          "height": 431
        },
        "id": "statewide-individual",
        "outputId": "81ea0d27-a6ed-47ca-858f-644e612aff31"
      },
      "outputs": [
        {
          "output_type": "display_data",
          "data": {
            "text/plain": [
              "<Figure size 640x480 with 1 Axes>"
            ],
            "image/png": "[encoded data removed]"
          },
          "metadata": {}
        }
      ],
      "source": [
        "plt.plot(history.history[\"capsnet_loss\"] , 'ro-' , label = \"CapsNet Training Loss\")\n",
        "plt.plot(history.history[\"val_capsnet_loss\"] , 'go-' , label = \"CapsNet Testing Loss\")\n",
        "plt.legend()\n",
        "plt.show()"
      ]
    },
    {
      "cell_type": "code",
      "execution_count": null,
      "metadata": {
        "id": "VpIbIBddkBhf"
      },
      "outputs": [],
      "source": [
        "classes = {0: ('1','meningioma'),\n",
        "           1: ('2','glioma'),\n",
        "           2: ('3','pituitary')\n",
        "           }"
      ]
    },
    {
      "cell_type": "code",
      "execution_count": null,
      "metadata": {
        "colab": {
          "base_uri": "https://localhost:8080/"
        },
        "id": "a_W22XGGKnKT",
        "outputId": "a3d2d4ef-b642-4ad3-a7c5-11491d2e6186"
      },
      "outputs": [
        {
          "output_type": "stream",
          "name": "stdout",
          "text": [
            "(860,)\n"
          ]
        }
      ],
      "source": [
        "y_pred_list = train_model.predict([x_test, y_test], batch_size=m, verbose=0)  # Providing both image and label data\n",
        "y_pred_capsnet = y_pred_list[0]   # Getting the output from the capsnet layer\n",
        "y_pred_labels = np.argmax(y_pred_capsnet, axis=1)\n",
        "y_test_labels = np.argmax(y_test, axis=1)\n",
        "\n",
        "print(y_pred_labels.shape)\n"
      ]
    },
    {
      "cell_type": "code",
      "execution_count": null,
      "metadata": {
        "colab": {
          "base_uri": "https://localhost:8080/"
        },
        "id": "bzkENFKVjpto",
        "outputId": "5733dc9b-a68a-4684-ac49-56efd950e388"
      },
      "outputs": [
        {
          "output_type": "stream",
          "name": "stdout",
          "text": [
            "                     precision    recall  f1-score   support\n",
            "\n",
            "('1', 'meningioma')       0.96      0.96      0.96       277\n",
            "    ('2', 'glioma')       0.96      0.96      0.96       297\n",
            " ('3', 'pituitary')       0.99      0.99      0.99       286\n",
            "\n",
            "           accuracy                           0.97       860\n",
            "          macro avg       0.97      0.97      0.97       860\n",
            "       weighted avg       0.97      0.97      0.97       860\n",
            "\n"
          ]
        }
      ],
      "source": [
        "target_names = [f\"{classes[i]}\" for i in range(3)]\n",
        "print(classification_report(y_test_labels, y_pred_labels, target_names=target_names))"
      ]
    },
    {
      "cell_type": "code",
      "execution_count": null,
      "metadata": {
        "id": "mO_qh8EZl8qZ",
        "colab": {
          "base_uri": "https://localhost:8080/",
          "height": 467
        },
        "outputId": "b2ae149b-11ae-4e5b-b082-7183187fd41c"
      },
      "outputs": [
        {
          "output_type": "stream",
          "name": "stdout",
          "text": [
            "430/430 [==============================] - 2s 3ms/step\n",
            "A.I predicts: 1\n"
          ]
        },
        {
          "output_type": "display_data",
          "data": {
            "text/plain": [
              "<Figure size 640x480 with 1 Axes>"
            ],
            "image/png": "[encoded data removed]"
          },
          "metadata": {}
        }
      ],
      "source": [
        "from keras.models import Model\n",
        "simplified_model = Model(inputs=train_model.input, outputs=train_model.get_layer('capsnet').output)\n",
        "y_pred_capsnet = simplified_model.predict([x_test, y_test], batch_size=m)\n",
        "y_pred_labels = np.argmax(y_pred_capsnet, axis=1)\n",
        "\n",
        "X = 130\n",
        "\n",
        "# Preprocessing the image\n",
        "img_single = x_test[X]\n",
        "img_single_exp = np.expand_dims(img_single, 0)\n",
        "img_single_exp = img_single_exp.reshape(img_single_exp.shape[0], img_size, img_size, 3)\n",
        "\n",
        "# Ensure y_test is 2D (like one-hot encoded labels)\n",
        "if len(y_test.shape) != 2:\n",
        "    print(\"y_test doesn't have two dimensions. Please check its shape!\")\n",
        "else:\n",
        "    # Creating a dummy label to make a prediction since our model expects 2 inputs\n",
        "    dummy_label = np.zeros((1, y_test.shape[1]))\n",
        "\n",
        "    # Making the prediction for the single image\n",
        "    # predictions_list = train_model.predict([img_single_exp, dummy_label])\n",
        "\n",
        "\n",
        "    predictions_single = y_pred_labels[0]  # Extracting capsnet predictions\n",
        "\n",
        "        # Ensure the predicted category index doesn't exceed the categories list length\n",
        "    predicted_index = np.argmax(predictions_single)\n",
        "    if predicted_index >= len(categories):\n",
        "        print(\"Predicted index out of range for categories list!\")\n",
        "    else:\n",
        "        print('A.I predicts:', categories[predicted_index])\n",
        "\n",
        "# Visualizing the preprocessed image\n",
        "plt.imshow(np.squeeze(img_single_exp), cmap='gray')\n",
        "plt.grid(False)\n",
        "plt.show()\n"
      ]
    },
    {
      "cell_type": "code",
      "execution_count": null,
      "metadata": {
        "id": "cpA7vLLpgL0E",
        "colab": {
          "base_uri": "https://localhost:8080/"
        },
        "outputId": "e1ca5cf7-2f32-43d4-bb2f-26beff802edb"
      },
      "outputs": [
        {
          "output_type": "stream",
          "name": "stdout",
          "text": [
            "430/430 [==============================] - 2s 4ms/step\n"
          ]
        }
      ],
      "source": [
        "from keras.models import Model\n",
        "simplified_model = Model(inputs=train_model.input, outputs=train_model.get_layer('capsnet').output)\n",
        "y_pred_capsnet = simplified_model.predict([x_test, y_test], batch_size=m)\n",
        "y_pred_labels = np.argmax(y_pred_capsnet, axis=1)\n",
        "\n"
      ]
    },
    {
      "cell_type": "code",
      "execution_count": null,
      "metadata": {
        "colab": {
          "base_uri": "https://localhost:8080/",
          "height": 431
        },
        "id": "YO55PPeenshy",
        "outputId": "7addb92e-4794-4f39-8853-51eee804df23"
      },
      "outputs": [
        {
          "output_type": "display_data",
          "data": {
            "text/plain": [
              "<Figure size 500x400 with 2 Axes>"
            ],
            "image/png": "[encoded data removed]"
          },
          "metadata": {}
        }
      ],
      "source": [
        "from mlxtend.plotting import plot_confusion_matrix\n",
        "\n",
        "if y_test.shape[1] > 1:  # This checks if y_test is one-hot encoded\n",
        "    y_test_labels = np.argmax(y_test, axis=1)\n",
        "else:\n",
        "    y_test_labels = y_test\n",
        "from sklearn.metrics import confusion_matrix\n",
        "import seaborn as sns\n",
        "\n",
        "cm = confusion_matrix(y_test_labels, y_pred_labels)\n",
        "\n",
        "plt.figure(figsize=(5,4))\n",
        "sns.heatmap(cm, annot=True, fmt='g', cmap=plt.cm.Blues)\n",
        "plt.xlabel('Predicted')\n",
        "plt.ylabel('True')\n",
        "plt.xticks(range(3), ['meningioma', ' glioma', 'pituitary'], fontsize=10)\n",
        "plt.yticks(range(3), ['meningioma', ' glioma', 'pituitary'], fontsize=10)\n",
        "plt.show()\n"
      ]
    },
    {
      "cell_type": "code",
      "execution_count": null,
      "metadata": {
        "id": "twWzRWtKjDQy",
        "colab": {
          "base_uri": "https://localhost:8080/"
        },
        "outputId": "91fe5ce9-ff89-498e-fb6b-1d3c8fdcd5a8"
      },
      "outputs": [
        {
          "output_type": "stream",
          "name": "stdout",
          "text": [
            "430/430 [==============================] - 2s 4ms/step\n"
          ]
        }
      ],
      "source": [
        "from sklearn.metrics import roc_curve, auc, roc_auc_score\n",
        "from keras.models import Model\n",
        "fpr = dict()\n",
        "tpr = dict()\n",
        "roc_auc = dict()\n",
        "\n",
        "simplified_model = Model(inputs=train_model.input, outputs=train_model.get_layer('capsnet').output)\n",
        "y_pred_capsnet = simplified_model.predict([x_test, y_test], batch_size=m).round()\n",
        "y_pred_labels = np.argmax(y_pred_capsnet, axis=1)\n",
        "\n",
        "Y_test_1hot = to_categorical(y_test).round()\n",
        "Y_train_1hot = to_categorical(y_train).round()\n",
        "\n",
        "fpr = dict()\n",
        "tpr = dict()\n",
        "roc_auc = dict()\n",
        "\n",
        "# Ensure y_test is one-hot encoded, if not, convert it\n",
        "if y_test.shape[1] <= 1:\n",
        "    print(\"y_test doesn't appear to be one-hot encoded. Please check its shape!\")\n",
        "else:\n",
        "    Y_test_1hot = y_test\n",
        "    for i in range(3):\n",
        "        fpr[i], tpr[i], _ = roc_curve(Y_test_1hot[:, i], y_pred_capsnet[:, i])\n",
        "        roc_auc[i] = auc(fpr[i], tpr[i])\n",
        "\n",
        "\n",
        "fpr[\"micro\"], tpr[\"micro\"], _ = roc_curve(Y_test_1hot.ravel(), y_pred_capsnet.ravel())\n",
        "roc_auc[\"micro\"] = auc(fpr[\"micro\"], tpr[\"micro\"])"
      ]
    },
    {
      "cell_type": "code",
      "source": [],
      "metadata": {
        "id": "8z8cmxSqcUMa"
      },
      "execution_count": null,
      "outputs": []
    },
    {
      "cell_type": "code",
      "execution_count": null,
      "metadata": {
        "colab": {
          "base_uri": "https://localhost:8080/",
          "height": 472
        },
        "id": "IZDN5ioBJq-b",
        "outputId": "447de860-7206-4257-9bad-aa9a73f1a5c6"
      },
      "outputs": [
        {
          "output_type": "display_data",
          "data": {
            "text/plain": [
              "<Figure size 640x480 with 1 Axes>"
            ],
            "image/png": "[encoded data removed]"
          },
          "metadata": {}
        }
      ],
      "source": [
        "plt.figure()\n",
        "lw = 2\n",
        "plt.plot(fpr[2], tpr[2], color='darkorange',\n",
        "         lw=lw, label='ROC curve (area = %0.3f)' % roc_auc[2])\n",
        "plt.plot([0, 1], [0, 1], color='navy', lw=lw, linestyle='--')\n",
        "plt.xlim([0.0, 1.0])\n",
        "plt.ylim([0.0, 1.05])\n",
        "plt.xlabel('False Positive Rate')\n",
        "plt.ylabel('True Positive Rate')\n",
        "plt.title('Braib characteristic')\n",
        "plt.legend(loc=\"lower right\")\n",
        "plt.show()"
      ]
    }
  ],
  "metadata": {
    "accelerator": "GPU",
    "colab": {
      "gpuType": "T4",
      "machine_shape": "hm",
      "provenance": []
    },
    "kernelspec": {
      "display_name": "Python 3",
      "name": "python3"
    },
    "language_info": {
      "codemirror_mode": {
        "name": "ipython",
        "version": 3
      },
      "file_extension": ".py",
      "mimetype": "text/x-python",
      "name": "python",
      "nbconvert_exporter": "python",
      "pygments_lexer": "ipython3",
      "version": "3.7.1"
    }
  },
  "nbformat": 4,
  "nbformat_minor": 0
}