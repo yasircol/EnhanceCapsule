{
  "cells": [
    {
      "cell_type": "code",
      "execution_count": null,
      "metadata": {
        "colab": {
          "base_uri": "https://localhost:8080/"
        },
        "id": "portable-appendix",
        "outputId": "73ef4fda-06dd-4478-be36-452026d7bcb7"
      },
      "outputs": [
        {
          "output_type": "stream",
          "name": "stdout",
          "text": [
            "Drive already mounted at /content/drive; to attempt to forcibly remount, call drive.mount(\"/content/drive\", force_remount=True).\n"
          ]
        }
      ],
      "source": [
        "import pandas as pd\n",
        "import numpy as np\n",
        "import keras\n",
        "import tensorflow as tf\n",
        "import tensorflow.keras.layers as L\n",
        "import tensorflow.keras.models as M\n",
        "import tensorflow.keras.initializers as I\n",
        "import tensorflow.keras.backend as K\n",
        "from keras import optimizers\n",
        "from sklearn.model_selection import train_test_split\n",
        "from tensorflow.keras.utils import to_categorical\n",
        "import matplotlib.pyplot as plt\n",
        "import cv2,os\n",
        "from PIL import Image, ImageOps\n",
        "from google.colab.patches import cv2_imshow\n",
        "import csv\n",
        "import math\n",
        "from tensorflow.keras.utils import to_categorical\n",
        "from sklearn.metrics import confusion_matrix , classification_report,accuracy_score, ConfusionMatrixDisplay, recall_score\n",
        "from tensorflow.keras.layers import BatchNormalization\n",
        "import seaborn as sns\n",
        "import matplotlib.pyplot as plt\n",
        "from imblearn.over_sampling import RandomOverSampler\n",
        "import numpy as np\n",
        "import pandas as pd\n",
        "from sklearn.model_selection import train_test_split\n",
        "import os, cv2\n",
        "import tensorflow as tf\n",
        "from PIL import Image\n",
        "from google.colab import drive\n",
        "drive.mount('/content/drive')"
      ]
    },
    {
      "cell_type": "markdown",
      "metadata": {
        "id": "breathing-crystal"
      },
      "source": [
        ".# **Melanoma Ham DATA (HAM10000)**"
      ]
    },
    {
      "cell_type": "code",
      "execution_count": null,
      "metadata": {
        "colab": {
          "base_uri": "https://localhost:8080/",
          "height": 256
        },
        "id": "appointed-monkey",
        "outputId": "90493052-8a45-4b48-f647-edfe2b2374c2"
      },
      "outputs": [
        {
          "output_type": "execute_result",
          "data": {
            "text/plain": [
              "   pixel0000  pixel0001  pixel0002  pixel0003  pixel0004  pixel0005  \\\n",
              "0        192        153        193        195        155        192   \n",
              "1         25         14         30         68         48         75   \n",
              "2        192        138        153        200        145        163   \n",
              "3         38         19         30         95         59         72   \n",
              "4        158        113        139        194        144        174   \n",
              "\n",
              "   pixel0006  pixel0007  pixel0008  pixel0009  ...  pixel2343  pixel2344  \\\n",
              "0        197        154        185        202  ...        173        124   \n",
              "1        123         93        126        158  ...         60         39   \n",
              "2        201        142        160        206  ...        167        129   \n",
              "3        143        103        119        171  ...         44         26   \n",
              "4        215        162        191        225  ...        209        166   \n",
              "\n",
              "   pixel2345  pixel2346  pixel2347  pixel2348  pixel2349  pixel2350  \\\n",
              "0        138        183        147        166        185        154   \n",
              "1         55         25         14         28         25         14   \n",
              "2        143        159        124        142        136        104   \n",
              "3         36         25         12         17         25         12   \n",
              "4        185        172        135        149        109         78   \n",
              "\n",
              "   pixel2351  label  \n",
              "0        177      2  \n",
              "1         27      2  \n",
              "2        117      2  \n",
              "3         15      2  \n",
              "4         92      2  \n",
              "\n",
              "[5 rows x 2353 columns]"
            ],
            "text/html": [
              "\n",
              "  <div id=\"df-d7159877-bde5-4d06-8f4b-c9fcdeed507a\" class=\"colab-df-container\">\n",
              "    <div>\n",
              "<style scoped>\n",
              "    .dataframe tbody tr th:only-of-type {\n",
              "        vertical-align: middle;\n",
              "    }\n",
              "\n",
              "    .dataframe tbody tr th {\n",
              "        vertical-align: top;\n",
              "    }\n",
              "\n",
              "    .dataframe thead th {\n",
              "        text-align: right;\n",
              "    }\n",
              "</style>\n",
              "<table border=\"1\" class=\"dataframe\">\n",
              "  <thead>\n",
              "    <tr style=\"text-align: right;\">\n",
              "      <th></th>\n",
              "      <th>pixel0000</th>\n",
              "      <th>pixel0001</th>\n",
              "      <th>pixel0002</th>\n",
              "      <th>pixel0003</th>\n",
              "      <th>pixel0004</th>\n",
              "      <th>pixel0005</th>\n",
              "      <th>pixel0006</th>\n",
              "      <th>pixel0007</th>\n",
              "      <th>pixel0008</th>\n",
              "      <th>pixel0009</th>\n",
              "      <th>...</th>\n",
              "      <th>pixel2343</th>\n",
              "      <th>pixel2344</th>\n",
              "      <th>pixel2345</th>\n",
              "      <th>pixel2346</th>\n",
              "      <th>pixel2347</th>\n",
              "      <th>pixel2348</th>\n",
              "      <th>pixel2349</th>\n",
              "      <th>pixel2350</th>\n",
              "      <th>pixel2351</th>\n",
              "      <th>label</th>\n",
              "    </tr>\n",
              "  </thead>\n",
              "  <tbody>\n",
              "    <tr>\n",
              "      <th>0</th>\n",
              "      <td>192</td>\n",
              "      <td>153</td>\n",
              "      <td>193</td>\n",
              "      <td>195</td>\n",
              "      <td>155</td>\n",
              "      <td>192</td>\n",
              "      <td>197</td>\n",
              "      <td>154</td>\n",
              "      <td>185</td>\n",
              "      <td>202</td>\n",
              "      <td>...</td>\n",
              "      <td>173</td>\n",
              "      <td>124</td>\n",
              "      <td>138</td>\n",
              "      <td>183</td>\n",
              "      <td>147</td>\n",
              "      <td>166</td>\n",
              "      <td>185</td>\n",
              "      <td>154</td>\n",
              "      <td>177</td>\n",
              "      <td>2</td>\n",
              "    </tr>\n",
              "    <tr>\n",
              "      <th>1</th>\n",
              "      <td>25</td>\n",
              "      <td>14</td>\n",
              "      <td>30</td>\n",
              "      <td>68</td>\n",
              "      <td>48</td>\n",
              "      <td>75</td>\n",
              "      <td>123</td>\n",
              "      <td>93</td>\n",
              "      <td>126</td>\n",
              "      <td>158</td>\n",
              "      <td>...</td>\n",
              "      <td>60</td>\n",
              "      <td>39</td>\n",
              "      <td>55</td>\n",
              "      <td>25</td>\n",
              "      <td>14</td>\n",
              "      <td>28</td>\n",
              "      <td>25</td>\n",
              "      <td>14</td>\n",
              "      <td>27</td>\n",
              "      <td>2</td>\n",
              "    </tr>\n",
              "    <tr>\n",
              "      <th>2</th>\n",
              "      <td>192</td>\n",
              "      <td>138</td>\n",
              "      <td>153</td>\n",
              "      <td>200</td>\n",
              "      <td>145</td>\n",
              "      <td>163</td>\n",
              "      <td>201</td>\n",
              "      <td>142</td>\n",
              "      <td>160</td>\n",
              "      <td>206</td>\n",
              "      <td>...</td>\n",
              "      <td>167</td>\n",
              "      <td>129</td>\n",
              "      <td>143</td>\n",
              "      <td>159</td>\n",
              "      <td>124</td>\n",
              "      <td>142</td>\n",
              "      <td>136</td>\n",
              "      <td>104</td>\n",
              "      <td>117</td>\n",
              "      <td>2</td>\n",
              "    </tr>\n",
              "    <tr>\n",
              "      <th>3</th>\n",
              "      <td>38</td>\n",
              "      <td>19</td>\n",
              "      <td>30</td>\n",
              "      <td>95</td>\n",
              "      <td>59</td>\n",
              "      <td>72</td>\n",
              "      <td>143</td>\n",
              "      <td>103</td>\n",
              "      <td>119</td>\n",
              "      <td>171</td>\n",
              "      <td>...</td>\n",
              "      <td>44</td>\n",
              "      <td>26</td>\n",
              "      <td>36</td>\n",
              "      <td>25</td>\n",
              "      <td>12</td>\n",
              "      <td>17</td>\n",
              "      <td>25</td>\n",
              "      <td>12</td>\n",
              "      <td>15</td>\n",
              "      <td>2</td>\n",
              "    </tr>\n",
              "    <tr>\n",
              "      <th>4</th>\n",
              "      <td>158</td>\n",
              "      <td>113</td>\n",
              "      <td>139</td>\n",
              "      <td>194</td>\n",
              "      <td>144</td>\n",
              "      <td>174</td>\n",
              "      <td>215</td>\n",
              "      <td>162</td>\n",
              "      <td>191</td>\n",
              "      <td>225</td>\n",
              "      <td>...</td>\n",
              "      <td>209</td>\n",
              "      <td>166</td>\n",
              "      <td>185</td>\n",
              "      <td>172</td>\n",
              "      <td>135</td>\n",
              "      <td>149</td>\n",
              "      <td>109</td>\n",
              "      <td>78</td>\n",
              "      <td>92</td>\n",
              "      <td>2</td>\n",
              "    </tr>\n",
              "  </tbody>\n",
              "</table>\n",
              "<p>5 rows × 2353 columns</p>\n",
              "</div>\n",
              "    <div class=\"colab-df-buttons\">\n",
              "\n",
              "  <div class=\"colab-df-container\">\n",
              "    <button class=\"colab-df-convert\" onclick=\"convertToInteractive('df-d7159877-bde5-4d06-8f4b-c9fcdeed507a')\"\n",
              "            title=\"Convert this dataframe to an interactive table.\"\n",
              "            style=\"display:none;\">\n",
              "\n",
              "  <svg xmlns=\"http://www.w3.org/2000/svg\" height=\"24px\" viewBox=\"0 -960 960 960\">\n",
              "    <path d=\"M120-120v-720h720v720H120Zm60-500h600v-160H180v160Zm220 220h160v-160H400v160Zm0 220h160v-160H400v160ZM180-400h160v-160H180v160Zm440 0h160v-160H620v160ZM180-180h160v-160H180v160Zm440 0h160v-160H620v160Z\"/>\n",
              "  </svg>\n",
              "    </button>\n",
              "\n",
              "  <style>\n",
              "    .colab-df-container {\n",
              "      display:flex;\n",
              "      gap: 12px;\n",
              "    }\n",
              "\n",
              "    .colab-df-convert {\n",
              "      background-color: #E8F0FE;\n",
              "      border: none;\n",
              "      border-radius: 50%;\n",
              "      cursor: pointer;\n",
              "      display: none;\n",
              "      fill: #1967D2;\n",
              "      height: 32px;\n",
              "      padding: 0 0 0 0;\n",
              "      width: 32px;\n",
              "    }\n",
              "\n",
              "    .colab-df-convert:hover {\n",
              "      background-color: #E2EBFA;\n",
              "      box-shadow: 0px 1px 2px rgba(60, 64, 67, 0.3), 0px 1px 3px 1px rgba(60, 64, 67, 0.15);\n",
              "      fill: #174EA6;\n",
              "    }\n",
              "\n",
              "    .colab-df-buttons div {\n",
              "      margin-bottom: 4px;\n",
              "    }\n",
              "\n",
              "    [theme=dark] .colab-df-convert {\n",
              "      background-color: #3B4455;\n",
              "      fill: #D2E3FC;\n",
              "    }\n",
              "\n",
              "    [theme=dark] .colab-df-convert:hover {\n",
              "      background-color: #434B5C;\n",
              "      box-shadow: 0px 1px 3px 1px rgba(0, 0, 0, 0.15);\n",
              "      filter: drop-shadow(0px 1px 2px rgba(0, 0, 0, 0.3));\n",
              "      fill: #FFFFFF;\n",
              "    }\n",
              "  </style>\n",
              "\n",
              "    <script>\n",
              "      const buttonEl =\n",
              "        document.querySelector('#df-d7159877-bde5-4d06-8f4b-c9fcdeed507a button.colab-df-convert');\n",
              "      buttonEl.style.display =\n",
              "        google.colab.kernel.accessAllowed ? 'block' : 'none';\n",
              "\n",
              "      async function convertToInteractive(key) {\n",
              "        const element = document.querySelector('#df-d7159877-bde5-4d06-8f4b-c9fcdeed507a');\n",
              "        const dataTable =\n",
              "          await google.colab.kernel.invokeFunction('convertToInteractive',\n",
              "                                                    [key], {});\n",
              "        if (!dataTable) return;\n",
              "\n",
              "        const docLinkHtml = 'Like what you see? Visit the ' +\n",
              "          '<a target=\"_blank\" href=https://colab.research.google.com/notebooks/data_table.ipynb>data table notebook</a>'\n",
              "          + ' to learn more about interactive tables.';\n",
              "        element.innerHTML = '';\n",
              "        dataTable['output_type'] = 'display_data';\n",
              "        await google.colab.output.renderOutput(dataTable, element);\n",
              "        const docLink = document.createElement('div');\n",
              "        docLink.innerHTML = docLinkHtml;\n",
              "        element.appendChild(docLink);\n",
              "      }\n",
              "    </script>\n",
              "  </div>\n",
              "\n",
              "\n",
              "<div id=\"df-980045d3-7c66-4c1a-a6b1-dd63d1e8354f\">\n",
              "  <button class=\"colab-df-quickchart\" onclick=\"quickchart('df-980045d3-7c66-4c1a-a6b1-dd63d1e8354f')\"\n",
              "            title=\"Suggest charts\"\n",
              "            style=\"display:none;\">\n",
              "\n",
              "<svg xmlns=\"http://www.w3.org/2000/svg\" height=\"24px\"viewBox=\"0 0 24 24\"\n",
              "     width=\"24px\">\n",
              "    <g>\n",
              "        <path d=\"M19 3H5c-1.1 0-2 .9-2 2v14c0 1.1.9 2 2 2h14c1.1 0 2-.9 2-2V5c0-1.1-.9-2-2-2zM9 17H7v-7h2v7zm4 0h-2V7h2v10zm4 0h-2v-4h2v4z\"/>\n",
              "    </g>\n",
              "</svg>\n",
              "  </button>\n",
              "\n",
              "<style>\n",
              "  .colab-df-quickchart {\n",
              "      --bg-color: #E8F0FE;\n",
              "      --fill-color: #1967D2;\n",
              "      --hover-bg-color: #E2EBFA;\n",
              "      --hover-fill-color: #174EA6;\n",
              "      --disabled-fill-color: #AAA;\n",
              "      --disabled-bg-color: #DDD;\n",
              "  }\n",
              "\n",
              "  [theme=dark] .colab-df-quickchart {\n",
              "      --bg-color: #3B4455;\n",
              "      --fill-color: #D2E3FC;\n",
              "      --hover-bg-color: #434B5C;\n",
              "      --hover-fill-color: #FFFFFF;\n",
              "      --disabled-bg-color: #3B4455;\n",
              "      --disabled-fill-color: #666;\n",
              "  }\n",
              "\n",
              "  .colab-df-quickchart {\n",
              "    background-color: var(--bg-color);\n",
              "    border: none;\n",
              "    border-radius: 50%;\n",
              "    cursor: pointer;\n",
              "    display: none;\n",
              "    fill: var(--fill-color);\n",
              "    height: 32px;\n",
              "    padding: 0;\n",
              "    width: 32px;\n",
              "  }\n",
              "\n",
              "  .colab-df-quickchart:hover {\n",
              "    background-color: var(--hover-bg-color);\n",
              "    box-shadow: 0 1px 2px rgba(60, 64, 67, 0.3), 0 1px 3px 1px rgba(60, 64, 67, 0.15);\n",
              "    fill: var(--button-hover-fill-color);\n",
              "  }\n",
              "\n",
              "  .colab-df-quickchart-complete:disabled,\n",
              "  .colab-df-quickchart-complete:disabled:hover {\n",
              "    background-color: var(--disabled-bg-color);\n",
              "    fill: var(--disabled-fill-color);\n",
              "    box-shadow: none;\n",
              "  }\n",
              "\n",
              "  .colab-df-spinner {\n",
              "    border: 2px solid var(--fill-color);\n",
              "    border-color: transparent;\n",
              "    border-bottom-color: var(--fill-color);\n",
              "    animation:\n",
              "      spin 1s steps(1) infinite;\n",
              "  }\n",
              "\n",
              "  @keyframes spin {\n",
              "    0% {\n",
              "      border-color: transparent;\n",
              "      border-bottom-color: var(--fill-color);\n",
              "      border-left-color: var(--fill-color);\n",
              "    }\n",
              "    20% {\n",
              "      border-color: transparent;\n",
              "      border-left-color: var(--fill-color);\n",
              "      border-top-color: var(--fill-color);\n",
              "    }\n",
              "    30% {\n",
              "      border-color: transparent;\n",
              "      border-left-color: var(--fill-color);\n",
              "      border-top-color: var(--fill-color);\n",
              "      border-right-color: var(--fill-color);\n",
              "    }\n",
              "    40% {\n",
              "      border-color: transparent;\n",
              "      border-right-color: var(--fill-color);\n",
              "      border-top-color: var(--fill-color);\n",
              "    }\n",
              "    60% {\n",
              "      border-color: transparent;\n",
              "      border-right-color: var(--fill-color);\n",
              "    }\n",
              "    80% {\n",
              "      border-color: transparent;\n",
              "      border-right-color: var(--fill-color);\n",
              "      border-bottom-color: var(--fill-color);\n",
              "    }\n",
              "    90% {\n",
              "      border-color: transparent;\n",
              "      border-bottom-color: var(--fill-color);\n",
              "    }\n",
              "  }\n",
              "</style>\n",
              "\n",
              "  <script>\n",
              "    async function quickchart(key) {\n",
              "      const quickchartButtonEl =\n",
              "        document.querySelector('#' + key + ' button');\n",
              "      quickchartButtonEl.disabled = true;  // To prevent multiple clicks.\n",
              "      quickchartButtonEl.classList.add('colab-df-spinner');\n",
              "      try {\n",
              "        const charts = await google.colab.kernel.invokeFunction(\n",
              "            'suggestCharts', [key], {});\n",
              "      } catch (error) {\n",
              "        console.error('Error during call to suggestCharts:', error);\n",
              "      }\n",
              "      quickchartButtonEl.classList.remove('colab-df-spinner');\n",
              "      quickchartButtonEl.classList.add('colab-df-quickchart-complete');\n",
              "    }\n",
              "    (() => {\n",
              "      let quickchartButtonEl =\n",
              "        document.querySelector('#df-980045d3-7c66-4c1a-a6b1-dd63d1e8354f button');\n",
              "      quickchartButtonEl.style.display =\n",
              "        google.colab.kernel.accessAllowed ? 'block' : 'none';\n",
              "    })();\n",
              "  </script>\n",
              "</div>\n",
              "\n",
              "    </div>\n",
              "  </div>\n"
            ],
            "application/vnd.google.colaboratory.intrinsic+json": {
              "type": "dataframe",
              "variable_name": "data"
            }
          },
          "metadata": {},
          "execution_count": 43
        }
      ],
      "source": [
        "data = pd.read_csv('/content/drive/MyDrive/Dataset/melanoma/hmnist_28_28_RGB.csv')\n",
        "data.head()"
      ]
    },
    {
      "cell_type": "code",
      "execution_count": null,
      "metadata": {
        "colab": {
          "base_uri": "https://localhost:8080/"
        },
        "id": "mathematical-gravity",
        "outputId": "1dcacee5-e764-4334-8c9c-75ecdcb62c8c"
      },
      "outputs": [
        {
          "output_type": "execute_result",
          "data": {
            "text/plain": [
              "(10015, 2352)"
            ]
          },
          "metadata": {},
          "execution_count": 44
        }
      ],
      "source": [
        "#I realize the last column being the label\n",
        "y = data['label']\n",
        "x = data.drop(columns = ['label'])\n",
        "#get x_train ,y_train\n",
        "x.shape"
      ]
    },
    {
      "cell_type": "markdown",
      "metadata": {
        "id": "focal-liberia"
      },
      "source": [
        "# **Melanoma Meta DATA**"
      ]
    },
    {
      "cell_type": "code",
      "execution_count": null,
      "metadata": {
        "colab": {
          "base_uri": "https://localhost:8080/",
          "height": 206
        },
        "id": "dynamic-leader",
        "outputId": "c46b0b3c-bb2e-4938-8e75-e7acc2735632"
      },
      "outputs": [
        {
          "output_type": "execute_result",
          "data": {
            "text/plain": [
              "     lesion_id      image_id   dx dx_type   age   sex localization\n",
              "0  HAM_0000118  ISIC_0027419  bkl   histo  80.0  male        scalp\n",
              "1  HAM_0000118  ISIC_0025030  bkl   histo  80.0  male        scalp\n",
              "2  HAM_0002730  ISIC_0026769  bkl   histo  80.0  male        scalp\n",
              "3  HAM_0002730  ISIC_0025661  bkl   histo  80.0  male        scalp\n",
              "4  HAM_0001466  ISIC_0031633  bkl   histo  75.0  male          ear"
            ],
            "text/html": [
              "\n",
              "  <div id=\"df-55d449c0-6bca-43a3-b94a-18166a98eab1\" class=\"colab-df-container\">\n",
              "    <div>\n",
              "<style scoped>\n",
              "    .dataframe tbody tr th:only-of-type {\n",
              "        vertical-align: middle;\n",
              "    }\n",
              "\n",
              "    .dataframe tbody tr th {\n",
              "        vertical-align: top;\n",
              "    }\n",
              "\n",
              "    .dataframe thead th {\n",
              "        text-align: right;\n",
              "    }\n",
              "</style>\n",
              "<table border=\"1\" class=\"dataframe\">\n",
              "  <thead>\n",
              "    <tr style=\"text-align: right;\">\n",
              "      <th></th>\n",
              "      <th>lesion_id</th>\n",
              "      <th>image_id</th>\n",
              "      <th>dx</th>\n",
              "      <th>dx_type</th>\n",
              "      <th>age</th>\n",
              "      <th>sex</th>\n",
              "      <th>localization</th>\n",
              "    </tr>\n",
              "  </thead>\n",
              "  <tbody>\n",
              "    <tr>\n",
              "      <th>0</th>\n",
              "      <td>HAM_0000118</td>\n",
              "      <td>ISIC_0027419</td>\n",
              "      <td>bkl</td>\n",
              "      <td>histo</td>\n",
              "      <td>80.0</td>\n",
              "      <td>male</td>\n",
              "      <td>scalp</td>\n",
              "    </tr>\n",
              "    <tr>\n",
              "      <th>1</th>\n",
              "      <td>HAM_0000118</td>\n",
              "      <td>ISIC_0025030</td>\n",
              "      <td>bkl</td>\n",
              "      <td>histo</td>\n",
              "      <td>80.0</td>\n",
              "      <td>male</td>\n",
              "      <td>scalp</td>\n",
              "    </tr>\n",
              "    <tr>\n",
              "      <th>2</th>\n",
              "      <td>HAM_0002730</td>\n",
              "      <td>ISIC_0026769</td>\n",
              "      <td>bkl</td>\n",
              "      <td>histo</td>\n",
              "      <td>80.0</td>\n",
              "      <td>male</td>\n",
              "      <td>scalp</td>\n",
              "    </tr>\n",
              "    <tr>\n",
              "      <th>3</th>\n",
              "      <td>HAM_0002730</td>\n",
              "      <td>ISIC_0025661</td>\n",
              "      <td>bkl</td>\n",
              "      <td>histo</td>\n",
              "      <td>80.0</td>\n",
              "      <td>male</td>\n",
              "      <td>scalp</td>\n",
              "    </tr>\n",
              "    <tr>\n",
              "      <th>4</th>\n",
              "      <td>HAM_0001466</td>\n",
              "      <td>ISIC_0031633</td>\n",
              "      <td>bkl</td>\n",
              "      <td>histo</td>\n",
              "      <td>75.0</td>\n",
              "      <td>male</td>\n",
              "      <td>ear</td>\n",
              "    </tr>\n",
              "  </tbody>\n",
              "</table>\n",
              "</div>\n",
              "    <div class=\"colab-df-buttons\">\n",
              "\n",
              "  <div class=\"colab-df-container\">\n",
              "    <button class=\"colab-df-convert\" onclick=\"convertToInteractive('df-55d449c0-6bca-43a3-b94a-18166a98eab1')\"\n",
              "            title=\"Convert this dataframe to an interactive table.\"\n",
              "            style=\"display:none;\">\n",
              "\n",
              "  <svg xmlns=\"http://www.w3.org/2000/svg\" height=\"24px\" viewBox=\"0 -960 960 960\">\n",
              "    <path d=\"M120-120v-720h720v720H120Zm60-500h600v-160H180v160Zm220 220h160v-160H400v160Zm0 220h160v-160H400v160ZM180-400h160v-160H180v160Zm440 0h160v-160H620v160ZM180-180h160v-160H180v160Zm440 0h160v-160H620v160Z\"/>\n",
              "  </svg>\n",
              "    </button>\n",
              "\n",
              "  <style>\n",
              "    .colab-df-container {\n",
              "      display:flex;\n",
              "      gap: 12px;\n",
              "    }\n",
              "\n",
              "    .colab-df-convert {\n",
              "      background-color: #E8F0FE;\n",
              "      border: none;\n",
              "      border-radius: 50%;\n",
              "      cursor: pointer;\n",
              "      display: none;\n",
              "      fill: #1967D2;\n",
              "      height: 32px;\n",
              "      padding: 0 0 0 0;\n",
              "      width: 32px;\n",
              "    }\n",
              "\n",
              "    .colab-df-convert:hover {\n",
              "      background-color: #E2EBFA;\n",
              "      box-shadow: 0px 1px 2px rgba(60, 64, 67, 0.3), 0px 1px 3px 1px rgba(60, 64, 67, 0.15);\n",
              "      fill: #174EA6;\n",
              "    }\n",
              "\n",
              "    .colab-df-buttons div {\n",
              "      margin-bottom: 4px;\n",
              "    }\n",
              "\n",
              "    [theme=dark] .colab-df-convert {\n",
              "      background-color: #3B4455;\n",
              "      fill: #D2E3FC;\n",
              "    }\n",
              "\n",
              "    [theme=dark] .colab-df-convert:hover {\n",
              "      background-color: #434B5C;\n",
              "      box-shadow: 0px 1px 3px 1px rgba(0, 0, 0, 0.15);\n",
              "      filter: drop-shadow(0px 1px 2px rgba(0, 0, 0, 0.3));\n",
              "      fill: #FFFFFF;\n",
              "    }\n",
              "  </style>\n",
              "\n",
              "    <script>\n",
              "      const buttonEl =\n",
              "        document.querySelector('#df-55d449c0-6bca-43a3-b94a-18166a98eab1 button.colab-df-convert');\n",
              "      buttonEl.style.display =\n",
              "        google.colab.kernel.accessAllowed ? 'block' : 'none';\n",
              "\n",
              "      async function convertToInteractive(key) {\n",
              "        const element = document.querySelector('#df-55d449c0-6bca-43a3-b94a-18166a98eab1');\n",
              "        const dataTable =\n",
              "          await google.colab.kernel.invokeFunction('convertToInteractive',\n",
              "                                                    [key], {});\n",
              "        if (!dataTable) return;\n",
              "\n",
              "        const docLinkHtml = 'Like what you see? Visit the ' +\n",
              "          '<a target=\"_blank\" href=https://colab.research.google.com/notebooks/data_table.ipynb>data table notebook</a>'\n",
              "          + ' to learn more about interactive tables.';\n",
              "        element.innerHTML = '';\n",
              "        dataTable['output_type'] = 'display_data';\n",
              "        await google.colab.output.renderOutput(dataTable, element);\n",
              "        const docLink = document.createElement('div');\n",
              "        docLink.innerHTML = docLinkHtml;\n",
              "        element.appendChild(docLink);\n",
              "      }\n",
              "    </script>\n",
              "  </div>\n",
              "\n",
              "\n",
              "<div id=\"df-c53eb29d-f50b-4bc8-b2a7-55dfecb83c49\">\n",
              "  <button class=\"colab-df-quickchart\" onclick=\"quickchart('df-c53eb29d-f50b-4bc8-b2a7-55dfecb83c49')\"\n",
              "            title=\"Suggest charts\"\n",
              "            style=\"display:none;\">\n",
              "\n",
              "<svg xmlns=\"http://www.w3.org/2000/svg\" height=\"24px\"viewBox=\"0 0 24 24\"\n",
              "     width=\"24px\">\n",
              "    <g>\n",
              "        <path d=\"M19 3H5c-1.1 0-2 .9-2 2v14c0 1.1.9 2 2 2h14c1.1 0 2-.9 2-2V5c0-1.1-.9-2-2-2zM9 17H7v-7h2v7zm4 0h-2V7h2v10zm4 0h-2v-4h2v4z\"/>\n",
              "    </g>\n",
              "</svg>\n",
              "  </button>\n",
              "\n",
              "<style>\n",
              "  .colab-df-quickchart {\n",
              "      --bg-color: #E8F0FE;\n",
              "      --fill-color: #1967D2;\n",
              "      --hover-bg-color: #E2EBFA;\n",
              "      --hover-fill-color: #174EA6;\n",
              "      --disabled-fill-color: #AAA;\n",
              "      --disabled-bg-color: #DDD;\n",
              "  }\n",
              "\n",
              "  [theme=dark] .colab-df-quickchart {\n",
              "      --bg-color: #3B4455;\n",
              "      --fill-color: #D2E3FC;\n",
              "      --hover-bg-color: #434B5C;\n",
              "      --hover-fill-color: #FFFFFF;\n",
              "      --disabled-bg-color: #3B4455;\n",
              "      --disabled-fill-color: #666;\n",
              "  }\n",
              "\n",
              "  .colab-df-quickchart {\n",
              "    background-color: var(--bg-color);\n",
              "    border: none;\n",
              "    border-radius: 50%;\n",
              "    cursor: pointer;\n",
              "    display: none;\n",
              "    fill: var(--fill-color);\n",
              "    height: 32px;\n",
              "    padding: 0;\n",
              "    width: 32px;\n",
              "  }\n",
              "\n",
              "  .colab-df-quickchart:hover {\n",
              "    background-color: var(--hover-bg-color);\n",
              "    box-shadow: 0 1px 2px rgba(60, 64, 67, 0.3), 0 1px 3px 1px rgba(60, 64, 67, 0.15);\n",
              "    fill: var(--button-hover-fill-color);\n",
              "  }\n",
              "\n",
              "  .colab-df-quickchart-complete:disabled,\n",
              "  .colab-df-quickchart-complete:disabled:hover {\n",
              "    background-color: var(--disabled-bg-color);\n",
              "    fill: var(--disabled-fill-color);\n",
              "    box-shadow: none;\n",
              "  }\n",
              "\n",
              "  .colab-df-spinner {\n",
              "    border: 2px solid var(--fill-color);\n",
              "    border-color: transparent;\n",
              "    border-bottom-color: var(--fill-color);\n",
              "    animation:\n",
              "      spin 1s steps(1) infinite;\n",
              "  }\n",
              "\n",
              "  @keyframes spin {\n",
              "    0% {\n",
              "      border-color: transparent;\n",
              "      border-bottom-color: var(--fill-color);\n",
              "      border-left-color: var(--fill-color);\n",
              "    }\n",
              "    20% {\n",
              "      border-color: transparent;\n",
              "      border-left-color: var(--fill-color);\n",
              "      border-top-color: var(--fill-color);\n",
              "    }\n",
              "    30% {\n",
              "      border-color: transparent;\n",
              "      border-left-color: var(--fill-color);\n",
              "      border-top-color: var(--fill-color);\n",
              "      border-right-color: var(--fill-color);\n",
              "    }\n",
              "    40% {\n",
              "      border-color: transparent;\n",
              "      border-right-color: var(--fill-color);\n",
              "      border-top-color: var(--fill-color);\n",
              "    }\n",
              "    60% {\n",
              "      border-color: transparent;\n",
              "      border-right-color: var(--fill-color);\n",
              "    }\n",
              "    80% {\n",
              "      border-color: transparent;\n",
              "      border-right-color: var(--fill-color);\n",
              "      border-bottom-color: var(--fill-color);\n",
              "    }\n",
              "    90% {\n",
              "      border-color: transparent;\n",
              "      border-bottom-color: var(--fill-color);\n",
              "    }\n",
              "  }\n",
              "</style>\n",
              "\n",
              "  <script>\n",
              "    async function quickchart(key) {\n",
              "      const quickchartButtonEl =\n",
              "        document.querySelector('#' + key + ' button');\n",
              "      quickchartButtonEl.disabled = true;  // To prevent multiple clicks.\n",
              "      quickchartButtonEl.classList.add('colab-df-spinner');\n",
              "      try {\n",
              "        const charts = await google.colab.kernel.invokeFunction(\n",
              "            'suggestCharts', [key], {});\n",
              "      } catch (error) {\n",
              "        console.error('Error during call to suggestCharts:', error);\n",
              "      }\n",
              "      quickchartButtonEl.classList.remove('colab-df-spinner');\n",
              "      quickchartButtonEl.classList.add('colab-df-quickchart-complete');\n",
              "    }\n",
              "    (() => {\n",
              "      let quickchartButtonEl =\n",
              "        document.querySelector('#df-c53eb29d-f50b-4bc8-b2a7-55dfecb83c49 button');\n",
              "      quickchartButtonEl.style.display =\n",
              "        google.colab.kernel.accessAllowed ? 'block' : 'none';\n",
              "    })();\n",
              "  </script>\n",
              "</div>\n",
              "\n",
              "    </div>\n",
              "  </div>\n"
            ],
            "application/vnd.google.colaboratory.intrinsic+json": {
              "type": "dataframe",
              "variable_name": "other",
              "summary": "{\n  \"name\": \"other\",\n  \"rows\": 10015,\n  \"fields\": [\n    {\n      \"column\": \"lesion_id\",\n      \"properties\": {\n        \"dtype\": \"string\",\n        \"num_unique_values\": 7470,\n        \"samples\": [\n          \"HAM_0002743\",\n          \"HAM_0004142\",\n          \"HAM_0003658\"\n        ],\n        \"semantic_type\": \"\",\n        \"description\": \"\"\n      }\n    },\n    {\n      \"column\": \"image_id\",\n      \"properties\": {\n        \"dtype\": \"string\",\n        \"num_unique_values\": 10015,\n        \"samples\": [\n          \"ISIC_0033272\",\n          \"ISIC_0031923\",\n          \"ISIC_0026652\"\n        ],\n        \"semantic_type\": \"\",\n        \"description\": \"\"\n      }\n    },\n    {\n      \"column\": \"dx\",\n      \"properties\": {\n        \"dtype\": \"category\",\n        \"num_unique_values\": 7,\n        \"samples\": [\n          \"bkl\",\n          \"nv\",\n          \"bcc\"\n        ],\n        \"semantic_type\": \"\",\n        \"description\": \"\"\n      }\n    },\n    {\n      \"column\": \"dx_type\",\n      \"properties\": {\n        \"dtype\": \"category\",\n        \"num_unique_values\": 4,\n        \"samples\": [\n          \"consensus\",\n          \"follow_up\",\n          \"histo\"\n        ],\n        \"semantic_type\": \"\",\n        \"description\": \"\"\n      }\n    },\n    {\n      \"column\": \"age\",\n      \"properties\": {\n        \"dtype\": \"number\",\n        \"std\": 16.96861369249538,\n        \"min\": 0.0,\n        \"max\": 85.0,\n        \"num_unique_values\": 18,\n        \"samples\": [\n          80.0,\n          75.0,\n          50.0\n        ],\n        \"semantic_type\": \"\",\n        \"description\": \"\"\n      }\n    },\n    {\n      \"column\": \"sex\",\n      \"properties\": {\n        \"dtype\": \"category\",\n        \"num_unique_values\": 3,\n        \"samples\": [\n          \"male\",\n          \"female\",\n          \"unknown\"\n        ],\n        \"semantic_type\": \"\",\n        \"description\": \"\"\n      }\n    },\n    {\n      \"column\": \"localization\",\n      \"properties\": {\n        \"dtype\": \"category\",\n        \"num_unique_values\": 15,\n        \"samples\": [\n          \"lower extremity\",\n          \"neck\",\n          \"scalp\"\n        ],\n        \"semantic_type\": \"\",\n        \"description\": \"\"\n      }\n    }\n  ]\n}"
            }
          },
          "metadata": {},
          "execution_count": 45
        }
      ],
      "source": [
        "other = pd.read_csv('/content/drive/MyDrive/Dataset/melanoma/HAM10000_metadata.csv')\n",
        "other.head()"
      ]
    },
    {
      "cell_type": "code",
      "execution_count": null,
      "metadata": {
        "id": "strange-clarity"
      },
      "outputs": [],
      "source": [
        "#After review infomations of the data, I knew 'dx' column being diseases's name.\n",
        "\n",
        "classes = {4: ('nv', ' melanocytic nevi'),\n",
        "           6: ('mel', 'melanoma'),\n",
        "           2 :('bkl', 'benign keratosis-like lesions'),\n",
        "           1:('bcc' , ' Maligna Melanoma'),\n",
        "           5: ('vasc', ' pyogenic granulomas and hemorrhage'),\n",
        "           0: ('akiec', 'Actinic keratoses and intraepithelial carcinomae'),\n",
        "           3: ('df', 'dermatofibroma')}\n"
      ]
    },
    {
      "cell_type": "markdown",
      "metadata": {
        "id": "removed-being"
      },
      "source": [
        "# **Unbalanced data DISTRIBUTION**"
      ]
    },
    {
      "cell_type": "code",
      "execution_count": null,
      "metadata": {
        "colab": {
          "base_uri": "https://localhost:8080/"
        },
        "id": "false-gabriel",
        "outputId": "55fdacc1-67dd-412f-81e6-090f85146602"
      },
      "outputs": [
        {
          "output_type": "execute_result",
          "data": {
            "text/plain": [
              "(label\n",
              " (nv,  melanocytic nevi)                                      False\n",
              " (mel, melanoma)                                              False\n",
              " (bkl, benign keratosis-like lesions)                         False\n",
              " (bcc,  Maligna Melanoma)                                      True\n",
              " (akiec, Actinic keratoses and intraepithelial carcinomae)     True\n",
              " (vasc,  pyogenic granulomas and hemorrhage)                   True\n",
              " (df, dermatofibroma)                                          True\n",
              " Name: count, dtype: bool,\n",
              " label\n",
              " (nv,  melanocytic nevi)                                       True\n",
              " (mel, melanoma)                                              False\n",
              " (bkl, benign keratosis-like lesions)                         False\n",
              " (bcc,  Maligna Melanoma)                                     False\n",
              " (akiec, Actinic keratoses and intraepithelial carcinomae)    False\n",
              " (vasc,  pyogenic granulomas and hemorrhage)                  False\n",
              " (df, dermatofibroma)                                         False\n",
              " Name: count, dtype: bool,\n",
              " label\n",
              " (nv,  melanocytic nevi)                                      6705\n",
              " (mel, melanoma)                                              1113\n",
              " (bkl, benign keratosis-like lesions)                         1099\n",
              " (bcc,  Maligna Melanoma)                                      514\n",
              " (akiec, Actinic keratoses and intraepithelial carcinomae)     327\n",
              " (vasc,  pyogenic granulomas and hemorrhage)                   142\n",
              " (df, dermatofibroma)                                          115\n",
              " Name: count, dtype: int64)"
            ]
          },
          "metadata": {},
          "execution_count": 47
        }
      ],
      "source": [
        "k = y.map(classes.get)\n",
        "k.value_counts() < 1000, k.value_counts() > 5000,k.value_counts()"
      ]
    },
    {
      "cell_type": "markdown",
      "metadata": {
        "id": "previous-desire"
      },
      "source": [
        "# **Standardization and Splitting Data**"
      ]
    },
    {
      "cell_type": "code",
      "execution_count": null,
      "metadata": {
        "id": "KO87r9ci1qPf"
      },
      "outputs": [],
      "source": [
        "\n",
        "# Convert your data and label lists to numpy arrays\n",
        "data_np = np.array(x)\n",
        "label_np = np.array(y)\n",
        "# Reshape the data for oversampling\n",
        "data_reshaped = data_np.reshape(data_np.shape[0], -1)\n"
      ]
    },
    {
      "cell_type": "code",
      "execution_count": null,
      "metadata": {
        "id": "suited-enforcement"
      },
      "outputs": [],
      "source": [
        "x = (x-np.mean(data_reshaped))/np.std(data_reshaped)"
      ]
    },
    {
      "cell_type": "code",
      "execution_count": null,
      "metadata": {
        "id": "tKAomqsbghos"
      },
      "outputs": [],
      "source": [
        "img_size=28"
      ]
    },
    {
      "cell_type": "code",
      "execution_count": null,
      "metadata": {
        "colab": {
          "base_uri": "https://localhost:8080/"
        },
        "id": "median-mercy",
        "outputId": "5bb7e141-7db6-4158-a554-95b4ec45c7d2"
      },
      "outputs": [
        {
          "output_type": "stream",
          "name": "stdout",
          "text": [
            "(37548, 28, 28, 3)\n"
          ]
        }
      ],
      "source": [
        "X_train, X_test, y_train, y_test = train_test_split(x_resampled, y_resampled, test_size=0.2, random_state=42)\n",
        "# X_train, X_test, y_train, y_test = train_test_split(data, label, test_size=0.2, random_state=42)\n",
        "X_train = X_train.astype('float32') / 255.\n",
        "X_train = X_train.reshape(-1, img_size, img_size, 3)\n",
        "y_train = np.array(to_categorical(y_train.astype('float32')))\n",
        "\n",
        "X_test = X_test.astype('float32') / 255.\n",
        "X_test = X_test.reshape(-1, img_size, img_size, 3)\n",
        "y_test = np.array(to_categorical(y_test.astype('float32')))\n",
        "\n",
        "# X_train= X_train[:8000]\n",
        "# y_train= y_train[:8000]\n",
        "\n",
        "print(X_train.shape)"
      ]
    },
    {
      "cell_type": "code",
      "execution_count": null,
      "metadata": {
        "execution": {
          "iopub.execute_input": "2021-07-01T13:55:24.533046Z",
          "iopub.status.busy": "2021-07-01T13:55:24.532188Z",
          "iopub.status.idle": "2021-07-01T13:55:27.119434Z",
          "shell.execute_reply": "2021-07-01T13:55:27.119931Z",
          "shell.execute_reply.started": "2021-07-01T13:40:34.118026Z"
        },
        "papermill": {
          "duration": 2.645968,
          "end_time": "2021-07-01T13:55:27.120078",
          "exception": false,
          "start_time": "2021-07-01T13:55:24.474110",
          "status": "completed"
        },
        "tags": [],
        "colab": {
          "base_uri": "https://localhost:8080/",
          "height": 666
        },
        "id": "selected-cooling",
        "outputId": "16e7c857-c60b-482a-eafc-7435fef1eaa5"
      },
      "outputs": [
        {
          "output_type": "stream",
          "name": "stderr",
          "text": [
            "/usr/local/lib/python3.10/dist-packages/sklearn/utils/deprecation.py:151: FutureWarning: 'force_all_finite' was renamed to 'ensure_all_finite' in 1.6 and will be removed in 1.8.\n",
            "  warnings.warn(\n",
            "/usr/local/lib/python3.10/dist-packages/sklearn/base.py:484: FutureWarning: `BaseEstimator._check_n_features` is deprecated in 1.6 and will be removed in 1.7. Use `sklearn.utils.validation._check_n_features` instead.\n",
            "  warnings.warn(\n",
            "/usr/local/lib/python3.10/dist-packages/sklearn/base.py:493: FutureWarning: `BaseEstimator._check_feature_names` is deprecated in 1.6 and will be removed in 1.7. Use `sklearn.utils.validation._check_feature_names` instead.\n",
            "  warnings.warn(\n"
          ]
        },
        {
          "output_type": "stream",
          "name": "stdout",
          "text": [
            "Original dataset shape Counter({4: 6705, 6: 1113, 2: 1099, 1: 514, 0: 327, 5: 142, 3: 115})\n",
            "Resampled dataset shape Counter({2: 6705, 4: 6705, 3: 6705, 6: 6705, 5: 6705, 1: 6705, 0: 6705})\n"
          ]
        },
        {
          "output_type": "display_data",
          "data": {
            "text/plain": [
              "<Figure size 1200x500 with 2 Axes>"
            ],
            "image/png": "[encoded data removed]"
          },
          "metadata": {}
        }
      ],
      "source": [
        "from collections import Counter\n",
        "from imblearn.over_sampling import RandomOverSampler\n",
        "import seaborn as sns\n",
        "import matplotlib.pyplot as plt\n",
        "\n",
        "\n",
        "# Reshape the data for oversampling\n",
        "data_reshaped = data_np.reshape(data_np.shape[0], -1)\n",
        "\n",
        "# Use RandomOverSampler for oversampling\n",
        "ros = RandomOverSampler(random_state=42)\n",
        "x_resampled, y_resampled = ros.fit_resample(data_reshaped, label_np)\n",
        "\n",
        "# Reshape the data to its original shape\n",
        "x_resampled = x_resampled.reshape(-1, 28, 28, 3)\n",
        "\n",
        "print(f\"Original dataset shape {Counter(label_np)}\")\n",
        "print(f\"Resampled dataset shape {Counter(y_resampled)}\")\n",
        "\n",
        "# Define the ordering for the x-axis labels\n",
        "order_labels = [0, 1, 2, 3, 4, 5, 6]\n",
        "class_names = ['akiec', 'bcc', 'bkl', 'df','nv','vasc','mel' ]\n",
        "# classes = {4: ('nv', ' melanocytic nevi'),\n",
        "#            6: ('mel', 'melanoma'),\n",
        "#            2 :('bkl', 'benign keratosis-like lesions'),\n",
        "#            1:('bcc' , ' Maligna Melanoma'),\n",
        "#            5: ('vasc', ' pyogenic granulomas and hemorrhage'),\n",
        "#            0: ('akiec', 'Actinic keratoses and intraepithelial carcinomae'),\n",
        "#            3: ('df', 'dermatofibroma')}\n",
        "\n",
        "plt.figure(figsize=(12, 5))\n",
        "\n",
        "plt.subplot(1, 2, 1)\n",
        "sns.countplot(x=label_np, order=order_labels)\n",
        "plt.title(\"Original Data Distribution\")\n",
        "plt.xlabel(\"Classes\")\n",
        "plt.ylabel(\"Frequency\")\n",
        "plt.xticks(ticks=order_labels, labels=class_names)  # Setting the x-axis tick labels\n",
        "\n",
        "\n",
        "# Plot the resampled data distribution\n",
        "plt.subplot(1, 2, 2)\n",
        "sns.countplot(x=y_resampled, order=order_labels)\n",
        "plt.title(\"Resampled Data Distribution\")\n",
        "plt.xlabel(\"Classes\")\n",
        "plt.ylabel(\"Frequency\")\n",
        "plt.xticks(ticks=order_labels, labels=class_names)  # Setting the x-axis tick labels\n",
        "\n",
        "plt.tight_layout()\n",
        "plt.show()\n",
        "\n",
        "\n",
        "\n",
        "# oversample = RandomOverSampler()\n",
        "# x,y  = oversample.fit_resample(x,y)\n",
        "# x = np.array(x).reshape(-1,28,28,3)\n",
        "# print('Shape of Data :',x.shape)"
      ]
    },
    {
      "cell_type": "code",
      "execution_count": null,
      "metadata": {
        "colab": {
          "base_uri": "https://localhost:8080/",
          "height": 192
        },
        "id": "aging-shell",
        "outputId": "32aa24f5-601c-476a-8044-b59e967059f0"
      },
      "outputs": [
        {
          "output_type": "display_data",
          "data": {
            "text/plain": [
              "<Figure size 1000x300 with 5 Axes>"
            ],
            "image/png": "[encoded data removed]"
          },
          "metadata": {}
        }
      ],
      "source": [
        "# f , ax = plt.subplots(2,5)\n",
        "# f.set_size_inches(10, 10)\n",
        "# k = 0\n",
        "# for i in range(2):\n",
        "#     for j in range(5):\n",
        "#         ax[i,j].imshow(x[k])\n",
        "#         k = k + 1\n",
        "#     plt.tight_layout()\n",
        "n_samples=5\n",
        "plt.figure(figsize=(n_samples * 2, 3))\n",
        "for index in range(n_samples):\n",
        "    plt.subplot(1, n_samples, index + 1)\n",
        "    sample_image = X_train[index]\n",
        "    plt.imshow(sample_image, cmap=\"binary\")\n",
        "    plt.title(\"Label:\" + str(y_train[index]))\n",
        "    plt.axis(\"off\")\n",
        "\n",
        "plt.show()"
      ]
    },
    {
      "cell_type": "markdown",
      "metadata": {
        "id": "expired-breed"
      },
      "source": [
        "# **MODEL**"
      ]
    },
    {
      "cell_type": "code",
      "execution_count": null,
      "metadata": {
        "id": "G2dPD_aKo5mP"
      },
      "outputs": [],
      "source": [
        "# x_train = X_train.astype('float32') / 255.\n",
        "# x_train = x_train.reshape(-1, img_size, img_size, 3)\n",
        "# y_train = np.array(to_categorical(y_train.astype('float32')))\n",
        "\n",
        "# x_test = X_test.astype('float32') / 255.\n",
        "# x_test = x_test.reshape(-1, img_size, img_size, 3)\n",
        "# y_test = np.array(to_categorical(y_test.astype('float32')))\n",
        "# print(x_train.shape)"
      ]
    },
    {
      "cell_type": "code",
      "execution_count": null,
      "metadata": {
        "colab": {
          "base_uri": "https://localhost:8080/"
        },
        "id": "cRjVnx3IygSc",
        "outputId": "76c23745-d377-4f61-f0b3-830ec845d409"
      },
      "outputs": [
        {
          "output_type": "stream",
          "name": "stdout",
          "text": [
            "[1, 2, 3, 4, 6, 7, 9, 12, 14, 18, 21, 28, 36, 42, 63, 84, 126, 149, 252, 298, 447, 596, 894, 1043, 1341, 1788, 2086, 2682, 3129, 4172, 5364, 6258, 9387, 12516, 18774, 37548]\n"
          ]
        }
      ],
      "source": [
        "#Define the range of batch size for network\n",
        "def find_factors(n):\n",
        "    factors = []\n",
        "    for i in range(1, n + 1):\n",
        "        if n % i == 0:\n",
        "            factors.append(i)\n",
        "    return factors\n",
        "\n",
        "\n",
        "print(find_factors(X_train.shape[0]))"
      ]
    },
    {
      "cell_type": "code",
      "execution_count": null,
      "metadata": {
        "id": "XR4Tsis-eFYN"
      },
      "outputs": [],
      "source": [
        "# Making capsule layer from scratch\n",
        "class CapsuleLayer(L.Layer):\n",
        "    def __init__(self, num_capsule, dim_capsule, routing=3, kernel_initializer='glorot_uniform', **kwargs):\n",
        "        super(CapsuleLayer, self).__init__(**kwargs)\n",
        "        self.num_capsule = num_capsule\n",
        "        self.dim_capsule = dim_capsule\n",
        "        self.routing = routing\n",
        "        self.kernel_initializer = kernel_initializer\n",
        "\n",
        "    def build(self, input_shape):\n",
        "        assert len(input_shape) >= 3\n",
        "        self.input_num_capsule = input_shape[1]\n",
        "        self.input_dim_capsule = input_shape[2]\n",
        "\n",
        "        # transforming the matrix\n",
        "        self.W = self.add_weight(\n",
        "            shape=[self.num_capsule, self.input_num_capsule, self.dim_capsule, self.input_dim_capsule],\n",
        "            initializer=self.kernel_initializer, name='w')\n",
        "        self.built = True\n",
        "\n",
        "    def call(self, inputs, training=None):\n",
        "        input_expand = tf.expand_dims(tf.expand_dims(inputs, 1), -1)\n",
        "        inputs_tiled = K.tile(input_expand, [1, self.num_capsule, 1, 1, 1])\n",
        "        input_hat = tf.squeeze(tf.map_fn(lambda x: tf.matmul(self.W, x), elems=inputs_tiled))\n",
        "        # b = tf.zeros(shape=[inputs.shape[0], self.num_capsule, 1, self.input_num_capsule])\n",
        "        b = tf.zeros(shape=[tf.shape(inputs)[0], self.num_capsule, 1, self.input_num_capsule])\n",
        "\n",
        "        assert self.routing > 0\n",
        "        for i in range(self.routing):\n",
        "            c = tf.nn.softmax(b, axis=1)\n",
        "            output = squash(tf.matmul(c, input_hat))\n",
        "            if i < self.routing - 1:\n",
        "                b += tf.matmul(output, input_hat, transpose_b=True)\n",
        "        return tf.squeeze(output)\n",
        "\n",
        "    def compute_output_shape(self, input_shape):\n",
        "        return tuple([None, self.num_capsule, self.dim_capsule])\n",
        "\n",
        "    def get_config(self):\n",
        "        config = {\n",
        "            'num_capsule': self.num_capsule,\n",
        "            'dim_capsule': self.dim_capsule,\n",
        "            'routings': self.routings\n",
        "        }\n",
        "        base_config = super(CapsuleLayer, self).get_config()\n",
        "        return dict(list(base_config.items()) + list(config.items()))"
      ]
    },
    {
      "cell_type": "code",
      "execution_count": null,
      "metadata": {
        "id": "everyday-headset"
      },
      "outputs": [],
      "source": [
        "# Makign the squash function\n",
        "def squash(vectors, axis=-1):\n",
        "    squared_norm = K.sum(K.square(vectors), axis, keepdims=True)\n",
        "    scale = squared_norm / (1 + squared_norm) / (K.sqrt(squared_norm) + K.epsilon())\n",
        "    return scale * vectors"
      ]
    },
    {
      "cell_type": "code",
      "execution_count": null,
      "metadata": {
        "id": "tMzv19ToEpea"
      },
      "outputs": [],
      "source": [
        "\n",
        "from keras.src.layers import MaxPooling2D\n",
        "from keras.src.layers.regularization.dropout import Dropout\n",
        "batch_size = 21\n",
        "\n",
        "img_shape = (img_size, img_size, 3)\n",
        "\n",
        "# # Define a custom input layer with a hardcoded batch size\n",
        "input_layer = L.Input(batch_shape=(batch_size,) + img_shape)\n",
        "\n",
        "\n",
        "from tensorflow.keras.layers import DepthwiseConv2D, GlobalAveragePooling2D, Reshape, Multiply\n",
        "\n",
        "def powerfeature(input_layer, num_layers, expansion_factor, reduction_factor=0.9):\n",
        "\n",
        "    x = L.Conv2D(64, (3, 3), activation='relu', kernel_initializer='he_normal', padding='same')(input_layer)\n",
        "    x = L.Dropout(0.2)(x)\n",
        "    x = L.Conv2D(64, (3, 3), activation='relu', kernel_initializer='he_normal', padding='same')(x)\n",
        "    x = L.MaxPooling2D((2, 2))(x)\n",
        "\n",
        "    x = L.Conv2D(128, (3, 3), activation='relu', kernel_initializer='he_normal', padding='same')(x)\n",
        "    x = L.Dropout(0.3)(x)\n",
        "    x = L.Conv2D(128, (3, 3), activation='relu', kernel_initializer='he_normal', padding='same')(x)\n",
        "    x = L.MaxPooling2D((2, 2))(x)\n",
        "\n",
        "\n",
        "    for _ in range(num_layers):\n",
        "        x1 = L.Conv2D(2 * expansion_factor, (3, 3), kernel_initializer='he_normal', padding='same')(x)\n",
        "        x1 = L.Dropout(0.2)(x1)\n",
        "        x1 = L.Conv2D(expansion_factor, (3, 3), kernel_initializer='he_normal', padding='same')(x1)\n",
        "        x = L.Concatenate()([x, x1])\n",
        "\n",
        "\n",
        "    # Attention Mechanism\n",
        "    attention = GlobalAveragePooling2D()(x)\n",
        "    attention = Reshape((1, 1, K.int_shape(x)[-1]))(attention)\n",
        "    attention = L.Conv2D(K.int_shape(x)[-1] // 16, (3,3), activation='relu', kernel_initializer='he_normal', padding='same')(attention)\n",
        "    attention = L.Conv2D(K.int_shape(x)[-1], (3,3), activation='relu', kernel_initializer='he_normal', padding='same')(attention)\n",
        "    x = Multiply()([x, attention])\n",
        "\n",
        "\n",
        " # Transition Mechanism\n",
        "    contracted_filters = int(K.int_shape(x)[-1] * reduction_factor)\n",
        "\n",
        "    x = L.Conv2D(contracted_filters, (3, 3), kernel_initializer='he_normal', padding='same')(x)\n",
        "    x = L.Dropout(0.5)(x)\n",
        "    x = L.Conv2D(contracted_filters, (3, 3), kernel_initializer='he_normal', padding='same')(x)\n",
        "    x = L.MaxPooling2D((2, 2))(x)\n",
        "\n",
        "    return x\n",
        "\n",
        "\n",
        "x = powerfeature(input_layer,num_layers=2, expansion_factor=4)\n",
        "\n",
        "\n",
        "\n",
        "#Primary Capsule Layer\n",
        "conv2 = L.Conv2D(filters=8 * 16, kernel_size=(3, 3), strides=(2, 2), padding='same')(x)\n",
        "reshape2 = L.Reshape([-1, 8])(conv2)  # Reduce dimensions here\n",
        "squashed_output = L.Lambda(squash)(reshape2)\n"
      ]
    },
    {
      "cell_type": "code",
      "execution_count": null,
      "metadata": {
        "id": "hiSZnZdWePkB"
      },
      "outputs": [],
      "source": [
        "heelcaps = CapsuleLayer(num_capsule=7, dim_capsule=16, routing=3, name='heelcaps')(squashed_output)"
      ]
    },
    {
      "cell_type": "code",
      "execution_count": null,
      "metadata": {
        "id": "nLnbiddreTFD"
      },
      "outputs": [],
      "source": [
        "# Making length layer which will calculate the length of the vectors\n",
        "class Length(L.Layer):\n",
        "    def call(self, inputs, **kwargs):\n",
        "        return tf.sqrt(tf.reduce_sum(tf.square(inputs), -1))\n",
        "\n",
        "    def compute_output_shape(self, input_shape):\n",
        "        return input_shape[:-1]\n",
        "\n",
        "    def get_config(self):\n",
        "        config = super(Length, self).get_config()\n",
        "        return config"
      ]
    },
    {
      "cell_type": "code",
      "execution_count": null,
      "metadata": {
        "id": "1nHq3KJIeWTJ"
      },
      "outputs": [],
      "source": [
        "out_caps = Length(name='capsnet')(heelcaps)"
      ]
    },
    {
      "cell_type": "code",
      "execution_count": null,
      "metadata": {
        "id": "Dc3RKHcMecij"
      },
      "outputs": [],
      "source": [
        "# Making the masking layer\n",
        "class Mask(L.Layer):\n",
        "    def call(self, inputs, **kwargs):\n",
        "        if type(inputs) is list:\n",
        "            assert len(inputs) == 2\n",
        "            inputs, mask = inputs\n",
        "        else:\n",
        "            x = tf.sqrt(tf.reduce_sum(tf.square(inputs), -1))\n",
        "            mask = tf.one_hot(indices=tf.argmax(x, 1), depth=x.shape[1])\n",
        "        masked = K.batch_flatten(inputs * tf.expand_dims(mask, -1))\n",
        "        return masked\n",
        "\n",
        "    def compute_output_shape(self, input_shape):\n",
        "        if type(input_shape[0]) is tuple:  # true label provided\n",
        "            return tuple([None, input_shape[0][1] * input_shape[0][2]])\n",
        "        else:  # no true label provided\n",
        "            return tuple([None, input_shape[1] * input_shape[2]])\n",
        "\n",
        "    def get_config(self):\n",
        "        config = super(Mask, self).get_config()\n",
        "        return config"
      ]
    },
    {
      "cell_type": "code",
      "execution_count": null,
      "metadata": {
        "colab": {
          "base_uri": "https://localhost:8080/"
        },
        "id": "kDzKM5VHehQN",
        "outputId": "7c21f327-b9d1-453b-9dac-0dc9a67eee96"
      },
      "outputs": [
        {
          "output_type": "stream",
          "name": "stdout",
          "text": [
            "(None, 7)\n",
            "(None, 7, 16)\n",
            "(None, 112)\n",
            "(None, 112)\n"
          ]
        }
      ],
      "source": [
        "y = L.Input(shape=(7,))\n",
        "print(y.shape)\n",
        "print(heelcaps.shape)\n",
        "masked_by_y = Mask()([heelcaps, y])  # The true label is used to mask the output of capsule layer. For training\n",
        "print(masked_by_y.shape)\n",
        "masked = Mask()(heelcaps)\n",
        "print(masked.shape)"
      ]
    },
    {
      "cell_type": "code",
      "execution_count": null,
      "metadata": {
        "id": "Bvmdc0AcelIY",
        "colab": {
          "base_uri": "https://localhost:8080/"
        },
        "outputId": "82357df6-8c99-4e04-9d6c-363caeae623d"
      },
      "outputs": [
        {
          "output_type": "stream",
          "name": "stderr",
          "text": [
            "/usr/local/lib/python3.10/dist-packages/keras/src/layers/core/dense.py:87: UserWarning: Do not pass an `input_shape`/`input_dim` argument to a layer. When using Sequential models, prefer using an `Input(shape)` object as the first layer in the model instead.\n",
            "  super().__init__(activity_regularizer=activity_regularizer, **kwargs)\n"
          ]
        }
      ],
      "source": [
        "input_shape = X_train.shape[1:]\n",
        "decoder = M.Sequential(name='decoder')\n",
        "decoder.add(L.Dense(512, activation='relu', input_dim=16 * 7))\n",
        "decoder.add(L.Dense(1024, activation='relu'))\n",
        "decoder.add(L.Dense(img_size * img_size * 3, activation='softmax'))\n",
        "decoder.add(L.Reshape(target_shape=input_shape, name='out_recon'))"
      ]
    },
    {
      "cell_type": "code",
      "execution_count": null,
      "metadata": {
        "id": "w-FirVxReoEE"
      },
      "outputs": [],
      "source": [
        "# Making models\n",
        "train_model = M.Model([input_layer, y], [out_caps, decoder(masked_by_y)])\n",
        "eval_model = M.Model(input_layer, [out_caps, decoder(masked)])"
      ]
    },
    {
      "cell_type": "code",
      "execution_count": null,
      "metadata": {
        "id": "NRS210t0esVh"
      },
      "outputs": [],
      "source": [
        "# Making the loss function\n",
        "def margin_loss(y_true, y_pred):\n",
        "    L = y_true * tf.square(tf.maximum(0., 0.9 - y_pred)) + \\\n",
        "        0.5 * (1 - y_true) * tf.square(tf.maximum(0., y_pred - 0.1))\n",
        "    return tf.reduce_mean(tf.reduce_sum(L, 1))"
      ]
    },
    {
      "cell_type": "code",
      "execution_count": null,
      "metadata": {
        "colab": {
          "base_uri": "https://localhost:8080/",
          "height": 1000
        },
        "id": "1HUgfzdZevlM",
        "outputId": "6da0caa9-4aeb-4155-90b8-d343c5eb739f"
      },
      "outputs": [
        {
          "output_type": "display_data",
          "data": {
            "text/plain": [
              "\u001b[1mModel: \"functional_13\"\u001b[0m\n"
            ],
            "text/html": [
              "<pre style=\"white-space:pre;overflow-x:auto;line-height:normal;font-family:Menlo,'DejaVu Sans Mono',consolas,'Courier New',monospace\"><span style=\"font-weight: bold\">Model: \"functional_13\"</span>\n",
              "</pre>\n"
            ]
          },
          "metadata": {}
        },
        {
          "output_type": "display_data",
          "data": {
            "text/plain": [
              "┏━━━━━━━━━━━━━━━━━━━━━━━━━━━┳━━━━━━━━━━━━━━━━━━━━━━━━┳━━━━━━━━━━━━━━━━┳━━━━━━━━━━━━━━━━━━━━━━━━┓\n",
              "┃\u001b[1m \u001b[0m\u001b[1mLayer (type)             \u001b[0m\u001b[1m \u001b[0m┃\u001b[1m \u001b[0m\u001b[1mOutput Shape          \u001b[0m\u001b[1m \u001b[0m┃\u001b[1m \u001b[0m\u001b[1m       Param #\u001b[0m\u001b[1m \u001b[0m┃\u001b[1m \u001b[0m\u001b[1mConnected to          \u001b[0m\u001b[1m \u001b[0m┃\n",
              "┡━━━━━━━━━━━━━━━━━━━━━━━━━━━╇━━━━━━━━━━━━━━━━━━━━━━━━╇━━━━━━━━━━━━━━━━╇━━━━━━━━━━━━━━━━━━━━━━━━┩\n",
              "│ input_layer_3             │ (\u001b[38;5;34m21\u001b[0m, \u001b[38;5;34m28\u001b[0m, \u001b[38;5;34m28\u001b[0m, \u001b[38;5;34m3\u001b[0m)        │              \u001b[38;5;34m0\u001b[0m │ -                      │\n",
              "│ (\u001b[38;5;33mInputLayer\u001b[0m)              │                        │                │                        │\n",
              "├───────────────────────────┼────────────────────────┼────────────────┼────────────────────────┤\n",
              "│ conv2d_13 (\u001b[38;5;33mConv2D\u001b[0m)        │ (\u001b[38;5;34m21\u001b[0m, \u001b[38;5;34m28\u001b[0m, \u001b[38;5;34m28\u001b[0m, \u001b[38;5;34m64\u001b[0m)       │          \u001b[38;5;34m1,792\u001b[0m │ input_layer_3[\u001b[38;5;34m0\u001b[0m][\u001b[38;5;34m0\u001b[0m]    │\n",
              "├───────────────────────────┼────────────────────────┼────────────────┼────────────────────────┤\n",
              "│ dropout_5 (\u001b[38;5;33mDropout\u001b[0m)       │ (\u001b[38;5;34m21\u001b[0m, \u001b[38;5;34m28\u001b[0m, \u001b[38;5;34m28\u001b[0m, \u001b[38;5;34m64\u001b[0m)       │              \u001b[38;5;34m0\u001b[0m │ conv2d_13[\u001b[38;5;34m0\u001b[0m][\u001b[38;5;34m0\u001b[0m]        │\n",
              "├───────────────────────────┼────────────────────────┼────────────────┼────────────────────────┤\n",
              "│ conv2d_14 (\u001b[38;5;33mConv2D\u001b[0m)        │ (\u001b[38;5;34m21\u001b[0m, \u001b[38;5;34m28\u001b[0m, \u001b[38;5;34m28\u001b[0m, \u001b[38;5;34m64\u001b[0m)       │         \u001b[38;5;34m36,928\u001b[0m │ dropout_5[\u001b[38;5;34m0\u001b[0m][\u001b[38;5;34m0\u001b[0m]        │\n",
              "├───────────────────────────┼────────────────────────┼────────────────┼────────────────────────┤\n",
              "│ max_pooling2d_3           │ (\u001b[38;5;34m21\u001b[0m, \u001b[38;5;34m14\u001b[0m, \u001b[38;5;34m14\u001b[0m, \u001b[38;5;34m64\u001b[0m)       │              \u001b[38;5;34m0\u001b[0m │ conv2d_14[\u001b[38;5;34m0\u001b[0m][\u001b[38;5;34m0\u001b[0m]        │\n",
              "│ (\u001b[38;5;33mMaxPooling2D\u001b[0m)            │                        │                │                        │\n",
              "├───────────────────────────┼────────────────────────┼────────────────┼────────────────────────┤\n",
              "│ conv2d_15 (\u001b[38;5;33mConv2D\u001b[0m)        │ (\u001b[38;5;34m21\u001b[0m, \u001b[38;5;34m14\u001b[0m, \u001b[38;5;34m14\u001b[0m, \u001b[38;5;34m128\u001b[0m)      │         \u001b[38;5;34m73,856\u001b[0m │ max_pooling2d_3[\u001b[38;5;34m0\u001b[0m][\u001b[38;5;34m0\u001b[0m]  │\n",
              "├───────────────────────────┼────────────────────────┼────────────────┼────────────────────────┤\n",
              "│ dropout_6 (\u001b[38;5;33mDropout\u001b[0m)       │ (\u001b[38;5;34m21\u001b[0m, \u001b[38;5;34m14\u001b[0m, \u001b[38;5;34m14\u001b[0m, \u001b[38;5;34m128\u001b[0m)      │              \u001b[38;5;34m0\u001b[0m │ conv2d_15[\u001b[38;5;34m0\u001b[0m][\u001b[38;5;34m0\u001b[0m]        │\n",
              "├───────────────────────────┼────────────────────────┼────────────────┼────────────────────────┤\n",
              "│ conv2d_16 (\u001b[38;5;33mConv2D\u001b[0m)        │ (\u001b[38;5;34m21\u001b[0m, \u001b[38;5;34m14\u001b[0m, \u001b[38;5;34m14\u001b[0m, \u001b[38;5;34m128\u001b[0m)      │        \u001b[38;5;34m147,584\u001b[0m │ dropout_6[\u001b[38;5;34m0\u001b[0m][\u001b[38;5;34m0\u001b[0m]        │\n",
              "├───────────────────────────┼────────────────────────┼────────────────┼────────────────────────┤\n",
              "│ max_pooling2d_4           │ (\u001b[38;5;34m21\u001b[0m, \u001b[38;5;34m7\u001b[0m, \u001b[38;5;34m7\u001b[0m, \u001b[38;5;34m128\u001b[0m)        │              \u001b[38;5;34m0\u001b[0m │ conv2d_16[\u001b[38;5;34m0\u001b[0m][\u001b[38;5;34m0\u001b[0m]        │\n",
              "│ (\u001b[38;5;33mMaxPooling2D\u001b[0m)            │                        │                │                        │\n",
              "├───────────────────────────┼────────────────────────┼────────────────┼────────────────────────┤\n",
              "│ conv2d_17 (\u001b[38;5;33mConv2D\u001b[0m)        │ (\u001b[38;5;34m21\u001b[0m, \u001b[38;5;34m7\u001b[0m, \u001b[38;5;34m7\u001b[0m, \u001b[38;5;34m8\u001b[0m)          │          \u001b[38;5;34m9,224\u001b[0m │ max_pooling2d_4[\u001b[38;5;34m0\u001b[0m][\u001b[38;5;34m0\u001b[0m]  │\n",
              "├───────────────────────────┼────────────────────────┼────────────────┼────────────────────────┤\n",
              "│ dropout_7 (\u001b[38;5;33mDropout\u001b[0m)       │ (\u001b[38;5;34m21\u001b[0m, \u001b[38;5;34m7\u001b[0m, \u001b[38;5;34m7\u001b[0m, \u001b[38;5;34m8\u001b[0m)          │              \u001b[38;5;34m0\u001b[0m │ conv2d_17[\u001b[38;5;34m0\u001b[0m][\u001b[38;5;34m0\u001b[0m]        │\n",
              "├───────────────────────────┼────────────────────────┼────────────────┼────────────────────────┤\n",
              "│ conv2d_18 (\u001b[38;5;33mConv2D\u001b[0m)        │ (\u001b[38;5;34m21\u001b[0m, \u001b[38;5;34m7\u001b[0m, \u001b[38;5;34m7\u001b[0m, \u001b[38;5;34m4\u001b[0m)          │            \u001b[38;5;34m292\u001b[0m │ dropout_7[\u001b[38;5;34m0\u001b[0m][\u001b[38;5;34m0\u001b[0m]        │\n",
              "├───────────────────────────┼────────────────────────┼────────────────┼────────────────────────┤\n",
              "│ concatenate_2             │ (\u001b[38;5;34m21\u001b[0m, \u001b[38;5;34m7\u001b[0m, \u001b[38;5;34m7\u001b[0m, \u001b[38;5;34m132\u001b[0m)        │              \u001b[38;5;34m0\u001b[0m │ max_pooling2d_4[\u001b[38;5;34m0\u001b[0m][\u001b[38;5;34m0\u001b[0m], │\n",
              "│ (\u001b[38;5;33mConcatenate\u001b[0m)             │                        │                │ conv2d_18[\u001b[38;5;34m0\u001b[0m][\u001b[38;5;34m0\u001b[0m]        │\n",
              "├───────────────────────────┼────────────────────────┼────────────────┼────────────────────────┤\n",
              "│ conv2d_19 (\u001b[38;5;33mConv2D\u001b[0m)        │ (\u001b[38;5;34m21\u001b[0m, \u001b[38;5;34m7\u001b[0m, \u001b[38;5;34m7\u001b[0m, \u001b[38;5;34m8\u001b[0m)          │          \u001b[38;5;34m9,512\u001b[0m │ concatenate_2[\u001b[38;5;34m0\u001b[0m][\u001b[38;5;34m0\u001b[0m]    │\n",
              "├───────────────────────────┼────────────────────────┼────────────────┼────────────────────────┤\n",
              "│ dropout_8 (\u001b[38;5;33mDropout\u001b[0m)       │ (\u001b[38;5;34m21\u001b[0m, \u001b[38;5;34m7\u001b[0m, \u001b[38;5;34m7\u001b[0m, \u001b[38;5;34m8\u001b[0m)          │              \u001b[38;5;34m0\u001b[0m │ conv2d_19[\u001b[38;5;34m0\u001b[0m][\u001b[38;5;34m0\u001b[0m]        │\n",
              "├───────────────────────────┼────────────────────────┼────────────────┼────────────────────────┤\n",
              "│ conv2d_20 (\u001b[38;5;33mConv2D\u001b[0m)        │ (\u001b[38;5;34m21\u001b[0m, \u001b[38;5;34m7\u001b[0m, \u001b[38;5;34m7\u001b[0m, \u001b[38;5;34m4\u001b[0m)          │            \u001b[38;5;34m292\u001b[0m │ dropout_8[\u001b[38;5;34m0\u001b[0m][\u001b[38;5;34m0\u001b[0m]        │\n",
              "├───────────────────────────┼────────────────────────┼────────────────┼────────────────────────┤\n",
              "│ concatenate_3             │ (\u001b[38;5;34m21\u001b[0m, \u001b[38;5;34m7\u001b[0m, \u001b[38;5;34m7\u001b[0m, \u001b[38;5;34m136\u001b[0m)        │              \u001b[38;5;34m0\u001b[0m │ concatenate_2[\u001b[38;5;34m0\u001b[0m][\u001b[38;5;34m0\u001b[0m],   │\n",
              "│ (\u001b[38;5;33mConcatenate\u001b[0m)             │                        │                │ conv2d_20[\u001b[38;5;34m0\u001b[0m][\u001b[38;5;34m0\u001b[0m]        │\n",
              "├───────────────────────────┼────────────────────────┼────────────────┼────────────────────────┤\n",
              "│ global_average_pooling2d… │ (\u001b[38;5;34m21\u001b[0m, \u001b[38;5;34m136\u001b[0m)              │              \u001b[38;5;34m0\u001b[0m │ concatenate_3[\u001b[38;5;34m0\u001b[0m][\u001b[38;5;34m0\u001b[0m]    │\n",
              "│ (\u001b[38;5;33mGlobalAveragePooling2D\u001b[0m)  │                        │                │                        │\n",
              "├───────────────────────────┼────────────────────────┼────────────────┼────────────────────────┤\n",
              "│ reshape_2 (\u001b[38;5;33mReshape\u001b[0m)       │ (\u001b[38;5;34m21\u001b[0m, \u001b[38;5;34m1\u001b[0m, \u001b[38;5;34m1\u001b[0m, \u001b[38;5;34m136\u001b[0m)        │              \u001b[38;5;34m0\u001b[0m │ global_average_poolin… │\n",
              "├───────────────────────────┼────────────────────────┼────────────────┼────────────────────────┤\n",
              "│ conv2d_21 (\u001b[38;5;33mConv2D\u001b[0m)        │ (\u001b[38;5;34m21\u001b[0m, \u001b[38;5;34m1\u001b[0m, \u001b[38;5;34m1\u001b[0m, \u001b[38;5;34m8\u001b[0m)          │          \u001b[38;5;34m9,800\u001b[0m │ reshape_2[\u001b[38;5;34m0\u001b[0m][\u001b[38;5;34m0\u001b[0m]        │\n",
              "├───────────────────────────┼────────────────────────┼────────────────┼────────────────────────┤\n",
              "│ conv2d_22 (\u001b[38;5;33mConv2D\u001b[0m)        │ (\u001b[38;5;34m21\u001b[0m, \u001b[38;5;34m1\u001b[0m, \u001b[38;5;34m1\u001b[0m, \u001b[38;5;34m136\u001b[0m)        │          \u001b[38;5;34m9,928\u001b[0m │ conv2d_21[\u001b[38;5;34m0\u001b[0m][\u001b[38;5;34m0\u001b[0m]        │\n",
              "├───────────────────────────┼────────────────────────┼────────────────┼────────────────────────┤\n",
              "│ multiply_1 (\u001b[38;5;33mMultiply\u001b[0m)     │ (\u001b[38;5;34m21\u001b[0m, \u001b[38;5;34m7\u001b[0m, \u001b[38;5;34m7\u001b[0m, \u001b[38;5;34m136\u001b[0m)        │              \u001b[38;5;34m0\u001b[0m │ concatenate_3[\u001b[38;5;34m0\u001b[0m][\u001b[38;5;34m0\u001b[0m],   │\n",
              "│                           │                        │                │ conv2d_22[\u001b[38;5;34m0\u001b[0m][\u001b[38;5;34m0\u001b[0m]        │\n",
              "├───────────────────────────┼────────────────────────┼────────────────┼────────────────────────┤\n",
              "│ conv2d_23 (\u001b[38;5;33mConv2D\u001b[0m)        │ (\u001b[38;5;34m21\u001b[0m, \u001b[38;5;34m7\u001b[0m, \u001b[38;5;34m7\u001b[0m, \u001b[38;5;34m122\u001b[0m)        │        \u001b[38;5;34m149,450\u001b[0m │ multiply_1[\u001b[38;5;34m0\u001b[0m][\u001b[38;5;34m0\u001b[0m]       │\n",
              "├───────────────────────────┼────────────────────────┼────────────────┼────────────────────────┤\n",
              "│ dropout_9 (\u001b[38;5;33mDropout\u001b[0m)       │ (\u001b[38;5;34m21\u001b[0m, \u001b[38;5;34m7\u001b[0m, \u001b[38;5;34m7\u001b[0m, \u001b[38;5;34m122\u001b[0m)        │              \u001b[38;5;34m0\u001b[0m │ conv2d_23[\u001b[38;5;34m0\u001b[0m][\u001b[38;5;34m0\u001b[0m]        │\n",
              "├───────────────────────────┼────────────────────────┼────────────────┼────────────────────────┤\n",
              "│ conv2d_24 (\u001b[38;5;33mConv2D\u001b[0m)        │ (\u001b[38;5;34m21\u001b[0m, \u001b[38;5;34m7\u001b[0m, \u001b[38;5;34m7\u001b[0m, \u001b[38;5;34m122\u001b[0m)        │        \u001b[38;5;34m134,078\u001b[0m │ dropout_9[\u001b[38;5;34m0\u001b[0m][\u001b[38;5;34m0\u001b[0m]        │\n",
              "├───────────────────────────┼────────────────────────┼────────────────┼────────────────────────┤\n",
              "│ max_pooling2d_5           │ (\u001b[38;5;34m21\u001b[0m, \u001b[38;5;34m3\u001b[0m, \u001b[38;5;34m3\u001b[0m, \u001b[38;5;34m122\u001b[0m)        │              \u001b[38;5;34m0\u001b[0m │ conv2d_24[\u001b[38;5;34m0\u001b[0m][\u001b[38;5;34m0\u001b[0m]        │\n",
              "│ (\u001b[38;5;33mMaxPooling2D\u001b[0m)            │                        │                │                        │\n",
              "├───────────────────────────┼────────────────────────┼────────────────┼────────────────────────┤\n",
              "│ conv2d_25 (\u001b[38;5;33mConv2D\u001b[0m)        │ (\u001b[38;5;34m21\u001b[0m, \u001b[38;5;34m2\u001b[0m, \u001b[38;5;34m2\u001b[0m, \u001b[38;5;34m128\u001b[0m)        │        \u001b[38;5;34m140,672\u001b[0m │ max_pooling2d_5[\u001b[38;5;34m0\u001b[0m][\u001b[38;5;34m0\u001b[0m]  │\n",
              "├───────────────────────────┼────────────────────────┼────────────────┼────────────────────────┤\n",
              "│ reshape_3 (\u001b[38;5;33mReshape\u001b[0m)       │ (\u001b[38;5;34m21\u001b[0m, \u001b[38;5;34m64\u001b[0m, \u001b[38;5;34m8\u001b[0m)            │              \u001b[38;5;34m0\u001b[0m │ conv2d_25[\u001b[38;5;34m0\u001b[0m][\u001b[38;5;34m0\u001b[0m]        │\n",
              "├───────────────────────────┼────────────────────────┼────────────────┼────────────────────────┤\n",
              "│ lambda_1 (\u001b[38;5;33mLambda\u001b[0m)         │ (\u001b[38;5;34m21\u001b[0m, \u001b[38;5;34m64\u001b[0m, \u001b[38;5;34m8\u001b[0m)            │              \u001b[38;5;34m0\u001b[0m │ reshape_3[\u001b[38;5;34m0\u001b[0m][\u001b[38;5;34m0\u001b[0m]        │\n",
              "├───────────────────────────┼────────────────────────┼────────────────┼────────────────────────┤\n",
              "│ heelcaps (\u001b[38;5;33mCapsuleLayer\u001b[0m)   │ (\u001b[38;5;45mNone\u001b[0m, \u001b[38;5;34m7\u001b[0m, \u001b[38;5;34m16\u001b[0m)          │         \u001b[38;5;34m57,344\u001b[0m │ lambda_1[\u001b[38;5;34m0\u001b[0m][\u001b[38;5;34m0\u001b[0m]         │\n",
              "├───────────────────────────┼────────────────────────┼────────────────┼────────────────────────┤\n",
              "│ input_layer_4             │ (\u001b[38;5;45mNone\u001b[0m, \u001b[38;5;34m7\u001b[0m)              │              \u001b[38;5;34m0\u001b[0m │ -                      │\n",
              "│ (\u001b[38;5;33mInputLayer\u001b[0m)              │                        │                │                        │\n",
              "├───────────────────────────┼────────────────────────┼────────────────┼────────────────────────┤\n",
              "│ mask_2 (\u001b[38;5;33mMask\u001b[0m)             │ (\u001b[38;5;45mNone\u001b[0m, \u001b[38;5;34m112\u001b[0m)            │              \u001b[38;5;34m0\u001b[0m │ heelcaps[\u001b[38;5;34m0\u001b[0m][\u001b[38;5;34m0\u001b[0m],        │\n",
              "│                           │                        │                │ input_layer_4[\u001b[38;5;34m0\u001b[0m][\u001b[38;5;34m0\u001b[0m]    │\n",
              "├───────────────────────────┼────────────────────────┼────────────────┼────────────────────────┤\n",
              "│ capsnet (\u001b[38;5;33mLength\u001b[0m)          │ (\u001b[38;5;45mNone\u001b[0m, \u001b[38;5;34m7\u001b[0m)              │              \u001b[38;5;34m0\u001b[0m │ heelcaps[\u001b[38;5;34m0\u001b[0m][\u001b[38;5;34m0\u001b[0m]         │\n",
              "├───────────────────────────┼────────────────────────┼────────────────┼────────────────────────┤\n",
              "│ decoder (\u001b[38;5;33mSequential\u001b[0m)      │ (\u001b[38;5;45mNone\u001b[0m, \u001b[38;5;34m28\u001b[0m, \u001b[38;5;34m28\u001b[0m, \u001b[38;5;34m3\u001b[0m)      │      \u001b[38;5;34m2,993,968\u001b[0m │ mask_2[\u001b[38;5;34m0\u001b[0m][\u001b[38;5;34m0\u001b[0m]           │\n",
              "└───────────────────────────┴────────────────────────┴────────────────┴────────────────────────┘\n"
            ],
            "text/html": [
              "<pre style=\"white-space:pre;overflow-x:auto;line-height:normal;font-family:Menlo,'DejaVu Sans Mono',consolas,'Courier New',monospace\">┏━━━━━━━━━━━━━━━━━━━━━━━━━━━┳━━━━━━━━━━━━━━━━━━━━━━━━┳━━━━━━━━━━━━━━━━┳━━━━━━━━━━━━━━━━━━━━━━━━┓\n",
              "┃<span style=\"font-weight: bold\"> Layer (type)              </span>┃<span style=\"font-weight: bold\"> Output Shape           </span>┃<span style=\"font-weight: bold\">        Param # </span>┃<span style=\"font-weight: bold\"> Connected to           </span>┃\n",
              "┡━━━━━━━━━━━━━━━━━━━━━━━━━━━╇━━━━━━━━━━━━━━━━━━━━━━━━╇━━━━━━━━━━━━━━━━╇━━━━━━━━━━━━━━━━━━━━━━━━┩\n",
              "│ input_layer_3             │ (<span style=\"color: #00af00; text-decoration-color: #00af00\">21</span>, <span style=\"color: #00af00; text-decoration-color: #00af00\">28</span>, <span style=\"color: #00af00; text-decoration-color: #00af00\">28</span>, <span style=\"color: #00af00; text-decoration-color: #00af00\">3</span>)        │              <span style=\"color: #00af00; text-decoration-color: #00af00\">0</span> │ -                      │\n",
              "│ (<span style=\"color: #0087ff; text-decoration-color: #0087ff\">InputLayer</span>)              │                        │                │                        │\n",
              "├───────────────────────────┼────────────────────────┼────────────────┼────────────────────────┤\n",
              "│ conv2d_13 (<span style=\"color: #0087ff; text-decoration-color: #0087ff\">Conv2D</span>)        │ (<span style=\"color: #00af00; text-decoration-color: #00af00\">21</span>, <span style=\"color: #00af00; text-decoration-color: #00af00\">28</span>, <span style=\"color: #00af00; text-decoration-color: #00af00\">28</span>, <span style=\"color: #00af00; text-decoration-color: #00af00\">64</span>)       │          <span style=\"color: #00af00; text-decoration-color: #00af00\">1,792</span> │ input_layer_3[<span style=\"color: #00af00; text-decoration-color: #00af00\">0</span>][<span style=\"color: #00af00; text-decoration-color: #00af00\">0</span>]    │\n",
              "├───────────────────────────┼────────────────────────┼────────────────┼────────────────────────┤\n",
              "│ dropout_5 (<span style=\"color: #0087ff; text-decoration-color: #0087ff\">Dropout</span>)       │ (<span style=\"color: #00af00; text-decoration-color: #00af00\">21</span>, <span style=\"color: #00af00; text-decoration-color: #00af00\">28</span>, <span style=\"color: #00af00; text-decoration-color: #00af00\">28</span>, <span style=\"color: #00af00; text-decoration-color: #00af00\">64</span>)       │              <span style=\"color: #00af00; text-decoration-color: #00af00\">0</span> │ conv2d_13[<span style=\"color: #00af00; text-decoration-color: #00af00\">0</span>][<span style=\"color: #00af00; text-decoration-color: #00af00\">0</span>]        │\n",
              "├───────────────────────────┼────────────────────────┼────────────────┼────────────────────────┤\n",
              "│ conv2d_14 (<span style=\"color: #0087ff; text-decoration-color: #0087ff\">Conv2D</span>)        │ (<span style=\"color: #00af00; text-decoration-color: #00af00\">21</span>, <span style=\"color: #00af00; text-decoration-color: #00af00\">28</span>, <span style=\"color: #00af00; text-decoration-color: #00af00\">28</span>, <span style=\"color: #00af00; text-decoration-color: #00af00\">64</span>)       │         <span style=\"color: #00af00; text-decoration-color: #00af00\">36,928</span> │ dropout_5[<span style=\"color: #00af00; text-decoration-color: #00af00\">0</span>][<span style=\"color: #00af00; text-decoration-color: #00af00\">0</span>]        │\n",
              "├───────────────────────────┼────────────────────────┼────────────────┼────────────────────────┤\n",
              "│ max_pooling2d_3           │ (<span style=\"color: #00af00; text-decoration-color: #00af00\">21</span>, <span style=\"color: #00af00; text-decoration-color: #00af00\">14</span>, <span style=\"color: #00af00; text-decoration-color: #00af00\">14</span>, <span style=\"color: #00af00; text-decoration-color: #00af00\">64</span>)       │              <span style=\"color: #00af00; text-decoration-color: #00af00\">0</span> │ conv2d_14[<span style=\"color: #00af00; text-decoration-color: #00af00\">0</span>][<span style=\"color: #00af00; text-decoration-color: #00af00\">0</span>]        │\n",
              "│ (<span style=\"color: #0087ff; text-decoration-color: #0087ff\">MaxPooling2D</span>)            │                        │                │                        │\n",
              "├───────────────────────────┼────────────────────────┼────────────────┼────────────────────────┤\n",
              "│ conv2d_15 (<span style=\"color: #0087ff; text-decoration-color: #0087ff\">Conv2D</span>)        │ (<span style=\"color: #00af00; text-decoration-color: #00af00\">21</span>, <span style=\"color: #00af00; text-decoration-color: #00af00\">14</span>, <span style=\"color: #00af00; text-decoration-color: #00af00\">14</span>, <span style=\"color: #00af00; text-decoration-color: #00af00\">128</span>)      │         <span style=\"color: #00af00; text-decoration-color: #00af00\">73,856</span> │ max_pooling2d_3[<span style=\"color: #00af00; text-decoration-color: #00af00\">0</span>][<span style=\"color: #00af00; text-decoration-color: #00af00\">0</span>]  │\n",
              "├───────────────────────────┼────────────────────────┼────────────────┼────────────────────────┤\n",
              "│ dropout_6 (<span style=\"color: #0087ff; text-decoration-color: #0087ff\">Dropout</span>)       │ (<span style=\"color: #00af00; text-decoration-color: #00af00\">21</span>, <span style=\"color: #00af00; text-decoration-color: #00af00\">14</span>, <span style=\"color: #00af00; text-decoration-color: #00af00\">14</span>, <span style=\"color: #00af00; text-decoration-color: #00af00\">128</span>)      │              <span style=\"color: #00af00; text-decoration-color: #00af00\">0</span> │ conv2d_15[<span style=\"color: #00af00; text-decoration-color: #00af00\">0</span>][<span style=\"color: #00af00; text-decoration-color: #00af00\">0</span>]        │\n",
              "├───────────────────────────┼────────────────────────┼────────────────┼────────────────────────┤\n",
              "│ conv2d_16 (<span style=\"color: #0087ff; text-decoration-color: #0087ff\">Conv2D</span>)        │ (<span style=\"color: #00af00; text-decoration-color: #00af00\">21</span>, <span style=\"color: #00af00; text-decoration-color: #00af00\">14</span>, <span style=\"color: #00af00; text-decoration-color: #00af00\">14</span>, <span style=\"color: #00af00; text-decoration-color: #00af00\">128</span>)      │        <span style=\"color: #00af00; text-decoration-color: #00af00\">147,584</span> │ dropout_6[<span style=\"color: #00af00; text-decoration-color: #00af00\">0</span>][<span style=\"color: #00af00; text-decoration-color: #00af00\">0</span>]        │\n",
              "├───────────────────────────┼────────────────────────┼────────────────┼────────────────────────┤\n",
              "│ max_pooling2d_4           │ (<span style=\"color: #00af00; text-decoration-color: #00af00\">21</span>, <span style=\"color: #00af00; text-decoration-color: #00af00\">7</span>, <span style=\"color: #00af00; text-decoration-color: #00af00\">7</span>, <span style=\"color: #00af00; text-decoration-color: #00af00\">128</span>)        │              <span style=\"color: #00af00; text-decoration-color: #00af00\">0</span> │ conv2d_16[<span style=\"color: #00af00; text-decoration-color: #00af00\">0</span>][<span style=\"color: #00af00; text-decoration-color: #00af00\">0</span>]        │\n",
              "│ (<span style=\"color: #0087ff; text-decoration-color: #0087ff\">MaxPooling2D</span>)            │                        │                │                        │\n",
              "├───────────────────────────┼────────────────────────┼────────────────┼────────────────────────┤\n",
              "│ conv2d_17 (<span style=\"color: #0087ff; text-decoration-color: #0087ff\">Conv2D</span>)        │ (<span style=\"color: #00af00; text-decoration-color: #00af00\">21</span>, <span style=\"color: #00af00; text-decoration-color: #00af00\">7</span>, <span style=\"color: #00af00; text-decoration-color: #00af00\">7</span>, <span style=\"color: #00af00; text-decoration-color: #00af00\">8</span>)          │          <span style=\"color: #00af00; text-decoration-color: #00af00\">9,224</span> │ max_pooling2d_4[<span style=\"color: #00af00; text-decoration-color: #00af00\">0</span>][<span style=\"color: #00af00; text-decoration-color: #00af00\">0</span>]  │\n",
              "├───────────────────────────┼────────────────────────┼────────────────┼────────────────────────┤\n",
              "│ dropout_7 (<span style=\"color: #0087ff; text-decoration-color: #0087ff\">Dropout</span>)       │ (<span style=\"color: #00af00; text-decoration-color: #00af00\">21</span>, <span style=\"color: #00af00; text-decoration-color: #00af00\">7</span>, <span style=\"color: #00af00; text-decoration-color: #00af00\">7</span>, <span style=\"color: #00af00; text-decoration-color: #00af00\">8</span>)          │              <span style=\"color: #00af00; text-decoration-color: #00af00\">0</span> │ conv2d_17[<span style=\"color: #00af00; text-decoration-color: #00af00\">0</span>][<span style=\"color: #00af00; text-decoration-color: #00af00\">0</span>]        │\n",
              "├───────────────────────────┼────────────────────────┼────────────────┼────────────────────────┤\n",
              "│ conv2d_18 (<span style=\"color: #0087ff; text-decoration-color: #0087ff\">Conv2D</span>)        │ (<span style=\"color: #00af00; text-decoration-color: #00af00\">21</span>, <span style=\"color: #00af00; text-decoration-color: #00af00\">7</span>, <span style=\"color: #00af00; text-decoration-color: #00af00\">7</span>, <span style=\"color: #00af00; text-decoration-color: #00af00\">4</span>)          │            <span style=\"color: #00af00; text-decoration-color: #00af00\">292</span> │ dropout_7[<span style=\"color: #00af00; text-decoration-color: #00af00\">0</span>][<span style=\"color: #00af00; text-decoration-color: #00af00\">0</span>]        │\n",
              "├───────────────────────────┼────────────────────────┼────────────────┼────────────────────────┤\n",
              "│ concatenate_2             │ (<span style=\"color: #00af00; text-decoration-color: #00af00\">21</span>, <span style=\"color: #00af00; text-decoration-color: #00af00\">7</span>, <span style=\"color: #00af00; text-decoration-color: #00af00\">7</span>, <span style=\"color: #00af00; text-decoration-color: #00af00\">132</span>)        │              <span style=\"color: #00af00; text-decoration-color: #00af00\">0</span> │ max_pooling2d_4[<span style=\"color: #00af00; text-decoration-color: #00af00\">0</span>][<span style=\"color: #00af00; text-decoration-color: #00af00\">0</span>], │\n",
              "│ (<span style=\"color: #0087ff; text-decoration-color: #0087ff\">Concatenate</span>)             │                        │                │ conv2d_18[<span style=\"color: #00af00; text-decoration-color: #00af00\">0</span>][<span style=\"color: #00af00; text-decoration-color: #00af00\">0</span>]        │\n",
              "├───────────────────────────┼────────────────────────┼────────────────┼────────────────────────┤\n",
              "│ conv2d_19 (<span style=\"color: #0087ff; text-decoration-color: #0087ff\">Conv2D</span>)        │ (<span style=\"color: #00af00; text-decoration-color: #00af00\">21</span>, <span style=\"color: #00af00; text-decoration-color: #00af00\">7</span>, <span style=\"color: #00af00; text-decoration-color: #00af00\">7</span>, <span style=\"color: #00af00; text-decoration-color: #00af00\">8</span>)          │          <span style=\"color: #00af00; text-decoration-color: #00af00\">9,512</span> │ concatenate_2[<span style=\"color: #00af00; text-decoration-color: #00af00\">0</span>][<span style=\"color: #00af00; text-decoration-color: #00af00\">0</span>]    │\n",
              "├───────────────────────────┼────────────────────────┼────────────────┼────────────────────────┤\n",
              "│ dropout_8 (<span style=\"color: #0087ff; text-decoration-color: #0087ff\">Dropout</span>)       │ (<span style=\"color: #00af00; text-decoration-color: #00af00\">21</span>, <span style=\"color: #00af00; text-decoration-color: #00af00\">7</span>, <span style=\"color: #00af00; text-decoration-color: #00af00\">7</span>, <span style=\"color: #00af00; text-decoration-color: #00af00\">8</span>)          │              <span style=\"color: #00af00; text-decoration-color: #00af00\">0</span> │ conv2d_19[<span style=\"color: #00af00; text-decoration-color: #00af00\">0</span>][<span style=\"color: #00af00; text-decoration-color: #00af00\">0</span>]        │\n",
              "├───────────────────────────┼────────────────────────┼────────────────┼────────────────────────┤\n",
              "│ conv2d_20 (<span style=\"color: #0087ff; text-decoration-color: #0087ff\">Conv2D</span>)        │ (<span style=\"color: #00af00; text-decoration-color: #00af00\">21</span>, <span style=\"color: #00af00; text-decoration-color: #00af00\">7</span>, <span style=\"color: #00af00; text-decoration-color: #00af00\">7</span>, <span style=\"color: #00af00; text-decoration-color: #00af00\">4</span>)          │            <span style=\"color: #00af00; text-decoration-color: #00af00\">292</span> │ dropout_8[<span style=\"color: #00af00; text-decoration-color: #00af00\">0</span>][<span style=\"color: #00af00; text-decoration-color: #00af00\">0</span>]        │\n",
              "├───────────────────────────┼────────────────────────┼────────────────┼────────────────────────┤\n",
              "│ concatenate_3             │ (<span style=\"color: #00af00; text-decoration-color: #00af00\">21</span>, <span style=\"color: #00af00; text-decoration-color: #00af00\">7</span>, <span style=\"color: #00af00; text-decoration-color: #00af00\">7</span>, <span style=\"color: #00af00; text-decoration-color: #00af00\">136</span>)        │              <span style=\"color: #00af00; text-decoration-color: #00af00\">0</span> │ concatenate_2[<span style=\"color: #00af00; text-decoration-color: #00af00\">0</span>][<span style=\"color: #00af00; text-decoration-color: #00af00\">0</span>],   │\n",
              "│ (<span style=\"color: #0087ff; text-decoration-color: #0087ff\">Concatenate</span>)             │                        │                │ conv2d_20[<span style=\"color: #00af00; text-decoration-color: #00af00\">0</span>][<span style=\"color: #00af00; text-decoration-color: #00af00\">0</span>]        │\n",
              "├───────────────────────────┼────────────────────────┼────────────────┼────────────────────────┤\n",
              "│ global_average_pooling2d… │ (<span style=\"color: #00af00; text-decoration-color: #00af00\">21</span>, <span style=\"color: #00af00; text-decoration-color: #00af00\">136</span>)              │              <span style=\"color: #00af00; text-decoration-color: #00af00\">0</span> │ concatenate_3[<span style=\"color: #00af00; text-decoration-color: #00af00\">0</span>][<span style=\"color: #00af00; text-decoration-color: #00af00\">0</span>]    │\n",
              "│ (<span style=\"color: #0087ff; text-decoration-color: #0087ff\">GlobalAveragePooling2D</span>)  │                        │                │                        │\n",
              "├───────────────────────────┼────────────────────────┼────────────────┼────────────────────────┤\n",
              "│ reshape_2 (<span style=\"color: #0087ff; text-decoration-color: #0087ff\">Reshape</span>)       │ (<span style=\"color: #00af00; text-decoration-color: #00af00\">21</span>, <span style=\"color: #00af00; text-decoration-color: #00af00\">1</span>, <span style=\"color: #00af00; text-decoration-color: #00af00\">1</span>, <span style=\"color: #00af00; text-decoration-color: #00af00\">136</span>)        │              <span style=\"color: #00af00; text-decoration-color: #00af00\">0</span> │ global_average_poolin… │\n",
              "├───────────────────────────┼────────────────────────┼────────────────┼────────────────────────┤\n",
              "│ conv2d_21 (<span style=\"color: #0087ff; text-decoration-color: #0087ff\">Conv2D</span>)        │ (<span style=\"color: #00af00; text-decoration-color: #00af00\">21</span>, <span style=\"color: #00af00; text-decoration-color: #00af00\">1</span>, <span style=\"color: #00af00; text-decoration-color: #00af00\">1</span>, <span style=\"color: #00af00; text-decoration-color: #00af00\">8</span>)          │          <span style=\"color: #00af00; text-decoration-color: #00af00\">9,800</span> │ reshape_2[<span style=\"color: #00af00; text-decoration-color: #00af00\">0</span>][<span style=\"color: #00af00; text-decoration-color: #00af00\">0</span>]        │\n",
              "├───────────────────────────┼────────────────────────┼────────────────┼────────────────────────┤\n",
              "│ conv2d_22 (<span style=\"color: #0087ff; text-decoration-color: #0087ff\">Conv2D</span>)        │ (<span style=\"color: #00af00; text-decoration-color: #00af00\">21</span>, <span style=\"color: #00af00; text-decoration-color: #00af00\">1</span>, <span style=\"color: #00af00; text-decoration-color: #00af00\">1</span>, <span style=\"color: #00af00; text-decoration-color: #00af00\">136</span>)        │          <span style=\"color: #00af00; text-decoration-color: #00af00\">9,928</span> │ conv2d_21[<span style=\"color: #00af00; text-decoration-color: #00af00\">0</span>][<span style=\"color: #00af00; text-decoration-color: #00af00\">0</span>]        │\n",
              "├───────────────────────────┼────────────────────────┼────────────────┼────────────────────────┤\n",
              "│ multiply_1 (<span style=\"color: #0087ff; text-decoration-color: #0087ff\">Multiply</span>)     │ (<span style=\"color: #00af00; text-decoration-color: #00af00\">21</span>, <span style=\"color: #00af00; text-decoration-color: #00af00\">7</span>, <span style=\"color: #00af00; text-decoration-color: #00af00\">7</span>, <span style=\"color: #00af00; text-decoration-color: #00af00\">136</span>)        │              <span style=\"color: #00af00; text-decoration-color: #00af00\">0</span> │ concatenate_3[<span style=\"color: #00af00; text-decoration-color: #00af00\">0</span>][<span style=\"color: #00af00; text-decoration-color: #00af00\">0</span>],   │\n",
              "│                           │                        │                │ conv2d_22[<span style=\"color: #00af00; text-decoration-color: #00af00\">0</span>][<span style=\"color: #00af00; text-decoration-color: #00af00\">0</span>]        │\n",
              "├───────────────────────────┼────────────────────────┼────────────────┼────────────────────────┤\n",
              "│ conv2d_23 (<span style=\"color: #0087ff; text-decoration-color: #0087ff\">Conv2D</span>)        │ (<span style=\"color: #00af00; text-decoration-color: #00af00\">21</span>, <span style=\"color: #00af00; text-decoration-color: #00af00\">7</span>, <span style=\"color: #00af00; text-decoration-color: #00af00\">7</span>, <span style=\"color: #00af00; text-decoration-color: #00af00\">122</span>)        │        <span style=\"color: #00af00; text-decoration-color: #00af00\">149,450</span> │ multiply_1[<span style=\"color: #00af00; text-decoration-color: #00af00\">0</span>][<span style=\"color: #00af00; text-decoration-color: #00af00\">0</span>]       │\n",
              "├───────────────────────────┼────────────────────────┼────────────────┼────────────────────────┤\n",
              "│ dropout_9 (<span style=\"color: #0087ff; text-decoration-color: #0087ff\">Dropout</span>)       │ (<span style=\"color: #00af00; text-decoration-color: #00af00\">21</span>, <span style=\"color: #00af00; text-decoration-color: #00af00\">7</span>, <span style=\"color: #00af00; text-decoration-color: #00af00\">7</span>, <span style=\"color: #00af00; text-decoration-color: #00af00\">122</span>)        │              <span style=\"color: #00af00; text-decoration-color: #00af00\">0</span> │ conv2d_23[<span style=\"color: #00af00; text-decoration-color: #00af00\">0</span>][<span style=\"color: #00af00; text-decoration-color: #00af00\">0</span>]        │\n",
              "├───────────────────────────┼────────────────────────┼────────────────┼────────────────────────┤\n",
              "│ conv2d_24 (<span style=\"color: #0087ff; text-decoration-color: #0087ff\">Conv2D</span>)        │ (<span style=\"color: #00af00; text-decoration-color: #00af00\">21</span>, <span style=\"color: #00af00; text-decoration-color: #00af00\">7</span>, <span style=\"color: #00af00; text-decoration-color: #00af00\">7</span>, <span style=\"color: #00af00; text-decoration-color: #00af00\">122</span>)        │        <span style=\"color: #00af00; text-decoration-color: #00af00\">134,078</span> │ dropout_9[<span style=\"color: #00af00; text-decoration-color: #00af00\">0</span>][<span style=\"color: #00af00; text-decoration-color: #00af00\">0</span>]        │\n",
              "├───────────────────────────┼────────────────────────┼────────────────┼────────────────────────┤\n",
              "│ max_pooling2d_5           │ (<span style=\"color: #00af00; text-decoration-color: #00af00\">21</span>, <span style=\"color: #00af00; text-decoration-color: #00af00\">3</span>, <span style=\"color: #00af00; text-decoration-color: #00af00\">3</span>, <span style=\"color: #00af00; text-decoration-color: #00af00\">122</span>)        │              <span style=\"color: #00af00; text-decoration-color: #00af00\">0</span> │ conv2d_24[<span style=\"color: #00af00; text-decoration-color: #00af00\">0</span>][<span style=\"color: #00af00; text-decoration-color: #00af00\">0</span>]        │\n",
              "│ (<span style=\"color: #0087ff; text-decoration-color: #0087ff\">MaxPooling2D</span>)            │                        │                │                        │\n",
              "├───────────────────────────┼────────────────────────┼────────────────┼────────────────────────┤\n",
              "│ conv2d_25 (<span style=\"color: #0087ff; text-decoration-color: #0087ff\">Conv2D</span>)        │ (<span style=\"color: #00af00; text-decoration-color: #00af00\">21</span>, <span style=\"color: #00af00; text-decoration-color: #00af00\">2</span>, <span style=\"color: #00af00; text-decoration-color: #00af00\">2</span>, <span style=\"color: #00af00; text-decoration-color: #00af00\">128</span>)        │        <span style=\"color: #00af00; text-decoration-color: #00af00\">140,672</span> │ max_pooling2d_5[<span style=\"color: #00af00; text-decoration-color: #00af00\">0</span>][<span style=\"color: #00af00; text-decoration-color: #00af00\">0</span>]  │\n",
              "├───────────────────────────┼────────────────────────┼────────────────┼────────────────────────┤\n",
              "│ reshape_3 (<span style=\"color: #0087ff; text-decoration-color: #0087ff\">Reshape</span>)       │ (<span style=\"color: #00af00; text-decoration-color: #00af00\">21</span>, <span style=\"color: #00af00; text-decoration-color: #00af00\">64</span>, <span style=\"color: #00af00; text-decoration-color: #00af00\">8</span>)            │              <span style=\"color: #00af00; text-decoration-color: #00af00\">0</span> │ conv2d_25[<span style=\"color: #00af00; text-decoration-color: #00af00\">0</span>][<span style=\"color: #00af00; text-decoration-color: #00af00\">0</span>]        │\n",
              "├───────────────────────────┼────────────────────────┼────────────────┼────────────────────────┤\n",
              "│ lambda_1 (<span style=\"color: #0087ff; text-decoration-color: #0087ff\">Lambda</span>)         │ (<span style=\"color: #00af00; text-decoration-color: #00af00\">21</span>, <span style=\"color: #00af00; text-decoration-color: #00af00\">64</span>, <span style=\"color: #00af00; text-decoration-color: #00af00\">8</span>)            │              <span style=\"color: #00af00; text-decoration-color: #00af00\">0</span> │ reshape_3[<span style=\"color: #00af00; text-decoration-color: #00af00\">0</span>][<span style=\"color: #00af00; text-decoration-color: #00af00\">0</span>]        │\n",
              "├───────────────────────────┼────────────────────────┼────────────────┼────────────────────────┤\n",
              "│ heelcaps (<span style=\"color: #0087ff; text-decoration-color: #0087ff\">CapsuleLayer</span>)   │ (<span style=\"color: #00d7ff; text-decoration-color: #00d7ff\">None</span>, <span style=\"color: #00af00; text-decoration-color: #00af00\">7</span>, <span style=\"color: #00af00; text-decoration-color: #00af00\">16</span>)          │         <span style=\"color: #00af00; text-decoration-color: #00af00\">57,344</span> │ lambda_1[<span style=\"color: #00af00; text-decoration-color: #00af00\">0</span>][<span style=\"color: #00af00; text-decoration-color: #00af00\">0</span>]         │\n",
              "├───────────────────────────┼────────────────────────┼────────────────┼────────────────────────┤\n",
              "│ input_layer_4             │ (<span style=\"color: #00d7ff; text-decoration-color: #00d7ff\">None</span>, <span style=\"color: #00af00; text-decoration-color: #00af00\">7</span>)              │              <span style=\"color: #00af00; text-decoration-color: #00af00\">0</span> │ -                      │\n",
              "│ (<span style=\"color: #0087ff; text-decoration-color: #0087ff\">InputLayer</span>)              │                        │                │                        │\n",
              "├───────────────────────────┼────────────────────────┼────────────────┼────────────────────────┤\n",
              "│ mask_2 (<span style=\"color: #0087ff; text-decoration-color: #0087ff\">Mask</span>)             │ (<span style=\"color: #00d7ff; text-decoration-color: #00d7ff\">None</span>, <span style=\"color: #00af00; text-decoration-color: #00af00\">112</span>)            │              <span style=\"color: #00af00; text-decoration-color: #00af00\">0</span> │ heelcaps[<span style=\"color: #00af00; text-decoration-color: #00af00\">0</span>][<span style=\"color: #00af00; text-decoration-color: #00af00\">0</span>],        │\n",
              "│                           │                        │                │ input_layer_4[<span style=\"color: #00af00; text-decoration-color: #00af00\">0</span>][<span style=\"color: #00af00; text-decoration-color: #00af00\">0</span>]    │\n",
              "├───────────────────────────┼────────────────────────┼────────────────┼────────────────────────┤\n",
              "│ capsnet (<span style=\"color: #0087ff; text-decoration-color: #0087ff\">Length</span>)          │ (<span style=\"color: #00d7ff; text-decoration-color: #00d7ff\">None</span>, <span style=\"color: #00af00; text-decoration-color: #00af00\">7</span>)              │              <span style=\"color: #00af00; text-decoration-color: #00af00\">0</span> │ heelcaps[<span style=\"color: #00af00; text-decoration-color: #00af00\">0</span>][<span style=\"color: #00af00; text-decoration-color: #00af00\">0</span>]         │\n",
              "├───────────────────────────┼────────────────────────┼────────────────┼────────────────────────┤\n",
              "│ decoder (<span style=\"color: #0087ff; text-decoration-color: #0087ff\">Sequential</span>)      │ (<span style=\"color: #00d7ff; text-decoration-color: #00d7ff\">None</span>, <span style=\"color: #00af00; text-decoration-color: #00af00\">28</span>, <span style=\"color: #00af00; text-decoration-color: #00af00\">28</span>, <span style=\"color: #00af00; text-decoration-color: #00af00\">3</span>)      │      <span style=\"color: #00af00; text-decoration-color: #00af00\">2,993,968</span> │ mask_2[<span style=\"color: #00af00; text-decoration-color: #00af00\">0</span>][<span style=\"color: #00af00; text-decoration-color: #00af00\">0</span>]           │\n",
              "└───────────────────────────┴────────────────────────┴────────────────┴────────────────────────┘\n",
              "</pre>\n"
            ]
          },
          "metadata": {}
        },
        {
          "output_type": "display_data",
          "data": {
            "text/plain": [
              "\u001b[1m Total params: \u001b[0m\u001b[38;5;34m3,774,720\u001b[0m (14.40 MB)\n"
            ],
            "text/html": [
              "<pre style=\"white-space:pre;overflow-x:auto;line-height:normal;font-family:Menlo,'DejaVu Sans Mono',consolas,'Courier New',monospace\"><span style=\"font-weight: bold\"> Total params: </span><span style=\"color: #00af00; text-decoration-color: #00af00\">3,774,720</span> (14.40 MB)\n",
              "</pre>\n"
            ]
          },
          "metadata": {}
        },
        {
          "output_type": "display_data",
          "data": {
            "text/plain": [
              "\u001b[1m Trainable params: \u001b[0m\u001b[38;5;34m3,774,720\u001b[0m (14.40 MB)\n"
            ],
            "text/html": [
              "<pre style=\"white-space:pre;overflow-x:auto;line-height:normal;font-family:Menlo,'DejaVu Sans Mono',consolas,'Courier New',monospace\"><span style=\"font-weight: bold\"> Trainable params: </span><span style=\"color: #00af00; text-decoration-color: #00af00\">3,774,720</span> (14.40 MB)\n",
              "</pre>\n"
            ]
          },
          "metadata": {}
        },
        {
          "output_type": "display_data",
          "data": {
            "text/plain": [
              "\u001b[1m Non-trainable params: \u001b[0m\u001b[38;5;34m0\u001b[0m (0.00 B)\n"
            ],
            "text/html": [
              "<pre style=\"white-space:pre;overflow-x:auto;line-height:normal;font-family:Menlo,'DejaVu Sans Mono',consolas,'Courier New',monospace\"><span style=\"font-weight: bold\"> Non-trainable params: </span><span style=\"color: #00af00; text-decoration-color: #00af00\">0</span> (0.00 B)\n",
              "</pre>\n"
            ]
          },
          "metadata": {}
        }
      ],
      "source": [
        "train_model.summary()"
      ]
    },
    {
      "cell_type": "code",
      "execution_count": null,
      "metadata": {
        "id": "gvaLgkste2GT"
      },
      "outputs": [],
      "source": [
        "train_model.save_weights('/content/drive/MyDrive/models/ACT_Caps_Melanoma_HybridCAPSNET_model.weights.h5')\n",
        "train_model.load_weights('/content/drive/MyDrive/models/ACT_Caps_Melanoma_HybridCAPSNET_model.weights.h5')\n"
      ]
    },
    {
      "cell_type": "code",
      "execution_count": null,
      "metadata": {
        "id": "ihMgpk-nfAiE"
      },
      "outputs": [],
      "source": [
        "n_samples = 5\n",
        "# plt.figure(figsize=(n_samples * 2, 3))\n",
        "# for index in range(n_samples):\n",
        "#     plt.subplot(1, n_samples, index + 1)\n",
        "#     sample_image = x_test[index]\n",
        "#     plt.imshow(sample_image, cmap=\"binary\")\n",
        "#     plt.title(\"Label:\" + str(y_test[index]))\n",
        "#     plt.axis(\"off\")\n",
        "\n",
        "# plt.show()"
      ]
    },
    {
      "cell_type": "code",
      "execution_count": null,
      "metadata": {
        "id": "wTWSZYMCfHIW"
      },
      "outputs": [],
      "source": [
        "\n",
        "\n",
        "\n",
        "\n",
        "\n",
        "\n",
        "\n",
        "\n",
        "\n",
        "       m = batch_size\n",
        "epochs = 120\n",
        "# Using EarlyStopping, end training when val_accuracy is not improved for 10 consecutive times\n",
        "early_stopping = keras.callbacks.EarlyStopping(monitor='val_capsnet_accuracy', mode='max',\n",
        "                                               patience=2, restore_best_weights=True)"
      ]
    },
    {
      "cell_type": "code",
      "execution_count": null,
      "metadata": {
        "colab": {
          "base_uri": "https://localhost:8080/"
        },
        "id": "VCLzPVqcfNx4",
        "outputId": "215e5bb8-8df8-4df7-f7b1-2ae7dc470b62"
      },
      "outputs": [
        {
          "output_type": "stream",
          "name": "stdout",
          "text": [
            "(37548, 28, 28, 3)\n",
            "(37548, 7)\n",
            "(9387, 28, 28, 3)\n",
            "(9387, 7)\n"
          ]
        }
      ],
      "source": [
        "print(X_train.shape)  # should be (num_samples, 28, 28, 1) or something similar\n",
        "print(y_train.shape)  # should be (num_samples, 3) given your model summary\n",
        "print(X_test.shape)   # should be (num_test_samples, 28, 28, 1) or similar\n",
        "print(y_test.shape)   # should be (num_test_samples, 3)"
      ]
    },
    {
      "cell_type": "code",
      "execution_count": null,
      "metadata": {
        "colab": {
          "base_uri": "https://localhost:8080/"
        },
        "id": "k5t0yhoE3fY9",
        "outputId": "47a99434-0ae5-49bf-c4b7-3eff4429565c"
      },
      "outputs": [
        {
          "output_type": "stream",
          "name": "stdout",
          "text": [
            "Epoch 1/120\n",
            "\u001b[1m1788/1788\u001b[0m \u001b[32m━━━━━━━━━━━━━━━━━━━━\u001b[0m\u001b[37m\u001b[0m \u001b[1m34s\u001b[0m 11ms/step - capsnet_accuracy: 0.2883 - capsnet_loss: 0.4269 - decoder_loss: 2.1939e-04 - decoder_mse: 0.4388 - loss: 0.4272 - val_capsnet_accuracy: 0.5142 - val_capsnet_loss: 0.3013 - val_decoder_loss: 2.1940e-04 - val_decoder_mse: 0.4388 - val_loss: 0.3015\n",
            "Epoch 2/120\n",
            "\u001b[1m1788/1788\u001b[0m \u001b[32m━━━━━━━━━━━━━━━━━━━━\u001b[0m\u001b[37m\u001b[0m \u001b[1m30s\u001b[0m 10ms/step - capsnet_accuracy: 0.6133 - capsnet_loss: 0.2547 - decoder_loss: 2.1891e-04 - decoder_mse: 0.4378 - loss: 0.2549 - val_capsnet_accuracy: 0.7404 - val_capsnet_loss: 0.1819 - val_decoder_loss: 2.1940e-04 - val_decoder_mse: 0.4388 - val_loss: 0.1821\n",
            "Epoch 3/120\n",
            "\u001b[1m1788/1788\u001b[0m \u001b[32m━━━━━━━━━━━━━━━━━━━━\u001b[0m\u001b[37m\u001b[0m \u001b[1m20s\u001b[0m 10ms/step - capsnet_accuracy: 0.7468 - capsnet_loss: 0.1766 - decoder_loss: 2.1928e-04 - decoder_mse: 0.4386 - loss: 0.1768 - val_capsnet_accuracy: 0.8082 - val_capsnet_loss: 0.1322 - val_decoder_loss: 2.1940e-04 - val_decoder_mse: 0.4388 - val_loss: 0.1324\n",
            "Epoch 4/120\n",
            "\u001b[1m1788/1788\u001b[0m \u001b[32m━━━━━━━━━━━━━━━━━━━━\u001b[0m\u001b[37m\u001b[0m \u001b[1m22s\u001b[0m 11ms/step - capsnet_accuracy: 0.8197 - capsnet_loss: 0.1314 - decoder_loss: 2.1897e-04 - decoder_mse: 0.4379 - loss: 0.1317 - val_capsnet_accuracy: 0.8641 - val_capsnet_loss: 0.1006 - val_decoder_loss: 2.1940e-04 - val_decoder_mse: 0.4388 - val_loss: 0.1008\n",
            "Epoch 5/120\n",
            "\u001b[1m1788/1788\u001b[0m \u001b[32m━━━━━━━━━━━━━━━━━━━━\u001b[0m\u001b[37m\u001b[0m \u001b[1m20s\u001b[0m 11ms/step - capsnet_accuracy: 0.8614 - capsnet_loss: 0.1007 - decoder_loss: 2.1966e-04 - decoder_mse: 0.4393 - loss: 0.1010 - val_capsnet_accuracy: 0.8950 - val_capsnet_loss: 0.0790 - val_decoder_loss: 2.1940e-04 - val_decoder_mse: 0.4388 - val_loss: 0.0792\n",
            "Epoch 6/120\n",
            "\u001b[1m1788/1788\u001b[0m \u001b[32m━━━━━━━━━━━━━━━━━━━━\u001b[0m\u001b[37m\u001b[0m \u001b[1m19s\u001b[0m 10ms/step - capsnet_accuracy: 0.8935 - capsnet_loss: 0.0796 - decoder_loss: 2.1934e-04 - decoder_mse: 0.4387 - loss: 0.0798 - val_capsnet_accuracy: 0.9141 - val_capsnet_loss: 0.0634 - val_decoder_loss: 2.1940e-04 - val_decoder_mse: 0.4388 - val_loss: 0.0636\n",
            "Epoch 7/120\n",
            "\u001b[1m1788/1788\u001b[0m \u001b[32m━━━━━━━━━━━━━━━━━━━━\u001b[0m\u001b[37m\u001b[0m \u001b[1m20s\u001b[0m 10ms/step - capsnet_accuracy: 0.9130 - capsnet_loss: 0.0676 - decoder_loss: 2.1950e-04 - decoder_mse: 0.4390 - loss: 0.0678 - val_capsnet_accuracy: 0.9130 - val_capsnet_loss: 0.0664 - val_decoder_loss: 2.1940e-04 - val_decoder_mse: 0.4388 - val_loss: 0.0667\n",
            "Epoch 8/120\n",
            "\u001b[1m1788/1788\u001b[0m \u001b[32m━━━━━━━━━━━━━━━━━━━━\u001b[0m\u001b[37m\u001b[0m \u001b[1m21s\u001b[0m 10ms/step - capsnet_accuracy: 0.9242 - capsnet_loss: 0.0594 - decoder_loss: 2.1901e-04 - decoder_mse: 0.4380 - loss: 0.0596 - val_capsnet_accuracy: 0.9416 - val_capsnet_loss: 0.0459 - val_decoder_loss: 2.1940e-04 - val_decoder_mse: 0.4388 - val_loss: 0.0461\n",
            "Epoch 9/120\n",
            "\u001b[1m1788/1788\u001b[0m \u001b[32m━━━━━━━━━━━━━━━━━━━━\u001b[0m\u001b[37m\u001b[0m \u001b[1m20s\u001b[0m 10ms/step - capsnet_accuracy: 0.9377 - capsnet_loss: 0.0507 - decoder_loss: 2.1917e-04 - decoder_mse: 0.4383 - loss: 0.0509 - val_capsnet_accuracy: 0.9435 - val_capsnet_loss: 0.0454 - val_decoder_loss: 2.1940e-04 - val_decoder_mse: 0.4388 - val_loss: 0.0456\n",
            "Epoch 10/120\n",
            "\u001b[1m1788/1788\u001b[0m \u001b[32m━━━━━━━━━━━━━━━━━━━━\u001b[0m\u001b[37m\u001b[0m \u001b[1m20s\u001b[0m 10ms/step - capsnet_accuracy: 0.9367 - capsnet_loss: 0.0497 - decoder_loss: 2.1916e-04 - decoder_mse: 0.4383 - loss: 0.0499 - val_capsnet_accuracy: 0.9531 - val_capsnet_loss: 0.0361 - val_decoder_loss: 2.1940e-04 - val_decoder_mse: 0.4388 - val_loss: 0.0363\n",
            "Epoch 11/120\n",
            "\u001b[1m1788/1788\u001b[0m \u001b[32m━━━━━━━━━━━━━━━━━━━━\u001b[0m\u001b[37m\u001b[0m \u001b[1m22s\u001b[0m 11ms/step - capsnet_accuracy: 0.9444 - capsnet_loss: 0.0436 - decoder_loss: 2.1911e-04 - decoder_mse: 0.4382 - loss: 0.0439 - val_capsnet_accuracy: 0.9491 - val_capsnet_loss: 0.0376 - val_decoder_loss: 2.1940e-04 - val_decoder_mse: 0.4388 - val_loss: 0.0378\n",
            "Epoch 12/120\n",
            "\u001b[1m1788/1788\u001b[0m \u001b[32m━━━━━━━━━━━━━━━━━━━━\u001b[0m\u001b[37m\u001b[0m \u001b[1m19s\u001b[0m 10ms/step - capsnet_accuracy: 0.9521 - capsnet_loss: 0.0381 - decoder_loss: 2.1934e-04 - decoder_mse: 0.4387 - loss: 0.0383 - val_capsnet_accuracy: 0.9480 - val_capsnet_loss: 0.0399 - val_decoder_loss: 2.1940e-04 - val_decoder_mse: 0.4388 - val_loss: 0.0401\n",
            "Epoch 13/120\n",
            "\u001b[1m1788/1788\u001b[0m \u001b[32m━━━━━━━━━━━━━━━━━━━━\u001b[0m\u001b[37m\u001b[0m \u001b[1m18s\u001b[0m 10ms/step - capsnet_accuracy: 0.9531 - capsnet_loss: 0.0367 - decoder_loss: 2.1897e-04 - decoder_mse: 0.4379 - loss: 0.0369 - val_capsnet_accuracy: 0.9586 - val_capsnet_loss: 0.0331 - val_decoder_loss: 2.1940e-04 - val_decoder_mse: 0.4388 - val_loss: 0.0333\n",
            "Epoch 14/120\n",
            "\u001b[1m1788/1788\u001b[0m \u001b[32m━━━━━━━━━━━━━━━━━━━━\u001b[0m\u001b[37m\u001b[0m \u001b[1m20s\u001b[0m 10ms/step - capsnet_accuracy: 0.9575 - capsnet_loss: 0.0334 - decoder_loss: 2.1881e-04 - decoder_mse: 0.4376 - loss: 0.0337 - val_capsnet_accuracy: 0.9630 - val_capsnet_loss: 0.0278 - val_decoder_loss: 2.1940e-04 - val_decoder_mse: 0.4388 - val_loss: 0.0280\n",
            "Epoch 15/120\n",
            "\u001b[1m1788/1788\u001b[0m \u001b[32m━━━━━━━━━━━━━━━━━━━━\u001b[0m\u001b[37m\u001b[0m \u001b[1m17s\u001b[0m 10ms/step - capsnet_accuracy: 0.9626 - capsnet_loss: 0.0306 - decoder_loss: 2.1931e-04 - decoder_mse: 0.4386 - loss: 0.0308 - val_capsnet_accuracy: 0.9668 - val_capsnet_loss: 0.0267 - val_decoder_loss: 2.1940e-04 - val_decoder_mse: 0.4388 - val_loss: 0.0269\n",
            "Epoch 16/120\n",
            "\u001b[1m1788/1788\u001b[0m \u001b[32m━━━━━━━━━━━━━━━━━━━━\u001b[0m\u001b[37m\u001b[0m \u001b[1m21s\u001b[0m 10ms/step - capsnet_accuracy: 0.9634 - capsnet_loss: 0.0287 - decoder_loss: 2.1894e-04 - decoder_mse: 0.4379 - loss: 0.0289 - val_capsnet_accuracy: 0.9686 - val_capsnet_loss: 0.0245 - val_decoder_loss: 2.1940e-04 - val_decoder_mse: 0.4388 - val_loss: 0.0247\n",
            "Epoch 17/120\n",
            "\u001b[1m1788/1788\u001b[0m \u001b[32m━━━━━━━━━━━━━━━━━━━━\u001b[0m\u001b[37m\u001b[0m \u001b[1m20s\u001b[0m 10ms/step - capsnet_accuracy: 0.9682 - capsnet_loss: 0.0259 - decoder_loss: 2.1888e-04 - decoder_mse: 0.4378 - loss: 0.0261 - val_capsnet_accuracy: 0.9619 - val_capsnet_loss: 0.0290 - val_decoder_loss: 2.1940e-04 - val_decoder_mse: 0.4388 - val_loss: 0.0292\n",
            "Epoch 18/120\n",
            "\u001b[1m1788/1788\u001b[0m \u001b[32m━━━━━━━━━━━━━━━━━━━━\u001b[0m\u001b[37m\u001b[0m \u001b[1m18s\u001b[0m 10ms/step - capsnet_accuracy: 0.9670 - capsnet_loss: 0.0264 - decoder_loss: 2.1944e-04 - decoder_mse: 0.4389 - loss: 0.0267 - val_capsnet_accuracy: 0.9661 - val_capsnet_loss: 0.0258 - val_decoder_loss: 2.1940e-04 - val_decoder_mse: 0.4388 - val_loss: 0.0260\n",
            "Epoch 19/120\n",
            "\u001b[1m1788/1788\u001b[0m \u001b[32m━━━━━━━━━━━━━━━━━━━━\u001b[0m\u001b[37m\u001b[0m \u001b[1m20s\u001b[0m 10ms/step - capsnet_accuracy: 0.9709 - capsnet_loss: 0.0239 - decoder_loss: 2.1914e-04 - decoder_mse: 0.4383 - loss: 0.0241 - val_capsnet_accuracy: 0.9623 - val_capsnet_loss: 0.0279 - val_decoder_loss: 2.1940e-04 - val_decoder_mse: 0.4388 - val_loss: 0.0282\n",
            "Epoch 20/120\n",
            "\u001b[1m1788/1788\u001b[0m \u001b[32m━━━━━━━━━━━━━━━━━━━━\u001b[0m\u001b[37m\u001b[0m \u001b[1m21s\u001b[0m 10ms/step - capsnet_accuracy: 0.9697 - capsnet_loss: 0.0232 - decoder_loss: 2.1928e-04 - decoder_mse: 0.4386 - loss: 0.0234 - val_capsnet_accuracy: 0.9655 - val_capsnet_loss: 0.0268 - val_decoder_loss: 2.1940e-04 - val_decoder_mse: 0.4388 - val_loss: 0.0270\n",
            "Epoch 21/120\n",
            "\u001b[1m1788/1788\u001b[0m \u001b[32m━━━━━━━━━━━━━━━━━━━━\u001b[0m\u001b[37m\u001b[0m \u001b[1m18s\u001b[0m 10ms/step - capsnet_accuracy: 0.9733 - capsnet_loss: 0.0213 - decoder_loss: 2.1896e-04 - decoder_mse: 0.4379 - loss: 0.0216 - val_capsnet_accuracy: 0.9701 - val_capsnet_loss: 0.0244 - val_decoder_loss: 2.1940e-04 - val_decoder_mse: 0.4388 - val_loss: 0.0246\n",
            "Epoch 22/120\n",
            "\u001b[1m1788/1788\u001b[0m \u001b[32m━━━━━━━━━━━━━━━━━━━━\u001b[0m\u001b[37m\u001b[0m \u001b[1m20s\u001b[0m 10ms/step - capsnet_accuracy: 0.9735 - capsnet_loss: 0.0214 - decoder_loss: 2.1903e-04 - decoder_mse: 0.4381 - loss: 0.0216 - val_capsnet_accuracy: 0.9743 - val_capsnet_loss: 0.0207 - val_decoder_loss: 2.1940e-04 - val_decoder_mse: 0.4388 - val_loss: 0.0210\n",
            "Epoch 23/120\n",
            "\u001b[1m1788/1788\u001b[0m \u001b[32m━━━━━━━━━━━━━━━━━━━━\u001b[0m\u001b[37m\u001b[0m \u001b[1m22s\u001b[0m 11ms/step - capsnet_accuracy: 0.9730 - capsnet_loss: 0.0211 - decoder_loss: 2.1874e-04 - decoder_mse: 0.4375 - loss: 0.0213 - val_capsnet_accuracy: 0.9604 - val_capsnet_loss: 0.0305 - val_decoder_loss: 2.1940e-04 - val_decoder_mse: 0.4388 - val_loss: 0.0307\n",
            "Epoch 24/120\n",
            "\u001b[1m1788/1788\u001b[0m \u001b[32m━━━━━━━━━━━━━━━━━━━━\u001b[0m\u001b[37m\u001b[0m \u001b[1m20s\u001b[0m 11ms/step - capsnet_accuracy: 0.9755 - capsnet_loss: 0.0196 - decoder_loss: 2.1927e-04 - decoder_mse: 0.4385 - loss: 0.0198 - val_capsnet_accuracy: 0.9652 - val_capsnet_loss: 0.0281 - val_decoder_loss: 2.1940e-04 - val_decoder_mse: 0.4388 - val_loss: 0.0283\n",
            "Epoch 25/120\n",
            "\u001b[1m1788/1788\u001b[0m \u001b[32m━━━━━━━━━━━━━━━━━━━━\u001b[0m\u001b[37m\u001b[0m \u001b[1m20s\u001b[0m 10ms/step - capsnet_accuracy: 0.9763 - capsnet_loss: 0.0188 - decoder_loss: 2.1894e-04 - decoder_mse: 0.4379 - loss: 0.0190 - val_capsnet_accuracy: 0.9750 - val_capsnet_loss: 0.0186 - val_decoder_loss: 2.1940e-04 - val_decoder_mse: 0.4388 - val_loss: 0.0188\n",
            "Epoch 26/120\n",
            "\u001b[1m1788/1788\u001b[0m \u001b[32m━━━━━━━━━━━━━━━━━━━━\u001b[0m\u001b[37m\u001b[0m \u001b[1m20s\u001b[0m 10ms/step - capsnet_accuracy: 0.9778 - capsnet_loss: 0.0180 - decoder_loss: 2.1915e-04 - decoder_mse: 0.4383 - loss: 0.0182 - val_capsnet_accuracy: 0.9706 - val_capsnet_loss: 0.0232 - val_decoder_loss: 2.1940e-04 - val_decoder_mse: 0.4388 - val_loss: 0.0235\n",
            "Epoch 27/120\n",
            "\u001b[1m1788/1788\u001b[0m \u001b[32m━━━━━━━━━━━━━━━━━━━━\u001b[0m\u001b[37m\u001b[0m \u001b[1m21s\u001b[0m 10ms/step - capsnet_accuracy: 0.9798 - capsnet_loss: 0.0156 - decoder_loss: 2.1926e-04 - decoder_mse: 0.4385 - loss: 0.0158 - val_capsnet_accuracy: 0.9759 - val_capsnet_loss: 0.0186 - val_decoder_loss: 2.1940e-04 - val_decoder_mse: 0.4388 - val_loss: 0.0188\n",
            "Epoch 28/120\n",
            "\u001b[1m1788/1788\u001b[0m \u001b[32m━━━━━━━━━━━━━━━━━━━━\u001b[0m\u001b[37m\u001b[0m \u001b[1m19s\u001b[0m 11ms/step - capsnet_accuracy: 0.9826 - capsnet_loss: 0.0143 - decoder_loss: 2.1918e-04 - decoder_mse: 0.4384 - loss: 0.0145 - val_capsnet_accuracy: 0.9781 - val_capsnet_loss: 0.0184 - val_decoder_loss: 2.1940e-04 - val_decoder_mse: 0.4388 - val_loss: 0.0186\n",
            "Epoch 29/120\n",
            "\u001b[1m1788/1788\u001b[0m \u001b[32m━━━━━━━━━━━━━━━━━━━━\u001b[0m\u001b[37m\u001b[0m \u001b[1m18s\u001b[0m 10ms/step - capsnet_accuracy: 0.9791 - capsnet_loss: 0.0167 - decoder_loss: 2.1932e-04 - decoder_mse: 0.4386 - loss: 0.0169 - val_capsnet_accuracy: 0.9701 - val_capsnet_loss: 0.0230 - val_decoder_loss: 2.1940e-04 - val_decoder_mse: 0.4388 - val_loss: 0.0232\n",
            "Epoch 30/120\n",
            "\u001b[1m1788/1788\u001b[0m \u001b[32m━━━━━━━━━━━━━━━━━━━━\u001b[0m\u001b[37m\u001b[0m \u001b[1m22s\u001b[0m 11ms/step - capsnet_accuracy: 0.9817 - capsnet_loss: 0.0146 - decoder_loss: 2.1954e-04 - decoder_mse: 0.4391 - loss: 0.0148 - val_capsnet_accuracy: 0.9789 - val_capsnet_loss: 0.0167 - val_decoder_loss: 2.1940e-04 - val_decoder_mse: 0.4388 - val_loss: 0.0169\n",
            "Epoch 31/120\n",
            "\u001b[1m1788/1788\u001b[0m \u001b[32m━━━━━━━━━━━━━━━━━━━━\u001b[0m\u001b[37m\u001b[0m \u001b[1m18s\u001b[0m 10ms/step - capsnet_accuracy: 0.9818 - capsnet_loss: 0.0146 - decoder_loss: 2.1916e-04 - decoder_mse: 0.4383 - loss: 0.0148 - val_capsnet_accuracy: 0.9774 - val_capsnet_loss: 0.0175 - val_decoder_loss: 2.1940e-04 - val_decoder_mse: 0.4388 - val_loss: 0.0177\n",
            "Epoch 32/120\n",
            "\u001b[1m1788/1788\u001b[0m \u001b[32m━━━━━━━━━━━━━━━━━━━━\u001b[0m\u001b[37m\u001b[0m \u001b[1m18s\u001b[0m 10ms/step - capsnet_accuracy: 0.9828 - capsnet_loss: 0.0137 - decoder_loss: 2.1878e-04 - decoder_mse: 0.4376 - loss: 0.0139 - val_capsnet_accuracy: 0.9774 - val_capsnet_loss: 0.0175 - val_decoder_loss: 2.1940e-04 - val_decoder_mse: 0.4388 - val_loss: 0.0178\n",
            "Epoch 33/120\n",
            "\u001b[1m1788/1788\u001b[0m \u001b[32m━━━━━━━━━━━━━━━━━━━━\u001b[0m\u001b[37m\u001b[0m \u001b[1m21s\u001b[0m 10ms/step - capsnet_accuracy: 0.9860 - capsnet_loss: 0.0113 - decoder_loss: 2.1899e-04 - decoder_mse: 0.4380 - loss: 0.0115 - val_capsnet_accuracy: 0.9743 - val_capsnet_loss: 0.0204 - val_decoder_loss: 2.1940e-04 - val_decoder_mse: 0.4388 - val_loss: 0.0207\n",
            "Epoch 34/120\n",
            "\u001b[1m1788/1788\u001b[0m \u001b[32m━━━━━━━━━━━━━━━━━━━━\u001b[0m\u001b[37m\u001b[0m \u001b[1m20s\u001b[0m 10ms/step - capsnet_accuracy: 0.9829 - capsnet_loss: 0.0135 - decoder_loss: 2.1891e-04 - decoder_mse: 0.4378 - loss: 0.0137 - val_capsnet_accuracy: 0.9800 - val_capsnet_loss: 0.0163 - val_decoder_loss: 2.1940e-04 - val_decoder_mse: 0.4388 - val_loss: 0.0165\n",
            "Epoch 35/120\n",
            "\u001b[1m1788/1788\u001b[0m \u001b[32m━━━━━━━━━━━━━━━━━━━━\u001b[0m\u001b[37m\u001b[0m \u001b[1m21s\u001b[0m 10ms/step - capsnet_accuracy: 0.9851 - capsnet_loss: 0.0118 - decoder_loss: 2.1898e-04 - decoder_mse: 0.4380 - loss: 0.0120 - val_capsnet_accuracy: 0.9767 - val_capsnet_loss: 0.0186 - val_decoder_loss: 2.1940e-04 - val_decoder_mse: 0.4388 - val_loss: 0.0188\n",
            "Epoch 36/120\n",
            "\u001b[1m1788/1788\u001b[0m \u001b[32m━━━━━━━━━━━━━━━━━━━━\u001b[0m\u001b[37m\u001b[0m \u001b[1m20s\u001b[0m 10ms/step - capsnet_accuracy: 0.9850 - capsnet_loss: 0.0121 - decoder_loss: 2.1927e-04 - decoder_mse: 0.4385 - loss: 0.0123 - val_capsnet_accuracy: 0.9700 - val_capsnet_loss: 0.0242 - val_decoder_loss: 2.1940e-04 - val_decoder_mse: 0.4388 - val_loss: 0.0244\n",
            "Epoch 37/120\n",
            "\u001b[1m1788/1788\u001b[0m \u001b[32m━━━━━━━━━━━━━━━━━━━━\u001b[0m\u001b[37m\u001b[0m \u001b[1m22s\u001b[0m 11ms/step - capsnet_accuracy: 0.9856 - capsnet_loss: 0.0119 - decoder_loss: 2.1882e-04 - decoder_mse: 0.4376 - loss: 0.0121 - val_capsnet_accuracy: 0.9783 - val_capsnet_loss: 0.0175 - val_decoder_loss: 2.1940e-04 - val_decoder_mse: 0.4388 - val_loss: 0.0177\n",
            "Epoch 38/120\n",
            "\u001b[1m1788/1788\u001b[0m \u001b[32m━━━━━━━━━━━━━━━━━━━━\u001b[0m\u001b[37m\u001b[0m \u001b[1m19s\u001b[0m 10ms/step - capsnet_accuracy: 0.9859 - capsnet_loss: 0.0110 - decoder_loss: 2.1901e-04 - decoder_mse: 0.4380 - loss: 0.0112 - val_capsnet_accuracy: 0.9772 - val_capsnet_loss: 0.0180 - val_decoder_loss: 2.1940e-04 - val_decoder_mse: 0.4388 - val_loss: 0.0182\n",
            "Epoch 39/120\n",
            "\u001b[1m1788/1788\u001b[0m \u001b[32m━━━━━━━━━━━━━━━━━━━━\u001b[0m\u001b[37m\u001b[0m \u001b[1m20s\u001b[0m 10ms/step - capsnet_accuracy: 0.9860 - capsnet_loss: 0.0115 - decoder_loss: 2.1893e-04 - decoder_mse: 0.4379 - loss: 0.0117 - val_capsnet_accuracy: 0.9776 - val_capsnet_loss: 0.0196 - val_decoder_loss: 2.1940e-04 - val_decoder_mse: 0.4388 - val_loss: 0.0198\n",
            "Epoch 40/120\n",
            "\u001b[1m1788/1788\u001b[0m \u001b[32m━━━━━━━━━━━━━━━━━━━━\u001b[0m\u001b[37m\u001b[0m \u001b[1m21s\u001b[0m 10ms/step - capsnet_accuracy: 0.9860 - capsnet_loss: 0.0112 - decoder_loss: 2.1913e-04 - decoder_mse: 0.4383 - loss: 0.0114 - val_capsnet_accuracy: 0.9689 - val_capsnet_loss: 0.0244 - val_decoder_loss: 2.1940e-04 - val_decoder_mse: 0.4388 - val_loss: 0.0246\n",
            "Epoch 41/120\n",
            "\u001b[1m1788/1788\u001b[0m \u001b[32m━━━━━━━━━━━━━━━━━━━━\u001b[0m\u001b[37m\u001b[0m \u001b[1m18s\u001b[0m 10ms/step - capsnet_accuracy: 0.9887 - capsnet_loss: 0.0094 - decoder_loss: 2.1904e-04 - decoder_mse: 0.4381 - loss: 0.0096 - val_capsnet_accuracy: 0.9817 - val_capsnet_loss: 0.0156 - val_decoder_loss: 2.1940e-04 - val_decoder_mse: 0.4388 - val_loss: 0.0159\n",
            "Epoch 42/120\n",
            "\u001b[1m1788/1788\u001b[0m \u001b[32m━━━━━━━━━━━━━━━━━━━━\u001b[0m\u001b[37m\u001b[0m \u001b[1m21s\u001b[0m 10ms/step - capsnet_accuracy: 0.9869 - capsnet_loss: 0.0102 - decoder_loss: 2.1895e-04 - decoder_mse: 0.4379 - loss: 0.0104 - val_capsnet_accuracy: 0.9724 - val_capsnet_loss: 0.0219 - val_decoder_loss: 2.1940e-04 - val_decoder_mse: 0.4388 - val_loss: 0.0221\n",
            "Epoch 43/120\n",
            "\u001b[1m1788/1788\u001b[0m \u001b[32m━━━━━━━━━━━━━━━━━━━━\u001b[0m\u001b[37m\u001b[0m \u001b[1m20s\u001b[0m 10ms/step - capsnet_accuracy: 0.9878 - capsnet_loss: 0.0100 - decoder_loss: 2.1914e-04 - decoder_mse: 0.4383 - loss: 0.0103 - val_capsnet_accuracy: 0.9756 - val_capsnet_loss: 0.0201 - val_decoder_loss: 2.1940e-04 - val_decoder_mse: 0.4388 - val_loss: 0.0203\n",
            "Epoch 44/120\n",
            "\u001b[1m1788/1788\u001b[0m \u001b[32m━━━━━━━━━━━━━━━━━━━━\u001b[0m\u001b[37m\u001b[0m \u001b[1m22s\u001b[0m 11ms/step - capsnet_accuracy: 0.9893 - capsnet_loss: 0.0087 - decoder_loss: 2.1950e-04 - decoder_mse: 0.4390 - loss: 0.0089 - val_capsnet_accuracy: 0.9718 - val_capsnet_loss: 0.0231 - val_decoder_loss: 2.1940e-04 - val_decoder_mse: 0.4388 - val_loss: 0.0233\n",
            "Epoch 45/120\n",
            "\u001b[1m1788/1788\u001b[0m \u001b[32m━━━━━━━━━━━━━━━━━━━━\u001b[0m\u001b[37m\u001b[0m \u001b[1m18s\u001b[0m 10ms/step - capsnet_accuracy: 0.9870 - capsnet_loss: 0.0105 - decoder_loss: 2.1896e-04 - decoder_mse: 0.4379 - loss: 0.0107 - val_capsnet_accuracy: 0.9815 - val_capsnet_loss: 0.0145 - val_decoder_loss: 2.1940e-04 - val_decoder_mse: 0.4388 - val_loss: 0.0147\n",
            "Epoch 46/120\n",
            "\u001b[1m1788/1788\u001b[0m \u001b[32m━━━━━━━━━━━━━━━━━━━━\u001b[0m\u001b[37m\u001b[0m \u001b[1m18s\u001b[0m 10ms/step - capsnet_accuracy: 0.9900 - capsnet_loss: 0.0084 - decoder_loss: 2.1886e-04 - decoder_mse: 0.4377 - loss: 0.0086 - val_capsnet_accuracy: 0.9772 - val_capsnet_loss: 0.0187 - val_decoder_loss: 2.1940e-04 - val_decoder_mse: 0.4388 - val_loss: 0.0189\n",
            "Epoch 47/120\n",
            "\u001b[1m1788/1788\u001b[0m \u001b[32m━━━━━━━━━━━━━━━━━━━━\u001b[0m\u001b[37m\u001b[0m \u001b[1m22s\u001b[0m 11ms/step - capsnet_accuracy: 0.9886 - capsnet_loss: 0.0089 - decoder_loss: 2.1894e-04 - decoder_mse: 0.4379 - loss: 0.0091 - val_capsnet_accuracy: 0.9736 - val_capsnet_loss: 0.0205 - val_decoder_loss: 2.1940e-04 - val_decoder_mse: 0.4388 - val_loss: 0.0207\n",
            "Epoch 48/120\n",
            "\u001b[1m1788/1788\u001b[0m \u001b[32m━━━━━━━━━━━━━━━━━━━━\u001b[0m\u001b[37m\u001b[0m \u001b[1m19s\u001b[0m 10ms/step - capsnet_accuracy: 0.9870 - capsnet_loss: 0.0105 - decoder_loss: 2.1906e-04 - decoder_mse: 0.4381 - loss: 0.0107 - val_capsnet_accuracy: 0.9807 - val_capsnet_loss: 0.0161 - val_decoder_loss: 2.1940e-04 - val_decoder_mse: 0.4388 - val_loss: 0.0163\n",
            "Epoch 49/120\n",
            "\u001b[1m1788/1788\u001b[0m \u001b[32m━━━━━━━━━━━━━━━━━━━━\u001b[0m\u001b[37m\u001b[0m \u001b[1m21s\u001b[0m 10ms/step - capsnet_accuracy: 0.9901 - capsnet_loss: 0.0085 - decoder_loss: 2.1954e-04 - decoder_mse: 0.4391 - loss: 0.0087 - val_capsnet_accuracy: 0.9784 - val_capsnet_loss: 0.0175 - val_decoder_loss: 2.1940e-04 - val_decoder_mse: 0.4388 - val_loss: 0.0177\n",
            "Epoch 50/120\n",
            "\u001b[1m1788/1788\u001b[0m \u001b[32m━━━━━━━━━━━━━━━━━━━━\u001b[0m\u001b[37m\u001b[0m \u001b[1m20s\u001b[0m 10ms/step - capsnet_accuracy: 0.9897 - capsnet_loss: 0.0083 - decoder_loss: 2.1926e-04 - decoder_mse: 0.4385 - loss: 0.0085 - val_capsnet_accuracy: 0.9827 - val_capsnet_loss: 0.0144 - val_decoder_loss: 2.1940e-04 - val_decoder_mse: 0.4388 - val_loss: 0.0146\n",
            "Epoch 51/120\n",
            "\u001b[1m1788/1788\u001b[0m \u001b[32m━━━━━━━━━━━━━━━━━━━━\u001b[0m\u001b[37m\u001b[0m \u001b[1m20s\u001b[0m 10ms/step - capsnet_accuracy: 0.9891 - capsnet_loss: 0.0085 - decoder_loss: 2.1917e-04 - decoder_mse: 0.4383 - loss: 0.0088 - val_capsnet_accuracy: 0.9818 - val_capsnet_loss: 0.0164 - val_decoder_loss: 2.1940e-04 - val_decoder_mse: 0.4388 - val_loss: 0.0166\n",
            "Epoch 52/120\n",
            "\u001b[1m1788/1788\u001b[0m \u001b[32m━━━━━━━━━━━━━━━━━━━━\u001b[0m\u001b[37m\u001b[0m \u001b[1m20s\u001b[0m 10ms/step - capsnet_accuracy: 0.9895 - capsnet_loss: 0.0080 - decoder_loss: 2.1902e-04 - decoder_mse: 0.4380 - loss: 0.0082 - val_capsnet_accuracy: 0.9830 - val_capsnet_loss: 0.0139 - val_decoder_loss: 2.1940e-04 - val_decoder_mse: 0.4388 - val_loss: 0.0142\n",
            "Epoch 53/120\n",
            "\u001b[1m1788/1788\u001b[0m \u001b[32m━━━━━━━━━━━━━━━━━━━━\u001b[0m\u001b[37m\u001b[0m \u001b[1m18s\u001b[0m 10ms/step - capsnet_accuracy: 0.9892 - capsnet_loss: 0.0084 - decoder_loss: 2.1900e-04 - decoder_mse: 0.4380 - loss: 0.0086 - val_capsnet_accuracy: 0.9806 - val_capsnet_loss: 0.0161 - val_decoder_loss: 2.1940e-04 - val_decoder_mse: 0.4388 - val_loss: 0.0163\n",
            "Epoch 54/120\n",
            "\u001b[1m1788/1788\u001b[0m \u001b[32m━━━━━━━━━━━━━━━━━━━━\u001b[0m\u001b[37m\u001b[0m \u001b[1m22s\u001b[0m 11ms/step - capsnet_accuracy: 0.9899 - capsnet_loss: 0.0086 - decoder_loss: 2.1912e-04 - decoder_mse: 0.4382 - loss: 0.0088 - val_capsnet_accuracy: 0.9762 - val_capsnet_loss: 0.0199 - val_decoder_loss: 2.1940e-04 - val_decoder_mse: 0.4388 - val_loss: 0.0201\n",
            "Epoch 55/120\n",
            "\u001b[1m1788/1788\u001b[0m \u001b[32m━━━━━━━━━━━━━━━━━━━━\u001b[0m\u001b[37m\u001b[0m \u001b[1m19s\u001b[0m 10ms/step - capsnet_accuracy: 0.9893 - capsnet_loss: 0.0087 - decoder_loss: 2.1906e-04 - decoder_mse: 0.4381 - loss: 0.0089 - val_capsnet_accuracy: 0.9811 - val_capsnet_loss: 0.0151 - val_decoder_loss: 2.1940e-04 - val_decoder_mse: 0.4388 - val_loss: 0.0153\n",
            "Epoch 56/120\n",
            "\u001b[1m1788/1788\u001b[0m \u001b[32m━━━━━━━━━━━━━━━━━━━━\u001b[0m\u001b[37m\u001b[0m \u001b[1m18s\u001b[0m 10ms/step - capsnet_accuracy: 0.9899 - capsnet_loss: 0.0080 - decoder_loss: 2.1928e-04 - decoder_mse: 0.4386 - loss: 0.0082 - val_capsnet_accuracy: 0.9782 - val_capsnet_loss: 0.0175 - val_decoder_loss: 2.1940e-04 - val_decoder_mse: 0.4388 - val_loss: 0.0178\n",
            "Epoch 57/120\n",
            "\u001b[1m1788/1788\u001b[0m \u001b[32m━━━━━━━━━━━━━━━━━━━━\u001b[0m\u001b[37m\u001b[0m \u001b[1m22s\u001b[0m 11ms/step - capsnet_accuracy: 0.9907 - capsnet_loss: 0.0075 - decoder_loss: 2.1931e-04 - decoder_mse: 0.4386 - loss: 0.0078 - val_capsnet_accuracy: 0.9836 - val_capsnet_loss: 0.0136 - val_decoder_loss: 2.1940e-04 - val_decoder_mse: 0.4388 - val_loss: 0.0138\n",
            "Epoch 58/120\n",
            "\u001b[1m1788/1788\u001b[0m \u001b[32m━━━━━━━━━━━━━━━━━━━━\u001b[0m\u001b[37m\u001b[0m \u001b[1m18s\u001b[0m 10ms/step - capsnet_accuracy: 0.9909 - capsnet_loss: 0.0076 - decoder_loss: 2.1933e-04 - decoder_mse: 0.4387 - loss: 0.0078 - val_capsnet_accuracy: 0.9824 - val_capsnet_loss: 0.0146 - val_decoder_loss: 2.1940e-04 - val_decoder_mse: 0.4388 - val_loss: 0.0148\n",
            "Epoch 59/120\n",
            "\u001b[1m1788/1788\u001b[0m \u001b[32m━━━━━━━━━━━━━━━━━━━━\u001b[0m\u001b[37m\u001b[0m \u001b[1m19s\u001b[0m 11ms/step - capsnet_accuracy: 0.9917 - capsnet_loss: 0.0068 - decoder_loss: 2.1906e-04 - decoder_mse: 0.4381 - loss: 0.0070 - val_capsnet_accuracy: 0.9793 - val_capsnet_loss: 0.0158 - val_decoder_loss: 2.1940e-04 - val_decoder_mse: 0.4388 - val_loss: 0.0161\n",
            "Epoch 60/120\n",
            "\u001b[1m1788/1788\u001b[0m \u001b[32m━━━━━━━━━━━━━━━━━━━━\u001b[0m\u001b[37m\u001b[0m \u001b[1m18s\u001b[0m 10ms/step - capsnet_accuracy: 0.9900 - capsnet_loss: 0.0081 - decoder_loss: 2.1920e-04 - decoder_mse: 0.4384 - loss: 0.0083 - val_capsnet_accuracy: 0.9783 - val_capsnet_loss: 0.0178 - val_decoder_loss: 2.1940e-04 - val_decoder_mse: 0.4388 - val_loss: 0.0180\n",
            "Epoch 61/120\n",
            "\u001b[1m1788/1788\u001b[0m \u001b[32m━━━━━━━━━━━━━━━━━━━━\u001b[0m\u001b[37m\u001b[0m \u001b[1m19s\u001b[0m 11ms/step - capsnet_accuracy: 0.9919 - capsnet_loss: 0.0066 - decoder_loss: 2.1916e-04 - decoder_mse: 0.4383 - loss: 0.0069 - val_capsnet_accuracy: 0.9841 - val_capsnet_loss: 0.0129 - val_decoder_loss: 2.1940e-04 - val_decoder_mse: 0.4388 - val_loss: 0.0131\n",
            "Epoch 62/120\n",
            "\u001b[1m1788/1788\u001b[0m \u001b[32m━━━━━━━━━━━━━━━━━━━━\u001b[0m\u001b[37m\u001b[0m \u001b[1m18s\u001b[0m 10ms/step - capsnet_accuracy: 0.9916 - capsnet_loss: 0.0068 - decoder_loss: 2.1895e-04 - decoder_mse: 0.4379 - loss: 0.0070 - val_capsnet_accuracy: 0.9821 - val_capsnet_loss: 0.0154 - val_decoder_loss: 2.1940e-04 - val_decoder_mse: 0.4388 - val_loss: 0.0156\n",
            "Epoch 63/120\n",
            "\u001b[1m1788/1788\u001b[0m \u001b[32m━━━━━━━━━━━━━━━━━━━━\u001b[0m\u001b[37m\u001b[0m \u001b[1m19s\u001b[0m 10ms/step - capsnet_accuracy: 0.9921 - capsnet_loss: 0.0062 - decoder_loss: 2.1952e-04 - decoder_mse: 0.4390 - loss: 0.0064 - val_capsnet_accuracy: 0.9827 - val_capsnet_loss: 0.0141 - val_decoder_loss: 2.1940e-04 - val_decoder_mse: 0.4388 - val_loss: 0.0144\n",
            "Epoch 64/120\n",
            "\u001b[1m1788/1788\u001b[0m \u001b[32m━━━━━━━━━━━━━━━━━━━━\u001b[0m\u001b[37m\u001b[0m \u001b[1m18s\u001b[0m 10ms/step - capsnet_accuracy: 0.9909 - capsnet_loss: 0.0072 - decoder_loss: 2.1931e-04 - decoder_mse: 0.4386 - loss: 0.0074 - val_capsnet_accuracy: 0.9806 - val_capsnet_loss: 0.0152 - val_decoder_loss: 2.1940e-04 - val_decoder_mse: 0.4388 - val_loss: 0.0154\n",
            "Epoch 65/120\n",
            "\u001b[1m1788/1788\u001b[0m \u001b[32m━━━━━━━━━━━━━━━━━━━━\u001b[0m\u001b[37m\u001b[0m \u001b[1m20s\u001b[0m 10ms/step - capsnet_accuracy: 0.9933 - capsnet_loss: 0.0057 - decoder_loss: 2.1919e-04 - decoder_mse: 0.4384 - loss: 0.0059 - val_capsnet_accuracy: 0.9814 - val_capsnet_loss: 0.0157 - val_decoder_loss: 2.1940e-04 - val_decoder_mse: 0.4388 - val_loss: 0.0159\n",
            "Epoch 66/120\n",
            "\u001b[1m1788/1788\u001b[0m \u001b[32m━━━━━━━━━━━━━━━━━━━━\u001b[0m\u001b[37m\u001b[0m \u001b[1m21s\u001b[0m 10ms/step - capsnet_accuracy: 0.9910 - capsnet_loss: 0.0071 - decoder_loss: 2.1929e-04 - decoder_mse: 0.4386 - loss: 0.0074 - val_capsnet_accuracy: 0.9813 - val_capsnet_loss: 0.0161 - val_decoder_loss: 2.1940e-04 - val_decoder_mse: 0.4388 - val_loss: 0.0163\n",
            "Epoch 67/120\n",
            "\u001b[1m1788/1788\u001b[0m \u001b[32m━━━━━━━━━━━━━━━━━━━━\u001b[0m\u001b[37m\u001b[0m \u001b[1m20s\u001b[0m 10ms/step - capsnet_accuracy: 0.9936 - capsnet_loss: 0.0054 - decoder_loss: 2.1907e-04 - decoder_mse: 0.4381 - loss: 0.0056 - val_capsnet_accuracy: 0.9810 - val_capsnet_loss: 0.0158 - val_decoder_loss: 2.1940e-04 - val_decoder_mse: 0.4388 - val_loss: 0.0161\n",
            "Epoch 68/120\n",
            "\u001b[1m1788/1788\u001b[0m \u001b[32m━━━━━━━━━━━━━━━━━━━━\u001b[0m\u001b[37m\u001b[0m \u001b[1m19s\u001b[0m 11ms/step - capsnet_accuracy: 0.9902 - capsnet_loss: 0.0076 - decoder_loss: 2.1931e-04 - decoder_mse: 0.4386 - loss: 0.0078 - val_capsnet_accuracy: 0.9807 - val_capsnet_loss: 0.0158 - val_decoder_loss: 2.1940e-04 - val_decoder_mse: 0.4388 - val_loss: 0.0160\n",
            "Epoch 69/120\n",
            "\u001b[1m1788/1788\u001b[0m \u001b[32m━━━━━━━━━━━━━━━━━━━━\u001b[0m\u001b[37m\u001b[0m \u001b[1m18s\u001b[0m 10ms/step - capsnet_accuracy: 0.9930 - capsnet_loss: 0.0058 - decoder_loss: 2.1907e-04 - decoder_mse: 0.4381 - loss: 0.0060 - val_capsnet_accuracy: 0.9800 - val_capsnet_loss: 0.0158 - val_decoder_loss: 2.1940e-04 - val_decoder_mse: 0.4388 - val_loss: 0.0161\n",
            "Epoch 70/120\n",
            "\u001b[1m1788/1788\u001b[0m \u001b[32m━━━━━━━━━━━━━━━━━━━━\u001b[0m\u001b[37m\u001b[0m \u001b[1m21s\u001b[0m 10ms/step - capsnet_accuracy: 0.9924 - capsnet_loss: 0.0055 - decoder_loss: 2.1890e-04 - decoder_mse: 0.4378 - loss: 0.0057 - val_capsnet_accuracy: 0.9799 - val_capsnet_loss: 0.0173 - val_decoder_loss: 2.1940e-04 - val_decoder_mse: 0.4388 - val_loss: 0.0175\n",
            "Epoch 71/120\n",
            "\u001b[1m1788/1788\u001b[0m \u001b[32m━━━━━━━━━━━━━━━━━━━━\u001b[0m\u001b[37m\u001b[0m \u001b[1m19s\u001b[0m 11ms/step - capsnet_accuracy: 0.9926 - capsnet_loss: 0.0060 - decoder_loss: 2.1877e-04 - decoder_mse: 0.4375 - loss: 0.0063 - val_capsnet_accuracy: 0.9782 - val_capsnet_loss: 0.0178 - val_decoder_loss: 2.1940e-04 - val_decoder_mse: 0.4388 - val_loss: 0.0180\n",
            "Epoch 72/120\n",
            "\u001b[1m1788/1788\u001b[0m \u001b[32m━━━━━━━━━━━━━━━━━━━━\u001b[0m\u001b[37m\u001b[0m \u001b[1m20s\u001b[0m 11ms/step - capsnet_accuracy: 0.9927 - capsnet_loss: 0.0061 - decoder_loss: 2.1904e-04 - decoder_mse: 0.4381 - loss: 0.0064 - val_capsnet_accuracy: 0.9789 - val_capsnet_loss: 0.0174 - val_decoder_loss: 2.1940e-04 - val_decoder_mse: 0.4388 - val_loss: 0.0176\n",
            "Epoch 73/120\n",
            "\u001b[1m1788/1788\u001b[0m \u001b[32m━━━━━━━━━━━━━━━━━━━━\u001b[0m\u001b[37m\u001b[0m \u001b[1m18s\u001b[0m 10ms/step - capsnet_accuracy: 0.9929 - capsnet_loss: 0.0058 - decoder_loss: 2.1900e-04 - decoder_mse: 0.4380 - loss: 0.0060 - val_capsnet_accuracy: 0.9791 - val_capsnet_loss: 0.0178 - val_decoder_loss: 2.1940e-04 - val_decoder_mse: 0.4388 - val_loss: 0.0180\n",
            "Epoch 74/120\n",
            "\u001b[1m1788/1788\u001b[0m \u001b[32m━━━━━━━━━━━━━━━━━━━━\u001b[0m\u001b[37m\u001b[0m \u001b[1m21s\u001b[0m 10ms/step - capsnet_accuracy: 0.9934 - capsnet_loss: 0.0056 - decoder_loss: 2.1929e-04 - decoder_mse: 0.4386 - loss: 0.0058 - val_capsnet_accuracy: 0.9717 - val_capsnet_loss: 0.0235 - val_decoder_loss: 2.1939e-04 - val_decoder_mse: 0.4388 - val_loss: 0.0238\n",
            "Epoch 75/120\n",
            "\u001b[1m1788/1788\u001b[0m \u001b[32m━━━━━━━━━━━━━━━━━━━━\u001b[0m\u001b[37m\u001b[0m \u001b[1m20s\u001b[0m 10ms/step - capsnet_accuracy: 0.9908 - capsnet_loss: 0.0077 - decoder_loss: 2.1938e-04 - decoder_mse: 0.4388 - loss: 0.0079 - val_capsnet_accuracy: 0.9817 - val_capsnet_loss: 0.0154 - val_decoder_loss: 2.1939e-04 - val_decoder_mse: 0.4388 - val_loss: 0.0156\n",
            "Epoch 76/120\n",
            "\u001b[1m1788/1788\u001b[0m \u001b[32m━━━━━━━━━━━━━━━━━━━━\u001b[0m\u001b[37m\u001b[0m \u001b[1m21s\u001b[0m 10ms/step - capsnet_accuracy: 0.9925 - capsnet_loss: 0.0063 - decoder_loss: 2.1908e-04 - decoder_mse: 0.4382 - loss: 0.0065 - val_capsnet_accuracy: 0.9819 - val_capsnet_loss: 0.0148 - val_decoder_loss: 2.1939e-04 - val_decoder_mse: 0.4388 - val_loss: 0.0150\n",
            "Epoch 77/120\n",
            "\u001b[1m1788/1788\u001b[0m \u001b[32m━━━━━━━━━━━━━━━━━━━━\u001b[0m\u001b[37m\u001b[0m \u001b[1m20s\u001b[0m 10ms/step - capsnet_accuracy: 0.9949 - capsnet_loss: 0.0046 - decoder_loss: 2.1861e-04 - decoder_mse: 0.4372 - loss: 0.0048 - val_capsnet_accuracy: 0.9811 - val_capsnet_loss: 0.0148 - val_decoder_loss: 2.1939e-04 - val_decoder_mse: 0.4388 - val_loss: 0.0150\n",
            "Epoch 78/120\n",
            "\u001b[1m1788/1788\u001b[0m \u001b[32m━━━━━━━━━━━━━━━━━━━━\u001b[0m\u001b[37m\u001b[0m \u001b[1m18s\u001b[0m 10ms/step - capsnet_accuracy: 0.9928 - capsnet_loss: 0.0057 - decoder_loss: 2.1893e-04 - decoder_mse: 0.4379 - loss: 0.0059 - val_capsnet_accuracy: 0.9802 - val_capsnet_loss: 0.0166 - val_decoder_loss: 2.1939e-04 - val_decoder_mse: 0.4388 - val_loss: 0.0168\n",
            "Epoch 79/120\n",
            "\u001b[1m1788/1788\u001b[0m \u001b[32m━━━━━━━━━━━━━━━━━━━━\u001b[0m\u001b[37m\u001b[0m \u001b[1m18s\u001b[0m 10ms/step - capsnet_accuracy: 0.9949 - capsnet_loss: 0.0044 - decoder_loss: 2.1896e-04 - decoder_mse: 0.4379 - loss: 0.0046 - val_capsnet_accuracy: 0.9816 - val_capsnet_loss: 0.0151 - val_decoder_loss: 2.1939e-04 - val_decoder_mse: 0.4388 - val_loss: 0.0153\n",
            "Epoch 80/120\n",
            "\u001b[1m1788/1788\u001b[0m \u001b[32m━━━━━━━━━━━━━━━━━━━━\u001b[0m\u001b[37m\u001b[0m \u001b[1m20s\u001b[0m 10ms/step - capsnet_accuracy: 0.9936 - capsnet_loss: 0.0054 - decoder_loss: 2.1946e-04 - decoder_mse: 0.4389 - loss: 0.0056 - val_capsnet_accuracy: 0.9770 - val_capsnet_loss: 0.0193 - val_decoder_loss: 2.1939e-04 - val_decoder_mse: 0.4388 - val_loss: 0.0196\n",
            "Epoch 81/120\n",
            "\u001b[1m1788/1788\u001b[0m \u001b[32m━━━━━━━━━━━━━━━━━━━━\u001b[0m\u001b[37m\u001b[0m \u001b[1m22s\u001b[0m 11ms/step - capsnet_accuracy: 0.9933 - capsnet_loss: 0.0052 - decoder_loss: 2.1888e-04 - decoder_mse: 0.4378 - loss: 0.0054 - val_capsnet_accuracy: 0.9869 - val_capsnet_loss: 0.0113 - val_decoder_loss: 2.1939e-04 - val_decoder_mse: 0.4388 - val_loss: 0.0115\n",
            "Epoch 82/120\n",
            "\u001b[1m1788/1788\u001b[0m \u001b[32m━━━━━━━━━━━━━━━━━━━━\u001b[0m\u001b[37m\u001b[0m \u001b[1m19s\u001b[0m 11ms/step - capsnet_accuracy: 0.9934 - capsnet_loss: 0.0050 - decoder_loss: 2.1904e-04 - decoder_mse: 0.4381 - loss: 0.0052 - val_capsnet_accuracy: 0.9826 - val_capsnet_loss: 0.0140 - val_decoder_loss: 2.1939e-04 - val_decoder_mse: 0.4388 - val_loss: 0.0142\n",
            "Epoch 83/120\n",
            "\u001b[1m1788/1788\u001b[0m \u001b[32m━━━━━━━━━━━━━━━━━━━━\u001b[0m\u001b[37m\u001b[0m \u001b[1m19s\u001b[0m 10ms/step - capsnet_accuracy: 0.9945 - capsnet_loss: 0.0048 - decoder_loss: 2.1914e-04 - decoder_mse: 0.4383 - loss: 0.0050 - val_capsnet_accuracy: 0.9837 - val_capsnet_loss: 0.0129 - val_decoder_loss: 2.1939e-04 - val_decoder_mse: 0.4388 - val_loss: 0.0131\n",
            "Epoch 84/120\n",
            "\u001b[1m1788/1788\u001b[0m \u001b[32m━━━━━━━━━━━━━━━━━━━━\u001b[0m\u001b[37m\u001b[0m \u001b[1m19s\u001b[0m 11ms/step - capsnet_accuracy: 0.9933 - capsnet_loss: 0.0052 - decoder_loss: 2.1956e-04 - decoder_mse: 0.4391 - loss: 0.0054 - val_capsnet_accuracy: 0.9851 - val_capsnet_loss: 0.0127 - val_decoder_loss: 2.1939e-04 - val_decoder_mse: 0.4388 - val_loss: 0.0129\n",
            "Epoch 85/120\n",
            "\u001b[1m1788/1788\u001b[0m \u001b[32m━━━━━━━━━━━━━━━━━━━━\u001b[0m\u001b[37m\u001b[0m \u001b[1m19s\u001b[0m 10ms/step - capsnet_accuracy: 0.9945 - capsnet_loss: 0.0046 - decoder_loss: 2.1905e-04 - decoder_mse: 0.4381 - loss: 0.0049 - val_capsnet_accuracy: 0.9850 - val_capsnet_loss: 0.0124 - val_decoder_loss: 2.1939e-04 - val_decoder_mse: 0.4388 - val_loss: 0.0127\n",
            "Epoch 86/120\n",
            "\u001b[1m1788/1788\u001b[0m \u001b[32m━━━━━━━━━━━━━━━━━━━━\u001b[0m\u001b[37m\u001b[0m \u001b[1m18s\u001b[0m 10ms/step - capsnet_accuracy: 0.9933 - capsnet_loss: 0.0054 - decoder_loss: 2.1921e-04 - decoder_mse: 0.4384 - loss: 0.0057 - val_capsnet_accuracy: 0.9840 - val_capsnet_loss: 0.0135 - val_decoder_loss: 2.1939e-04 - val_decoder_mse: 0.4388 - val_loss: 0.0137\n",
            "Epoch 87/120\n",
            "\u001b[1m1788/1788\u001b[0m \u001b[32m━━━━━━━━━━━━━━━━━━━━\u001b[0m\u001b[37m\u001b[0m \u001b[1m18s\u001b[0m 10ms/step - capsnet_accuracy: 0.9924 - capsnet_loss: 0.0060 - decoder_loss: 2.1944e-04 - decoder_mse: 0.4389 - loss: 0.0062 - val_capsnet_accuracy: 0.9843 - val_capsnet_loss: 0.0129 - val_decoder_loss: 2.1939e-04 - val_decoder_mse: 0.4388 - val_loss: 0.0131\n",
            "Epoch 88/120\n",
            "\u001b[1m1788/1788\u001b[0m \u001b[32m━━━━━━━━━━━━━━━━━━━━\u001b[0m\u001b[37m\u001b[0m \u001b[1m20s\u001b[0m 10ms/step - capsnet_accuracy: 0.9931 - capsnet_loss: 0.0054 - decoder_loss: 2.1878e-04 - decoder_mse: 0.4376 - loss: 0.0056 - val_capsnet_accuracy: 0.9818 - val_capsnet_loss: 0.0148 - val_decoder_loss: 2.1939e-04 - val_decoder_mse: 0.4388 - val_loss: 0.0151\n",
            "Epoch 89/120\n",
            "\u001b[1m1788/1788\u001b[0m \u001b[32m━━━━━━━━━━━━━━━━━━━━\u001b[0m\u001b[37m\u001b[0m \u001b[1m22s\u001b[0m 11ms/step - capsnet_accuracy: 0.9929 - capsnet_loss: 0.0054 - decoder_loss: 2.1875e-04 - decoder_mse: 0.4375 - loss: 0.0056 - val_capsnet_accuracy: 0.9832 - val_capsnet_loss: 0.0137 - val_decoder_loss: 2.1939e-04 - val_decoder_mse: 0.4388 - val_loss: 0.0139\n",
            "Epoch 90/120\n",
            "\u001b[1m1788/1788\u001b[0m \u001b[32m━━━━━━━━━━━━━━━━━━━━\u001b[0m\u001b[37m\u001b[0m \u001b[1m20s\u001b[0m 11ms/step - capsnet_accuracy: 0.9937 - capsnet_loss: 0.0050 - decoder_loss: 2.1945e-04 - decoder_mse: 0.4389 - loss: 0.0052 - val_capsnet_accuracy: 0.9779 - val_capsnet_loss: 0.0189 - val_decoder_loss: 2.1939e-04 - val_decoder_mse: 0.4388 - val_loss: 0.0191\n",
            "Epoch 91/120\n",
            "\u001b[1m1788/1788\u001b[0m \u001b[32m━━━━━━━━━━━━━━━━━━━━\u001b[0m\u001b[37m\u001b[0m \u001b[1m18s\u001b[0m 10ms/step - capsnet_accuracy: 0.9951 - capsnet_loss: 0.0039 - decoder_loss: 2.1898e-04 - decoder_mse: 0.4380 - loss: 0.0041 - val_capsnet_accuracy: 0.9791 - val_capsnet_loss: 0.0166 - val_decoder_loss: 2.1939e-04 - val_decoder_mse: 0.4388 - val_loss: 0.0168\n",
            "Epoch 92/120\n",
            "\u001b[1m1788/1788\u001b[0m \u001b[32m━━━━━━━━━━━━━━━━━━━━\u001b[0m\u001b[37m\u001b[0m \u001b[1m19s\u001b[0m 11ms/step - capsnet_accuracy: 0.9936 - capsnet_loss: 0.0052 - decoder_loss: 2.1878e-04 - decoder_mse: 0.4376 - loss: 0.0055 - val_capsnet_accuracy: 0.9777 - val_capsnet_loss: 0.0184 - val_decoder_loss: 2.1939e-04 - val_decoder_mse: 0.4388 - val_loss: 0.0186\n",
            "Epoch 93/120\n",
            "\u001b[1m1788/1788\u001b[0m \u001b[32m━━━━━━━━━━━━━━━━━━━━\u001b[0m\u001b[37m\u001b[0m \u001b[1m19s\u001b[0m 11ms/step - capsnet_accuracy: 0.9951 - capsnet_loss: 0.0041 - decoder_loss: 2.1899e-04 - decoder_mse: 0.4380 - loss: 0.0043 - val_capsnet_accuracy: 0.9815 - val_capsnet_loss: 0.0151 - val_decoder_loss: 2.1939e-04 - val_decoder_mse: 0.4388 - val_loss: 0.0154\n",
            "Epoch 94/120\n",
            "\u001b[1m1788/1788\u001b[0m \u001b[32m━━━━━━━━━━━━━━━━━━━━\u001b[0m\u001b[37m\u001b[0m \u001b[1m19s\u001b[0m 10ms/step - capsnet_accuracy: 0.9947 - capsnet_loss: 0.0043 - decoder_loss: 2.1949e-04 - decoder_mse: 0.4390 - loss: 0.0045 - val_capsnet_accuracy: 0.9846 - val_capsnet_loss: 0.0127 - val_decoder_loss: 2.1939e-04 - val_decoder_mse: 0.4388 - val_loss: 0.0129\n",
            "Epoch 95/120\n",
            "\u001b[1m1788/1788\u001b[0m \u001b[32m━━━━━━━━━━━━━━━━━━━━\u001b[0m\u001b[37m\u001b[0m \u001b[1m28s\u001b[0m 14ms/step - capsnet_accuracy: 0.9951 - capsnet_loss: 0.0043 - decoder_loss: 2.1924e-04 - decoder_mse: 0.4385 - loss: 0.0045 - val_capsnet_accuracy: 0.9836 - val_capsnet_loss: 0.0136 - val_decoder_loss: 2.1939e-04 - val_decoder_mse: 0.4388 - val_loss: 0.0139\n",
            "Epoch 96/120\n",
            "\u001b[1m1788/1788\u001b[0m \u001b[32m━━━━━━━━━━━━━━━━━━━━\u001b[0m\u001b[37m\u001b[0m \u001b[1m18s\u001b[0m 10ms/step - capsnet_accuracy: 0.9951 - capsnet_loss: 0.0042 - decoder_loss: 2.1917e-04 - decoder_mse: 0.4383 - loss: 0.0044 - val_capsnet_accuracy: 0.9779 - val_capsnet_loss: 0.0190 - val_decoder_loss: 2.1939e-04 - val_decoder_mse: 0.4388 - val_loss: 0.0193\n",
            "Epoch 97/120\n",
            "\u001b[1m1788/1788\u001b[0m \u001b[32m━━━━━━━━━━━━━━━━━━━━\u001b[0m\u001b[37m\u001b[0m \u001b[1m19s\u001b[0m 10ms/step - capsnet_accuracy: 0.9930 - capsnet_loss: 0.0057 - decoder_loss: 2.1903e-04 - decoder_mse: 0.4381 - loss: 0.0059 - val_capsnet_accuracy: 0.9822 - val_capsnet_loss: 0.0146 - val_decoder_loss: 2.1939e-04 - val_decoder_mse: 0.4388 - val_loss: 0.0148\n",
            "Epoch 98/120\n",
            "\u001b[1m1788/1788\u001b[0m \u001b[32m━━━━━━━━━━━━━━━━━━━━\u001b[0m\u001b[37m\u001b[0m \u001b[1m19s\u001b[0m 11ms/step - capsnet_accuracy: 0.9957 - capsnet_loss: 0.0034 - decoder_loss: 2.1883e-04 - decoder_mse: 0.4377 - loss: 0.0036 - val_capsnet_accuracy: 0.9833 - val_capsnet_loss: 0.0142 - val_decoder_loss: 2.1939e-04 - val_decoder_mse: 0.4388 - val_loss: 0.0144\n",
            "Epoch 99/120\n",
            "\u001b[1m1788/1788\u001b[0m \u001b[32m━━━━━━━━━━━━━━━━━━━━\u001b[0m\u001b[37m\u001b[0m \u001b[1m21s\u001b[0m 11ms/step - capsnet_accuracy: 0.9944 - capsnet_loss: 0.0049 - decoder_loss: 2.1929e-04 - decoder_mse: 0.4386 - loss: 0.0051 - val_capsnet_accuracy: 0.9728 - val_capsnet_loss: 0.0227 - val_decoder_loss: 2.1939e-04 - val_decoder_mse: 0.4388 - val_loss: 0.0229\n",
            "Epoch 100/120\n",
            "\u001b[1m1788/1788\u001b[0m \u001b[32m━━━━━━━━━━━━━━━━━━━━\u001b[0m\u001b[37m\u001b[0m \u001b[1m19s\u001b[0m 10ms/step - capsnet_accuracy: 0.9947 - capsnet_loss: 0.0042 - decoder_loss: 2.1868e-04 - decoder_mse: 0.4374 - loss: 0.0044 - val_capsnet_accuracy: 0.9767 - val_capsnet_loss: 0.0180 - val_decoder_loss: 2.1939e-04 - val_decoder_mse: 0.4388 - val_loss: 0.0182\n",
            "Epoch 101/120\n",
            "\u001b[1m1788/1788\u001b[0m \u001b[32m━━━━━━━━━━━━━━━━━━━━\u001b[0m\u001b[37m\u001b[0m \u001b[1m20s\u001b[0m 10ms/step - capsnet_accuracy: 0.9945 - capsnet_loss: 0.0044 - decoder_loss: 2.1908e-04 - decoder_mse: 0.4382 - loss: 0.0046 - val_capsnet_accuracy: 0.9802 - val_capsnet_loss: 0.0162 - val_decoder_loss: 2.1938e-04 - val_decoder_mse: 0.4388 - val_loss: 0.0165\n",
            "Epoch 102/120\n",
            "\u001b[1m1788/1788\u001b[0m \u001b[32m━━━━━━━━━━━━━━━━━━━━\u001b[0m\u001b[37m\u001b[0m \u001b[1m18s\u001b[0m 10ms/step - capsnet_accuracy: 0.9942 - capsnet_loss: 0.0047 - decoder_loss: 2.1922e-04 - decoder_mse: 0.4384 - loss: 0.0049 - val_capsnet_accuracy: 0.9841 - val_capsnet_loss: 0.0122 - val_decoder_loss: 2.1938e-04 - val_decoder_mse: 0.4388 - val_loss: 0.0124\n",
            "Epoch 103/120\n",
            "\u001b[1m1788/1788\u001b[0m \u001b[32m━━━━━━━━━━━━━━━━━━━━\u001b[0m\u001b[37m\u001b[0m \u001b[1m18s\u001b[0m 10ms/step - capsnet_accuracy: 0.9961 - capsnet_loss: 0.0033 - decoder_loss: 2.1901e-04 - decoder_mse: 0.4380 - loss: 0.0035 - val_capsnet_accuracy: 0.9831 - val_capsnet_loss: 0.0146 - val_decoder_loss: 2.1938e-04 - val_decoder_mse: 0.4388 - val_loss: 0.0148\n",
            "Epoch 104/120\n",
            "\u001b[1m1788/1788\u001b[0m \u001b[32m━━━━━━━━━━━━━━━━━━━━\u001b[0m\u001b[37m\u001b[0m \u001b[1m20s\u001b[0m 10ms/step - capsnet_accuracy: 0.9951 - capsnet_loss: 0.0041 - decoder_loss: 2.1894e-04 - decoder_mse: 0.4379 - loss: 0.0043 - val_capsnet_accuracy: 0.9874 - val_capsnet_loss: 0.0112 - val_decoder_loss: 2.1938e-04 - val_decoder_mse: 0.4388 - val_loss: 0.0115\n",
            "Epoch 105/120\n",
            "\u001b[1m1788/1788\u001b[0m \u001b[32m━━━━━━━━━━━━━━━━━━━━\u001b[0m\u001b[37m\u001b[0m \u001b[1m21s\u001b[0m 10ms/step - capsnet_accuracy: 0.9948 - capsnet_loss: 0.0041 - decoder_loss: 2.1928e-04 - decoder_mse: 0.4386 - loss: 0.0043 - val_capsnet_accuracy: 0.9830 - val_capsnet_loss: 0.0140 - val_decoder_loss: 2.1938e-04 - val_decoder_mse: 0.4388 - val_loss: 0.0142\n",
            "Epoch 106/120\n",
            "\u001b[1m1788/1788\u001b[0m \u001b[32m━━━━━━━━━━━━━━━━━━━━\u001b[0m\u001b[37m\u001b[0m \u001b[1m19s\u001b[0m 11ms/step - capsnet_accuracy: 0.9965 - capsnet_loss: 0.0034 - decoder_loss: 2.1916e-04 - decoder_mse: 0.4383 - loss: 0.0036 - val_capsnet_accuracy: 0.9839 - val_capsnet_loss: 0.0137 - val_decoder_loss: 2.1937e-04 - val_decoder_mse: 0.4387 - val_loss: 0.0139\n",
            "Epoch 107/120\n",
            "\u001b[1m1788/1788\u001b[0m \u001b[32m━━━━━━━━━━━━━━━━━━━━\u001b[0m\u001b[37m\u001b[0m \u001b[1m19s\u001b[0m 10ms/step - capsnet_accuracy: 0.9954 - capsnet_loss: 0.0039 - decoder_loss: 2.1877e-04 - decoder_mse: 0.4375 - loss: 0.0041 - val_capsnet_accuracy: 0.9828 - val_capsnet_loss: 0.0144 - val_decoder_loss: 2.1937e-04 - val_decoder_mse: 0.4387 - val_loss: 0.0146\n",
            "Epoch 108/120\n",
            "\u001b[1m1788/1788\u001b[0m \u001b[32m━━━━━━━━━━━━━━━━━━━━\u001b[0m\u001b[37m\u001b[0m \u001b[1m22s\u001b[0m 11ms/step - capsnet_accuracy: 0.9947 - capsnet_loss: 0.0039 - decoder_loss: 2.1877e-04 - decoder_mse: 0.4375 - loss: 0.0041 - val_capsnet_accuracy: 0.9775 - val_capsnet_loss: 0.0187 - val_decoder_loss: 2.1937e-04 - val_decoder_mse: 0.4387 - val_loss: 0.0190\n",
            "Epoch 109/120\n",
            "\u001b[1m1788/1788\u001b[0m \u001b[32m━━━━━━━━━━━━━━━━━━━━\u001b[0m\u001b[37m\u001b[0m \u001b[1m18s\u001b[0m 10ms/step - capsnet_accuracy: 0.9965 - capsnet_loss: 0.0028 - decoder_loss: 2.1904e-04 - decoder_mse: 0.4381 - loss: 0.0030 - val_capsnet_accuracy: 0.9813 - val_capsnet_loss: 0.0162 - val_decoder_loss: 2.1936e-04 - val_decoder_mse: 0.4387 - val_loss: 0.0164\n",
            "Epoch 110/120\n",
            "\u001b[1m1788/1788\u001b[0m \u001b[32m━━━━━━━━━━━━━━━━━━━━\u001b[0m\u001b[37m\u001b[0m \u001b[1m21s\u001b[0m 10ms/step - capsnet_accuracy: 0.9944 - capsnet_loss: 0.0044 - decoder_loss: 2.1922e-04 - decoder_mse: 0.4384 - loss: 0.0046 - val_capsnet_accuracy: 0.9836 - val_capsnet_loss: 0.0134 - val_decoder_loss: 2.1936e-04 - val_decoder_mse: 0.4387 - val_loss: 0.0136\n",
            "Epoch 111/120\n",
            "\u001b[1m1788/1788\u001b[0m \u001b[32m━━━━━━━━━━━━━━━━━━━━\u001b[0m\u001b[37m\u001b[0m \u001b[1m19s\u001b[0m 10ms/step - capsnet_accuracy: 0.9957 - capsnet_loss: 0.0037 - decoder_loss: 2.1923e-04 - decoder_mse: 0.4385 - loss: 0.0039 - val_capsnet_accuracy: 0.9810 - val_capsnet_loss: 0.0162 - val_decoder_loss: 2.1935e-04 - val_decoder_mse: 0.4387 - val_loss: 0.0164\n",
            "Epoch 112/120\n",
            "\u001b[1m1788/1788\u001b[0m \u001b[32m━━━━━━━━━━━━━━━━━━━━\u001b[0m\u001b[37m\u001b[0m \u001b[1m18s\u001b[0m 10ms/step - capsnet_accuracy: 0.9959 - capsnet_loss: 0.0036 - decoder_loss: 2.1917e-04 - decoder_mse: 0.4383 - loss: 0.0038 - val_capsnet_accuracy: 0.9850 - val_capsnet_loss: 0.0124 - val_decoder_loss: 2.1935e-04 - val_decoder_mse: 0.4387 - val_loss: 0.0127\n",
            "Epoch 113/120\n",
            "\u001b[1m1788/1788\u001b[0m \u001b[32m━━━━━━━━━━━━━━━━━━━━\u001b[0m\u001b[37m\u001b[0m \u001b[1m21s\u001b[0m 10ms/step - capsnet_accuracy: 0.9946 - capsnet_loss: 0.0043 - decoder_loss: 2.1919e-04 - decoder_mse: 0.4384 - loss: 0.0045 - val_capsnet_accuracy: 0.9840 - val_capsnet_loss: 0.0131 - val_decoder_loss: 2.1935e-04 - val_decoder_mse: 0.4387 - val_loss: 0.0134\n",
            "Epoch 114/120\n",
            "\u001b[1m1788/1788\u001b[0m \u001b[32m━━━━━━━━━━━━━━━━━━━━\u001b[0m\u001b[37m\u001b[0m \u001b[1m21s\u001b[0m 10ms/step - capsnet_accuracy: 0.9956 - capsnet_loss: 0.0035 - decoder_loss: 2.1912e-04 - decoder_mse: 0.4382 - loss: 0.0037 - val_capsnet_accuracy: 0.9849 - val_capsnet_loss: 0.0121 - val_decoder_loss: 2.1935e-04 - val_decoder_mse: 0.4387 - val_loss: 0.0123\n",
            "Epoch 115/120\n",
            "\u001b[1m1788/1788\u001b[0m \u001b[32m━━━━━━━━━━━━━━━━━━━━\u001b[0m\u001b[37m\u001b[0m \u001b[1m22s\u001b[0m 11ms/step - capsnet_accuracy: 0.9955 - capsnet_loss: 0.0040 - decoder_loss: 2.1904e-04 - decoder_mse: 0.4381 - loss: 0.0042 - val_capsnet_accuracy: 0.9841 - val_capsnet_loss: 0.0134 - val_decoder_loss: 2.1934e-04 - val_decoder_mse: 0.4387 - val_loss: 0.0137\n",
            "Epoch 116/120\n",
            "\u001b[1m1788/1788\u001b[0m \u001b[32m━━━━━━━━━━━━━━━━━━━━\u001b[0m\u001b[37m\u001b[0m \u001b[1m20s\u001b[0m 11ms/step - capsnet_accuracy: 0.9958 - capsnet_loss: 0.0036 - decoder_loss: 2.1905e-04 - decoder_mse: 0.4381 - loss: 0.0038 - val_capsnet_accuracy: 0.9839 - val_capsnet_loss: 0.0132 - val_decoder_loss: 2.1934e-04 - val_decoder_mse: 0.4387 - val_loss: 0.0134\n",
            "Epoch 117/120\n",
            "\u001b[1m1788/1788\u001b[0m \u001b[32m━━━━━━━━━━━━━━━━━━━━\u001b[0m\u001b[37m\u001b[0m \u001b[1m18s\u001b[0m 10ms/step - capsnet_accuracy: 0.9952 - capsnet_loss: 0.0040 - decoder_loss: 2.1939e-04 - decoder_mse: 0.4388 - loss: 0.0042 - val_capsnet_accuracy: 0.9839 - val_capsnet_loss: 0.0136 - val_decoder_loss: 2.1934e-04 - val_decoder_mse: 0.4387 - val_loss: 0.0138\n",
            "Epoch 118/120\n",
            "\u001b[1m1788/1788\u001b[0m \u001b[32m━━━━━━━━━━━━━━━━━━━━\u001b[0m\u001b[37m\u001b[0m \u001b[1m19s\u001b[0m 11ms/step - capsnet_accuracy: 0.9957 - capsnet_loss: 0.0036 - decoder_loss: 2.1885e-04 - decoder_mse: 0.4377 - loss: 0.0038 - val_capsnet_accuracy: 0.9827 - val_capsnet_loss: 0.0145 - val_decoder_loss: 2.1934e-04 - val_decoder_mse: 0.4387 - val_loss: 0.0147\n",
            "Epoch 119/120\n",
            "\u001b[1m1788/1788\u001b[0m \u001b[32m━━━━━━━━━━━━━━━━━━━━\u001b[0m\u001b[37m\u001b[0m \u001b[1m21s\u001b[0m 11ms/step - capsnet_accuracy: 0.9962 - capsnet_loss: 0.0035 - decoder_loss: 2.1898e-04 - decoder_mse: 0.4380 - loss: 0.0037 - val_capsnet_accuracy: 0.9844 - val_capsnet_loss: 0.0129 - val_decoder_loss: 2.1934e-04 - val_decoder_mse: 0.4387 - val_loss: 0.0131\n",
            "Epoch 120/120\n",
            "\u001b[1m1788/1788\u001b[0m \u001b[32m━━━━━━━━━━━━━━━━━━━━\u001b[0m\u001b[37m\u001b[0m \u001b[1m19s\u001b[0m 11ms/step - capsnet_accuracy: 0.9942 - capsnet_loss: 0.0047 - decoder_loss: 2.1883e-04 - decoder_mse: 0.4377 - loss: 0.0049 - val_capsnet_accuracy: 0.9843 - val_capsnet_loss: 0.0131 - val_decoder_loss: 2.1934e-04 - val_decoder_mse: 0.4387 - val_loss: 0.0133\n"
          ]
        }
      ],
      "source": [
        "lr_scheduler = keras.callbacks.ReduceLROnPlateau(monitor='val_capsnet_accuracy', mode='max', factor=0.5, patience=10)\n",
        "train_model.compile(\n",
        "    optimizer=keras.optimizers.Adam(learning_rate=0.001, beta_1=0.9, beta_2=0.999),\n",
        "    loss=[margin_loss, 'mse'],\n",
        "    loss_weights=[1., 0.0005],\n",
        "    metrics={'capsnet': 'accuracy', 'decoder': 'mse'}\n",
        ")\n",
        "\n",
        "# Assuming x_train, y_train, x_test, y_test, m, and epochs are defined elsewhere\n",
        "history = train_model.fit(\n",
        "    [X_train, y_train], [y_train, X_train],\n",
        "    batch_size=m,\n",
        "    epochs=epochs,\n",
        "    validation_data=([X_test, y_test], [y_test, X_test])\n",
        "    # , callbacks=[early_stopping, lr_scheduler]\n",
        ")\n"
      ]
    },
    {
      "cell_type": "code",
      "execution_count": null,
      "metadata": {
        "colab": {
          "base_uri": "https://localhost:8080/"
        },
        "id": "functioning-energy",
        "outputId": "290db853-46d4-4b8c-fd19-376d2afc6300"
      },
      "outputs": [
        {
          "output_type": "stream",
          "name": "stdout",
          "text": [
            "Test Loss: 0.0133\n",
            "Test Accuracy: 98.43%\n"
          ]
        }
      ],
      "source": [
        "evaluation_results = train_model.evaluate([X_test, y_test], [y_test, X_test], batch_size=m, verbose=0)\n",
        "# print(\"Test Loss:\", evaluation_results[0])\n",
        "# print(\"Test Accuracy:\", evaluation_results[3])\n",
        "\n",
        "test_loss = evaluation_results[0]\n",
        "test_accuracy = evaluation_results[3]\n",
        "\n",
        "print(f\"Test Loss: {test_loss:.4f}\")\n",
        "print(f\"Test Accuracy: {test_accuracy * 100:.2f}%\")"
      ]
    },
    {
      "cell_type": "markdown",
      "metadata": {
        "id": "directed-bottom"
      },
      "source": [
        "# **Plot Accuracy and Loss**"
      ]
    },
    {
      "cell_type": "code",
      "execution_count": null,
      "metadata": {
        "colab": {
          "base_uri": "https://localhost:8080/",
          "height": 430
        },
        "id": "through-poker",
        "outputId": "26fbc697-e4b0-4b11-f1e2-5622e333d22f"
      },
      "outputs": [
        {
          "output_type": "display_data",
          "data": {
            "text/plain": [
              "<Figure size 640x480 with 1 Axes>"
            ],
            "image/png": "[encoded data removed]"
          },
          "metadata": {}
        }
      ],
      "source": [
        "plt.plot(history.history[\"capsnet_accuracy\"] , 'ro-' , label = \"CapsNet Training Accuracy\")\n",
        "plt.plot(history.history[\"val_capsnet_accuracy\"] , 'go-' , label = \"CapsNet Testing Accuracy\")\n",
        "plt.legend()\n",
        "plt.show()"
      ]
    },
    {
      "cell_type": "code",
      "execution_count": null,
      "metadata": {
        "colab": {
          "base_uri": "https://localhost:8080/",
          "height": 430
        },
        "id": "statewide-individual",
        "outputId": "b26afc8b-66a8-4b06-a3f0-76a265f2541e"
      },
      "outputs": [
        {
          "output_type": "display_data",
          "data": {
            "text/plain": [
              "<Figure size 640x480 with 1 Axes>"
            ],
            "image/png": "[encoded data removed]"
          },
          "metadata": {}
        }
      ],
      "source": [
        "plt.plot(history.history[\"loss\"] , 'ro-' , label = \"CapsNet Training Loss\")\n",
        "plt.plot(history.history[\"val_loss\"] , 'go-' , label = \"CapsNet Testing Loss\")\n",
        "plt.legend()\n",
        "plt.show()"
      ]
    },
    {
      "cell_type": "code",
      "execution_count": null,
      "metadata": {
        "colab": {
          "base_uri": "https://localhost:8080/"
        },
        "id": "a_W22XGGKnKT",
        "outputId": "9c702733-04fa-4110-8da0-8434e7a51383"
      },
      "outputs": [
        {
          "output_type": "stream",
          "name": "stdout",
          "text": [
            "(9387,)\n"
          ]
        }
      ],
      "source": [
        "y_pred_list = train_model.predict([X_test, y_test], batch_size=m, verbose=0)  # Providing both image and label data\n",
        "y_pred_capsnet = y_pred_list[0]   # Getting the output from the capsnet layer\n",
        "y_pred_labels = np.argmax(y_pred_capsnet, axis=1)\n",
        "y_test_labels = np.argmax(y_test, axis=1)\n",
        "\n",
        "print(y_pred_labels.shape)\n"
      ]
    },
    {
      "cell_type": "code",
      "execution_count": null,
      "metadata": {
        "colab": {
          "base_uri": "https://localhost:8080/"
        },
        "id": "bzkENFKVjpto",
        "outputId": "8e19656e-68fd-4bd2-a44c-a2e63a44db8f"
      },
      "outputs": [
        {
          "output_type": "stream",
          "name": "stdout",
          "text": [
            "                                                               precision    recall  f1-score   support\n",
            "\n",
            "('akiec', 'Actinic keratoses and intraepithelial carcinomae')       1.00      1.00      1.00      1295\n",
            "                                 ('bcc', ' Maligna Melanoma')       0.99      1.00      0.99      1323\n",
            "                     ('bkl', 'benign keratosis-like lesions')       0.96      1.00      0.98      1351\n",
            "                                     ('df', 'dermatofibroma')       1.00      1.00      1.00      1392\n",
            "                                  ('nv', ' melanocytic nevi')       0.99      0.90      0.95      1346\n",
            "              ('vasc', ' pyogenic granulomas and hemorrhage')       0.99      1.00      1.00      1292\n",
            "                                          ('mel', 'melanoma')       0.97      0.99      0.98      1388\n",
            "\n",
            "                                                     accuracy                           0.98      9387\n",
            "                                                    macro avg       0.98      0.98      0.98      9387\n",
            "                                                 weighted avg       0.98      0.98      0.98      9387\n",
            "\n"
          ]
        }
      ],
      "source": [
        "target_names = [f\"{classes[i]}\" for i in range(7)]\n",
        "print(classification_report(y_test_labels, y_pred_labels, target_names=target_names))"
      ]
    },
    {
      "cell_type": "code",
      "execution_count": null,
      "metadata": {
        "colab": {
          "base_uri": "https://localhost:8080/",
          "height": 89
        },
        "id": "mO_qh8EZl8qZ",
        "outputId": "0dc25ee4-3936-4486-9034-9a055367fedc"
      },
      "outputs": [
        {
          "output_type": "stream",
          "name": "stdout",
          "text": [
            "\u001b[1m447/447\u001b[0m \u001b[32m━━━━━━━━━━━━━━━━━━━━\u001b[0m\u001b[37m\u001b[0m \u001b[1m2s\u001b[0m 2ms/step\n",
            "A.I predicts: akiec\n"
          ]
        },
        {
          "output_type": "display_data",
          "data": {
            "text/plain": [
              "<Figure size 640x480 with 1 Axes>"
            ],
            "image/png": "[encoded data removed]"
          },
          "metadata": {}
        }
      ],
      "source": [
        "categories=['akiec','bcc', 'bkl', 'df', 'nv', 'vasc', 'mel']\n",
        "\n",
        "from keras.models import Model\n",
        "simplified_model = Model(inputs=train_model.input, outputs=train_model.get_layer('capsnet').output)\n",
        "y_pred_capsnet = simplified_model.predict([X_test, y_test], batch_size=m)\n",
        "y_pred_labels = np.argmax(y_pred_capsnet, axis=1)\n",
        "\n",
        "X = 150\n",
        "\n",
        "# Preprocessing the image\n",
        "img_single = X_test[X]\n",
        "img_single_exp = np.expand_dims(img_single, 0)\n",
        "img_single_exp = img_single_exp.reshape(img_single_exp.shape[0], img_size, img_size, 3)\n",
        "\n",
        "# Ensure y_test is 2D (like one-hot encoded labels)\n",
        "if len(y_test.shape) != 2:\n",
        "    print(\"y_test doesn't have two dimensions. Please check its shape!\")\n",
        "else:\n",
        "    # Creating a dummy label to make a prediction since our model expects 2 inputs\n",
        "    dummy_label = np.zeros((1, y_test.shape[1]))\n",
        "\n",
        "    # Making the prediction for the single image\n",
        "    # predictions_list = train_model.predict([img_single_exp, dummy_label])\n",
        "\n",
        "\n",
        "    predictions_single = y_pred_labels[0]  # Extracting capsnet predictions\n",
        "\n",
        "        # Ensure the predicted category index doesn't exceed the categories list length\n",
        "    predicted_index = np.argmax(predictions_single)\n",
        "    if predicted_index >= len(categories):\n",
        "        print(\"Predicted index out of range for categories list!\")\n",
        "    else:\n",
        "        print('A.I predicts:', categories[predicted_index])\n",
        "\n",
        "# Visualizing the preprocessed image\n",
        "plt.imshow(np.squeeze(img_single_exp), cmap='gray')\n",
        "plt.grid(False)\n",
        "plt.show()\n"
      ]
    },
    {
      "cell_type": "code",
      "execution_count": null,
      "metadata": {
        "colab": {
          "base_uri": "https://localhost:8080/"
        },
        "id": "cpA7vLLpgL0E",
        "outputId": "7bb2a64f-ec14-41c4-b07e-d81bde6e02a4"
      },
      "outputs": [
        {
          "output_type": "stream",
          "name": "stdout",
          "text": [
            "\u001b[1m447/447\u001b[0m \u001b[32m━━━━━━━━━━━━━━━━━━━━\u001b[0m\u001b[37m\u001b[0m \u001b[1m2s\u001b[0m 2ms/step\n"
          ]
        }
      ],
      "source": [
        "from keras.models import Model\n",
        "simplified_model = Model(inputs=train_model.input, outputs=train_model.get_layer('capsnet').output)\n",
        "y_pred_capsnet = simplified_model.predict([X_test, y_test], batch_size=m)\n",
        "y_pred_labels = np.argmax(y_pred_capsnet, axis=1)\n",
        "\n"
      ]
    },
    {
      "cell_type": "code",
      "execution_count": null,
      "metadata": {
        "colab": {
          "base_uri": "https://localhost:8080/",
          "height": 406
        },
        "id": "YO55PPeenshy",
        "outputId": "be1011f6-96c2-4fce-821f-7d4081b63343"
      },
      "outputs": [
        {
          "output_type": "display_data",
          "data": {
            "text/plain": [
              "<Figure size 500x400 with 2 Axes>"
            ],
            "image/png": "[encoded data removed]"
          },
          "metadata": {}
        }
      ],
      "source": [
        "from mlxtend.plotting import plot_confusion_matrix\n",
        "\n",
        "if y_test.shape[1] > 1:  # This checks if y_test is one-hot encoded\n",
        "    y_test_labels = np.argmax(y_test, axis=1)\n",
        "else:\n",
        "    y_test_labels = y_test\n",
        "from sklearn.metrics import confusion_matrix\n",
        "import seaborn as sns\n",
        "\n",
        "cm = confusion_matrix(y_test_labels, y_pred_labels)\n",
        "\n",
        "plt.figure(figsize=(5,4))\n",
        "sns.heatmap(cm, annot=True, fmt='g', cmap=plt.cm.Blues)\n",
        "plt.xlabel('Predicted')\n",
        "plt.ylabel('True')\n",
        "plt.xticks(range(7), ['akiec','bcc', 'bkl', 'df', 'nv', 'vasc', 'mel'], fontsize=10)\n",
        "plt.yticks(range(7),  ['akiec','bcc', 'bkl', 'df', 'nv', 'vasc', 'mel'], fontsize=10)\n",
        "plt.show()\n",
        "\n",
        "classes = {4: ('nv', ' melanocytic nevi'),\n",
        "           6: ('mel', 'melanoma'),\n",
        "           2 :('bkl', 'benign keratosis-like lesions'),\n",
        "           1:('bcc' , ' Maligna Melanoma'),\n",
        "           5: ('vasc', ' pyogenic granulomas and hemorrhage'),\n",
        "           0: ('akiec', 'Actinic keratoses and intraepithelial carcinomae'),\n",
        "           3: ('df', 'dermatofibroma')}\n"
      ]
    },
    {
      "cell_type": "code",
      "execution_count": null,
      "metadata": {
        "colab": {
          "base_uri": "https://localhost:8080/"
        },
        "id": "twWzRWtKjDQy",
        "outputId": "5a4da876-b59c-4365-ed47-aaab49b6da06"
      },
      "outputs": [
        {
          "output_type": "stream",
          "name": "stdout",
          "text": [
            "\u001b[1m447/447\u001b[0m \u001b[32m━━━━━━━━━━━━━━━━━━━━\u001b[0m\u001b[37m\u001b[0m \u001b[1m2s\u001b[0m 2ms/step\n"
          ]
        }
      ],
      "source": [
        "from sklearn.metrics import roc_curve, auc,roc_auc_score\n",
        "from sklearn.multiclass import OneVsRestClassifier\n",
        "from sklearn.preprocessing import label_binarize\n",
        "from keras.models import Model\n",
        "num_classes=7\n",
        "# Assuming train_model is correctly defined\n",
        "simplified_model = Model(inputs=train_model.input, outputs=train_model.get_layer('capsnet').output)\n",
        "y_pred_probs = simplified_model.predict([X_test, y_test], batch_size=batch_size)\n",
        "\n",
        "# Convert y_test to one-hot encoded format\n",
        "Y_test_1hot = label_binarize(y_test, classes=range(num_classes))\n",
        "\n",
        "fpr = dict()\n",
        "tpr = dict()\n",
        "roc_auc = dict()\n",
        "\n",
        "for i in range(num_classes):\n",
        "    fpr[i], tpr[i], _ = roc_curve(Y_test_1hot[:, i], y_pred_probs[:, i])\n",
        "    roc_auc[i] = auc(fpr[i], tpr[i])\n",
        "\n"
      ]
    },
    {
      "cell_type": "code",
      "execution_count": null,
      "metadata": {
        "colab": {
          "base_uri": "https://localhost:8080/",
          "height": 54
        },
        "id": "IZDN5ioBJq-b",
        "outputId": "7bd66fb5-4c13-48a4-b130-ec166f9b92d0"
      },
      "outputs": [
        {
          "output_type": "display_data",
          "data": {
            "text/plain": [
              "<Figure size 640x480 with 1 Axes>"
            ],
            "image/png": "[encoded data removed]"
          },
          "metadata": {}
        }
      ],
      "source": [
        "plt.figure()\n",
        "lw = 2\n",
        "plt.plot(fpr[2], tpr[2], color='darkorange',\n",
        "         lw=lw, label='ROC curve (area = %0.3f)' % roc_auc[2])\n",
        "plt.plot([0, 1], [0, 1], color='navy', lw=lw, linestyle='--')\n",
        "plt.xlim([0.0, 1.0])\n",
        "plt.ylim([0.0, 1.05])\n",
        "plt.xlabel('False Positive Rate')\n",
        "plt.ylabel('True Positive Rate')\n",
        "plt.title('Heel characteristic')\n",
        "plt.legend(loc=\"lower right\")\n",
        "plt.show()"
      ]
    }
  ],
  "metadata": {
    "accelerator": "GPU",
    "colab": {
      "gpuType": "T4",
      "machine_shape": "hm",
      "provenance": []
    },
    "kernelspec": {
      "display_name": "Python 3",
      "name": "python3"
    },
    "language_info": {
      "name": "python"
    }
  },
  "nbformat": 4,
  "nbformat_minor": 0
}