{
  "cells": [
    {
      "cell_type": "markdown",
      "metadata": {
        "id": "m6ykcRlRcFBT"
      },
      "source": [
        "\\# **-CapsNet Brain Jun Cheng**"
      ]
    },
    {
      "cell_type": "markdown",
      "metadata": {
        "id": "mRJRH3ANRET4"
      },
      "source": [
        "# Importing libraries"
      ]
    },
    {
      "cell_type": "code",
      "execution_count": null,
      "metadata": {
        "id": "jqFbqwAsla8g"
      },
      "outputs": [],
      "source": [
        "# !pip install tensorflow==2.15.0"
      ]
    },
    {
      "cell_type": "code",
      "execution_count": null,
      "metadata": {
        "id": "vl_-GAxdCqwl"
      },
      "outputs": [],
      "source": [
        "#!pip install tensorflow==2.14.0"
      ]
    },
    {
      "cell_type": "code",
      "execution_count": null,
      "metadata": {
        "colab": {
          "base_uri": "https://localhost:8080/"
        },
        "id": "YYCpfiwlB65J",
        "outputId": "4f541a40-3475-44d5-b581-2048b61522db"
      },
      "outputs": [
        {
          "output_type": "stream",
          "name": "stdout",
          "text": [
            "2.14.0\n"
          ]
        }
      ],
      "source": [
        "import tensorflow as tf\n",
        "print(tf.__version__)\n"
      ]
    },
    {
      "cell_type": "code",
      "execution_count": null,
      "metadata": {
        "colab": {
          "base_uri": "https://localhost:8080/"
        },
        "id": "SaTWufzwbCFZ",
        "outputId": "125eb7af-78e5-441f-89fd-dac78a4d8755"
      },
      "outputs": [
        {
          "output_type": "stream",
          "name": "stdout",
          "text": [
            "Drive already mounted at /content/drive; to attempt to forcibly remount, call drive.mount(\"/content/drive\", force_remount=True).\n"
          ]
        }
      ],
      "source": [
        "#Mount drive\n",
        "from google.colab import drive\n",
        "drive.mount('/content/drive')"
      ]
    },
    {
      "cell_type": "code",
      "execution_count": null,
      "metadata": {
        "id": "283DRIIoRET-"
      },
      "outputs": [],
      "source": [
        "import pandas as pd\n",
        "import numpy as np\n",
        "import keras\n",
        "import tensorflow as tf\n",
        "import keras.layers as L\n",
        "import keras.models as M\n",
        "import keras.initializers as I\n",
        "import keras.backend as K\n",
        "from keras import optimizers\n",
        "from sklearn.model_selection import train_test_split\n",
        "from keras.utils import to_categorical\n",
        "import matplotlib.pyplot as plt\n",
        "import cv2,os\n",
        "from PIL import Image, ImageOps\n",
        "from google.colab.patches import cv2_imshow\n",
        "import csv\n",
        "import math\n",
        "from keras.utils import to_categorical\n",
        "from sklearn.metrics import confusion_matrix , classification_report,accuracy_score, ConfusionMatrixDisplay, recall_score\n",
        "from keras.layers import BatchNormalization\n"
      ]
    },
    {
      "cell_type": "code",
      "execution_count": null,
      "metadata": {
        "colab": {
          "base_uri": "https://localhost:8080/"
        },
        "id": "t3jOBOOQh35-",
        "outputId": "048186bd-1f0a-4bb4-d8ba-bc924395e11f"
      },
      "outputs": [
        {
          "output_type": "stream",
          "name": "stdout",
          "text": [
            "['3', '2', '1']\n"
          ]
        }
      ],
      "source": [
        "data_path='/content/drive/MyDrive/Dataset/Jun Cheng Brain MRI dataset/'\n",
        "categories=os.listdir(data_path)\n",
        "\n",
        "print(categories)\n",
        "labels = ['1', '2', '3']\n",
        "label_dict = {label: i for i, label in enumerate(labels)}"
      ]
    },
    {
      "cell_type": "code",
      "execution_count": null,
      "metadata": {
        "id": "V2qBG9psy3ID"
      },
      "outputs": [],
      "source": [
        "img_size=65"
      ]
    },
    {
      "cell_type": "code",
      "execution_count": null,
      "metadata": {
        "colab": {
          "base_uri": "https://localhost:8080/"
        },
        "id": "YFDJJKB0Wnzm",
        "outputId": "130443fd-822a-44d8-b851-f1b1f2c65526"
      },
      "outputs": [
        {
          "output_type": "stream",
          "name": "stdout",
          "text": [
            "data (3047, 65, 65, 3)\n",
            "label (3047,)\n"
          ]
        }
      ],
      "source": [
        "folder='/content/drive/MyDrive/Dataset/Jun Cheng Brain MRI dataset/'\n",
        "images = []\n",
        "img_labels = []\n",
        "for label in labels:\n",
        "    path = f\"{folder}/{label}\"\n",
        "    for filename in os.listdir(path):\n",
        "        # img = Image.open(os.path.join(path, filename)).convert('L')  # grayscale\n",
        "        img = Image.open(os.path.join(path, filename)).convert('RGB')\n",
        "        img = img.resize((img_size, img_size))\n",
        "        img = np.array(img)\n",
        "        if img is not None:\n",
        "            images.append(img)\n",
        "            img_labels.append(label_dict[label])\n",
        "data=np.array(images)\n",
        "label=np.array(img_labels)\n",
        "print('data', data.shape)\n",
        "print('label', label.shape)\n"
      ]
    },
    {
      "cell_type": "code",
      "execution_count": null,
      "metadata": {
        "colab": {
          "base_uri": "https://localhost:8080/",
          "height": 544
        },
        "id": "KhfPidCvrvNX",
        "outputId": "b20281a4-ed2c-4fe6-f58e-6b827834fc16"
      },
      "outputs": [
        {
          "output_type": "stream",
          "name": "stdout",
          "text": [
            "Original dataset shape Counter({1: 1432, 2: 944, 0: 671})\n",
            "Resampled dataset shape Counter({0: 1432, 1: 1432, 2: 1432})\n"
          ]
        },
        {
          "output_type": "display_data",
          "data": {
            "text/plain": [
              "<Figure size 1200x500 with 2 Axes>"
            ],
            "image/png": "[encoded data removed]"
          },
          "metadata": {}
        }
      ],
      "source": [
        "from collections import Counter\n",
        "from imblearn.over_sampling import RandomOverSampler\n",
        "import seaborn as sns\n",
        "import matplotlib.pyplot as plt\n",
        "\n",
        "# Convert your data and label lists to numpy arrays\n",
        "data_np = np.array(data)\n",
        "label_np = np.array(label)\n",
        "\n",
        "# Reshape the data for oversampling\n",
        "data_reshaped = data_np.reshape(data_np.shape[0], -1)\n",
        "\n",
        "# Use RandomOverSampler for oversampling\n",
        "ros = RandomOverSampler(random_state=42)\n",
        "x_resampled, y_resampled = ros.fit_resample(data_reshaped, label_np)\n",
        "\n",
        "# Reshape the data to its original shape\n",
        "x_resampled = x_resampled.reshape(-1, img_size, img_size, 3)\n",
        "\n",
        "print(f\"Original dataset shape {Counter(label_np)}\")\n",
        "print(f\"Resampled dataset shape {Counter(y_resampled)}\")\n",
        "\n",
        "# Define the ordering for the x-axis labels\n",
        "order_labels = [0, 1, 2]\n",
        "class_names = ['meningioma', 'glioma', 'pituitary']\n",
        "\n",
        "plt.figure(figsize=(12, 5))\n",
        "\n",
        "plt.subplot(1, 2, 1)\n",
        "sns.countplot(x=label_np, order=order_labels)\n",
        "plt.title(\"Original Data Distribution\")\n",
        "plt.xlabel(\"Classes\")\n",
        "plt.ylabel(\"Frequency\")\n",
        "plt.xticks(ticks=order_labels, labels=class_names)  # Setting the x-axis tick labels\n",
        "\n",
        "\n",
        "# Plot the resampled data distribution\n",
        "plt.subplot(1, 2, 2)\n",
        "sns.countplot(x=y_resampled, order=order_labels)\n",
        "plt.title(\"Resampled Data Distribution\")\n",
        "plt.xlabel(\"Classes\")\n",
        "plt.ylabel(\"Frequency\")\n",
        "plt.xticks(ticks=order_labels, labels=class_names)  # Setting the x-axis tick labels\n",
        "\n",
        "plt.tight_layout()\n",
        "plt.show()\n"
      ]
    },
    {
      "cell_type": "code",
      "execution_count": null,
      "metadata": {
        "id": "pfsy7kzdhg7L"
      },
      "outputs": [],
      "source": [
        "# data =np.array(data)\n",
        "# label=np.array(label)"
      ]
    },
    {
      "cell_type": "code",
      "execution_count": null,
      "metadata": {
        "colab": {
          "base_uri": "https://localhost:8080/"
        },
        "id": "yWIo27ngMqCL",
        "outputId": "9027ab39-6793-4860-add2-b0a4b7645422"
      },
      "outputs": [
        {
          "output_type": "stream",
          "name": "stdout",
          "text": [
            "(3436, 65, 65, 3)\n"
          ]
        }
      ],
      "source": [
        "X_train, X_test, y_train, y_test = train_test_split(x_resampled, y_resampled, test_size=0.2, random_state=42)\n",
        "# X_train, X_test, y_train, y_test = train_test_split(data, label, test_size=0.2, random_state=42)\n",
        "x_train = X_train.astype('float32') / 255.\n",
        "x_train = x_train.reshape(-1, img_size, img_size, 3)\n",
        "y_train = np.array(to_categorical(y_train.astype('float32')))\n",
        "\n",
        "x_test = X_test.astype('float32') / 255.\n",
        "x_test = x_test.reshape(-1, img_size, img_size, 3)\n",
        "y_test = np.array(to_categorical(y_test.astype('float32')))\n",
        "print(x_train.shape)\n"
      ]
    },
    {
      "cell_type": "code",
      "execution_count": null,
      "metadata": {
        "colab": {
          "base_uri": "https://localhost:8080/"
        },
        "id": "cRjVnx3IygSc",
        "outputId": "34204ec9-792d-4f55-e444-6e56b5132d69"
      },
      "outputs": [
        {
          "output_type": "stream",
          "name": "stdout",
          "text": [
            "[1, 2, 4, 859, 1718, 3436]\n"
          ]
        }
      ],
      "source": [
        "#Define the range of batch size for network\n",
        "def find_factors(n):\n",
        "    factors = []\n",
        "    for i in range(1, n + 1):\n",
        "        if n % i == 0:\n",
        "            factors.append(i)\n",
        "    return factors\n",
        "\n",
        "\n",
        "print(find_factors(x_train.shape[0]))"
      ]
    },
    {
      "cell_type": "code",
      "execution_count": null,
      "metadata": {
        "id": "rQmFQ_eI2nfC"
      },
      "outputs": [],
      "source": [
        "# Makign the squash function\n",
        "def squash(vectors, axis=-1):\n",
        "    squared_norm = K.sum(K.square(vectors), axis, keepdims=True)\n",
        "    scale = squared_norm / (1 + squared_norm) / (K.sqrt(squared_norm) + K.epsilon())\n",
        "    return scale * vectors"
      ]
    },
    {
      "cell_type": "code",
      "execution_count": null,
      "metadata": {
        "id": "eSjA995S2vFR"
      },
      "outputs": [],
      "source": [
        "# Making capsule layer from scratch\n",
        "class CapsuleLayer(L.Layer):\n",
        "    def __init__(self, num_capsule, dim_capsule, routing=3, kernel_initializer='glorot_uniform', **kwargs):\n",
        "        super(CapsuleLayer, self).__init__(**kwargs)\n",
        "        self.num_capsule = num_capsule\n",
        "        self.dim_capsule = dim_capsule\n",
        "        self.routing = routing\n",
        "        self.kernel_initializer = kernel_initializer\n",
        "\n",
        "    def build(self, input_shape):\n",
        "        assert len(input_shape) >= 3\n",
        "        self.input_num_capsule = input_shape[1]\n",
        "        self.input_dim_capsule = input_shape[2]\n",
        "\n",
        "        # transforming the matrix\n",
        "        self.W = self.add_weight(\n",
        "            shape=[self.num_capsule, self.input_num_capsule, self.dim_capsule, self.input_dim_capsule],\n",
        "            initializer=self.kernel_initializer, name='w')\n",
        "        self.built = True\n",
        "\n",
        "    def call(self, inputs, training=None):\n",
        "        input_expand = tf.expand_dims(tf.expand_dims(inputs, 1), -1)\n",
        "        inputs_tiled = K.tile(input_expand, [1, self.num_capsule, 1, 1, 1])\n",
        "        input_hat = tf.squeeze(tf.map_fn(lambda x: tf.matmul(self.W, x), elems=inputs_tiled))\n",
        "        # b = tf.zeros(shape=[inputs.shape[0], self.num_capsule, 1, self.input_num_capsule])\n",
        "        b = tf.zeros(shape=[tf.shape(inputs)[0], self.num_capsule, 1, self.input_num_capsule])\n",
        "\n",
        "        assert self.routing > 0\n",
        "        for i in range(self.routing):\n",
        "            c = tf.nn.softmax(b, axis=1)\n",
        "            output = squash(tf.matmul(c, input_hat))\n",
        "            if i < self.routing - 1:\n",
        "                b += tf.matmul(output, input_hat, transpose_b=True)\n",
        "        return tf.squeeze(output)\n",
        "\n",
        "    def compute_output_shape(self, input_shape):\n",
        "        return tuple([None, self.num_capsule, self.dim_capsule])\n",
        "\n",
        "    def get_config(self):\n",
        "        config = {\n",
        "            'num_capsule': self.num_capsule,\n",
        "            'dim_capsule': self.dim_capsule,\n",
        "            'routings': self.routings\n",
        "        }\n",
        "        base_config = super(CapsuleLayer, self).get_config()\n",
        "        return dict(list(base_config.items()) + list(config.items()))"
      ]
    },
    {
      "cell_type": "code",
      "execution_count": null,
      "metadata": {
        "id": "tMzv19ToEpea"
      },
      "outputs": [],
      "source": [
        "from keras.src.layers import MaxPooling2D\n",
        "from keras.src.layers.regularization.dropout import Dropout\n",
        "batch_size = 2\n",
        "\n",
        "img_shape = (img_size, img_size, 3)\n",
        "\n",
        "# # Define a custom input layer with a hardcoded batch size\n",
        "input_layer = L.Input(batch_shape=(batch_size,) + img_shape)\n",
        "\n",
        "\n",
        "from keras.layers import DepthwiseConv2D, GlobalAveragePooling2D, Reshape, Multiply\n",
        "\n",
        "def powerfeature(input_layer, num_layers, expansion_factor, reduction_factor=0.9):\n",
        "\n",
        "    x = L.Conv2D(64, (3, 3), activation='relu', kernel_initializer='he_normal', padding='same')(input_layer)\n",
        "    x = L.Dropout(0.2)(x)\n",
        "    x = L.Conv2D(64, (3, 3), activation='relu', kernel_initializer='he_normal', padding='same')(x)\n",
        "    x = L.MaxPooling2D((2, 2))(x)\n",
        "\n",
        "    x = L.Conv2D(128, (3, 3), activation='relu', kernel_initializer='he_normal', padding='same')(x)\n",
        "    x = L.Dropout(0.3)(x)\n",
        "    x = L.Conv2D(128, (3, 3), activation='relu', kernel_initializer='he_normal', padding='same')(x)\n",
        "    x = L.MaxPooling2D((2, 2))(x)\n",
        "\n",
        "\n",
        "    for _ in range(num_layers):\n",
        "        x1 = L.Conv2D(2 * expansion_factor, (3, 3), kernel_initializer='he_normal', padding='same')(x)\n",
        "        x1 = L.Dropout(0.2)(x1)\n",
        "        x1 = L.Conv2D(expansion_factor, (3, 3), kernel_initializer='he_normal', padding='same')(x1)\n",
        "        x = L.Concatenate()([x, x1])\n",
        "\n",
        "\n",
        "    # Attention Mechanism\n",
        "    attention = GlobalAveragePooling2D()(x)\n",
        "    attention = Reshape((1, 1, K.int_shape(x)[-1]))(attention)\n",
        "    attention = L.Conv2D(K.int_shape(x)[-1] // 16, (3,3), activation='relu', kernel_initializer='he_normal', padding='same')(attention)\n",
        "    attention = L.Conv2D(K.int_shape(x)[-1], (3,3), activation='relu', kernel_initializer='he_normal', padding='same')(attention)\n",
        "    x = Multiply()([x, attention])\n",
        "\n",
        "\n",
        " # Transition Mechanism\n",
        "    contracted_filters = int(K.int_shape(x)[-1] * reduction_factor)\n",
        "\n",
        "    x = L.Conv2D(contracted_filters, (3, 3), kernel_initializer='he_normal', padding='same')(x)\n",
        "    x = L.Dropout(0.5)(x)\n",
        "    x = L.Conv2D(contracted_filters, (3, 3), kernel_initializer='he_normal', padding='same')(x)\n",
        "    x = L.MaxPooling2D((2, 2))(x)\n",
        "\n",
        "    return x\n",
        "\n",
        "\n",
        "x = powerfeature(input_layer,num_layers=2, expansion_factor=4)\n",
        "\n",
        "\n",
        "\n",
        "#Primary Capsule Layer\n",
        "conv2 = L.Conv2D(filters=8 * 16, kernel_size=(3, 3), strides=(2, 2), padding='same')(x)\n",
        "reshape2 = L.Reshape([-1, 8])(conv2)  # Reduce dimensions here\n",
        "squashed_output = L.Lambda(squash)(reshape2)\n"
      ]
    },
    {
      "cell_type": "code",
      "execution_count": null,
      "metadata": {
        "id": "YYVJEJLK2zkQ"
      },
      "outputs": [],
      "source": [
        "braincaps = CapsuleLayer(num_capsule=3, dim_capsule=8, routing=3, name='braincaps')(squashed_output)"
      ]
    },
    {
      "cell_type": "code",
      "execution_count": null,
      "metadata": {
        "id": "8hLcnT7E2198"
      },
      "outputs": [],
      "source": [
        "# Making length layer which will calculate the length of the vectors\n",
        "class Length(L.Layer):\n",
        "    def call(self, inputs, **kwargs):\n",
        "        return tf.sqrt(tf.reduce_sum(tf.square(inputs), -1))\n",
        "\n",
        "    def compute_output_shape(self, input_shape):\n",
        "        return input_shape[:-1]\n",
        "\n",
        "    def get_config(self):\n",
        "        config = super(Length, self).get_config()\n",
        "        return config\n"
      ]
    },
    {
      "cell_type": "code",
      "execution_count": null,
      "metadata": {
        "id": "XsBv1LhL255V"
      },
      "outputs": [],
      "source": [
        "# Layer 4: This is an auxiliary layer to replace each capsule with its length. Just to match the true label's shape.\n",
        "# If using tensorflow, this will not be necessary. :)\n",
        "out_caps = Length(name='capsnet')(braincaps)"
      ]
    },
    {
      "cell_type": "code",
      "execution_count": null,
      "metadata": {
        "id": "66Gkk4uW28NV"
      },
      "outputs": [],
      "source": [
        "# Making the masking layer\n",
        "class Mask(L.Layer):\n",
        "    def call(self, inputs, **kwargs):\n",
        "        if type(inputs) is list:\n",
        "            assert len(inputs) == 2\n",
        "            inputs, mask = inputs\n",
        "        else:\n",
        "            x = tf.sqrt(tf.reduce_sum(tf.square(inputs), -1))\n",
        "            mask = tf.one_hot(indices=tf.argmax(x, 1), depth=x.shape[1])\n",
        "        masked = K.batch_flatten(inputs * tf.expand_dims(mask, -1))\n",
        "        return masked\n",
        "\n",
        "    def compute_output_shape(self, input_shape):\n",
        "        if type(input_shape[0]) is tuple:  # true label provided\n",
        "            return tuple([None, input_shape[0][1] * input_shape[0][2]])\n",
        "        else:  # no true label provided\n",
        "            return tuple([None, input_shape[1] * input_shape[2]])\n",
        "\n",
        "    def get_config(self):\n",
        "        config = super(Mask, self).get_config()\n",
        "        return config"
      ]
    },
    {
      "cell_type": "code",
      "execution_count": null,
      "metadata": {
        "colab": {
          "base_uri": "https://localhost:8080/"
        },
        "id": "iTdeWoNC3ANO",
        "outputId": "0d58a810-da6f-4e0e-8ba0-c37f717cc239"
      },
      "outputs": [
        {
          "output_type": "stream",
          "name": "stdout",
          "text": [
            "(None, 3)\n",
            "(2, 3, 8)\n",
            "(2, 24)\n",
            "(2, 24)\n"
          ]
        }
      ],
      "source": [
        "y = L.Input(shape=(3,))\n",
        "print(y.shape)\n",
        "print(braincaps.shape)\n",
        "masked_by_y = Mask()([braincaps, y])  # The true label is used to mask the output of capsule layer. For training\n",
        "print(masked_by_y.shape)\n",
        "masked = Mask()(braincaps)\n",
        "print(masked.shape)"
      ]
    },
    {
      "cell_type": "code",
      "execution_count": null,
      "metadata": {
        "id": "mF-ZO0HM3H3E"
      },
      "outputs": [],
      "source": [
        "input_shape = x_train.shape[1:]\n",
        "decoder = M.Sequential(name='decoder')\n",
        "decoder.add(L.Dense(512, activation='relu', input_dim=8 * 3))\n",
        "decoder.add(L.Dense(1024, activation='relu'))\n",
        "decoder.add(L.Dense(img_size * img_size * 3, activation='softmax'))\n",
        "decoder.add(L.Reshape(target_shape=input_shape, name='out_recon'))\n"
      ]
    },
    {
      "cell_type": "code",
      "execution_count": null,
      "metadata": {
        "id": "t8oX42aK3IkE"
      },
      "outputs": [],
      "source": [
        "# Making models\n",
        "train_model = M.Model([input_layer, y], [out_caps, decoder(masked_by_y)])\n",
        "eval_model = M.Model(input_layer, [out_caps, decoder(masked)])"
      ]
    },
    {
      "cell_type": "code",
      "execution_count": null,
      "metadata": {
        "id": "3PFKjgTb3LCH"
      },
      "outputs": [],
      "source": [
        "# Making the loss function\n",
        "def margin_loss(y_true, y_pred):\n",
        "    L = y_true * tf.square(tf.maximum(0., 0.9 - y_pred)) + \\\n",
        "        0.5 * (1 - y_true) * tf.square(tf.maximum(0., y_pred - 0.1))\n",
        "    return tf.reduce_mean(tf.reduce_sum(L, 1))"
      ]
    },
    {
      "cell_type": "code",
      "execution_count": null,
      "metadata": {
        "colab": {
          "base_uri": "https://localhost:8080/"
        },
        "id": "h7OIvuRA3P56",
        "outputId": "ccc02c54-5b13-4992-ac84-3b46945d8691"
      },
      "outputs": [
        {
          "output_type": "stream",
          "name": "stdout",
          "text": [
            "Model: \"model\"\n",
            "__________________________________________________________________________________________________\n",
            " Layer (type)                Output Shape                 Param #   Connected to                  \n",
            "==================================================================================================\n",
            " input_1 (InputLayer)        [(2, 65, 65, 3)]             0         []                            \n",
            "                                                                                                  \n",
            " conv2d (Conv2D)             (2, 65, 65, 64)              1792      ['input_1[0][0]']             \n",
            "                                                                                                  \n",
            " dropout (Dropout)           (2, 65, 65, 64)              0         ['conv2d[0][0]']              \n",
            "                                                                                                  \n",
            " conv2d_1 (Conv2D)           (2, 65, 65, 64)              36928     ['dropout[0][0]']             \n",
            "                                                                                                  \n",
            " max_pooling2d (MaxPooling2  (2, 32, 32, 64)              0         ['conv2d_1[0][0]']            \n",
            " D)                                                                                               \n",
            "                                                                                                  \n",
            " conv2d_2 (Conv2D)           (2, 32, 32, 128)             73856     ['max_pooling2d[0][0]']       \n",
            "                                                                                                  \n",
            " dropout_1 (Dropout)         (2, 32, 32, 128)             0         ['conv2d_2[0][0]']            \n",
            "                                                                                                  \n",
            " conv2d_3 (Conv2D)           (2, 32, 32, 128)             147584    ['dropout_1[0][0]']           \n",
            "                                                                                                  \n",
            " max_pooling2d_1 (MaxPoolin  (2, 16, 16, 128)             0         ['conv2d_3[0][0]']            \n",
            " g2D)                                                                                             \n",
            "                                                                                                  \n",
            " conv2d_4 (Conv2D)           (2, 16, 16, 8)               9224      ['max_pooling2d_1[0][0]']     \n",
            "                                                                                                  \n",
            " dropout_2 (Dropout)         (2, 16, 16, 8)               0         ['conv2d_4[0][0]']            \n",
            "                                                                                                  \n",
            " conv2d_5 (Conv2D)           (2, 16, 16, 4)               292       ['dropout_2[0][0]']           \n",
            "                                                                                                  \n",
            " concatenate (Concatenate)   (2, 16, 16, 132)             0         ['max_pooling2d_1[0][0]',     \n",
            "                                                                     'conv2d_5[0][0]']            \n",
            "                                                                                                  \n",
            " conv2d_6 (Conv2D)           (2, 16, 16, 8)               9512      ['concatenate[0][0]']         \n",
            "                                                                                                  \n",
            " dropout_3 (Dropout)         (2, 16, 16, 8)               0         ['conv2d_6[0][0]']            \n",
            "                                                                                                  \n",
            " conv2d_7 (Conv2D)           (2, 16, 16, 4)               292       ['dropout_3[0][0]']           \n",
            "                                                                                                  \n",
            " concatenate_1 (Concatenate  (2, 16, 16, 136)             0         ['concatenate[0][0]',         \n",
            " )                                                                   'conv2d_7[0][0]']            \n",
            "                                                                                                  \n",
            " global_average_pooling2d (  (2, 136)                     0         ['concatenate_1[0][0]']       \n",
            " GlobalAveragePooling2D)                                                                          \n",
            "                                                                                                  \n",
            " reshape (Reshape)           (2, 1, 1, 136)               0         ['global_average_pooling2d[0][\n",
            "                                                                    0]']                          \n",
            "                                                                                                  \n",
            " conv2d_8 (Conv2D)           (2, 1, 1, 8)                 9800      ['reshape[0][0]']             \n",
            "                                                                                                  \n",
            " conv2d_9 (Conv2D)           (2, 1, 1, 136)               9928      ['conv2d_8[0][0]']            \n",
            "                                                                                                  \n",
            " multiply (Multiply)         (2, 16, 16, 136)             0         ['concatenate_1[0][0]',       \n",
            "                                                                     'conv2d_9[0][0]']            \n",
            "                                                                                                  \n",
            " conv2d_10 (Conv2D)          (2, 16, 16, 122)             149450    ['multiply[0][0]']            \n",
            "                                                                                                  \n",
            " dropout_4 (Dropout)         (2, 16, 16, 122)             0         ['conv2d_10[0][0]']           \n",
            "                                                                                                  \n",
            " conv2d_11 (Conv2D)          (2, 16, 16, 122)             134078    ['dropout_4[0][0]']           \n",
            "                                                                                                  \n",
            " max_pooling2d_2 (MaxPoolin  (2, 8, 8, 122)               0         ['conv2d_11[0][0]']           \n",
            " g2D)                                                                                             \n",
            "                                                                                                  \n",
            " conv2d_12 (Conv2D)          (2, 4, 4, 128)               140672    ['max_pooling2d_2[0][0]']     \n",
            "                                                                                                  \n",
            " reshape_1 (Reshape)         (2, 256, 8)                  0         ['conv2d_12[0][0]']           \n",
            "                                                                                                  \n",
            " lambda (Lambda)             (2, 256, 8)                  0         ['reshape_1[0][0]']           \n",
            "                                                                                                  \n",
            " heelcaps (CapsuleLayer)     (2, 3, 8)                    49152     ['lambda[0][0]']              \n",
            "                                                                                                  \n",
            " input_2 (InputLayer)        [(None, 3)]                  0         []                            \n",
            "                                                                                                  \n",
            " mask (Mask)                 (2, 24)                      0         ['heelcaps[0][0]',            \n",
            "                                                                     'input_2[0][0]']             \n",
            "                                                                                                  \n",
            " capsnet (Length)            (2, 3)                       0         ['heelcaps[0][0]']            \n",
            "                                                                                                  \n",
            " decoder (Sequential)        (None, 65, 65, 3)            1352998   ['mask[0][0]']                \n",
            "                                                          7                                       \n",
            "                                                                                                  \n",
            "==================================================================================================\n",
            "Total params: 14302547 (54.56 MB)\n",
            "Trainable params: 14302547 (54.56 MB)\n",
            "Non-trainable params: 0 (0.00 Byte)\n",
            "__________________________________________________________________________________________________\n"
          ]
        }
      ],
      "source": [
        "train_model.summary()"
      ]
    },
    {
      "cell_type": "code",
      "execution_count": null,
      "metadata": {
        "id": "GWIlgOnjzdhT"
      },
      "outputs": [],
      "source": [
        "train_model.save_weights('/content/drive/MyDrive/models/NewBrain2_ACTCAPSNET_model.weights.h5')\n",
        "train_model.load_weights('/content/drive/MyDrive/models/NewBrain2_ACTCAPSNET_model.weights.h5')\n"
      ]
    },
    {
      "cell_type": "code",
      "execution_count": null,
      "metadata": {
        "id": "Rx7H3E783WfF"
      },
      "outputs": [],
      "source": [
        "n_samples = 5"
      ]
    },
    {
      "cell_type": "code",
      "execution_count": null,
      "metadata": {
        "id": "rdniU6893YnS"
      },
      "outputs": [],
      "source": [
        "# plt.figure(figsize=(n_samples * 2, 3))\n",
        "# for index in range(n_samples):\n",
        "#     plt.subplot(1, n_samples, index + 1)\n",
        "#     sample_image = x_test[index]\n",
        "#     plt.imshow(sample_image, cmap=\"binary\")\n",
        "#     plt.title(\"Label:\" + str(y_test[index]))\n",
        "#     plt.axis(\"off\")\n",
        "\n",
        "# plt.show()"
      ]
    },
    {
      "cell_type": "code",
      "execution_count": null,
      "metadata": {
        "id": "WHyvs0QG3bV-"
      },
      "outputs": [],
      "source": [
        "m = batch_size\n",
        "epochs = 100\n",
        "# Using EarlyStopping, end training when val_accuracy is not improved for 10 consecutive times\n",
        "early_stopping = keras.callbacks.EarlyStopping(monitor='val_capsnet_accuracy', mode='max',\n",
        "                                               patience=2, restore_best_weights=True)\n"
      ]
    },
    {
      "cell_type": "code",
      "execution_count": null,
      "metadata": {
        "colab": {
          "base_uri": "https://localhost:8080/"
        },
        "id": "6eDzzIMj5v8J",
        "outputId": "7569f6d7-b417-434b-876d-b2a408c00f67"
      },
      "outputs": [
        {
          "output_type": "stream",
          "name": "stdout",
          "text": [
            "(3436, 65, 65, 3)\n",
            "(3436, 3)\n",
            "(860, 65, 65, 3)\n",
            "(860, 3)\n"
          ]
        }
      ],
      "source": [
        "print(x_train.shape)  # should be (num_samples, 28, 28, 1) or something similar\n",
        "print(y_train.shape)  # should be (num_samples, 3) given your model summary\n",
        "print(x_test.shape)   # should be (num_test_samples, 28, 28, 1) or similar\n",
        "print(y_test.shape)   # should be (num_test_samples, 3)\n"
      ]
    },
    {
      "cell_type": "code",
      "execution_count": null,
      "metadata": {
        "colab": {
          "base_uri": "https://localhost:8080/"
        },
        "id": "k5t0yhoE3fY9",
        "outputId": "d03078f1-a31f-4500-8934-52d9c9b0bb95"
      },
      "outputs": [
        {
          "output_type": "stream",
          "name": "stdout",
          "text": [
            "Epoch 1/100\n",
            "1718/1718 [==============================] - 170s 97ms/step - loss: 0.2529 - capsnet_loss: 0.2528 - decoder_loss: 0.1131 - capsnet_accuracy: 0.5905 - decoder_accuracy: 0.3393 - val_loss: 0.1589 - val_capsnet_loss: 0.1589 - val_decoder_loss: 0.1129 - val_capsnet_accuracy: 0.7919 - val_decoder_accuracy: 0.3385\n",
            "Epoch 2/100\n",
            "1718/1718 [==============================] - 167s 97ms/step - loss: 0.1389 - capsnet_loss: 0.1388 - decoder_loss: 0.1131 - capsnet_accuracy: 0.8047 - decoder_accuracy: 0.3392 - val_loss: 0.1145 - val_capsnet_loss: 0.1144 - val_decoder_loss: 0.1129 - val_capsnet_accuracy: 0.8500 - val_decoder_accuracy: 0.3402\n",
            "Epoch 3/100\n",
            "1718/1718 [==============================] - 171s 100ms/step - loss: 0.1184 - capsnet_loss: 0.1183 - decoder_loss: 0.1131 - capsnet_accuracy: 0.8455 - decoder_accuracy: 0.3404 - val_loss: 0.0963 - val_capsnet_loss: 0.0962 - val_decoder_loss: 0.1129 - val_capsnet_accuracy: 0.8860 - val_decoder_accuracy: 0.3409\n",
            "Epoch 4/100\n",
            "1718/1718 [==============================] - 173s 101ms/step - loss: 0.0994 - capsnet_loss: 0.0993 - decoder_loss: 0.1131 - capsnet_accuracy: 0.8818 - decoder_accuracy: 0.3421 - val_loss: 0.0855 - val_capsnet_loss: 0.0855 - val_decoder_loss: 0.1129 - val_capsnet_accuracy: 0.8826 - val_decoder_accuracy: 0.3425\n",
            "Epoch 5/100\n",
            "1718/1718 [==============================] - 173s 101ms/step - loss: 0.0805 - capsnet_loss: 0.0805 - decoder_loss: 0.1131 - capsnet_accuracy: 0.9072 - decoder_accuracy: 0.3430 - val_loss: 0.0977 - val_capsnet_loss: 0.0977 - val_decoder_loss: 0.1129 - val_capsnet_accuracy: 0.8895 - val_decoder_accuracy: 0.3419\n",
            "Epoch 6/100\n",
            "1718/1718 [==============================] - 191s 111ms/step - loss: 0.0732 - capsnet_loss: 0.0732 - decoder_loss: 0.1131 - capsnet_accuracy: 0.9220 - decoder_accuracy: 0.3435 - val_loss: 0.0730 - val_capsnet_loss: 0.0729 - val_decoder_loss: 0.1129 - val_capsnet_accuracy: 0.9128 - val_decoder_accuracy: 0.3440\n",
            "Epoch 7/100\n",
            "1718/1718 [==============================] - 180s 105ms/step - loss: 0.0586 - capsnet_loss: 0.0586 - decoder_loss: 0.1131 - capsnet_accuracy: 0.9421 - decoder_accuracy: 0.3445 - val_loss: 0.0702 - val_capsnet_loss: 0.0701 - val_decoder_loss: 0.1129 - val_capsnet_accuracy: 0.9151 - val_decoder_accuracy: 0.3445\n",
            "Epoch 8/100\n",
            "1718/1718 [==============================] - 184s 107ms/step - loss: 0.0531 - capsnet_loss: 0.0531 - decoder_loss: 0.1131 - capsnet_accuracy: 0.9479 - decoder_accuracy: 0.3451 - val_loss: 0.0592 - val_capsnet_loss: 0.0591 - val_decoder_loss: 0.1129 - val_capsnet_accuracy: 0.9395 - val_decoder_accuracy: 0.3454\n",
            "Epoch 9/100\n",
            "1718/1718 [==============================] - 183s 107ms/step - loss: 0.0477 - capsnet_loss: 0.0476 - decoder_loss: 0.1131 - capsnet_accuracy: 0.9558 - decoder_accuracy: 0.3463 - val_loss: 0.0595 - val_capsnet_loss: 0.0594 - val_decoder_loss: 0.1129 - val_capsnet_accuracy: 0.9407 - val_decoder_accuracy: 0.3481\n",
            "Epoch 10/100\n",
            "1718/1718 [==============================] - 181s 106ms/step - loss: 0.0409 - capsnet_loss: 0.0408 - decoder_loss: 0.1131 - capsnet_accuracy: 0.9680 - decoder_accuracy: 0.3475 - val_loss: 0.0499 - val_capsnet_loss: 0.0498 - val_decoder_loss: 0.1129 - val_capsnet_accuracy: 0.9453 - val_decoder_accuracy: 0.3478\n",
            "Epoch 11/100\n",
            "1718/1718 [==============================] - 176s 103ms/step - loss: 0.0389 - capsnet_loss: 0.0389 - decoder_loss: 0.1131 - capsnet_accuracy: 0.9692 - decoder_accuracy: 0.3485 - val_loss: 0.0538 - val_capsnet_loss: 0.0537 - val_decoder_loss: 0.1129 - val_capsnet_accuracy: 0.9314 - val_decoder_accuracy: 0.3496\n",
            "Epoch 12/100\n",
            "1718/1718 [==============================] - 176s 102ms/step - loss: 0.0346 - capsnet_loss: 0.0345 - decoder_loss: 0.1131 - capsnet_accuracy: 0.9753 - decoder_accuracy: 0.3494 - val_loss: 0.0389 - val_capsnet_loss: 0.0389 - val_decoder_loss: 0.1129 - val_capsnet_accuracy: 0.9488 - val_decoder_accuracy: 0.3503\n",
            "Epoch 13/100\n",
            "1718/1718 [==============================] - 178s 104ms/step - loss: 0.0309 - capsnet_loss: 0.0309 - decoder_loss: 0.1131 - capsnet_accuracy: 0.9811 - decoder_accuracy: 0.3502 - val_loss: 0.0453 - val_capsnet_loss: 0.0453 - val_decoder_loss: 0.1129 - val_capsnet_accuracy: 0.9535 - val_decoder_accuracy: 0.3510\n",
            "Epoch 14/100\n",
            "1718/1718 [==============================] - 177s 103ms/step - loss: 0.0273 - capsnet_loss: 0.0272 - decoder_loss: 0.1131 - capsnet_accuracy: 0.9843 - decoder_accuracy: 0.3510 - val_loss: 0.0428 - val_capsnet_loss: 0.0427 - val_decoder_loss: 0.1129 - val_capsnet_accuracy: 0.9453 - val_decoder_accuracy: 0.3525\n",
            "Epoch 15/100\n",
            "1718/1718 [==============================] - 179s 104ms/step - loss: 0.0245 - capsnet_loss: 0.0244 - decoder_loss: 0.1131 - capsnet_accuracy: 0.9886 - decoder_accuracy: 0.3521 - val_loss: 0.0352 - val_capsnet_loss: 0.0351 - val_decoder_loss: 0.1129 - val_capsnet_accuracy: 0.9651 - val_decoder_accuracy: 0.3526\n",
            "Epoch 16/100\n",
            "1718/1718 [==============================] - 182s 106ms/step - loss: 0.0225 - capsnet_loss: 0.0225 - decoder_loss: 0.1131 - capsnet_accuracy: 0.9889 - decoder_accuracy: 0.3531 - val_loss: 0.0413 - val_capsnet_loss: 0.0412 - val_decoder_loss: 0.1129 - val_capsnet_accuracy: 0.9640 - val_decoder_accuracy: 0.3538\n",
            "Epoch 17/100\n",
            "1718/1718 [==============================] - 181s 105ms/step - loss: 0.0194 - capsnet_loss: 0.0194 - decoder_loss: 0.1131 - capsnet_accuracy: 0.9924 - decoder_accuracy: 0.3538 - val_loss: 0.0388 - val_capsnet_loss: 0.0388 - val_decoder_loss: 0.1129 - val_capsnet_accuracy: 0.9593 - val_decoder_accuracy: 0.3558\n",
            "Epoch 18/100\n",
            "1718/1718 [==============================] - 180s 105ms/step - loss: 0.0181 - capsnet_loss: 0.0180 - decoder_loss: 0.1131 - capsnet_accuracy: 0.9927 - decoder_accuracy: 0.3547 - val_loss: 0.0450 - val_capsnet_loss: 0.0449 - val_decoder_loss: 0.1129 - val_capsnet_accuracy: 0.9674 - val_decoder_accuracy: 0.3559\n",
            "Epoch 19/100\n",
            "1718/1718 [==============================] - 185s 107ms/step - loss: 0.0188 - capsnet_loss: 0.0187 - decoder_loss: 0.1131 - capsnet_accuracy: 0.9927 - decoder_accuracy: 0.3558 - val_loss: 0.0302 - val_capsnet_loss: 0.0301 - val_decoder_loss: 0.1129 - val_capsnet_accuracy: 0.9674 - val_decoder_accuracy: 0.3570\n",
            "Epoch 20/100\n",
            "1718/1718 [==============================] - 184s 107ms/step - loss: 0.0152 - capsnet_loss: 0.0151 - decoder_loss: 0.1131 - capsnet_accuracy: 0.9948 - decoder_accuracy: 0.3565 - val_loss: 0.0326 - val_capsnet_loss: 0.0326 - val_decoder_loss: 0.1129 - val_capsnet_accuracy: 0.9640 - val_decoder_accuracy: 0.3567\n",
            "Epoch 21/100\n",
            "1718/1718 [==============================] - 184s 107ms/step - loss: 0.0162 - capsnet_loss: 0.0162 - decoder_loss: 0.1131 - capsnet_accuracy: 0.9930 - decoder_accuracy: 0.3576 - val_loss: 0.0306 - val_capsnet_loss: 0.0305 - val_decoder_loss: 0.1129 - val_capsnet_accuracy: 0.9663 - val_decoder_accuracy: 0.3595\n",
            "Epoch 22/100\n",
            "1718/1718 [==============================] - 187s 109ms/step - loss: 0.0139 - capsnet_loss: 0.0138 - decoder_loss: 0.1131 - capsnet_accuracy: 0.9948 - decoder_accuracy: 0.3582 - val_loss: 0.0275 - val_capsnet_loss: 0.0275 - val_decoder_loss: 0.1129 - val_capsnet_accuracy: 0.9698 - val_decoder_accuracy: 0.3606\n",
            "Epoch 23/100\n",
            "1718/1718 [==============================] - 187s 109ms/step - loss: 0.0124 - capsnet_loss: 0.0124 - decoder_loss: 0.1131 - capsnet_accuracy: 0.9956 - decoder_accuracy: 0.3591 - val_loss: 0.0489 - val_capsnet_loss: 0.0488 - val_decoder_loss: 0.1129 - val_capsnet_accuracy: 0.9442 - val_decoder_accuracy: 0.3611\n",
            "Epoch 24/100\n",
            "1718/1718 [==============================] - 186s 108ms/step - loss: 0.0102 - capsnet_loss: 0.0102 - decoder_loss: 0.1131 - capsnet_accuracy: 0.9977 - decoder_accuracy: 0.3601 - val_loss: 0.0385 - val_capsnet_loss: 0.0385 - val_decoder_loss: 0.1129 - val_capsnet_accuracy: 0.9558 - val_decoder_accuracy: 0.3615\n",
            "Epoch 25/100\n",
            "1718/1718 [==============================] - 187s 109ms/step - loss: 0.0122 - capsnet_loss: 0.0121 - decoder_loss: 0.1131 - capsnet_accuracy: 0.9956 - decoder_accuracy: 0.3613 - val_loss: 0.0257 - val_capsnet_loss: 0.0256 - val_decoder_loss: 0.1129 - val_capsnet_accuracy: 0.9721 - val_decoder_accuracy: 0.3624\n",
            "Epoch 26/100\n",
            "1718/1718 [==============================] - 188s 109ms/step - loss: 0.0103 - capsnet_loss: 0.0103 - decoder_loss: 0.1131 - capsnet_accuracy: 0.9974 - decoder_accuracy: 0.3620 - val_loss: 0.0283 - val_capsnet_loss: 0.0282 - val_decoder_loss: 0.1129 - val_capsnet_accuracy: 0.9698 - val_decoder_accuracy: 0.3660\n",
            "Epoch 27/100\n",
            "1718/1718 [==============================] - 185s 108ms/step - loss: 0.0103 - capsnet_loss: 0.0103 - decoder_loss: 0.1131 - capsnet_accuracy: 0.9968 - decoder_accuracy: 0.3632 - val_loss: 0.0312 - val_capsnet_loss: 0.0312 - val_decoder_loss: 0.1129 - val_capsnet_accuracy: 0.9651 - val_decoder_accuracy: 0.3653\n",
            "Epoch 28/100\n",
            "1718/1718 [==============================] - 184s 107ms/step - loss: 0.0107 - capsnet_loss: 0.0106 - decoder_loss: 0.1131 - capsnet_accuracy: 0.9971 - decoder_accuracy: 0.3640 - val_loss: 0.0270 - val_capsnet_loss: 0.0269 - val_decoder_loss: 0.1129 - val_capsnet_accuracy: 0.9721 - val_decoder_accuracy: 0.3661\n",
            "Epoch 29/100\n",
            "1718/1718 [==============================] - 189s 110ms/step - loss: 0.0088 - capsnet_loss: 0.0088 - decoder_loss: 0.1131 - capsnet_accuracy: 0.9988 - decoder_accuracy: 0.3648 - val_loss: 0.0227 - val_capsnet_loss: 0.0227 - val_decoder_loss: 0.1129 - val_capsnet_accuracy: 0.9698 - val_decoder_accuracy: 0.3669\n",
            "Epoch 30/100\n",
            "1718/1718 [==============================] - 183s 107ms/step - loss: 0.0105 - capsnet_loss: 0.0105 - decoder_loss: 0.1131 - capsnet_accuracy: 0.9956 - decoder_accuracy: 0.3656 - val_loss: 0.0260 - val_capsnet_loss: 0.0260 - val_decoder_loss: 0.1129 - val_capsnet_accuracy: 0.9721 - val_decoder_accuracy: 0.3675\n",
            "Epoch 31/100\n",
            "1718/1718 [==============================] - 186s 109ms/step - loss: 0.0079 - capsnet_loss: 0.0078 - decoder_loss: 0.1131 - capsnet_accuracy: 0.9968 - decoder_accuracy: 0.3665 - val_loss: 0.0269 - val_capsnet_loss: 0.0268 - val_decoder_loss: 0.1129 - val_capsnet_accuracy: 0.9640 - val_decoder_accuracy: 0.3680\n",
            "Epoch 32/100\n",
            "1718/1718 [==============================] - 188s 109ms/step - loss: 0.0094 - capsnet_loss: 0.0094 - decoder_loss: 0.1131 - capsnet_accuracy: 0.9962 - decoder_accuracy: 0.3674 - val_loss: 0.0617 - val_capsnet_loss: 0.0616 - val_decoder_loss: 0.1129 - val_capsnet_accuracy: 0.9605 - val_decoder_accuracy: 0.3690\n",
            "Epoch 33/100\n",
            "1718/1718 [==============================] - 204s 119ms/step - loss: 0.0069 - capsnet_loss: 0.0069 - decoder_loss: 0.1131 - capsnet_accuracy: 0.9991 - decoder_accuracy: 0.3684 - val_loss: 0.0339 - val_capsnet_loss: 0.0338 - val_decoder_loss: 0.1129 - val_capsnet_accuracy: 0.9651 - val_decoder_accuracy: 0.3710\n",
            "Epoch 34/100\n",
            "1718/1718 [==============================] - 199s 116ms/step - loss: 0.0078 - capsnet_loss: 0.0077 - decoder_loss: 0.1131 - capsnet_accuracy: 0.9983 - decoder_accuracy: 0.3697 - val_loss: 0.0277 - val_capsnet_loss: 0.0277 - val_decoder_loss: 0.1129 - val_capsnet_accuracy: 0.9733 - val_decoder_accuracy: 0.3710\n",
            "Epoch 35/100\n",
            "1718/1718 [==============================] - 192s 112ms/step - loss: 0.0084 - capsnet_loss: 0.0083 - decoder_loss: 0.1131 - capsnet_accuracy: 0.9977 - decoder_accuracy: 0.3705 - val_loss: 0.0452 - val_capsnet_loss: 0.0451 - val_decoder_loss: 0.1129 - val_capsnet_accuracy: 0.9686 - val_decoder_accuracy: 0.3721\n",
            "Epoch 36/100\n",
            "1718/1718 [==============================] - 185s 108ms/step - loss: 0.0070 - capsnet_loss: 0.0069 - decoder_loss: 0.1131 - capsnet_accuracy: 0.9985 - decoder_accuracy: 0.3712 - val_loss: 0.0206 - val_capsnet_loss: 0.0205 - val_decoder_loss: 0.1129 - val_capsnet_accuracy: 0.9767 - val_decoder_accuracy: 0.3723\n",
            "Epoch 37/100\n",
            "1718/1718 [==============================] - 186s 109ms/step - loss: 0.0070 - capsnet_loss: 0.0070 - decoder_loss: 0.1131 - capsnet_accuracy: 0.9985 - decoder_accuracy: 0.3718 - val_loss: 0.0242 - val_capsnet_loss: 0.0242 - val_decoder_loss: 0.1129 - val_capsnet_accuracy: 0.9733 - val_decoder_accuracy: 0.3739\n",
            "Epoch 38/100\n",
            "1718/1718 [==============================] - 197s 115ms/step - loss: 0.0104 - capsnet_loss: 0.0103 - decoder_loss: 0.1131 - capsnet_accuracy: 0.9956 - decoder_accuracy: 0.3731 - val_loss: 0.0306 - val_capsnet_loss: 0.0305 - val_decoder_loss: 0.1129 - val_capsnet_accuracy: 0.9593 - val_decoder_accuracy: 0.3777\n",
            "Epoch 39/100\n",
            "1718/1718 [==============================] - 196s 114ms/step - loss: 0.0080 - capsnet_loss: 0.0080 - decoder_loss: 0.1131 - capsnet_accuracy: 0.9980 - decoder_accuracy: 0.3741 - val_loss: 0.0182 - val_capsnet_loss: 0.0181 - val_decoder_loss: 0.1129 - val_capsnet_accuracy: 0.9814 - val_decoder_accuracy: 0.3759\n",
            "Epoch 40/100\n",
            "1718/1718 [==============================] - 188s 110ms/step - loss: 0.0040 - capsnet_loss: 0.0040 - decoder_loss: 0.1131 - capsnet_accuracy: 0.9997 - decoder_accuracy: 0.3745 - val_loss: 0.0306 - val_capsnet_loss: 0.0305 - val_decoder_loss: 0.1129 - val_capsnet_accuracy: 0.9651 - val_decoder_accuracy: 0.3788\n",
            "Epoch 41/100\n",
            "1718/1718 [==============================] - 188s 110ms/step - loss: 0.0101 - capsnet_loss: 0.0100 - decoder_loss: 0.1131 - capsnet_accuracy: 0.9956 - decoder_accuracy: 0.3757 - val_loss: 0.0237 - val_capsnet_loss: 0.0236 - val_decoder_loss: 0.1129 - val_capsnet_accuracy: 0.9721 - val_decoder_accuracy: 0.3771\n",
            "Epoch 42/100\n",
            "1718/1718 [==============================] - 186s 108ms/step - loss: 0.0026 - capsnet_loss: 0.0025 - decoder_loss: 0.1131 - capsnet_accuracy: 1.0000 - decoder_accuracy: 0.3761 - val_loss: 0.0172 - val_capsnet_loss: 0.0171 - val_decoder_loss: 0.1129 - val_capsnet_accuracy: 0.9767 - val_decoder_accuracy: 0.3786\n",
            "Epoch 43/100\n",
            "1718/1718 [==============================] - 185s 108ms/step - loss: 0.0111 - capsnet_loss: 0.0110 - decoder_loss: 0.1131 - capsnet_accuracy: 0.9945 - decoder_accuracy: 0.3778 - val_loss: 0.0228 - val_capsnet_loss: 0.0228 - val_decoder_loss: 0.1129 - val_capsnet_accuracy: 0.9756 - val_decoder_accuracy: 0.3796\n",
            "Epoch 44/100\n",
            "1718/1718 [==============================] - 187s 109ms/step - loss: 0.0053 - capsnet_loss: 0.0052 - decoder_loss: 0.1131 - capsnet_accuracy: 0.9991 - decoder_accuracy: 0.3785 - val_loss: 0.0363 - val_capsnet_loss: 0.0362 - val_decoder_loss: 0.1129 - val_capsnet_accuracy: 0.9547 - val_decoder_accuracy: 0.3826\n",
            "Epoch 45/100\n",
            "1718/1718 [==============================] - 189s 110ms/step - loss: 0.0065 - capsnet_loss: 0.0064 - decoder_loss: 0.1131 - capsnet_accuracy: 0.9974 - decoder_accuracy: 0.3798 - val_loss: 0.0277 - val_capsnet_loss: 0.0276 - val_decoder_loss: 0.1129 - val_capsnet_accuracy: 0.9640 - val_decoder_accuracy: 0.3843\n",
            "Epoch 46/100\n",
            "1718/1718 [==============================] - 198s 115ms/step - loss: 0.0049 - capsnet_loss: 0.0048 - decoder_loss: 0.1131 - capsnet_accuracy: 0.9994 - decoder_accuracy: 0.3804 - val_loss: 0.0492 - val_capsnet_loss: 0.0491 - val_decoder_loss: 0.1129 - val_capsnet_accuracy: 0.9547 - val_decoder_accuracy: 0.3829\n",
            "Epoch 47/100\n",
            "1718/1718 [==============================] - 188s 109ms/step - loss: 0.0080 - capsnet_loss: 0.0080 - decoder_loss: 0.1131 - capsnet_accuracy: 0.9974 - decoder_accuracy: 0.3823 - val_loss: 0.0194 - val_capsnet_loss: 0.0194 - val_decoder_loss: 0.1129 - val_capsnet_accuracy: 0.9744 - val_decoder_accuracy: 0.3863\n",
            "Epoch 48/100\n",
            "1718/1718 [==============================] - 188s 109ms/step - loss: 0.0066 - capsnet_loss: 0.0065 - decoder_loss: 0.1131 - capsnet_accuracy: 0.9974 - decoder_accuracy: 0.3833 - val_loss: 0.0211 - val_capsnet_loss: 0.0211 - val_decoder_loss: 0.1129 - val_capsnet_accuracy: 0.9721 - val_decoder_accuracy: 0.3862\n",
            "Epoch 49/100\n",
            "1718/1718 [==============================] - 191s 111ms/step - loss: 0.0070 - capsnet_loss: 0.0069 - decoder_loss: 0.1131 - capsnet_accuracy: 0.9965 - decoder_accuracy: 0.3834 - val_loss: 0.0194 - val_capsnet_loss: 0.0194 - val_decoder_loss: 0.1129 - val_capsnet_accuracy: 0.9779 - val_decoder_accuracy: 0.3869\n",
            "Epoch 50/100\n",
            "1718/1718 [==============================] - 187s 109ms/step - loss: 0.0043 - capsnet_loss: 0.0043 - decoder_loss: 0.1131 - capsnet_accuracy: 0.9994 - decoder_accuracy: 0.3840 - val_loss: 0.0439 - val_capsnet_loss: 0.0438 - val_decoder_loss: 0.1129 - val_capsnet_accuracy: 0.9547 - val_decoder_accuracy: 0.3884\n",
            "Epoch 51/100\n",
            "1718/1718 [==============================] - 183s 107ms/step - loss: 0.0072 - capsnet_loss: 0.0071 - decoder_loss: 0.1131 - capsnet_accuracy: 0.9965 - decoder_accuracy: 0.3851 - val_loss: 0.0203 - val_capsnet_loss: 0.0202 - val_decoder_loss: 0.1129 - val_capsnet_accuracy: 0.9744 - val_decoder_accuracy: 0.3896\n",
            "Epoch 52/100\n",
            "1718/1718 [==============================] - 185s 108ms/step - loss: 0.0036 - capsnet_loss: 0.0035 - decoder_loss: 0.1131 - capsnet_accuracy: 0.9994 - decoder_accuracy: 0.3859 - val_loss: 0.0251 - val_capsnet_loss: 0.0251 - val_decoder_loss: 0.1129 - val_capsnet_accuracy: 0.9721 - val_decoder_accuracy: 0.3896\n",
            "Epoch 53/100\n",
            "1718/1718 [==============================] - 187s 109ms/step - loss: 0.0078 - capsnet_loss: 0.0078 - decoder_loss: 0.1131 - capsnet_accuracy: 0.9968 - decoder_accuracy: 0.3873 - val_loss: 0.0207 - val_capsnet_loss: 0.0206 - val_decoder_loss: 0.1129 - val_capsnet_accuracy: 0.9756 - val_decoder_accuracy: 0.3908\n",
            "Epoch 54/100\n",
            "1718/1718 [==============================] - 186s 108ms/step - loss: 0.0047 - capsnet_loss: 0.0047 - decoder_loss: 0.1131 - capsnet_accuracy: 0.9983 - decoder_accuracy: 0.3877 - val_loss: 0.0441 - val_capsnet_loss: 0.0441 - val_decoder_loss: 0.1129 - val_capsnet_accuracy: 0.9581 - val_decoder_accuracy: 0.3896\n",
            "Epoch 55/100\n",
            "1718/1718 [==============================] - 189s 110ms/step - loss: 0.0054 - capsnet_loss: 0.0054 - decoder_loss: 0.1131 - capsnet_accuracy: 0.9983 - decoder_accuracy: 0.3885 - val_loss: 0.0208 - val_capsnet_loss: 0.0207 - val_decoder_loss: 0.1129 - val_capsnet_accuracy: 0.9756 - val_decoder_accuracy: 0.3923\n",
            "Epoch 56/100\n",
            "1718/1718 [==============================] - 186s 109ms/step - loss: 0.0046 - capsnet_loss: 0.0046 - decoder_loss: 0.1131 - capsnet_accuracy: 0.9994 - decoder_accuracy: 0.3890 - val_loss: 0.0194 - val_capsnet_loss: 0.0193 - val_decoder_loss: 0.1129 - val_capsnet_accuracy: 0.9756 - val_decoder_accuracy: 0.3928\n",
            "Epoch 57/100\n",
            "1718/1718 [==============================] - 185s 108ms/step - loss: 0.0080 - capsnet_loss: 0.0079 - decoder_loss: 0.1131 - capsnet_accuracy: 0.9956 - decoder_accuracy: 0.3905 - val_loss: 0.0177 - val_capsnet_loss: 0.0177 - val_decoder_loss: 0.1129 - val_capsnet_accuracy: 0.9802 - val_decoder_accuracy: 0.3924\n",
            "Epoch 58/100\n",
            "1718/1718 [==============================] - 181s 105ms/step - loss: 0.0033 - capsnet_loss: 0.0032 - decoder_loss: 0.1131 - capsnet_accuracy: 0.9991 - decoder_accuracy: 0.3909 - val_loss: 0.0452 - val_capsnet_loss: 0.0452 - val_decoder_loss: 0.1129 - val_capsnet_accuracy: 0.9512 - val_decoder_accuracy: 0.3954\n",
            "Epoch 59/100\n",
            "1718/1718 [==============================] - 187s 109ms/step - loss: 0.0099 - capsnet_loss: 0.0099 - decoder_loss: 0.1131 - capsnet_accuracy: 0.9945 - decoder_accuracy: 0.3926 - val_loss: 0.0222 - val_capsnet_loss: 0.0221 - val_decoder_loss: 0.1129 - val_capsnet_accuracy: 0.9721 - val_decoder_accuracy: 0.3983\n",
            "Epoch 60/100\n",
            "1718/1718 [==============================] - 187s 109ms/step - loss: 0.0049 - capsnet_loss: 0.0049 - decoder_loss: 0.1131 - capsnet_accuracy: 0.9968 - decoder_accuracy: 0.3928 - val_loss: 0.0240 - val_capsnet_loss: 0.0239 - val_decoder_loss: 0.1129 - val_capsnet_accuracy: 0.9674 - val_decoder_accuracy: 0.3981\n",
            "Epoch 61/100\n",
            "1718/1718 [==============================] - 187s 109ms/step - loss: 0.0060 - capsnet_loss: 0.0059 - decoder_loss: 0.1131 - capsnet_accuracy: 0.9968 - decoder_accuracy: 0.3939 - val_loss: 0.0242 - val_capsnet_loss: 0.0242 - val_decoder_loss: 0.1129 - val_capsnet_accuracy: 0.9721 - val_decoder_accuracy: 0.3994\n",
            "Epoch 62/100\n",
            "1718/1718 [==============================] - 184s 107ms/step - loss: 0.0035 - capsnet_loss: 0.0034 - decoder_loss: 0.1131 - capsnet_accuracy: 0.9985 - decoder_accuracy: 0.3950 - val_loss: 0.0188 - val_capsnet_loss: 0.0187 - val_decoder_loss: 0.1129 - val_capsnet_accuracy: 0.9733 - val_decoder_accuracy: 0.3987\n",
            "Epoch 63/100\n",
            "1718/1718 [==============================] - 181s 106ms/step - loss: 0.0048 - capsnet_loss: 0.0048 - decoder_loss: 0.1131 - capsnet_accuracy: 0.9985 - decoder_accuracy: 0.3961 - val_loss: 0.0230 - val_capsnet_loss: 0.0229 - val_decoder_loss: 0.1129 - val_capsnet_accuracy: 0.9779 - val_decoder_accuracy: 0.4001\n",
            "Epoch 64/100\n",
            "1718/1718 [==============================] - 186s 108ms/step - loss: 0.0065 - capsnet_loss: 0.0064 - decoder_loss: 0.1131 - capsnet_accuracy: 0.9983 - decoder_accuracy: 0.3974 - val_loss: 0.0176 - val_capsnet_loss: 0.0175 - val_decoder_loss: 0.1129 - val_capsnet_accuracy: 0.9756 - val_decoder_accuracy: 0.4005\n",
            "Epoch 65/100\n",
            "1718/1718 [==============================] - 185s 108ms/step - loss: 0.0048 - capsnet_loss: 0.0047 - decoder_loss: 0.1131 - capsnet_accuracy: 0.9974 - decoder_accuracy: 0.3979 - val_loss: 0.0240 - val_capsnet_loss: 0.0239 - val_decoder_loss: 0.1129 - val_capsnet_accuracy: 0.9663 - val_decoder_accuracy: 0.4036\n",
            "Epoch 66/100\n",
            "1718/1718 [==============================] - 181s 106ms/step - loss: 0.0067 - capsnet_loss: 0.0067 - decoder_loss: 0.1131 - capsnet_accuracy: 0.9965 - decoder_accuracy: 0.3997 - val_loss: 0.0135 - val_capsnet_loss: 0.0134 - val_decoder_loss: 0.1129 - val_capsnet_accuracy: 0.9802 - val_decoder_accuracy: 0.4018\n",
            "Epoch 67/100\n",
            "1718/1718 [==============================] - 183s 106ms/step - loss: 0.0031 - capsnet_loss: 0.0031 - decoder_loss: 0.1131 - capsnet_accuracy: 0.9988 - decoder_accuracy: 0.3999 - val_loss: 0.0297 - val_capsnet_loss: 0.0296 - val_decoder_loss: 0.1129 - val_capsnet_accuracy: 0.9628 - val_decoder_accuracy: 0.4039\n",
            "Epoch 68/100\n",
            "1718/1718 [==============================] - 181s 105ms/step - loss: 0.0045 - capsnet_loss: 0.0044 - decoder_loss: 0.1131 - capsnet_accuracy: 0.9977 - decoder_accuracy: 0.4013 - val_loss: 0.0271 - val_capsnet_loss: 0.0270 - val_decoder_loss: 0.1129 - val_capsnet_accuracy: 0.9698 - val_decoder_accuracy: 0.4073\n",
            "Epoch 69/100\n",
            "1718/1718 [==============================] - 184s 107ms/step - loss: 0.0064 - capsnet_loss: 0.0064 - decoder_loss: 0.1131 - capsnet_accuracy: 0.9956 - decoder_accuracy: 0.4016 - val_loss: 0.0182 - val_capsnet_loss: 0.0182 - val_decoder_loss: 0.1129 - val_capsnet_accuracy: 0.9756 - val_decoder_accuracy: 0.4053\n",
            "Epoch 70/100\n",
            "1718/1718 [==============================] - 184s 107ms/step - loss: 0.0028 - capsnet_loss: 0.0027 - decoder_loss: 0.1131 - capsnet_accuracy: 0.9991 - decoder_accuracy: 0.4023 - val_loss: 0.0167 - val_capsnet_loss: 0.0166 - val_decoder_loss: 0.1129 - val_capsnet_accuracy: 0.9814 - val_decoder_accuracy: 0.4068\n",
            "Epoch 71/100\n",
            "1718/1718 [==============================] - 184s 107ms/step - loss: 0.0067 - capsnet_loss: 0.0067 - decoder_loss: 0.1131 - capsnet_accuracy: 0.9965 - decoder_accuracy: 0.4040 - val_loss: 0.0144 - val_capsnet_loss: 0.0143 - val_decoder_loss: 0.1129 - val_capsnet_accuracy: 0.9849 - val_decoder_accuracy: 0.4062\n",
            "Epoch 72/100\n",
            "1718/1718 [==============================] - 184s 107ms/step - loss: 0.0021 - capsnet_loss: 0.0020 - decoder_loss: 0.1131 - capsnet_accuracy: 0.9991 - decoder_accuracy: 0.4039 - val_loss: 0.0208 - val_capsnet_loss: 0.0207 - val_decoder_loss: 0.1129 - val_capsnet_accuracy: 0.9779 - val_decoder_accuracy: 0.4089\n",
            "Epoch 73/100\n",
            "1718/1718 [==============================] - 184s 107ms/step - loss: 0.0083 - capsnet_loss: 0.0082 - decoder_loss: 0.1131 - capsnet_accuracy: 0.9951 - decoder_accuracy: 0.4055 - val_loss: 0.0175 - val_capsnet_loss: 0.0175 - val_decoder_loss: 0.1129 - val_capsnet_accuracy: 0.9744 - val_decoder_accuracy: 0.4087\n",
            "Epoch 74/100\n",
            "1718/1718 [==============================] - 187s 109ms/step - loss: 0.0015 - capsnet_loss: 0.0014 - decoder_loss: 0.1131 - capsnet_accuracy: 0.9997 - decoder_accuracy: 0.4056 - val_loss: 0.0386 - val_capsnet_loss: 0.0386 - val_decoder_loss: 0.1129 - val_capsnet_accuracy: 0.9744 - val_decoder_accuracy: 0.4077\n",
            "Epoch 75/100\n",
            "1718/1718 [==============================] - 187s 109ms/step - loss: 0.0062 - capsnet_loss: 0.0062 - decoder_loss: 0.1131 - capsnet_accuracy: 0.9971 - decoder_accuracy: 0.4073 - val_loss: 0.0206 - val_capsnet_loss: 0.0206 - val_decoder_loss: 0.1129 - val_capsnet_accuracy: 0.9756 - val_decoder_accuracy: 0.4113\n",
            "Epoch 76/100\n",
            "1718/1718 [==============================] - 187s 109ms/step - loss: 0.0045 - capsnet_loss: 0.0044 - decoder_loss: 0.1131 - capsnet_accuracy: 0.9983 - decoder_accuracy: 0.4078 - val_loss: 0.0239 - val_capsnet_loss: 0.0238 - val_decoder_loss: 0.1129 - val_capsnet_accuracy: 0.9698 - val_decoder_accuracy: 0.4140\n",
            "Epoch 77/100\n",
            "1718/1718 [==============================] - 187s 109ms/step - loss: 0.0046 - capsnet_loss: 0.0045 - decoder_loss: 0.1131 - capsnet_accuracy: 0.9980 - decoder_accuracy: 0.4087 - val_loss: 0.0173 - val_capsnet_loss: 0.0172 - val_decoder_loss: 0.1129 - val_capsnet_accuracy: 0.9791 - val_decoder_accuracy: 0.4126\n",
            "Epoch 78/100\n",
            "1718/1718 [==============================] - 186s 108ms/step - loss: 0.0070 - capsnet_loss: 0.0069 - decoder_loss: 0.1131 - capsnet_accuracy: 0.9959 - decoder_accuracy: 0.4101 - val_loss: 0.0395 - val_capsnet_loss: 0.0395 - val_decoder_loss: 0.1129 - val_capsnet_accuracy: 0.9756 - val_decoder_accuracy: 0.4147\n",
            "Epoch 79/100\n",
            "1718/1718 [==============================] - 185s 108ms/step - loss: 0.0023 - capsnet_loss: 0.0022 - decoder_loss: 0.1131 - capsnet_accuracy: 0.9994 - decoder_accuracy: 0.4111 - val_loss: 0.0526 - val_capsnet_loss: 0.0526 - val_decoder_loss: 0.1129 - val_capsnet_accuracy: 0.9709 - val_decoder_accuracy: 0.4147\n",
            "Epoch 80/100\n",
            "1718/1718 [==============================] - 184s 107ms/step - loss: 0.0053 - capsnet_loss: 0.0052 - decoder_loss: 0.1131 - capsnet_accuracy: 0.9980 - decoder_accuracy: 0.4122 - val_loss: 0.0187 - val_capsnet_loss: 0.0186 - val_decoder_loss: 0.1129 - val_capsnet_accuracy: 0.9779 - val_decoder_accuracy: 0.4164\n",
            "Epoch 81/100\n",
            "1718/1718 [==============================] - 194s 113ms/step - loss: 0.0057 - capsnet_loss: 0.0057 - decoder_loss: 0.1131 - capsnet_accuracy: 0.9965 - decoder_accuracy: 0.4130 - val_loss: 0.0207 - val_capsnet_loss: 0.0207 - val_decoder_loss: 0.1129 - val_capsnet_accuracy: 0.9709 - val_decoder_accuracy: 0.4177\n",
            "Epoch 82/100\n",
            "1718/1718 [==============================] - 192s 112ms/step - loss: 0.0037 - capsnet_loss: 0.0036 - decoder_loss: 0.1131 - capsnet_accuracy: 0.9983 - decoder_accuracy: 0.4145 - val_loss: 0.0222 - val_capsnet_loss: 0.0222 - val_decoder_loss: 0.1129 - val_capsnet_accuracy: 0.9767 - val_decoder_accuracy: 0.4203\n",
            "Epoch 83/100\n",
            "1718/1718 [==============================] - 190s 111ms/step - loss: 0.0033 - capsnet_loss: 0.0032 - decoder_loss: 0.1131 - capsnet_accuracy: 0.9988 - decoder_accuracy: 0.4149 - val_loss: 0.0199 - val_capsnet_loss: 0.0198 - val_decoder_loss: 0.1129 - val_capsnet_accuracy: 0.9733 - val_decoder_accuracy: 0.4197\n",
            "Epoch 84/100\n",
            "1718/1718 [==============================] - 190s 111ms/step - loss: 0.0033 - capsnet_loss: 0.0032 - decoder_loss: 0.1131 - capsnet_accuracy: 0.9988 - decoder_accuracy: 0.4154 - val_loss: 0.0185 - val_capsnet_loss: 0.0185 - val_decoder_loss: 0.1129 - val_capsnet_accuracy: 0.9721 - val_decoder_accuracy: 0.4204\n",
            "Epoch 85/100\n",
            "1718/1718 [==============================] - 187s 109ms/step - loss: 0.0040 - capsnet_loss: 0.0039 - decoder_loss: 0.1131 - capsnet_accuracy: 0.9985 - decoder_accuracy: 0.4166 - val_loss: 0.0236 - val_capsnet_loss: 0.0235 - val_decoder_loss: 0.1129 - val_capsnet_accuracy: 0.9663 - val_decoder_accuracy: 0.4224\n",
            "Epoch 86/100\n",
            "1718/1718 [==============================] - 185s 108ms/step - loss: 0.0044 - capsnet_loss: 0.0043 - decoder_loss: 0.1131 - capsnet_accuracy: 0.9983 - decoder_accuracy: 0.4170 - val_loss: 0.0185 - val_capsnet_loss: 0.0185 - val_decoder_loss: 0.1129 - val_capsnet_accuracy: 0.9779 - val_decoder_accuracy: 0.4229\n",
            "Epoch 87/100\n",
            "1718/1718 [==============================] - 191s 111ms/step - loss: 0.0064 - capsnet_loss: 0.0063 - decoder_loss: 0.1131 - capsnet_accuracy: 0.9971 - decoder_accuracy: 0.4186 - val_loss: 0.0203 - val_capsnet_loss: 0.0203 - val_decoder_loss: 0.1129 - val_capsnet_accuracy: 0.9709 - val_decoder_accuracy: 0.4226\n",
            "Epoch 88/100\n",
            "1718/1718 [==============================] - 190s 110ms/step - loss: 0.0020 - capsnet_loss: 0.0019 - decoder_loss: 0.1131 - capsnet_accuracy: 0.9985 - decoder_accuracy: 0.4192 - val_loss: 0.0164 - val_capsnet_loss: 0.0164 - val_decoder_loss: 0.1129 - val_capsnet_accuracy: 0.9756 - val_decoder_accuracy: 0.4247\n",
            "Epoch 89/100\n",
            "1718/1718 [==============================] - 189s 110ms/step - loss: 0.0045 - capsnet_loss: 0.0044 - decoder_loss: 0.1131 - capsnet_accuracy: 0.9971 - decoder_accuracy: 0.4202 - val_loss: 0.0155 - val_capsnet_loss: 0.0154 - val_decoder_loss: 0.1129 - val_capsnet_accuracy: 0.9779 - val_decoder_accuracy: 0.4242\n",
            "Epoch 90/100\n",
            "1718/1718 [==============================] - 192s 112ms/step - loss: 0.0024 - capsnet_loss: 0.0024 - decoder_loss: 0.1131 - capsnet_accuracy: 0.9991 - decoder_accuracy: 0.4207 - val_loss: 0.0202 - val_capsnet_loss: 0.0202 - val_decoder_loss: 0.1129 - val_capsnet_accuracy: 0.9733 - val_decoder_accuracy: 0.4257\n",
            "Epoch 91/100\n",
            "1718/1718 [==============================] - 191s 111ms/step - loss: 0.0036 - capsnet_loss: 0.0036 - decoder_loss: 0.1131 - capsnet_accuracy: 0.9991 - decoder_accuracy: 0.4217 - val_loss: 0.0168 - val_capsnet_loss: 0.0168 - val_decoder_loss: 0.1129 - val_capsnet_accuracy: 0.9756 - val_decoder_accuracy: 0.4270\n",
            "Epoch 92/100\n",
            "1718/1718 [==============================] - 190s 111ms/step - loss: 0.0090 - capsnet_loss: 0.0089 - decoder_loss: 0.1131 - capsnet_accuracy: 0.9953 - decoder_accuracy: 0.4239 - val_loss: 0.0160 - val_capsnet_loss: 0.0159 - val_decoder_loss: 0.1129 - val_capsnet_accuracy: 0.9791 - val_decoder_accuracy: 0.4281\n",
            "Epoch 93/100\n",
            "1718/1718 [==============================] - 189s 110ms/step - loss: 0.0021 - capsnet_loss: 0.0021 - decoder_loss: 0.1131 - capsnet_accuracy: 0.9988 - decoder_accuracy: 0.4248 - val_loss: 0.0169 - val_capsnet_loss: 0.0168 - val_decoder_loss: 0.1129 - val_capsnet_accuracy: 0.9767 - val_decoder_accuracy: 0.4295\n",
            "Epoch 94/100\n",
            "1718/1718 [==============================] - 190s 110ms/step - loss: 0.0051 - capsnet_loss: 0.0051 - decoder_loss: 0.1131 - capsnet_accuracy: 0.9980 - decoder_accuracy: 0.4250 - val_loss: 0.0474 - val_capsnet_loss: 0.0473 - val_decoder_loss: 0.1129 - val_capsnet_accuracy: 0.9674 - val_decoder_accuracy: 0.4265\n",
            "Epoch 95/100\n",
            "1718/1718 [==============================] - 189s 110ms/step - loss: 0.0030 - capsnet_loss: 0.0029 - decoder_loss: 0.1131 - capsnet_accuracy: 0.9988 - decoder_accuracy: 0.4258 - val_loss: 0.0211 - val_capsnet_loss: 0.0210 - val_decoder_loss: 0.1129 - val_capsnet_accuracy: 0.9744 - val_decoder_accuracy: 0.4327\n",
            "Epoch 96/100\n",
            "1718/1718 [==============================] - 189s 110ms/step - loss: 0.0032 - capsnet_loss: 0.0032 - decoder_loss: 0.1131 - capsnet_accuracy: 0.9985 - decoder_accuracy: 0.4267 - val_loss: 0.0292 - val_capsnet_loss: 0.0291 - val_decoder_loss: 0.1129 - val_capsnet_accuracy: 0.9686 - val_decoder_accuracy: 0.4346\n",
            "Epoch 97/100\n",
            "1718/1718 [==============================] - 189s 110ms/step - loss: 0.0027 - capsnet_loss: 0.0027 - decoder_loss: 0.1131 - capsnet_accuracy: 0.9988 - decoder_accuracy: 0.4284 - val_loss: 0.0166 - val_capsnet_loss: 0.0166 - val_decoder_loss: 0.1129 - val_capsnet_accuracy: 0.9779 - val_decoder_accuracy: 0.4317\n",
            "Epoch 98/100\n",
            "1718/1718 [==============================] - 189s 110ms/step - loss: 0.0055 - capsnet_loss: 0.0054 - decoder_loss: 0.1131 - capsnet_accuracy: 0.9974 - decoder_accuracy: 0.4291 - val_loss: 0.0195 - val_capsnet_loss: 0.0194 - val_decoder_loss: 0.1129 - val_capsnet_accuracy: 0.9721 - val_decoder_accuracy: 0.4337\n",
            "Epoch 99/100\n",
            "1718/1718 [==============================] - 190s 110ms/step - loss: 0.0020 - capsnet_loss: 0.0020 - decoder_loss: 0.1131 - capsnet_accuracy: 0.9997 - decoder_accuracy: 0.4295 - val_loss: 0.0183 - val_capsnet_loss: 0.0182 - val_decoder_loss: 0.1129 - val_capsnet_accuracy: 0.9791 - val_decoder_accuracy: 0.4346\n",
            "Epoch 100/100\n",
            "1718/1718 [==============================] - 189s 110ms/step - loss: 0.0045 - capsnet_loss: 0.0045 - decoder_loss: 0.1131 - capsnet_accuracy: 0.9980 - decoder_accuracy: 0.4310 - val_loss: 0.0182 - val_capsnet_loss: 0.0181 - val_decoder_loss: 0.1129 - val_capsnet_accuracy: 0.9814 - val_decoder_accuracy: 0.4370\n"
          ]
        }
      ],
      "source": [
        "lr_scheduler = keras.callbacks.ReduceLROnPlateau(monitor='val_capsnet_accuracy', mode='max', factor=0.5, patience=4)\n",
        "train_model.compile(optimizer=keras.optimizers.Adam(learning_rate=0.001, beta_1=0.9, beta_2=0.999), loss=[margin_loss, 'mse'], loss_weights=[1., 0.0005],\n",
        "                    metrics=['accuracy'])\n",
        "\n",
        "history= train_model.fit([x_train, y_train], [y_train, x_train], batch_size=m, epochs=epochs,\n",
        "                validation_data=([x_test, y_test], [y_test, x_test])\n",
        "                # , callbacks=[tensorboard_callback]\n",
        "                )\n"
      ]
    },
    {
      "cell_type": "code",
      "execution_count": null,
      "metadata": {
        "id": "EtUsVvEaOm5a",
        "colab": {
          "base_uri": "https://localhost:8080/"
        },
        "outputId": "aebf8c85-4739-4f0c-eb11-11e36865e3cd"
      },
      "outputs": [
        {
          "output_type": "stream",
          "name": "stdout",
          "text": [
            "Test Loss: 0.0181\n",
            "Test Accuracy: 98.14%\n"
          ]
        }
      ],
      "source": [
        "evaluation_results = train_model.evaluate([x_test, y_test], [y_test, x_test], batch_size=m, verbose=0)\n",
        "# print(\"Test Loss:\", evaluation_results[0])\n",
        "# print(\"Test Accuracy:\", evaluation_results[3])\n",
        "\n",
        "test_loss = evaluation_results[1]\n",
        "test_accuracy = evaluation_results[3]\n",
        "\n",
        "print(f\"Test Loss: {test_loss:.4f}\")\n",
        "print(f\"Test Accuracy: {test_accuracy * 100:.2f}%\")\n"
      ]
    },
    {
      "cell_type": "code",
      "execution_count": null,
      "metadata": {
        "id": "through-poker",
        "colab": {
          "base_uri": "https://localhost:8080/",
          "height": 430
        },
        "outputId": "a8c74b50-ab61-4749-e86f-d6ac38046529"
      },
      "outputs": [
        {
          "output_type": "display_data",
          "data": {
            "text/plain": [
              "<Figure size 640x480 with 1 Axes>"
            ],
            "image/png": "[encoded data removed]"
          },
          "metadata": {}
        }
      ],
      "source": [
        "plt.plot(history.history[\"capsnet_accuracy\"] , 'ro-' , label = \"CapsNet Training Accuracy\")\n",
        "plt.plot(history.history[\"val_capsnet_accuracy\"] , 'go-' , label = \"CapsNet Testing Accuracy\")\n",
        "plt.legend()\n",
        "plt.show()"
      ]
    },
    {
      "cell_type": "code",
      "execution_count": null,
      "metadata": {
        "id": "statewide-individual",
        "colab": {
          "base_uri": "https://localhost:8080/",
          "height": 430
        },
        "outputId": "bc48293b-620f-4a6b-e5ec-44529d8b8498"
      },
      "outputs": [
        {
          "output_type": "display_data",
          "data": {
            "text/plain": [
              "<Figure size 640x480 with 1 Axes>"
            ],
            "image/png": "[encoded data removed]"
          },
          "metadata": {}
        }
      ],
      "source": [
        "plt.plot(history.history[\"capsnet_loss\"] , 'ro-' , label = \"CapsNet Training Loss\")\n",
        "plt.plot(history.history[\"val_capsnet_loss\"] , 'go-' , label = \"CapsNet Testing Loss\")\n",
        "plt.legend()\n",
        "plt.show()"
      ]
    },
    {
      "cell_type": "code",
      "execution_count": null,
      "metadata": {
        "id": "VpIbIBddkBhf"
      },
      "outputs": [],
      "source": [
        "classes = {0: ('1','meningioma'),\n",
        "           1: ('2','glioma'),\n",
        "           2: ('3','pituitary')\n",
        "           }"
      ]
    },
    {
      "cell_type": "code",
      "execution_count": null,
      "metadata": {
        "id": "a_W22XGGKnKT",
        "colab": {
          "base_uri": "https://localhost:8080/"
        },
        "outputId": "6fede899-504b-4a93-96a2-5408ff232ef0"
      },
      "outputs": [
        {
          "output_type": "stream",
          "name": "stdout",
          "text": [
            "(860,)\n"
          ]
        }
      ],
      "source": [
        "y_pred_list = train_model.predict([x_test, y_test], batch_size=m, verbose=0)  # Providing both image and label data\n",
        "y_pred_capsnet = y_pred_list[0]   # Getting the output from the capsnet layer\n",
        "y_pred_labels = np.argmax(y_pred_capsnet, axis=1)\n",
        "y_test_labels = np.argmax(y_test, axis=1)\n",
        "\n",
        "print(y_pred_labels.shape)\n"
      ]
    },
    {
      "cell_type": "code",
      "execution_count": null,
      "metadata": {
        "id": "bzkENFKVjpto",
        "colab": {
          "base_uri": "https://localhost:8080/"
        },
        "outputId": "fe0f1a80-bcac-4b14-ed22-67c0808b3070"
      },
      "outputs": [
        {
          "output_type": "stream",
          "name": "stdout",
          "text": [
            "                     precision    recall  f1-score   support\n",
            "\n",
            "('1', 'meningioma')       0.99      0.96      0.97       278\n",
            "    ('2', 'glioma')       0.97      0.99      0.98       297\n",
            " ('3', 'pituitary')       0.99      1.00      0.99       285\n",
            "\n",
            "           accuracy                           0.98       860\n",
            "          macro avg       0.98      0.98      0.98       860\n",
            "       weighted avg       0.98      0.98      0.98       860\n",
            "\n"
          ]
        }
      ],
      "source": [
        "target_names = [f\"{classes[i]}\" for i in range(3)]\n",
        "print(classification_report(y_test_labels, y_pred_labels, target_names=target_names))"
      ]
    },
    {
      "cell_type": "code",
      "execution_count": null,
      "metadata": {
        "id": "mO_qh8EZl8qZ",
        "colab": {
          "base_uri": "https://localhost:8080/",
          "height": 469
        },
        "outputId": "82888d71-b438-4b2e-dd95-be43f04590fb"
      },
      "outputs": [
        {
          "output_type": "stream",
          "name": "stdout",
          "text": [
            "430/430 [==============================] - 4s 9ms/step\n",
            "A.I predicts: 3\n"
          ]
        },
        {
          "output_type": "display_data",
          "data": {
            "text/plain": [
              "<Figure size 640x480 with 1 Axes>"
            ],
            "image/png": "[encoded data removed]"
          },
          "metadata": {}
        }
      ],
      "source": [
        "from keras.models import Model\n",
        "simplified_model = Model(inputs=train_model.input, outputs=train_model.get_layer('capsnet').output)\n",
        "y_pred_capsnet = simplified_model.predict([x_test, y_test], batch_size=m)\n",
        "y_pred_labels = np.argmax(y_pred_capsnet, axis=1)\n",
        "\n",
        "X = 130\n",
        "\n",
        "# Preprocessing the image\n",
        "img_single = x_test[X]\n",
        "img_single_exp = np.expand_dims(img_single, 0)\n",
        "img_single_exp = img_single_exp.reshape(img_single_exp.shape[0], img_size, img_size, 3)\n",
        "\n",
        "# Ensure y_test is 2D (like one-hot encoded labels)\n",
        "if len(y_test.shape) != 2:\n",
        "    print(\"y_test doesn't have two dimensions. Please check its shape!\")\n",
        "else:\n",
        "    # Creating a dummy label to make a prediction since our model expects 2 inputs\n",
        "    dummy_label = np.zeros((1, y_test.shape[1]))\n",
        "\n",
        "    # Making the prediction for the single image\n",
        "    # predictions_list = train_model.predict([img_single_exp, dummy_label])\n",
        "\n",
        "\n",
        "    predictions_single = y_pred_labels[0]  # Extracting capsnet predictions\n",
        "\n",
        "        # Ensure the predicted category index doesn't exceed the categories list length\n",
        "    predicted_index = np.argmax(predictions_single)\n",
        "    if predicted_index >= len(categories):\n",
        "        print(\"Predicted index out of range for categories list!\")\n",
        "    else:\n",
        "        print('A.I predicts:', categories[predicted_index])\n",
        "\n",
        "# Visualizing the preprocessed image\n",
        "plt.imshow(np.squeeze(img_single_exp), cmap='gray')\n",
        "plt.grid(False)\n",
        "plt.show()\n"
      ]
    },
    {
      "cell_type": "code",
      "execution_count": null,
      "metadata": {
        "id": "cpA7vLLpgL0E",
        "colab": {
          "base_uri": "https://localhost:8080/"
        },
        "outputId": "a8b9b381-833d-4861-b781-9414561d3f1d"
      },
      "outputs": [
        {
          "output_type": "stream",
          "name": "stdout",
          "text": [
            "430/430 [==============================] - 4s 10ms/step\n"
          ]
        }
      ],
      "source": [
        "from keras.models import Model\n",
        "simplified_model = Model(inputs=train_model.input, outputs=train_model.get_layer('capsnet').output)\n",
        "y_pred_capsnet = simplified_model.predict([x_test, y_test], batch_size=m)\n",
        "y_pred_labels = np.argmax(y_pred_capsnet, axis=1)\n",
        "\n"
      ]
    },
    {
      "cell_type": "code",
      "execution_count": null,
      "metadata": {
        "id": "YO55PPeenshy",
        "colab": {
          "base_uri": "https://localhost:8080/",
          "height": 431
        },
        "outputId": "6a9a99c9-9ffb-4e31-86cc-40a2781e918b"
      },
      "outputs": [
        {
          "output_type": "display_data",
          "data": {
            "text/plain": [
              "<Figure size 500x400 with 2 Axes>"
            ],
            "image/png": "[encoded data removed]"
          },
          "metadata": {}
        }
      ],
      "source": [
        "from mlxtend.plotting import plot_confusion_matrix\n",
        "\n",
        "if y_test.shape[1] > 1:  # This checks if y_test is one-hot encoded\n",
        "    y_test_labels = np.argmax(y_test, axis=1)\n",
        "else:\n",
        "    y_test_labels = y_test\n",
        "from sklearn.metrics import confusion_matrix\n",
        "import seaborn as sns\n",
        "\n",
        "cm = confusion_matrix(y_test_labels, y_pred_labels)\n",
        "\n",
        "plt.figure(figsize=(5,4))\n",
        "sns.heatmap(cm, annot=True, fmt='g', cmap=plt.cm.Blues)\n",
        "plt.xlabel('Predicted')\n",
        "plt.ylabel('True')\n",
        "plt.xticks(range(3), ['meningioma', ' glioma', 'pituitary'], fontsize=10)\n",
        "plt.yticks(range(3), ['meningioma', ' glioma', 'pituitary'], fontsize=10)\n",
        "plt.show()\n"
      ]
    },
    {
      "cell_type": "code",
      "execution_count": null,
      "metadata": {
        "id": "twWzRWtKjDQy",
        "colab": {
          "base_uri": "https://localhost:8080/"
        },
        "outputId": "1106f7f1-2952-4c9d-cd0b-2786ffd174f2"
      },
      "outputs": [
        {
          "output_type": "stream",
          "name": "stdout",
          "text": [
            "430/430 [==============================] - 4s 9ms/step\n"
          ]
        }
      ],
      "source": [
        "from sklearn.metrics import roc_curve, auc, roc_auc_score\n",
        "from keras.models import Model\n",
        "fpr = dict()\n",
        "tpr = dict()\n",
        "roc_auc = dict()\n",
        "\n",
        "simplified_model = Model(inputs=train_model.input, outputs=train_model.get_layer('capsnet').output)\n",
        "y_pred_capsnet = simplified_model.predict([x_test, y_test], batch_size=m).round()\n",
        "y_pred_labels = np.argmax(y_pred_capsnet, axis=1)\n",
        "\n",
        "Y_test_1hot = to_categorical(y_test).round()\n",
        "Y_train_1hot = to_categorical(y_train).round()\n",
        "\n",
        "fpr = dict()\n",
        "tpr = dict()\n",
        "roc_auc = dict()\n",
        "\n",
        "# Ensure y_test is one-hot encoded, if not, convert it\n",
        "if y_test.shape[1] <= 1:\n",
        "    print(\"y_test doesn't appear to be one-hot encoded. Please check its shape!\")\n",
        "else:\n",
        "    Y_test_1hot = y_test\n",
        "    for i in range(3):\n",
        "        fpr[i], tpr[i], _ = roc_curve(Y_test_1hot[:, i], y_pred_capsnet[:, i])\n",
        "        roc_auc[i] = auc(fpr[i], tpr[i])\n",
        "\n",
        "\n",
        "fpr[\"micro\"], tpr[\"micro\"], _ = roc_curve(Y_test_1hot.ravel(), y_pred_capsnet.ravel())\n",
        "roc_auc[\"micro\"] = auc(fpr[\"micro\"], tpr[\"micro\"])"
      ]
    },
    {
      "cell_type": "code",
      "execution_count": null,
      "metadata": {
        "id": "IZDN5ioBJq-b",
        "colab": {
          "base_uri": "https://localhost:8080/",
          "height": 472
        },
        "outputId": "15350839-ac6b-4fbd-a342-829da14b9d1c"
      },
      "outputs": [
        {
          "output_type": "display_data",
          "data": {
            "text/plain": [
              "<Figure size 640x480 with 1 Axes>"
            ],
            "image/png": "[encoded data removed]"
          },
          "metadata": {}
        }
      ],
      "source": [
        "plt.figure()\n",
        "lw = 2\n",
        "plt.plot(fpr[2], tpr[2], color='darkorange',\n",
        "         lw=lw, label='ROC curve (area = %0.3f)' % roc_auc[2])\n",
        "plt.plot([0, 1], [0, 1], color='navy', lw=lw, linestyle='--')\n",
        "plt.xlim([0.0, 1.0])\n",
        "plt.ylim([0.0, 1.05])\n",
        "plt.xlabel('False Positive Rate')\n",
        "plt.ylabel('True Positive Rate')\n",
        "plt.title('Braib characteristic')\n",
        "plt.legend(loc=\"lower right\")\n",
        "plt.show()"
      ]
    },
    {
      "cell_type": "code",
      "execution_count": null,
      "metadata": {
        "id": "SafIdB81sPOX",
        "colab": {
          "base_uri": "https://localhost:8080/"
        },
        "outputId": "5a483679-4d1e-463e-8031-9478eb3a8188"
      },
      "outputs": [
        {
          "output_type": "stream",
          "name": "stdout",
          "text": [
            "ROC AUC 99.74%:\n"
          ]
        }
      ],
      "source": [
        "score = roc_auc_score(Y_test_1hot[:, i], y_pred_capsnet[:, i])\n",
        "print('ROC AUC %.2f%%:'% (np.mean(score)*100))\n"
      ]
    }
  ],
  "metadata": {
    "accelerator": "GPU",
    "colab": {
      "gpuType": "T4",
      "machine_shape": "hm",
      "provenance": []
    },
    "kernelspec": {
      "display_name": "Python 3",
      "name": "python3"
    },
    "language_info": {
      "codemirror_mode": {
        "name": "ipython",
        "version": 3
      },
      "file_extension": ".py",
      "mimetype": "text/x-python",
      "name": "python",
      "nbconvert_exporter": "python",
      "pygments_lexer": "ipython3",
      "version": "3.7.1"
    }
  },
  "nbformat": 4,
  "nbformat_minor": 0
}