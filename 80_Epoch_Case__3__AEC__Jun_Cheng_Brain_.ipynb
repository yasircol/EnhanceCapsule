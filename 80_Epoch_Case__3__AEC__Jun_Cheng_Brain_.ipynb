{
  "cells": [
    {
      "cell_type": "markdown",
      "metadata": {
        "id": "m6ykcRlRcFBT"
      },
      "source": [
        "# **AEC-CapsNet Brain Jun Cheng**"
      ]
    },
    {
      "cell_type": "markdown",
      "metadata": {
        "id": "mRJRH3ANRET4"
      },
      "source": [
        "# Importing libraries"
      ]
    },
    {
      "cell_type": "code",
      "execution_count": null,
      "metadata": {
        "id": "jqFbqwAsla8g",
        "colab": {
          "base_uri": "https://localhost:8080/"
        },
        "outputId": "7f41771c-b5d6-4878-b10e-19db11a41d56"
      },
      "outputs": [
        {
          "output_type": "stream",
          "name": "stdout",
          "text": [
            "Requirement already satisfied: tensorflow==2.15.0 in /usr/local/lib/python3.10/dist-packages (2.15.0)\n",
            "Requirement already satisfied: absl-py>=1.0.0 in /usr/local/lib/python3.10/dist-packages (from tensorflow==2.15.0) (1.4.0)\n",
            "Requirement already satisfied: astunparse>=1.6.0 in /usr/local/lib/python3.10/dist-packages (from tensorflow==2.15.0) (1.6.3)\n",
            "Requirement already satisfied: flatbuffers>=23.5.26 in /usr/local/lib/python3.10/dist-packages (from tensorflow==2.15.0) (24.3.25)\n",
            "Requirement already satisfied: gast!=0.5.0,!=0.5.1,!=0.5.2,>=0.2.1 in /usr/local/lib/python3.10/dist-packages (from tensorflow==2.15.0) (0.6.0)\n",
            "Requirement already satisfied: google-pasta>=0.1.1 in /usr/local/lib/python3.10/dist-packages (from tensorflow==2.15.0) (0.2.0)\n",
            "Requirement already satisfied: h5py>=2.9.0 in /usr/local/lib/python3.10/dist-packages (from tensorflow==2.15.0) (3.12.1)\n",
            "Requirement already satisfied: libclang>=13.0.0 in /usr/local/lib/python3.10/dist-packages (from tensorflow==2.15.0) (18.1.1)\n",
            "Requirement already satisfied: ml-dtypes~=0.2.0 in /usr/local/lib/python3.10/dist-packages (from tensorflow==2.15.0) (0.2.0)\n",
            "Requirement already satisfied: numpy<2.0.0,>=1.23.5 in /usr/local/lib/python3.10/dist-packages (from tensorflow==2.15.0) (1.26.4)\n",
            "Requirement already satisfied: opt-einsum>=2.3.2 in /usr/local/lib/python3.10/dist-packages (from tensorflow==2.15.0) (3.4.0)\n",
            "Requirement already satisfied: packaging in /usr/local/lib/python3.10/dist-packages (from tensorflow==2.15.0) (24.2)\n",
            "Requirement already satisfied: protobuf!=4.21.0,!=4.21.1,!=4.21.2,!=4.21.3,!=4.21.4,!=4.21.5,<5.0.0dev,>=3.20.3 in /usr/local/lib/python3.10/dist-packages (from tensorflow==2.15.0) (4.25.5)\n",
            "Requirement already satisfied: setuptools in /usr/local/lib/python3.10/dist-packages (from tensorflow==2.15.0) (75.1.0)\n",
            "Requirement already satisfied: six>=1.12.0 in /usr/local/lib/python3.10/dist-packages (from tensorflow==2.15.0) (1.17.0)\n",
            "Requirement already satisfied: termcolor>=1.1.0 in /usr/local/lib/python3.10/dist-packages (from tensorflow==2.15.0) (2.5.0)\n",
            "Requirement already satisfied: typing-extensions>=3.6.6 in /usr/local/lib/python3.10/dist-packages (from tensorflow==2.15.0) (4.12.2)\n",
            "Requirement already satisfied: wrapt<1.15,>=1.11.0 in /usr/local/lib/python3.10/dist-packages (from tensorflow==2.15.0) (1.14.1)\n",
            "Requirement already satisfied: tensorflow-io-gcs-filesystem>=0.23.1 in /usr/local/lib/python3.10/dist-packages (from tensorflow==2.15.0) (0.37.1)\n",
            "Requirement already satisfied: grpcio<2.0,>=1.24.3 in /usr/local/lib/python3.10/dist-packages (from tensorflow==2.15.0) (1.68.1)\n",
            "Requirement already satisfied: tensorboard<2.16,>=2.15 in /usr/local/lib/python3.10/dist-packages (from tensorflow==2.15.0) (2.15.2)\n",
            "Requirement already satisfied: tensorflow-estimator<2.16,>=2.15.0 in /usr/local/lib/python3.10/dist-packages (from tensorflow==2.15.0) (2.15.0)\n",
            "Requirement already satisfied: keras<2.16,>=2.15.0 in /usr/local/lib/python3.10/dist-packages (from tensorflow==2.15.0) (2.15.0)\n",
            "Requirement already satisfied: wheel<1.0,>=0.23.0 in /usr/local/lib/python3.10/dist-packages (from astunparse>=1.6.0->tensorflow==2.15.0) (0.45.1)\n",
            "Requirement already satisfied: google-auth<3,>=1.6.3 in /usr/local/lib/python3.10/dist-packages (from tensorboard<2.16,>=2.15->tensorflow==2.15.0) (2.27.0)\n",
            "Requirement already satisfied: google-auth-oauthlib<2,>=0.5 in /usr/local/lib/python3.10/dist-packages (from tensorboard<2.16,>=2.15->tensorflow==2.15.0) (1.2.1)\n",
            "Requirement already satisfied: markdown>=2.6.8 in /usr/local/lib/python3.10/dist-packages (from tensorboard<2.16,>=2.15->tensorflow==2.15.0) (3.7)\n",
            "Requirement already satisfied: requests<3,>=2.21.0 in /usr/local/lib/python3.10/dist-packages (from tensorboard<2.16,>=2.15->tensorflow==2.15.0) (2.32.3)\n",
            "Requirement already satisfied: tensorboard-data-server<0.8.0,>=0.7.0 in /usr/local/lib/python3.10/dist-packages (from tensorboard<2.16,>=2.15->tensorflow==2.15.0) (0.7.2)\n",
            "Requirement already satisfied: werkzeug>=1.0.1 in /usr/local/lib/python3.10/dist-packages (from tensorboard<2.16,>=2.15->tensorflow==2.15.0) (3.1.3)\n",
            "Requirement already satisfied: cachetools<6.0,>=2.0.0 in /usr/local/lib/python3.10/dist-packages (from google-auth<3,>=1.6.3->tensorboard<2.16,>=2.15->tensorflow==2.15.0) (5.5.0)\n",
            "Requirement already satisfied: pyasn1-modules>=0.2.1 in /usr/local/lib/python3.10/dist-packages (from google-auth<3,>=1.6.3->tensorboard<2.16,>=2.15->tensorflow==2.15.0) (0.4.1)\n",
            "Requirement already satisfied: rsa<5,>=3.1.4 in /usr/local/lib/python3.10/dist-packages (from google-auth<3,>=1.6.3->tensorboard<2.16,>=2.15->tensorflow==2.15.0) (4.9)\n",
            "Requirement already satisfied: requests-oauthlib>=0.7.0 in /usr/local/lib/python3.10/dist-packages (from google-auth-oauthlib<2,>=0.5->tensorboard<2.16,>=2.15->tensorflow==2.15.0) (1.3.1)\n",
            "Requirement already satisfied: charset-normalizer<4,>=2 in /usr/local/lib/python3.10/dist-packages (from requests<3,>=2.21.0->tensorboard<2.16,>=2.15->tensorflow==2.15.0) (3.4.0)\n",
            "Requirement already satisfied: idna<4,>=2.5 in /usr/local/lib/python3.10/dist-packages (from requests<3,>=2.21.0->tensorboard<2.16,>=2.15->tensorflow==2.15.0) (3.10)\n",
            "Requirement already satisfied: urllib3<3,>=1.21.1 in /usr/local/lib/python3.10/dist-packages (from requests<3,>=2.21.0->tensorboard<2.16,>=2.15->tensorflow==2.15.0) (2.2.3)\n",
            "Requirement already satisfied: certifi>=2017.4.17 in /usr/local/lib/python3.10/dist-packages (from requests<3,>=2.21.0->tensorboard<2.16,>=2.15->tensorflow==2.15.0) (2024.12.14)\n",
            "Requirement already satisfied: MarkupSafe>=2.1.1 in /usr/local/lib/python3.10/dist-packages (from werkzeug>=1.0.1->tensorboard<2.16,>=2.15->tensorflow==2.15.0) (3.0.2)\n",
            "Requirement already satisfied: pyasn1<0.7.0,>=0.4.6 in /usr/local/lib/python3.10/dist-packages (from pyasn1-modules>=0.2.1->google-auth<3,>=1.6.3->tensorboard<2.16,>=2.15->tensorflow==2.15.0) (0.6.1)\n",
            "Requirement already satisfied: oauthlib>=3.0.0 in /usr/local/lib/python3.10/dist-packages (from requests-oauthlib>=0.7.0->google-auth-oauthlib<2,>=0.5->tensorboard<2.16,>=2.15->tensorflow==2.15.0) (3.2.2)\n"
          ]
        }
      ],
      "source": [
        "!pip install tensorflow==2.15.0"
      ]
    },
    {
      "cell_type": "code",
      "execution_count": null,
      "metadata": {
        "id": "vl_-GAxdCqwl"
      },
      "outputs": [],
      "source": [
        "#!pip install tensorflow==2.14.0"
      ]
    },
    {
      "cell_type": "code",
      "execution_count": null,
      "metadata": {
        "colab": {
          "base_uri": "https://localhost:8080/"
        },
        "id": "YYCpfiwlB65J",
        "outputId": "78d7727e-2a94-4c57-812d-ad82c9b19d19"
      },
      "outputs": [
        {
          "output_type": "stream",
          "name": "stdout",
          "text": [
            "2.15.0\n"
          ]
        }
      ],
      "source": [
        "import tensorflow as tf\n",
        "print(tf.__version__)\n"
      ]
    },
    {
      "cell_type": "code",
      "execution_count": null,
      "metadata": {
        "colab": {
          "base_uri": "https://localhost:8080/"
        },
        "id": "SaTWufzwbCFZ",
        "outputId": "9cc9f225-df11-471a-f48f-9a0b1f3e12f4"
      },
      "outputs": [
        {
          "output_type": "stream",
          "name": "stdout",
          "text": [
            "Drive already mounted at /content/drive; to attempt to forcibly remount, call drive.mount(\"/content/drive\", force_remount=True).\n"
          ]
        }
      ],
      "source": [
        "#Mount drive\n",
        "from google.colab import drive\n",
        "drive.mount('/content/drive')"
      ]
    },
    {
      "cell_type": "code",
      "execution_count": null,
      "metadata": {
        "id": "283DRIIoRET-"
      },
      "outputs": [],
      "source": [
        "import pandas as pd\n",
        "import numpy as np\n",
        "import keras\n",
        "import tensorflow as tf\n",
        "import keras.layers as L\n",
        "import keras.models as M\n",
        "import keras.initializers as I\n",
        "import keras.backend as K\n",
        "from keras import optimizers\n",
        "from sklearn.model_selection import train_test_split\n",
        "from keras.utils import to_categorical\n",
        "import matplotlib.pyplot as plt\n",
        "import cv2,os\n",
        "from PIL import Image, ImageOps\n",
        "from google.colab.patches import cv2_imshow\n",
        "import csv\n",
        "import math\n",
        "from keras.utils import to_categorical\n",
        "from sklearn.metrics import confusion_matrix , classification_report,accuracy_score, ConfusionMatrixDisplay, recall_score\n",
        "from keras.layers import BatchNormalization\n"
      ]
    },
    {
      "cell_type": "code",
      "execution_count": null,
      "metadata": {
        "colab": {
          "base_uri": "https://localhost:8080/"
        },
        "id": "t3jOBOOQh35-",
        "outputId": "6afd364d-616b-4ddc-f351-8d43d2ca5ca1"
      },
      "outputs": [
        {
          "output_type": "stream",
          "name": "stdout",
          "text": [
            "['1', '3', '2']\n"
          ]
        }
      ],
      "source": [
        "data_path='/content/drive/MyDrive/Dataset/Jun Cheng Brain MRI dataset/'\n",
        "categories=os.listdir(data_path)\n",
        "\n",
        "print(categories)\n",
        "labels = ['1', '2', '3']\n",
        "label_dict = {label: i for i, label in enumerate(labels)}"
      ]
    },
    {
      "cell_type": "code",
      "execution_count": null,
      "metadata": {
        "id": "V2qBG9psy3ID"
      },
      "outputs": [],
      "source": [
        "img_size=65"
      ]
    },
    {
      "cell_type": "code",
      "execution_count": null,
      "metadata": {
        "colab": {
          "base_uri": "https://localhost:8080/"
        },
        "id": "YFDJJKB0Wnzm",
        "outputId": "390ff15d-51db-407a-dfb5-ed8c8dece38d"
      },
      "outputs": [
        {
          "output_type": "stream",
          "name": "stdout",
          "text": [
            "data (3040, 65, 65, 3)\n",
            "label (3040,)\n"
          ]
        }
      ],
      "source": [
        "folder='/content/drive/MyDrive/Dataset/Jun Cheng Brain MRI dataset/'\n",
        "images = []\n",
        "img_labels = []\n",
        "for label in labels:\n",
        "    path = f\"{folder}/{label}\"\n",
        "    for filename in os.listdir(path):\n",
        "        # img = Image.open(os.path.join(path, filename)).convert('L')  # grayscale\n",
        "        img = Image.open(os.path.join(path, filename)).convert('RGB')\n",
        "        img = img.resize((img_size, img_size))\n",
        "        img = np.array(img)\n",
        "        if img is not None:\n",
        "            images.append(img)\n",
        "            img_labels.append(label_dict[label])\n",
        "data=np.array(images)\n",
        "label=np.array(img_labels)\n",
        "print('data', data.shape)\n",
        "print('label', label.shape)\n"
      ]
    },
    {
      "cell_type": "code",
      "execution_count": null,
      "metadata": {
        "id": "KhfPidCvrvNX",
        "colab": {
          "base_uri": "https://localhost:8080/",
          "height": 666
        },
        "outputId": "3d6bfd5d-f73c-45dc-fbfd-e41a10fd5feb"
      },
      "outputs": [
        {
          "output_type": "stream",
          "name": "stderr",
          "text": [
            "/usr/local/lib/python3.10/dist-packages/sklearn/utils/deprecation.py:151: FutureWarning: 'force_all_finite' was renamed to 'ensure_all_finite' in 1.6 and will be removed in 1.8.\n",
            "  warnings.warn(\n",
            "/usr/local/lib/python3.10/dist-packages/sklearn/base.py:484: FutureWarning: `BaseEstimator._check_n_features` is deprecated in 1.6 and will be removed in 1.7. Use `sklearn.utils.validation._check_n_features` instead.\n",
            "  warnings.warn(\n",
            "/usr/local/lib/python3.10/dist-packages/sklearn/base.py:493: FutureWarning: `BaseEstimator._check_feature_names` is deprecated in 1.6 and will be removed in 1.7. Use `sklearn.utils.validation._check_feature_names` instead.\n",
            "  warnings.warn(\n"
          ]
        },
        {
          "output_type": "stream",
          "name": "stdout",
          "text": [
            "Original dataset shape Counter({1: 1432, 2: 937, 0: 671})\n",
            "Resampled dataset shape Counter({0: 1432, 1: 1432, 2: 1432})\n"
          ]
        },
        {
          "output_type": "display_data",
          "data": {
            "text/plain": [
              "<Figure size 1200x500 with 2 Axes>"
            ],
            "image/png": "[encoded data removed]"
          },
          "metadata": {}
        }
      ],
      "source": [
        "from collections import Counter\n",
        "from imblearn.over_sampling import RandomOverSampler\n",
        "import seaborn as sns\n",
        "import matplotlib.pyplot as plt\n",
        "\n",
        "# Convert your data and label lists to numpy arrays\n",
        "data_np = np.array(data)\n",
        "label_np = np.array(label)\n",
        "\n",
        "# Reshape the data for oversampling\n",
        "data_reshaped = data_np.reshape(data_np.shape[0], -1)\n",
        "\n",
        "# Use RandomOverSampler for oversampling\n",
        "ros = RandomOverSampler(random_state=42)\n",
        "x_resampled, y_resampled = ros.fit_resample(data_reshaped, label_np)\n",
        "\n",
        "# Reshape the data to its original shape\n",
        "x_resampled = x_resampled.reshape(-1, img_size, img_size, 3)\n",
        "\n",
        "print(f\"Original dataset shape {Counter(label_np)}\")\n",
        "print(f\"Resampled dataset shape {Counter(y_resampled)}\")\n",
        "\n",
        "# Define the ordering for the x-axis labels\n",
        "order_labels = [0, 1, 2]\n",
        "class_names = ['meningioma', 'glioma', 'pituitary']\n",
        "\n",
        "plt.figure(figsize=(12, 5))\n",
        "\n",
        "plt.subplot(1, 2, 1)\n",
        "sns.countplot(x=label_np, order=order_labels)\n",
        "plt.title(\"Original Data Distribution\")\n",
        "plt.xlabel(\"Classes\")\n",
        "plt.ylabel(\"Frequency\")\n",
        "plt.xticks(ticks=order_labels, labels=class_names)  # Setting the x-axis tick labels\n",
        "\n",
        "\n",
        "# Plot the resampled data distribution\n",
        "plt.subplot(1, 2, 2)\n",
        "sns.countplot(x=y_resampled, order=order_labels)\n",
        "plt.title(\"Resampled Data Distribution\")\n",
        "plt.xlabel(\"Classes\")\n",
        "plt.ylabel(\"Frequency\")\n",
        "plt.xticks(ticks=order_labels, labels=class_names)  # Setting the x-axis tick labels\n",
        "\n",
        "plt.tight_layout()\n",
        "plt.show()\n"
      ]
    },
    {
      "cell_type": "code",
      "execution_count": null,
      "metadata": {
        "id": "pfsy7kzdhg7L"
      },
      "outputs": [],
      "source": [
        "# data =np.array(data)\n",
        "# label=np.array(label)"
      ]
    },
    {
      "cell_type": "code",
      "execution_count": null,
      "metadata": {
        "id": "yWIo27ngMqCL",
        "colab": {
          "base_uri": "https://localhost:8080/"
        },
        "outputId": "21c05bd7-bdbd-48fe-a46e-e3a6b5d2b81f"
      },
      "outputs": [
        {
          "output_type": "stream",
          "name": "stdout",
          "text": [
            "(3436, 65, 65, 3)\n"
          ]
        }
      ],
      "source": [
        "X_train, X_test, y_train, y_test = train_test_split(x_resampled, y_resampled, test_size=0.2, random_state=42)\n",
        "# X_train, X_test, y_train, y_test = train_test_split(data, label, test_size=0.2, random_state=42)\n",
        "x_train = X_train.astype('float32') / 255.\n",
        "x_train = x_train.reshape(-1, img_size, img_size, 3)\n",
        "y_train = np.array(to_categorical(y_train.astype('float32')))\n",
        "\n",
        "x_test = X_test.astype('float32') / 255.\n",
        "x_test = x_test.reshape(-1, img_size, img_size, 3)\n",
        "y_test = np.array(to_categorical(y_test.astype('float32')))\n",
        "print(x_train.shape)\n"
      ]
    },
    {
      "cell_type": "code",
      "execution_count": null,
      "metadata": {
        "id": "cRjVnx3IygSc",
        "colab": {
          "base_uri": "https://localhost:8080/"
        },
        "outputId": "50044649-54c5-41ec-a7d2-73b4dfbcd86d"
      },
      "outputs": [
        {
          "output_type": "stream",
          "name": "stdout",
          "text": [
            "[1, 2, 4, 859, 1718, 3436]\n"
          ]
        }
      ],
      "source": [
        "#Define the range of batch size for network\n",
        "def find_factors(n):\n",
        "    factors = []\n",
        "    for i in range(1, n + 1):\n",
        "        if n % i == 0:\n",
        "            factors.append(i)\n",
        "    return factors\n",
        "\n",
        "\n",
        "print(find_factors(x_train.shape[0]))"
      ]
    },
    {
      "cell_type": "code",
      "execution_count": null,
      "metadata": {
        "id": "rQmFQ_eI2nfC"
      },
      "outputs": [],
      "source": [
        "# Makign the squash function\n",
        "def squash(vectors, axis=-1):\n",
        "    squared_norm = K.sum(K.square(vectors), axis, keepdims=True)\n",
        "    scale = squared_norm / (1 + squared_norm) / (K.sqrt(squared_norm) + K.epsilon())\n",
        "    return scale * vectors"
      ]
    },
    {
      "cell_type": "code",
      "execution_count": null,
      "metadata": {
        "id": "eSjA995S2vFR"
      },
      "outputs": [],
      "source": [
        "# Making capsule layer from scratch\n",
        "class CapsuleLayer(L.Layer):\n",
        "    def __init__(self, num_capsule, dim_capsule, routing=3, kernel_initializer='glorot_uniform', **kwargs):\n",
        "        super(CapsuleLayer, self).__init__(**kwargs)\n",
        "        self.num_capsule = num_capsule\n",
        "        self.dim_capsule = dim_capsule\n",
        "        self.routing = routing\n",
        "        self.kernel_initializer = kernel_initializer\n",
        "\n",
        "    def build(self, input_shape):\n",
        "        assert len(input_shape) >= 3\n",
        "        self.input_num_capsule = input_shape[1]\n",
        "        self.input_dim_capsule = input_shape[2]\n",
        "\n",
        "        # transforming the matrix\n",
        "        self.W = self.add_weight(\n",
        "            shape=[self.num_capsule, self.input_num_capsule, self.dim_capsule, self.input_dim_capsule],\n",
        "            initializer=self.kernel_initializer, name='w')\n",
        "        self.built = True\n",
        "\n",
        "    def call(self, inputs, training=None):\n",
        "        input_expand = tf.expand_dims(tf.expand_dims(inputs, 1), -1)\n",
        "        inputs_tiled = K.tile(input_expand, [1, self.num_capsule, 1, 1, 1])\n",
        "        input_hat = tf.squeeze(tf.map_fn(lambda x: tf.matmul(self.W, x), elems=inputs_tiled))\n",
        "        # b = tf.zeros(shape=[inputs.shape[0], self.num_capsule, 1, self.input_num_capsule])\n",
        "        b = tf.zeros(shape=[tf.shape(inputs)[0], self.num_capsule, 1, self.input_num_capsule])\n",
        "\n",
        "        assert self.routing > 0\n",
        "        for i in range(self.routing):\n",
        "            c = tf.nn.softmax(b, axis=1)\n",
        "            output = squash(tf.matmul(c, input_hat))\n",
        "            if i < self.routing - 1:\n",
        "                b += tf.matmul(output, input_hat, transpose_b=True)\n",
        "        return tf.squeeze(output)\n",
        "\n",
        "    def compute_output_shape(self, input_shape):\n",
        "        return tuple([None, self.num_capsule, self.dim_capsule])\n",
        "\n",
        "    def get_config(self):\n",
        "        config = {\n",
        "            'num_capsule': self.num_capsule,\n",
        "            'dim_capsule': self.dim_capsule,\n",
        "            'routings': self.routings\n",
        "        }\n",
        "        base_config = super(CapsuleLayer, self).get_config()\n",
        "        return dict(list(base_config.items()) + list(config.items()))"
      ]
    },
    {
      "cell_type": "code",
      "execution_count": null,
      "metadata": {
        "id": "tMzv19ToEpea"
      },
      "outputs": [],
      "source": [
        "\n",
        "from keras.src.layers import MaxPooling2D\n",
        "from keras.src.layers.regularization.dropout import Dropout\n",
        "batch_size = 2\n",
        "\n",
        "img_shape = (img_size, img_size, 3)\n",
        "\n",
        "# # Define a custom input layer with a hardcoded batch size\n",
        "input_layer = L.Input(batch_shape=(batch_size,) + img_shape)\n",
        "\n",
        "\n",
        "from keras.layers import DepthwiseConv2D, GlobalAveragePooling2D, Reshape, Multiply\n",
        "\n",
        "def powerfeature(input_layer, num_layers, expansion_factor, reduction_factor=0.9):\n",
        "\n",
        "    x = L.Conv2D(64, (3, 3), activation='relu', kernel_initializer='he_normal', padding='same')(input_layer)\n",
        "    x = L.Dropout(0.2)(x)\n",
        "    x = L.Conv2D(64, (3, 3), activation='relu', kernel_initializer='he_normal', padding='same')(x)\n",
        "    x = L.MaxPooling2D((2, 2))(x)\n",
        "\n",
        "    x = L.Conv2D(128, (3, 3), activation='relu', kernel_initializer='he_normal', padding='same')(x)\n",
        "    x = L.Dropout(0.3)(x)\n",
        "    x = L.Conv2D(128, (3, 3), activation='relu', kernel_initializer='he_normal', padding='same')(x)\n",
        "    x = L.MaxPooling2D((2, 2))(x)\n",
        "\n",
        "\n",
        "    for _ in range(num_layers):\n",
        "        x1 = L.Conv2D(2 * expansion_factor, (3, 3), kernel_initializer='he_normal', padding='same')(x)\n",
        "        x1 = L.Dropout(0.2)(x1)\n",
        "        x1 = L.Conv2D(expansion_factor, (3, 3), kernel_initializer='he_normal', padding='same')(x1)\n",
        "        x = L.Concatenate()([x, x1])\n",
        "\n",
        "\n",
        "    # Attention Mechanism\n",
        "    attention = GlobalAveragePooling2D()(x)\n",
        "    attention = Reshape((1, 1, K.int_shape(x)[-1]))(attention)\n",
        "    attention = L.Conv2D(K.int_shape(x)[-1] // 16, (3,3), activation='relu', kernel_initializer='he_normal', padding='same')(attention)\n",
        "    attention = L.Conv2D(K.int_shape(x)[-1], (3,3), activation='relu', kernel_initializer='he_normal', padding='same')(attention)\n",
        "    x = Multiply()([x, attention])\n",
        "\n",
        "\n",
        " # Transition Mechanism\n",
        "    contracted_filters = int(K.int_shape(x)[-1] * reduction_factor)\n",
        "\n",
        "    x = L.Conv2D(contracted_filters, (3, 3), kernel_initializer='he_normal', padding='same')(x)\n",
        "    x = L.Dropout(0.5)(x)\n",
        "    x = L.Conv2D(contracted_filters, (3, 3), kernel_initializer='he_normal', padding='same')(x)\n",
        "    x = L.MaxPooling2D((2, 2))(x)\n",
        "\n",
        "    return x\n",
        "\n",
        "\n",
        "x = powerfeature(input_layer,num_layers=2, expansion_factor=4)\n",
        "\n",
        "\n",
        "\n",
        "#Primary Capsule Layer\n",
        "conv2 = L.Conv2D(filters=8 * 16, kernel_size=(3, 3), strides=(2, 2), padding='same')(x)\n",
        "reshape2 = L.Reshape([-1, 8])(conv2)  # Reduce dimensions here\n",
        "squashed_output = L.Lambda(squash)(reshape2)\n"
      ]
    },
    {
      "cell_type": "code",
      "execution_count": null,
      "metadata": {
        "id": "YYVJEJLK2zkQ"
      },
      "outputs": [],
      "source": [
        "braincaps = CapsuleLayer(num_capsule=3, dim_capsule=8, routing=3, name='braincaps')(squashed_output)"
      ]
    },
    {
      "cell_type": "code",
      "execution_count": null,
      "metadata": {
        "id": "8hLcnT7E2198"
      },
      "outputs": [],
      "source": [
        "# Making length layer which will calculate the length of the vectors\n",
        "class Length(L.Layer):\n",
        "    def call(self, inputs, **kwargs):\n",
        "        return tf.sqrt(tf.reduce_sum(tf.square(inputs), -1))\n",
        "\n",
        "    def compute_output_shape(self, input_shape):\n",
        "        return input_shape[:-1]\n",
        "\n",
        "    def get_config(self):\n",
        "        config = super(Length, self).get_config()\n",
        "        return config\n"
      ]
    },
    {
      "cell_type": "code",
      "execution_count": null,
      "metadata": {
        "id": "XsBv1LhL255V"
      },
      "outputs": [],
      "source": [
        "# Layer 4: This is an auxiliary layer to replace each capsule with its length. Just to match the true label's shape.\n",
        "# If using tensorflow, this will not be necessary. :)\n",
        "out_caps = Length(name='capsnet')(braincaps)"
      ]
    },
    {
      "cell_type": "code",
      "execution_count": null,
      "metadata": {
        "id": "66Gkk4uW28NV"
      },
      "outputs": [],
      "source": [
        "# Making the masking layer\n",
        "class Mask(L.Layer):\n",
        "    def call(self, inputs, **kwargs):\n",
        "        if type(inputs) is list:\n",
        "            assert len(inputs) == 2\n",
        "            inputs, mask = inputs\n",
        "        else:\n",
        "            x = tf.sqrt(tf.reduce_sum(tf.square(inputs), -1))\n",
        "            mask = tf.one_hot(indices=tf.argmax(x, 1), depth=x.shape[1])\n",
        "        masked = K.batch_flatten(inputs * tf.expand_dims(mask, -1))\n",
        "        return masked\n",
        "\n",
        "    def compute_output_shape(self, input_shape):\n",
        "        if type(input_shape[0]) is tuple:  # true label provided\n",
        "            return tuple([None, input_shape[0][1] * input_shape[0][2]])\n",
        "        else:  # no true label provided\n",
        "            return tuple([None, input_shape[1] * input_shape[2]])\n",
        "\n",
        "    def get_config(self):\n",
        "        config = super(Mask, self).get_config()\n",
        "        return config"
      ]
    },
    {
      "cell_type": "code",
      "execution_count": null,
      "metadata": {
        "id": "iTdeWoNC3ANO",
        "colab": {
          "base_uri": "https://localhost:8080/"
        },
        "outputId": "6a802e2f-4235-4c39-e6aa-307f7b4695ae"
      },
      "outputs": [
        {
          "output_type": "stream",
          "name": "stdout",
          "text": [
            "(None, 3)\n",
            "(2, 3, 8)\n",
            "(2, 24)\n",
            "(2, 24)\n"
          ]
        }
      ],
      "source": [
        "y = L.Input(shape=(3,))\n",
        "print(y.shape)\n",
        "print(braincaps.shape)\n",
        "masked_by_y = Mask()([braincaps, y])  # The true label is used to mask the output of capsule layer. For training\n",
        "print(masked_by_y.shape)\n",
        "masked = Mask()(braincaps)\n",
        "print(masked.shape)"
      ]
    },
    {
      "cell_type": "code",
      "execution_count": null,
      "metadata": {
        "id": "mF-ZO0HM3H3E"
      },
      "outputs": [],
      "source": [
        "input_shape = x_train.shape[1:]\n",
        "decoder = M.Sequential(name='decoder')\n",
        "decoder.add(L.Dense(512, activation='relu', input_dim=8 * 3))\n",
        "decoder.add(L.Dense(1024, activation='relu'))\n",
        "decoder.add(L.Dense(img_size * img_size * 3, activation='softmax'))\n",
        "decoder.add(L.Reshape(target_shape=input_shape, name='out_recon'))\n"
      ]
    },
    {
      "cell_type": "code",
      "execution_count": null,
      "metadata": {
        "id": "t8oX42aK3IkE"
      },
      "outputs": [],
      "source": [
        "# Making models\n",
        "train_model = M.Model([input_layer, y], [out_caps, decoder(masked_by_y)])\n",
        "eval_model = M.Model(input_layer, [out_caps, decoder(masked)])"
      ]
    },
    {
      "cell_type": "code",
      "execution_count": null,
      "metadata": {
        "id": "3PFKjgTb3LCH"
      },
      "outputs": [],
      "source": [
        "# Making the loss function\n",
        "def margin_loss(y_true, y_pred):\n",
        "    L = y_true * tf.square(tf.maximum(0., 0.9 - y_pred)) + \\\n",
        "        0.5 * (1 - y_true) * tf.square(tf.maximum(0., y_pred - 0.1))\n",
        "    return tf.reduce_mean(tf.reduce_sum(L, 1))"
      ]
    },
    {
      "cell_type": "code",
      "execution_count": null,
      "metadata": {
        "id": "h7OIvuRA3P56",
        "colab": {
          "base_uri": "https://localhost:8080/"
        },
        "outputId": "b0c9a590-154a-4510-ac2c-3611ec15d5cb"
      },
      "outputs": [
        {
          "output_type": "stream",
          "name": "stdout",
          "text": [
            "Model: \"model\"\n",
            "__________________________________________________________________________________________________\n",
            " Layer (type)                Output Shape                 Param #   Connected to                  \n",
            "==================================================================================================\n",
            " input_1 (InputLayer)        [(2, 65, 65, 3)]             0         []                            \n",
            "                                                                                                  \n",
            " conv2d (Conv2D)             (2, 65, 65, 64)              1792      ['input_1[0][0]']             \n",
            "                                                                                                  \n",
            " dropout (Dropout)           (2, 65, 65, 64)              0         ['conv2d[0][0]']              \n",
            "                                                                                                  \n",
            " conv2d_1 (Conv2D)           (2, 65, 65, 64)              36928     ['dropout[0][0]']             \n",
            "                                                                                                  \n",
            " max_pooling2d (MaxPooling2  (2, 32, 32, 64)              0         ['conv2d_1[0][0]']            \n",
            " D)                                                                                               \n",
            "                                                                                                  \n",
            " conv2d_2 (Conv2D)           (2, 32, 32, 128)             73856     ['max_pooling2d[0][0]']       \n",
            "                                                                                                  \n",
            " dropout_1 (Dropout)         (2, 32, 32, 128)             0         ['conv2d_2[0][0]']            \n",
            "                                                                                                  \n",
            " conv2d_3 (Conv2D)           (2, 32, 32, 128)             147584    ['dropout_1[0][0]']           \n",
            "                                                                                                  \n",
            " max_pooling2d_1 (MaxPoolin  (2, 16, 16, 128)             0         ['conv2d_3[0][0]']            \n",
            " g2D)                                                                                             \n",
            "                                                                                                  \n",
            " conv2d_4 (Conv2D)           (2, 16, 16, 8)               9224      ['max_pooling2d_1[0][0]']     \n",
            "                                                                                                  \n",
            " dropout_2 (Dropout)         (2, 16, 16, 8)               0         ['conv2d_4[0][0]']            \n",
            "                                                                                                  \n",
            " conv2d_5 (Conv2D)           (2, 16, 16, 4)               292       ['dropout_2[0][0]']           \n",
            "                                                                                                  \n",
            " concatenate (Concatenate)   (2, 16, 16, 132)             0         ['max_pooling2d_1[0][0]',     \n",
            "                                                                     'conv2d_5[0][0]']            \n",
            "                                                                                                  \n",
            " conv2d_6 (Conv2D)           (2, 16, 16, 8)               9512      ['concatenate[0][0]']         \n",
            "                                                                                                  \n",
            " dropout_3 (Dropout)         (2, 16, 16, 8)               0         ['conv2d_6[0][0]']            \n",
            "                                                                                                  \n",
            " conv2d_7 (Conv2D)           (2, 16, 16, 4)               292       ['dropout_3[0][0]']           \n",
            "                                                                                                  \n",
            " concatenate_1 (Concatenate  (2, 16, 16, 136)             0         ['concatenate[0][0]',         \n",
            " )                                                                   'conv2d_7[0][0]']            \n",
            "                                                                                                  \n",
            " global_average_pooling2d (  (2, 136)                     0         ['concatenate_1[0][0]']       \n",
            " GlobalAveragePooling2D)                                                                          \n",
            "                                                                                                  \n",
            " reshape (Reshape)           (2, 1, 1, 136)               0         ['global_average_pooling2d[0][\n",
            "                                                                    0]']                          \n",
            "                                                                                                  \n",
            " conv2d_8 (Conv2D)           (2, 1, 1, 8)                 9800      ['reshape[0][0]']             \n",
            "                                                                                                  \n",
            " conv2d_9 (Conv2D)           (2, 1, 1, 136)               9928      ['conv2d_8[0][0]']            \n",
            "                                                                                                  \n",
            " multiply (Multiply)         (2, 16, 16, 136)             0         ['concatenate_1[0][0]',       \n",
            "                                                                     'conv2d_9[0][0]']            \n",
            "                                                                                                  \n",
            " conv2d_10 (Conv2D)          (2, 16, 16, 122)             149450    ['multiply[0][0]']            \n",
            "                                                                                                  \n",
            " dropout_4 (Dropout)         (2, 16, 16, 122)             0         ['conv2d_10[0][0]']           \n",
            "                                                                                                  \n",
            " conv2d_11 (Conv2D)          (2, 16, 16, 122)             134078    ['dropout_4[0][0]']           \n",
            "                                                                                                  \n",
            " max_pooling2d_2 (MaxPoolin  (2, 8, 8, 122)               0         ['conv2d_11[0][0]']           \n",
            " g2D)                                                                                             \n",
            "                                                                                                  \n",
            " conv2d_12 (Conv2D)          (2, 4, 4, 128)               140672    ['max_pooling2d_2[0][0]']     \n",
            "                                                                                                  \n",
            " reshape_1 (Reshape)         (2, 256, 8)                  0         ['conv2d_12[0][0]']           \n",
            "                                                                                                  \n",
            " lambda (Lambda)             (2, 256, 8)                  0         ['reshape_1[0][0]']           \n",
            "                                                                                                  \n",
            " heelcaps (CapsuleLayer)     (2, 3, 8)                    49152     ['lambda[0][0]']              \n",
            "                                                                                                  \n",
            " input_2 (InputLayer)        [(None, 3)]                  0         []                            \n",
            "                                                                                                  \n",
            " mask (Mask)                 (2, 24)                      0         ['heelcaps[0][0]',            \n",
            "                                                                     'input_2[0][0]']             \n",
            "                                                                                                  \n",
            " capsnet (Length)            (2, 3)                       0         ['heelcaps[0][0]']            \n",
            "                                                                                                  \n",
            " decoder (Sequential)        (None, 65, 65, 3)            1352998   ['mask[0][0]']                \n",
            "                                                          7                                       \n",
            "                                                                                                  \n",
            "==================================================================================================\n",
            "Total params: 14302547 (54.56 MB)\n",
            "Trainable params: 14302547 (54.56 MB)\n",
            "Non-trainable params: 0 (0.00 Byte)\n",
            "__________________________________________________________________________________________________\n"
          ]
        }
      ],
      "source": [
        "train_model.summary()"
      ]
    },
    {
      "cell_type": "code",
      "execution_count": null,
      "metadata": {
        "id": "GWIlgOnjzdhT"
      },
      "outputs": [],
      "source": [
        "train_model.save_weights('/content/drive/MyDrive/models/NewBrain2_ACTCAPSNET_model.weights.h5')\n",
        "train_model.load_weights('/content/drive/MyDrive/models/NewBrain2_ACTCAPSNET_model.weights.h5')\n"
      ]
    },
    {
      "cell_type": "code",
      "execution_count": null,
      "metadata": {
        "id": "Rx7H3E783WfF"
      },
      "outputs": [],
      "source": [
        "n_samples = 5"
      ]
    },
    {
      "cell_type": "code",
      "execution_count": null,
      "metadata": {
        "id": "rdniU6893YnS"
      },
      "outputs": [],
      "source": [
        "# plt.figure(figsize=(n_samples * 2, 3))\n",
        "# for index in range(n_samples):\n",
        "#     plt.subplot(1, n_samples, index + 1)\n",
        "#     sample_image = x_test[index]\n",
        "#     plt.imshow(sample_image, cmap=\"binary\")\n",
        "#     plt.title(\"Label:\" + str(y_test[index]))\n",
        "#     plt.axis(\"off\")\n",
        "\n",
        "# plt.show()"
      ]
    },
    {
      "cell_type": "code",
      "execution_count": null,
      "metadata": {
        "id": "WHyvs0QG3bV-"
      },
      "outputs": [],
      "source": [
        "m = batch_size\n",
        "epochs = 80\n",
        "# Using EarlyStopping, end training when val_accuracy is not improved for 10 consecutive times\n",
        "early_stopping = keras.callbacks.EarlyStopping(monitor='val_capsnet_accuracy', mode='max',\n",
        "                                               patience=2, restore_best_weights=True)\n"
      ]
    },
    {
      "cell_type": "code",
      "execution_count": null,
      "metadata": {
        "id": "6eDzzIMj5v8J",
        "colab": {
          "base_uri": "https://localhost:8080/"
        },
        "outputId": "52717eb5-a1d4-4130-de66-bcf13df8d5c2"
      },
      "outputs": [
        {
          "output_type": "stream",
          "name": "stdout",
          "text": [
            "(3436, 65, 65, 3)\n",
            "(3436, 3)\n",
            "(860, 65, 65, 3)\n",
            "(860, 3)\n"
          ]
        }
      ],
      "source": [
        "print(x_train.shape)  # should be (num_samples, 28, 28, 1) or something similar\n",
        "print(y_train.shape)  # should be (num_samples, 3) given your model summary\n",
        "print(x_test.shape)   # should be (num_test_samples, 28, 28, 1) or similar\n",
        "print(y_test.shape)   # should be (num_test_samples, 3)\n"
      ]
    },
    {
      "cell_type": "code",
      "execution_count": null,
      "metadata": {
        "id": "k5t0yhoE3fY9",
        "colab": {
          "base_uri": "https://localhost:8080/"
        },
        "outputId": "8a32bcaf-f34d-463d-8ccc-db99f8c109ad"
      },
      "outputs": [
        {
          "output_type": "stream",
          "name": "stdout",
          "text": [
            "Epoch 1/80\n",
            "1718/1718 [==============================] - 46s 19ms/step - loss: 0.2164 - capsnet_loss: 0.2163 - decoder_loss: 0.1131 - capsnet_accuracy: 0.6679 - decoder_accuracy: 0.3397 - val_loss: 0.1373 - val_capsnet_loss: 0.1372 - val_decoder_loss: 0.1129 - val_capsnet_accuracy: 0.8081 - val_decoder_accuracy: 0.3402\n",
            "Epoch 2/80\n",
            "1718/1718 [==============================] - 28s 16ms/step - loss: 0.1329 - capsnet_loss: 0.1328 - decoder_loss: 0.1131 - capsnet_accuracy: 0.8245 - decoder_accuracy: 0.3404 - val_loss: 0.1440 - val_capsnet_loss: 0.1439 - val_decoder_loss: 0.1129 - val_capsnet_accuracy: 0.8651 - val_decoder_accuracy: 0.3418\n",
            "Epoch 3/80\n",
            "1718/1718 [==============================] - 27s 16ms/step - loss: 0.1139 - capsnet_loss: 0.1138 - decoder_loss: 0.1131 - capsnet_accuracy: 0.8609 - decoder_accuracy: 0.3413 - val_loss: 0.0886 - val_capsnet_loss: 0.0886 - val_decoder_loss: 0.1129 - val_capsnet_accuracy: 0.8919 - val_decoder_accuracy: 0.3424\n",
            "Epoch 4/80\n",
            "1718/1718 [==============================] - 35s 21ms/step - loss: 0.0911 - capsnet_loss: 0.0911 - decoder_loss: 0.1131 - capsnet_accuracy: 0.8926 - decoder_accuracy: 0.3430 - val_loss: 0.1047 - val_capsnet_loss: 0.1046 - val_decoder_loss: 0.1129 - val_capsnet_accuracy: 0.8733 - val_decoder_accuracy: 0.3439\n",
            "Epoch 5/80\n",
            "1718/1718 [==============================] - 31s 18ms/step - loss: 0.0794 - capsnet_loss: 0.0794 - decoder_loss: 0.1131 - capsnet_accuracy: 0.9121 - decoder_accuracy: 0.3445 - val_loss: 0.0956 - val_capsnet_loss: 0.0955 - val_decoder_loss: 0.1129 - val_capsnet_accuracy: 0.9058 - val_decoder_accuracy: 0.3453\n",
            "Epoch 6/80\n",
            "1718/1718 [==============================] - 27s 16ms/step - loss: 0.0679 - capsnet_loss: 0.0679 - decoder_loss: 0.1131 - capsnet_accuracy: 0.9371 - decoder_accuracy: 0.3452 - val_loss: 0.0745 - val_capsnet_loss: 0.0744 - val_decoder_loss: 0.1129 - val_capsnet_accuracy: 0.9140 - val_decoder_accuracy: 0.3451\n",
            "Epoch 7/80\n",
            "1718/1718 [==============================] - 28s 16ms/step - loss: 0.0567 - capsnet_loss: 0.0566 - decoder_loss: 0.1131 - capsnet_accuracy: 0.9479 - decoder_accuracy: 0.3460 - val_loss: 0.0614 - val_capsnet_loss: 0.0613 - val_decoder_loss: 0.1129 - val_capsnet_accuracy: 0.9442 - val_decoder_accuracy: 0.3463\n",
            "Epoch 8/80\n",
            "1718/1718 [==============================] - 28s 16ms/step - loss: 0.0491 - capsnet_loss: 0.0491 - decoder_loss: 0.1131 - capsnet_accuracy: 0.9590 - decoder_accuracy: 0.3472 - val_loss: 0.0634 - val_capsnet_loss: 0.0634 - val_decoder_loss: 0.1129 - val_capsnet_accuracy: 0.9535 - val_decoder_accuracy: 0.3476\n",
            "Epoch 9/80\n",
            "1718/1718 [==============================] - 29s 17ms/step - loss: 0.0430 - capsnet_loss: 0.0430 - decoder_loss: 0.1131 - capsnet_accuracy: 0.9694 - decoder_accuracy: 0.3481 - val_loss: 0.0623 - val_capsnet_loss: 0.0622 - val_decoder_loss: 0.1129 - val_capsnet_accuracy: 0.9291 - val_decoder_accuracy: 0.3493\n",
            "Epoch 10/80\n",
            "1718/1718 [==============================] - 27s 16ms/step - loss: 0.0366 - capsnet_loss: 0.0365 - decoder_loss: 0.1131 - capsnet_accuracy: 0.9779 - decoder_accuracy: 0.3490 - val_loss: 0.0464 - val_capsnet_loss: 0.0464 - val_decoder_loss: 0.1129 - val_capsnet_accuracy: 0.9605 - val_decoder_accuracy: 0.3496\n",
            "Epoch 11/80\n",
            "1718/1718 [==============================] - 30s 18ms/step - loss: 0.0334 - capsnet_loss: 0.0334 - decoder_loss: 0.1131 - capsnet_accuracy: 0.9808 - decoder_accuracy: 0.3500 - val_loss: 0.0429 - val_capsnet_loss: 0.0429 - val_decoder_loss: 0.1129 - val_capsnet_accuracy: 0.9628 - val_decoder_accuracy: 0.3505\n",
            "Epoch 12/80\n",
            "1718/1718 [==============================] - 28s 17ms/step - loss: 0.0282 - capsnet_loss: 0.0282 - decoder_loss: 0.1131 - capsnet_accuracy: 0.9828 - decoder_accuracy: 0.3509 - val_loss: 0.0442 - val_capsnet_loss: 0.0441 - val_decoder_loss: 0.1129 - val_capsnet_accuracy: 0.9616 - val_decoder_accuracy: 0.3523\n",
            "Epoch 13/80\n",
            "1718/1718 [==============================] - 28s 16ms/step - loss: 0.0271 - capsnet_loss: 0.0270 - decoder_loss: 0.1131 - capsnet_accuracy: 0.9875 - decoder_accuracy: 0.3519 - val_loss: 0.0482 - val_capsnet_loss: 0.0482 - val_decoder_loss: 0.1129 - val_capsnet_accuracy: 0.9605 - val_decoder_accuracy: 0.3526\n",
            "Epoch 14/80\n",
            "1718/1718 [==============================] - 27s 16ms/step - loss: 0.0215 - capsnet_loss: 0.0214 - decoder_loss: 0.1131 - capsnet_accuracy: 0.9913 - decoder_accuracy: 0.3527 - val_loss: 0.0502 - val_capsnet_loss: 0.0502 - val_decoder_loss: 0.1129 - val_capsnet_accuracy: 0.9581 - val_decoder_accuracy: 0.3537\n",
            "Epoch 15/80\n",
            "1718/1718 [==============================] - 28s 16ms/step - loss: 0.0234 - capsnet_loss: 0.0233 - decoder_loss: 0.1131 - capsnet_accuracy: 0.9892 - decoder_accuracy: 0.3537 - val_loss: 0.0436 - val_capsnet_loss: 0.0435 - val_decoder_loss: 0.1129 - val_capsnet_accuracy: 0.9593 - val_decoder_accuracy: 0.3559\n",
            "Epoch 16/80\n",
            "1718/1718 [==============================] - 27s 16ms/step - loss: 0.0189 - capsnet_loss: 0.0189 - decoder_loss: 0.1131 - capsnet_accuracy: 0.9907 - decoder_accuracy: 0.3547 - val_loss: 0.0351 - val_capsnet_loss: 0.0351 - val_decoder_loss: 0.1129 - val_capsnet_accuracy: 0.9698 - val_decoder_accuracy: 0.3560\n",
            "Epoch 17/80\n",
            "1718/1718 [==============================] - 29s 17ms/step - loss: 0.0177 - capsnet_loss: 0.0176 - decoder_loss: 0.1131 - capsnet_accuracy: 0.9933 - decoder_accuracy: 0.3557 - val_loss: 0.0366 - val_capsnet_loss: 0.0365 - val_decoder_loss: 0.1129 - val_capsnet_accuracy: 0.9674 - val_decoder_accuracy: 0.3572\n",
            "Epoch 18/80\n",
            "1718/1718 [==============================] - 28s 16ms/step - loss: 0.0169 - capsnet_loss: 0.0168 - decoder_loss: 0.1131 - capsnet_accuracy: 0.9933 - decoder_accuracy: 0.3567 - val_loss: 0.0296 - val_capsnet_loss: 0.0295 - val_decoder_loss: 0.1129 - val_capsnet_accuracy: 0.9686 - val_decoder_accuracy: 0.3579\n",
            "Epoch 19/80\n",
            "1718/1718 [==============================] - 27s 16ms/step - loss: 0.0151 - capsnet_loss: 0.0151 - decoder_loss: 0.1131 - capsnet_accuracy: 0.9939 - decoder_accuracy: 0.3576 - val_loss: 0.0297 - val_capsnet_loss: 0.0296 - val_decoder_loss: 0.1129 - val_capsnet_accuracy: 0.9744 - val_decoder_accuracy: 0.3583\n",
            "Epoch 20/80\n",
            "1718/1718 [==============================] - 28s 16ms/step - loss: 0.0154 - capsnet_loss: 0.0153 - decoder_loss: 0.1131 - capsnet_accuracy: 0.9916 - decoder_accuracy: 0.3582 - val_loss: 0.0366 - val_capsnet_loss: 0.0365 - val_decoder_loss: 0.1129 - val_capsnet_accuracy: 0.9674 - val_decoder_accuracy: 0.3601\n",
            "Epoch 21/80\n",
            "1718/1718 [==============================] - 27s 15ms/step - loss: 0.0167 - capsnet_loss: 0.0167 - decoder_loss: 0.1131 - capsnet_accuracy: 0.9927 - decoder_accuracy: 0.3594 - val_loss: 0.0298 - val_capsnet_loss: 0.0297 - val_decoder_loss: 0.1129 - val_capsnet_accuracy: 0.9744 - val_decoder_accuracy: 0.3605\n",
            "Epoch 22/80\n",
            "1718/1718 [==============================] - 27s 16ms/step - loss: 0.0124 - capsnet_loss: 0.0124 - decoder_loss: 0.1131 - capsnet_accuracy: 0.9962 - decoder_accuracy: 0.3603 - val_loss: 0.0353 - val_capsnet_loss: 0.0353 - val_decoder_loss: 0.1129 - val_capsnet_accuracy: 0.9686 - val_decoder_accuracy: 0.3623\n",
            "Epoch 23/80\n",
            "1718/1718 [==============================] - 28s 17ms/step - loss: 0.0131 - capsnet_loss: 0.0131 - decoder_loss: 0.1131 - capsnet_accuracy: 0.9942 - decoder_accuracy: 0.3610 - val_loss: 0.0273 - val_capsnet_loss: 0.0273 - val_decoder_loss: 0.1129 - val_capsnet_accuracy: 0.9756 - val_decoder_accuracy: 0.3635\n",
            "Epoch 24/80\n",
            "1718/1718 [==============================] - 27s 16ms/step - loss: 0.0133 - capsnet_loss: 0.0132 - decoder_loss: 0.1131 - capsnet_accuracy: 0.9951 - decoder_accuracy: 0.3619 - val_loss: 0.0283 - val_capsnet_loss: 0.0283 - val_decoder_loss: 0.1129 - val_capsnet_accuracy: 0.9640 - val_decoder_accuracy: 0.3633\n",
            "Epoch 25/80\n",
            "1718/1718 [==============================] - 27s 16ms/step - loss: 0.0107 - capsnet_loss: 0.0107 - decoder_loss: 0.1131 - capsnet_accuracy: 0.9977 - decoder_accuracy: 0.3628 - val_loss: 0.0236 - val_capsnet_loss: 0.0236 - val_decoder_loss: 0.1129 - val_capsnet_accuracy: 0.9802 - val_decoder_accuracy: 0.3649\n",
            "Epoch 26/80\n",
            "1718/1718 [==============================] - 27s 16ms/step - loss: 0.0100 - capsnet_loss: 0.0099 - decoder_loss: 0.1131 - capsnet_accuracy: 0.9965 - decoder_accuracy: 0.3638 - val_loss: 0.0343 - val_capsnet_loss: 0.0343 - val_decoder_loss: 0.1129 - val_capsnet_accuracy: 0.9593 - val_decoder_accuracy: 0.3653\n",
            "Epoch 27/80\n",
            "1718/1718 [==============================] - 27s 16ms/step - loss: 0.0142 - capsnet_loss: 0.0141 - decoder_loss: 0.1131 - capsnet_accuracy: 0.9939 - decoder_accuracy: 0.3647 - val_loss: 0.0244 - val_capsnet_loss: 0.0243 - val_decoder_loss: 0.1129 - val_capsnet_accuracy: 0.9744 - val_decoder_accuracy: 0.3663\n",
            "Epoch 28/80\n",
            "1718/1718 [==============================] - 28s 16ms/step - loss: 0.0081 - capsnet_loss: 0.0081 - decoder_loss: 0.1131 - capsnet_accuracy: 0.9980 - decoder_accuracy: 0.3655 - val_loss: 0.0373 - val_capsnet_loss: 0.0373 - val_decoder_loss: 0.1129 - val_capsnet_accuracy: 0.9523 - val_decoder_accuracy: 0.3688\n",
            "Epoch 29/80\n",
            "1718/1718 [==============================] - 31s 18ms/step - loss: 0.0109 - capsnet_loss: 0.0109 - decoder_loss: 0.1131 - capsnet_accuracy: 0.9959 - decoder_accuracy: 0.3666 - val_loss: 0.0259 - val_capsnet_loss: 0.0258 - val_decoder_loss: 0.1129 - val_capsnet_accuracy: 0.9744 - val_decoder_accuracy: 0.3685\n",
            "Epoch 30/80\n",
            "1718/1718 [==============================] - 29s 17ms/step - loss: 0.0082 - capsnet_loss: 0.0081 - decoder_loss: 0.1131 - capsnet_accuracy: 0.9971 - decoder_accuracy: 0.3675 - val_loss: 0.0274 - val_capsnet_loss: 0.0273 - val_decoder_loss: 0.1129 - val_capsnet_accuracy: 0.9733 - val_decoder_accuracy: 0.3696\n",
            "Epoch 31/80\n",
            "1718/1718 [==============================] - 27s 16ms/step - loss: 0.0100 - capsnet_loss: 0.0100 - decoder_loss: 0.1131 - capsnet_accuracy: 0.9956 - decoder_accuracy: 0.3683 - val_loss: 0.0251 - val_capsnet_loss: 0.0251 - val_decoder_loss: 0.1129 - val_capsnet_accuracy: 0.9733 - val_decoder_accuracy: 0.3709\n",
            "Epoch 32/80\n",
            "1718/1718 [==============================] - 28s 16ms/step - loss: 0.0099 - capsnet_loss: 0.0099 - decoder_loss: 0.1131 - capsnet_accuracy: 0.9959 - decoder_accuracy: 0.3693 - val_loss: 0.0411 - val_capsnet_loss: 0.0410 - val_decoder_loss: 0.1129 - val_capsnet_accuracy: 0.9523 - val_decoder_accuracy: 0.3716\n",
            "Epoch 33/80\n",
            "1718/1718 [==============================] - 27s 16ms/step - loss: 0.0052 - capsnet_loss: 0.0051 - decoder_loss: 0.1131 - capsnet_accuracy: 0.9991 - decoder_accuracy: 0.3700 - val_loss: 0.0252 - val_capsnet_loss: 0.0251 - val_decoder_loss: 0.1129 - val_capsnet_accuracy: 0.9674 - val_decoder_accuracy: 0.3725\n",
            "Epoch 34/80\n",
            "1718/1718 [==============================] - 28s 16ms/step - loss: 0.0098 - capsnet_loss: 0.0097 - decoder_loss: 0.1131 - capsnet_accuracy: 0.9968 - decoder_accuracy: 0.3709 - val_loss: 0.0290 - val_capsnet_loss: 0.0289 - val_decoder_loss: 0.1129 - val_capsnet_accuracy: 0.9756 - val_decoder_accuracy: 0.3735\n",
            "Epoch 35/80\n",
            "1718/1718 [==============================] - 29s 17ms/step - loss: 0.0100 - capsnet_loss: 0.0100 - decoder_loss: 0.1131 - capsnet_accuracy: 0.9971 - decoder_accuracy: 0.3717 - val_loss: 0.0291 - val_capsnet_loss: 0.0290 - val_decoder_loss: 0.1129 - val_capsnet_accuracy: 0.9733 - val_decoder_accuracy: 0.3750\n",
            "Epoch 36/80\n",
            "1718/1718 [==============================] - 27s 16ms/step - loss: 0.0051 - capsnet_loss: 0.0050 - decoder_loss: 0.1131 - capsnet_accuracy: 0.9991 - decoder_accuracy: 0.3724 - val_loss: 0.0289 - val_capsnet_loss: 0.0288 - val_decoder_loss: 0.1129 - val_capsnet_accuracy: 0.9686 - val_decoder_accuracy: 0.3748\n",
            "Epoch 37/80\n",
            "1718/1718 [==============================] - 28s 16ms/step - loss: 0.0083 - capsnet_loss: 0.0083 - decoder_loss: 0.1131 - capsnet_accuracy: 0.9980 - decoder_accuracy: 0.3733 - val_loss: 0.0359 - val_capsnet_loss: 0.0358 - val_decoder_loss: 0.1129 - val_capsnet_accuracy: 0.9640 - val_decoder_accuracy: 0.3765\n",
            "Epoch 38/80\n",
            "1718/1718 [==============================] - 26s 15ms/step - loss: 0.0094 - capsnet_loss: 0.0094 - decoder_loss: 0.1131 - capsnet_accuracy: 0.9962 - decoder_accuracy: 0.3741 - val_loss: 0.0253 - val_capsnet_loss: 0.0252 - val_decoder_loss: 0.1129 - val_capsnet_accuracy: 0.9709 - val_decoder_accuracy: 0.3770\n",
            "Epoch 39/80\n",
            "1718/1718 [==============================] - 27s 16ms/step - loss: 0.0072 - capsnet_loss: 0.0072 - decoder_loss: 0.1131 - capsnet_accuracy: 0.9977 - decoder_accuracy: 0.3750 - val_loss: 0.0460 - val_capsnet_loss: 0.0459 - val_decoder_loss: 0.1129 - val_capsnet_accuracy: 0.9453 - val_decoder_accuracy: 0.3779\n",
            "Epoch 40/80\n",
            "1718/1718 [==============================] - 27s 16ms/step - loss: 0.0069 - capsnet_loss: 0.0069 - decoder_loss: 0.1131 - capsnet_accuracy: 0.9974 - decoder_accuracy: 0.3760 - val_loss: 0.0290 - val_capsnet_loss: 0.0289 - val_decoder_loss: 0.1129 - val_capsnet_accuracy: 0.9686 - val_decoder_accuracy: 0.3795\n",
            "Epoch 41/80\n",
            "1718/1718 [==============================] - 31s 18ms/step - loss: 0.0054 - capsnet_loss: 0.0053 - decoder_loss: 0.1131 - capsnet_accuracy: 0.9988 - decoder_accuracy: 0.3768 - val_loss: 0.0253 - val_capsnet_loss: 0.0252 - val_decoder_loss: 0.1129 - val_capsnet_accuracy: 0.9686 - val_decoder_accuracy: 0.3793\n",
            "Epoch 42/80\n",
            "1718/1718 [==============================] - 27s 16ms/step - loss: 0.0088 - capsnet_loss: 0.0088 - decoder_loss: 0.1131 - capsnet_accuracy: 0.9974 - decoder_accuracy: 0.3780 - val_loss: 0.0253 - val_capsnet_loss: 0.0253 - val_decoder_loss: 0.1129 - val_capsnet_accuracy: 0.9744 - val_decoder_accuracy: 0.3799\n",
            "Epoch 43/80\n",
            "1718/1718 [==============================] - 27s 15ms/step - loss: 0.0085 - capsnet_loss: 0.0085 - decoder_loss: 0.1131 - capsnet_accuracy: 0.9962 - decoder_accuracy: 0.3785 - val_loss: 0.0289 - val_capsnet_loss: 0.0289 - val_decoder_loss: 0.1129 - val_capsnet_accuracy: 0.9744 - val_decoder_accuracy: 0.3817\n",
            "Epoch 44/80\n",
            "1718/1718 [==============================] - 27s 15ms/step - loss: 0.0053 - capsnet_loss: 0.0053 - decoder_loss: 0.1131 - capsnet_accuracy: 0.9985 - decoder_accuracy: 0.3794 - val_loss: 0.0205 - val_capsnet_loss: 0.0205 - val_decoder_loss: 0.1129 - val_capsnet_accuracy: 0.9744 - val_decoder_accuracy: 0.3827\n",
            "Epoch 45/80\n",
            "1718/1718 [==============================] - 28s 16ms/step - loss: 0.0066 - capsnet_loss: 0.0065 - decoder_loss: 0.1131 - capsnet_accuracy: 0.9965 - decoder_accuracy: 0.3804 - val_loss: 0.0331 - val_capsnet_loss: 0.0330 - val_decoder_loss: 0.1129 - val_capsnet_accuracy: 0.9651 - val_decoder_accuracy: 0.3840\n",
            "Epoch 46/80\n",
            "1718/1718 [==============================] - 27s 16ms/step - loss: 0.0071 - capsnet_loss: 0.0071 - decoder_loss: 0.1131 - capsnet_accuracy: 0.9980 - decoder_accuracy: 0.3811 - val_loss: 0.0259 - val_capsnet_loss: 0.0258 - val_decoder_loss: 0.1129 - val_capsnet_accuracy: 0.9709 - val_decoder_accuracy: 0.3835\n",
            "Epoch 47/80\n",
            "1718/1718 [==============================] - 29s 17ms/step - loss: 0.0072 - capsnet_loss: 0.0072 - decoder_loss: 0.1131 - capsnet_accuracy: 0.9980 - decoder_accuracy: 0.3819 - val_loss: 0.0188 - val_capsnet_loss: 0.0188 - val_decoder_loss: 0.1129 - val_capsnet_accuracy: 0.9744 - val_decoder_accuracy: 0.3840\n",
            "Epoch 48/80\n",
            "1718/1718 [==============================] - 28s 16ms/step - loss: 0.0063 - capsnet_loss: 0.0063 - decoder_loss: 0.1131 - capsnet_accuracy: 0.9980 - decoder_accuracy: 0.3826 - val_loss: 0.0245 - val_capsnet_loss: 0.0244 - val_decoder_loss: 0.1129 - val_capsnet_accuracy: 0.9733 - val_decoder_accuracy: 0.3864\n",
            "Epoch 49/80\n",
            "1718/1718 [==============================] - 28s 16ms/step - loss: 0.0072 - capsnet_loss: 0.0071 - decoder_loss: 0.1131 - capsnet_accuracy: 0.9965 - decoder_accuracy: 0.3834 - val_loss: 0.0325 - val_capsnet_loss: 0.0325 - val_decoder_loss: 0.1129 - val_capsnet_accuracy: 0.9616 - val_decoder_accuracy: 0.3870\n",
            "Epoch 50/80\n",
            "1718/1718 [==============================] - 27s 16ms/step - loss: 0.0039 - capsnet_loss: 0.0039 - decoder_loss: 0.1131 - capsnet_accuracy: 0.9994 - decoder_accuracy: 0.3845 - val_loss: 0.0229 - val_capsnet_loss: 0.0228 - val_decoder_loss: 0.1129 - val_capsnet_accuracy: 0.9744 - val_decoder_accuracy: 0.3885\n",
            "Epoch 51/80\n",
            "1718/1718 [==============================] - 27s 16ms/step - loss: 0.0065 - capsnet_loss: 0.0065 - decoder_loss: 0.1131 - capsnet_accuracy: 0.9985 - decoder_accuracy: 0.3856 - val_loss: 0.0193 - val_capsnet_loss: 0.0192 - val_decoder_loss: 0.1129 - val_capsnet_accuracy: 0.9756 - val_decoder_accuracy: 0.3880\n",
            "Epoch 52/80\n",
            "1718/1718 [==============================] - 28s 16ms/step - loss: 0.0047 - capsnet_loss: 0.0047 - decoder_loss: 0.1131 - capsnet_accuracy: 0.9991 - decoder_accuracy: 0.3865 - val_loss: 0.0260 - val_capsnet_loss: 0.0260 - val_decoder_loss: 0.1129 - val_capsnet_accuracy: 0.9698 - val_decoder_accuracy: 0.3885\n",
            "Epoch 53/80\n",
            "1718/1718 [==============================] - 28s 16ms/step - loss: 0.0054 - capsnet_loss: 0.0054 - decoder_loss: 0.1131 - capsnet_accuracy: 0.9988 - decoder_accuracy: 0.3876 - val_loss: 0.0209 - val_capsnet_loss: 0.0209 - val_decoder_loss: 0.1129 - val_capsnet_accuracy: 0.9756 - val_decoder_accuracy: 0.3910\n",
            "Epoch 54/80\n",
            "1718/1718 [==============================] - 28s 16ms/step - loss: 0.0079 - capsnet_loss: 0.0079 - decoder_loss: 0.1131 - capsnet_accuracy: 0.9983 - decoder_accuracy: 0.3888 - val_loss: 0.0218 - val_capsnet_loss: 0.0217 - val_decoder_loss: 0.1129 - val_capsnet_accuracy: 0.9733 - val_decoder_accuracy: 0.3915\n",
            "Epoch 55/80\n",
            "1718/1718 [==============================] - 27s 16ms/step - loss: 0.0054 - capsnet_loss: 0.0054 - decoder_loss: 0.1131 - capsnet_accuracy: 0.9980 - decoder_accuracy: 0.3894 - val_loss: 0.0260 - val_capsnet_loss: 0.0259 - val_decoder_loss: 0.1129 - val_capsnet_accuracy: 0.9663 - val_decoder_accuracy: 0.3946\n",
            "Epoch 56/80\n",
            "1718/1718 [==============================] - 27s 16ms/step - loss: 0.0048 - capsnet_loss: 0.0048 - decoder_loss: 0.1131 - capsnet_accuracy: 0.9991 - decoder_accuracy: 0.3904 - val_loss: 0.0240 - val_capsnet_loss: 0.0239 - val_decoder_loss: 0.1129 - val_capsnet_accuracy: 0.9709 - val_decoder_accuracy: 0.3938\n",
            "Epoch 57/80\n",
            "1718/1718 [==============================] - 27s 16ms/step - loss: 0.0077 - capsnet_loss: 0.0076 - decoder_loss: 0.1131 - capsnet_accuracy: 0.9974 - decoder_accuracy: 0.3913 - val_loss: 0.0248 - val_capsnet_loss: 0.0247 - val_decoder_loss: 0.1129 - val_capsnet_accuracy: 0.9709 - val_decoder_accuracy: 0.3952\n",
            "Epoch 58/80\n",
            "1718/1718 [==============================] - 27s 16ms/step - loss: 0.0041 - capsnet_loss: 0.0040 - decoder_loss: 0.1131 - capsnet_accuracy: 0.9997 - decoder_accuracy: 0.3916 - val_loss: 0.0318 - val_capsnet_loss: 0.0318 - val_decoder_loss: 0.1129 - val_capsnet_accuracy: 0.9640 - val_decoder_accuracy: 0.3958\n",
            "Epoch 59/80\n",
            "1718/1718 [==============================] - 28s 16ms/step - loss: 0.0063 - capsnet_loss: 0.0063 - decoder_loss: 0.1131 - capsnet_accuracy: 0.9988 - decoder_accuracy: 0.3929 - val_loss: 0.0278 - val_capsnet_loss: 0.0277 - val_decoder_loss: 0.1129 - val_capsnet_accuracy: 0.9744 - val_decoder_accuracy: 0.3977\n",
            "Epoch 60/80\n",
            "1718/1718 [==============================] - 30s 18ms/step - loss: 0.0045 - capsnet_loss: 0.0045 - decoder_loss: 0.1131 - capsnet_accuracy: 0.9991 - decoder_accuracy: 0.3941 - val_loss: 0.0211 - val_capsnet_loss: 0.0210 - val_decoder_loss: 0.1129 - val_capsnet_accuracy: 0.9698 - val_decoder_accuracy: 0.3977\n",
            "Epoch 61/80\n",
            "1718/1718 [==============================] - 29s 17ms/step - loss: 0.0050 - capsnet_loss: 0.0049 - decoder_loss: 0.1131 - capsnet_accuracy: 0.9985 - decoder_accuracy: 0.3951 - val_loss: 0.0218 - val_capsnet_loss: 0.0217 - val_decoder_loss: 0.1129 - val_capsnet_accuracy: 0.9756 - val_decoder_accuracy: 0.3980\n",
            "Epoch 62/80\n",
            "1718/1718 [==============================] - 27s 16ms/step - loss: 0.0060 - capsnet_loss: 0.0060 - decoder_loss: 0.1131 - capsnet_accuracy: 0.9988 - decoder_accuracy: 0.3958 - val_loss: 0.0196 - val_capsnet_loss: 0.0195 - val_decoder_loss: 0.1129 - val_capsnet_accuracy: 0.9744 - val_decoder_accuracy: 0.3999\n",
            "Epoch 63/80\n",
            "1718/1718 [==============================] - 28s 16ms/step - loss: 0.0049 - capsnet_loss: 0.0048 - decoder_loss: 0.1131 - capsnet_accuracy: 0.9991 - decoder_accuracy: 0.3967 - val_loss: 0.0234 - val_capsnet_loss: 0.0233 - val_decoder_loss: 0.1129 - val_capsnet_accuracy: 0.9721 - val_decoder_accuracy: 0.4010\n",
            "Epoch 64/80\n",
            "1718/1718 [==============================] - 27s 16ms/step - loss: 0.0074 - capsnet_loss: 0.0073 - decoder_loss: 0.1131 - capsnet_accuracy: 0.9968 - decoder_accuracy: 0.3977 - val_loss: 0.0307 - val_capsnet_loss: 0.0306 - val_decoder_loss: 0.1129 - val_capsnet_accuracy: 0.9698 - val_decoder_accuracy: 0.4017\n",
            "Epoch 65/80\n",
            "1718/1718 [==============================] - 28s 16ms/step - loss: 0.0033 - capsnet_loss: 0.0032 - decoder_loss: 0.1131 - capsnet_accuracy: 0.9994 - decoder_accuracy: 0.3983 - val_loss: 0.0218 - val_capsnet_loss: 0.0218 - val_decoder_loss: 0.1129 - val_capsnet_accuracy: 0.9709 - val_decoder_accuracy: 0.4029\n",
            "Epoch 66/80\n",
            "1718/1718 [==============================] - 29s 17ms/step - loss: 0.0061 - capsnet_loss: 0.0060 - decoder_loss: 0.1131 - capsnet_accuracy: 0.9983 - decoder_accuracy: 0.3994 - val_loss: 0.0243 - val_capsnet_loss: 0.0242 - val_decoder_loss: 0.1129 - val_capsnet_accuracy: 0.9686 - val_decoder_accuracy: 0.4053\n",
            "Epoch 67/80\n",
            "1718/1718 [==============================] - 28s 16ms/step - loss: 0.0046 - capsnet_loss: 0.0045 - decoder_loss: 0.1131 - capsnet_accuracy: 0.9994 - decoder_accuracy: 0.4004 - val_loss: 0.0242 - val_capsnet_loss: 0.0242 - val_decoder_loss: 0.1129 - val_capsnet_accuracy: 0.9709 - val_decoder_accuracy: 0.4063\n",
            "Epoch 68/80\n",
            "1718/1718 [==============================] - 29s 17ms/step - loss: 0.0061 - capsnet_loss: 0.0060 - decoder_loss: 0.1131 - capsnet_accuracy: 0.9985 - decoder_accuracy: 0.4014 - val_loss: 0.0371 - val_capsnet_loss: 0.0370 - val_decoder_loss: 0.1129 - val_capsnet_accuracy: 0.9512 - val_decoder_accuracy: 0.4068\n",
            "Epoch 69/80\n",
            "1718/1718 [==============================] - 27s 16ms/step - loss: 0.0040 - capsnet_loss: 0.0039 - decoder_loss: 0.1131 - capsnet_accuracy: 0.9991 - decoder_accuracy: 0.4024 - val_loss: 0.0217 - val_capsnet_loss: 0.0217 - val_decoder_loss: 0.1129 - val_capsnet_accuracy: 0.9733 - val_decoder_accuracy: 0.4070\n",
            "Epoch 70/80\n",
            "1718/1718 [==============================] - 28s 16ms/step - loss: 0.0037 - capsnet_loss: 0.0036 - decoder_loss: 0.1131 - capsnet_accuracy: 1.0000 - decoder_accuracy: 0.4031 - val_loss: 0.0248 - val_capsnet_loss: 0.0248 - val_decoder_loss: 0.1129 - val_capsnet_accuracy: 0.9686 - val_decoder_accuracy: 0.4080\n",
            "Epoch 71/80\n",
            "1718/1718 [==============================] - 29s 17ms/step - loss: 0.0041 - capsnet_loss: 0.0040 - decoder_loss: 0.1131 - capsnet_accuracy: 0.9994 - decoder_accuracy: 0.4039 - val_loss: 0.0214 - val_capsnet_loss: 0.0214 - val_decoder_loss: 0.1129 - val_capsnet_accuracy: 0.9733 - val_decoder_accuracy: 0.4077\n",
            "Epoch 72/80\n",
            "1718/1718 [==============================] - 28s 16ms/step - loss: 0.0050 - capsnet_loss: 0.0050 - decoder_loss: 0.1131 - capsnet_accuracy: 0.9991 - decoder_accuracy: 0.4048 - val_loss: 0.0247 - val_capsnet_loss: 0.0246 - val_decoder_loss: 0.1129 - val_capsnet_accuracy: 0.9698 - val_decoder_accuracy: 0.4081\n",
            "Epoch 73/80\n",
            "1718/1718 [==============================] - 27s 16ms/step - loss: 0.0036 - capsnet_loss: 0.0036 - decoder_loss: 0.1131 - capsnet_accuracy: 0.9991 - decoder_accuracy: 0.4060 - val_loss: 0.0196 - val_capsnet_loss: 0.0196 - val_decoder_loss: 0.1129 - val_capsnet_accuracy: 0.9767 - val_decoder_accuracy: 0.4096\n",
            "Epoch 74/80\n",
            "1718/1718 [==============================] - 27s 16ms/step - loss: 0.0051 - capsnet_loss: 0.0051 - decoder_loss: 0.1131 - capsnet_accuracy: 0.9977 - decoder_accuracy: 0.4072 - val_loss: 0.0310 - val_capsnet_loss: 0.0310 - val_decoder_loss: 0.1129 - val_capsnet_accuracy: 0.9733 - val_decoder_accuracy: 0.4137\n",
            "Epoch 75/80\n",
            "1718/1718 [==============================] - 27s 16ms/step - loss: 0.0052 - capsnet_loss: 0.0052 - decoder_loss: 0.1131 - capsnet_accuracy: 0.9977 - decoder_accuracy: 0.4082 - val_loss: 0.0213 - val_capsnet_loss: 0.0212 - val_decoder_loss: 0.1129 - val_capsnet_accuracy: 0.9709 - val_decoder_accuracy: 0.4127\n",
            "Epoch 76/80\n",
            "1718/1718 [==============================] - 26s 15ms/step - loss: 0.0021 - capsnet_loss: 0.0020 - decoder_loss: 0.1131 - capsnet_accuracy: 1.0000 - decoder_accuracy: 0.4088 - val_loss: 0.0259 - val_capsnet_loss: 0.0258 - val_decoder_loss: 0.1129 - val_capsnet_accuracy: 0.9698 - val_decoder_accuracy: 0.4144\n",
            "Epoch 77/80\n",
            "1718/1718 [==============================] - 27s 16ms/step - loss: 0.0047 - capsnet_loss: 0.0046 - decoder_loss: 0.1131 - capsnet_accuracy: 0.9988 - decoder_accuracy: 0.4098 - val_loss: 0.0365 - val_capsnet_loss: 0.0364 - val_decoder_loss: 0.1129 - val_capsnet_accuracy: 0.9616 - val_decoder_accuracy: 0.4159\n",
            "Epoch 78/80\n",
            "1718/1718 [==============================] - 28s 17ms/step - loss: 0.0055 - capsnet_loss: 0.0054 - decoder_loss: 0.1131 - capsnet_accuracy: 0.9971 - decoder_accuracy: 0.4107 - val_loss: 0.0216 - val_capsnet_loss: 0.0216 - val_decoder_loss: 0.1129 - val_capsnet_accuracy: 0.9733 - val_decoder_accuracy: 0.4134\n",
            "Epoch 79/80\n",
            "1718/1718 [==============================] - 28s 16ms/step - loss: 0.0034 - capsnet_loss: 0.0034 - decoder_loss: 0.1131 - capsnet_accuracy: 0.9994 - decoder_accuracy: 0.4112 - val_loss: 0.0202 - val_capsnet_loss: 0.0201 - val_decoder_loss: 0.1129 - val_capsnet_accuracy: 0.9709 - val_decoder_accuracy: 0.4155\n",
            "Epoch 80/80\n",
            "1718/1718 [==============================] - 27s 16ms/step - loss: 0.0038 - capsnet_loss: 0.0038 - decoder_loss: 0.1131 - capsnet_accuracy: 0.9994 - decoder_accuracy: 0.4123 - val_loss: 0.0408 - val_capsnet_loss: 0.0407 - val_decoder_loss: 0.1129 - val_capsnet_accuracy: 0.9512 - val_decoder_accuracy: 0.4187\n"
          ]
        }
      ],
      "source": [
        "lr_scheduler = keras.callbacks.ReduceLROnPlateau(monitor='val_capsnet_accuracy', mode='max', factor=0.5, patience=4)\n",
        "train_model.compile(optimizer=keras.optimizers.Adam(learning_rate=0.001, beta_1=0.9, beta_2=0.999), loss=[margin_loss, 'mse'], loss_weights=[1., 0.0005],\n",
        "                    metrics=['accuracy'])\n",
        "\n",
        "history= train_model.fit([x_train, y_train], [y_train, x_train], batch_size=m, epochs=epochs,\n",
        "                validation_data=([x_test, y_test], [y_test, x_test])\n",
        "                # , callbacks=[tensorboard_callback]\n",
        "                )\n"
      ]
    },
    {
      "cell_type": "code",
      "execution_count": null,
      "metadata": {
        "id": "EtUsVvEaOm5a",
        "colab": {
          "base_uri": "https://localhost:8080/"
        },
        "outputId": "4ea89120-9149-4c4e-821c-0883675faafb"
      },
      "outputs": [
        {
          "output_type": "stream",
          "name": "stdout",
          "text": [
            "Test Loss: 0.0407\n",
            "Test Accuracy: 95.12%\n"
          ]
        }
      ],
      "source": [
        "evaluation_results = train_model.evaluate([x_test, y_test], [y_test, x_test], batch_size=m, verbose=0)\n",
        "# print(\"Test Loss:\", evaluation_results[0])\n",
        "# print(\"Test Accuracy:\", evaluation_results[3])\n",
        "\n",
        "test_loss = evaluation_results[1]\n",
        "test_accuracy = evaluation_results[3]\n",
        "\n",
        "print(f\"Test Loss: {test_loss:.4f}\")\n",
        "print(f\"Test Accuracy: {test_accuracy * 100:.2f}%\")\n"
      ]
    },
    {
      "cell_type": "code",
      "execution_count": null,
      "metadata": {
        "id": "through-poker",
        "colab": {
          "base_uri": "https://localhost:8080/",
          "height": 430
        },
        "outputId": "ffe43641-6b2f-4fb2-b242-b2727a9876c5"
      },
      "outputs": [
        {
          "output_type": "display_data",
          "data": {
            "text/plain": [
              "<Figure size 640x480 with 1 Axes>"
            ],
            "image/png": "[encoded data removed]"
          },
          "metadata": {}
        }
      ],
      "source": [
        "plt.plot(history.history[\"capsnet_accuracy\"] , 'ro-' , label = \"CapsNet Training Accuracy\")\n",
        "plt.plot(history.history[\"val_capsnet_accuracy\"] , 'go-' , label = \"CapsNet Testing Accuracy\")\n",
        "plt.legend()\n",
        "plt.show()"
      ]
    },
    {
      "cell_type": "code",
      "execution_count": null,
      "metadata": {
        "id": "statewide-individual",
        "colab": {
          "base_uri": "https://localhost:8080/",
          "height": 430
        },
        "outputId": "5e4ee288-9a72-46ef-e3ce-322b61d779f7"
      },
      "outputs": [
        {
          "output_type": "display_data",
          "data": {
            "text/plain": [
              "<Figure size 640x480 with 1 Axes>"
            ],
            "image/png": "[encoded data removed]"
          },
          "metadata": {}
        }
      ],
      "source": [
        "plt.plot(history.history[\"capsnet_loss\"] , 'ro-' , label = \"CapsNet Training Loss\")\n",
        "plt.plot(history.history[\"val_capsnet_loss\"] , 'go-' , label = \"CapsNet Testing Loss\")\n",
        "plt.legend()\n",
        "plt.show()"
      ]
    },
    {
      "cell_type": "code",
      "execution_count": null,
      "metadata": {
        "id": "VpIbIBddkBhf"
      },
      "outputs": [],
      "source": [
        "classes = {0: ('1','meningioma'),\n",
        "           1: ('2','glioma'),\n",
        "           2: ('3','pituitary')\n",
        "           }"
      ]
    },
    {
      "cell_type": "code",
      "execution_count": null,
      "metadata": {
        "id": "a_W22XGGKnKT",
        "colab": {
          "base_uri": "https://localhost:8080/"
        },
        "outputId": "9ef2fea8-ee37-400e-849f-1d5806e98691"
      },
      "outputs": [
        {
          "output_type": "stream",
          "name": "stdout",
          "text": [
            "(860,)\n"
          ]
        }
      ],
      "source": [
        "y_pred_list = train_model.predict([x_test, y_test], batch_size=m, verbose=0)  # Providing both image and label data\n",
        "y_pred_capsnet = y_pred_list[0]   # Getting the output from the capsnet layer\n",
        "y_pred_labels = np.argmax(y_pred_capsnet, axis=1)\n",
        "y_test_labels = np.argmax(y_test, axis=1)\n",
        "\n",
        "print(y_pred_labels.shape)\n"
      ]
    },
    {
      "cell_type": "code",
      "execution_count": null,
      "metadata": {
        "id": "bzkENFKVjpto",
        "colab": {
          "base_uri": "https://localhost:8080/"
        },
        "outputId": "6c452647-d207-4e0a-d20a-de892845e930"
      },
      "outputs": [
        {
          "output_type": "stream",
          "name": "stdout",
          "text": [
            "                     precision    recall  f1-score   support\n",
            "\n",
            "('1', 'meningioma')       0.89      0.98      0.93       277\n",
            "    ('2', 'glioma')       0.98      0.89      0.93       297\n",
            " ('3', 'pituitary')       0.99      0.99      0.99       286\n",
            "\n",
            "           accuracy                           0.95       860\n",
            "          macro avg       0.95      0.95      0.95       860\n",
            "       weighted avg       0.95      0.95      0.95       860\n",
            "\n"
          ]
        }
      ],
      "source": [
        "target_names = [f\"{classes[i]}\" for i in range(3)]\n",
        "print(classification_report(y_test_labels, y_pred_labels, target_names=target_names))"
      ]
    },
    {
      "cell_type": "code",
      "execution_count": null,
      "metadata": {
        "id": "mO_qh8EZl8qZ",
        "colab": {
          "base_uri": "https://localhost:8080/",
          "height": 467
        },
        "outputId": "5ed6de30-606f-453b-e79c-6aff4b5265e6"
      },
      "outputs": [
        {
          "output_type": "stream",
          "name": "stdout",
          "text": [
            "430/430 [==============================] - 2s 4ms/step\n",
            "A.I predicts: 1\n"
          ]
        },
        {
          "output_type": "display_data",
          "data": {
            "text/plain": [
              "<Figure size 640x480 with 1 Axes>"
            ],
            "image/png": "[encoded data removed]"
          },
          "metadata": {}
        }
      ],
      "source": [
        "from keras.models import Model\n",
        "simplified_model = Model(inputs=train_model.input, outputs=train_model.get_layer('capsnet').output)\n",
        "y_pred_capsnet = simplified_model.predict([x_test, y_test], batch_size=m)\n",
        "y_pred_labels = np.argmax(y_pred_capsnet, axis=1)\n",
        "\n",
        "X = 130\n",
        "\n",
        "# Preprocessing the image\n",
        "img_single = x_test[X]\n",
        "img_single_exp = np.expand_dims(img_single, 0)\n",
        "img_single_exp = img_single_exp.reshape(img_single_exp.shape[0], img_size, img_size, 3)\n",
        "\n",
        "# Ensure y_test is 2D (like one-hot encoded labels)\n",
        "if len(y_test.shape) != 2:\n",
        "    print(\"y_test doesn't have two dimensions. Please check its shape!\")\n",
        "else:\n",
        "    # Creating a dummy label to make a prediction since our model expects 2 inputs\n",
        "    dummy_label = np.zeros((1, y_test.shape[1]))\n",
        "\n",
        "    # Making the prediction for the single image\n",
        "    # predictions_list = train_model.predict([img_single_exp, dummy_label])\n",
        "\n",
        "\n",
        "    predictions_single = y_pred_labels[0]  # Extracting capsnet predictions\n",
        "\n",
        "        # Ensure the predicted category index doesn't exceed the categories list length\n",
        "    predicted_index = np.argmax(predictions_single)\n",
        "    if predicted_index >= len(categories):\n",
        "        print(\"Predicted index out of range for categories list!\")\n",
        "    else:\n",
        "        print('A.I predicts:', categories[predicted_index])\n",
        "\n",
        "# Visualizing the preprocessed image\n",
        "plt.imshow(np.squeeze(img_single_exp), cmap='gray')\n",
        "plt.grid(False)\n",
        "plt.show()\n"
      ]
    },
    {
      "cell_type": "code",
      "execution_count": null,
      "metadata": {
        "id": "cpA7vLLpgL0E",
        "colab": {
          "base_uri": "https://localhost:8080/"
        },
        "outputId": "ecc355ca-5ec2-43ee-a8ae-c27405ba4b64"
      },
      "outputs": [
        {
          "output_type": "stream",
          "name": "stdout",
          "text": [
            "430/430 [==============================] - 2s 4ms/step\n"
          ]
        }
      ],
      "source": [
        "from keras.models import Model\n",
        "simplified_model = Model(inputs=train_model.input, outputs=train_model.get_layer('capsnet').output)\n",
        "y_pred_capsnet = simplified_model.predict([x_test, y_test], batch_size=m)\n",
        "y_pred_labels = np.argmax(y_pred_capsnet, axis=1)\n",
        "\n"
      ]
    },
    {
      "cell_type": "code",
      "execution_count": null,
      "metadata": {
        "id": "YO55PPeenshy",
        "colab": {
          "base_uri": "https://localhost:8080/",
          "height": 431
        },
        "outputId": "f2cb891a-caf5-4c90-b802-f8aacc1aca2a"
      },
      "outputs": [
        {
          "output_type": "display_data",
          "data": {
            "text/plain": [
              "<Figure size 500x400 with 2 Axes>"
            ],
            "image/png": "[encoded data removed]"
          },
          "metadata": {}
        }
      ],
      "source": [
        "from mlxtend.plotting import plot_confusion_matrix\n",
        "\n",
        "if y_test.shape[1] > 1:  # This checks if y_test is one-hot encoded\n",
        "    y_test_labels = np.argmax(y_test, axis=1)\n",
        "else:\n",
        "    y_test_labels = y_test\n",
        "from sklearn.metrics import confusion_matrix\n",
        "import seaborn as sns\n",
        "\n",
        "cm = confusion_matrix(y_test_labels, y_pred_labels)\n",
        "\n",
        "plt.figure(figsize=(5,4))\n",
        "sns.heatmap(cm, annot=True, fmt='g', cmap=plt.cm.Blues)\n",
        "plt.xlabel('Predicted')\n",
        "plt.ylabel('True')\n",
        "plt.xticks(range(3), ['meningioma', ' glioma', 'pituitary'], fontsize=10)\n",
        "plt.yticks(range(3), ['meningioma', ' glioma', 'pituitary'], fontsize=10)\n",
        "plt.show()\n"
      ]
    },
    {
      "cell_type": "code",
      "execution_count": null,
      "metadata": {
        "id": "twWzRWtKjDQy",
        "colab": {
          "base_uri": "https://localhost:8080/"
        },
        "outputId": "9a3488c3-fd03-432a-afd3-853c607f4a5d"
      },
      "outputs": [
        {
          "output_type": "stream",
          "name": "stdout",
          "text": [
            "430/430 [==============================] - 2s 4ms/step\n"
          ]
        }
      ],
      "source": [
        "from sklearn.metrics import roc_curve, auc, roc_auc_score\n",
        "from keras.models import Model\n",
        "fpr = dict()\n",
        "tpr = dict()\n",
        "roc_auc = dict()\n",
        "\n",
        "simplified_model = Model(inputs=train_model.input, outputs=train_model.get_layer('capsnet').output)\n",
        "y_pred_capsnet = simplified_model.predict([x_test, y_test], batch_size=m).round()\n",
        "y_pred_labels = np.argmax(y_pred_capsnet, axis=1)\n",
        "\n",
        "Y_test_1hot = to_categorical(y_test).round()\n",
        "Y_train_1hot = to_categorical(y_train).round()\n",
        "\n",
        "fpr = dict()\n",
        "tpr = dict()\n",
        "roc_auc = dict()\n",
        "\n",
        "# Ensure y_test is one-hot encoded, if not, convert it\n",
        "if y_test.shape[1] <= 1:\n",
        "    print(\"y_test doesn't appear to be one-hot encoded. Please check its shape!\")\n",
        "else:\n",
        "    Y_test_1hot = y_test\n",
        "    for i in range(3):\n",
        "        fpr[i], tpr[i], _ = roc_curve(Y_test_1hot[:, i], y_pred_capsnet[:, i])\n",
        "        roc_auc[i] = auc(fpr[i], tpr[i])\n",
        "\n",
        "\n",
        "fpr[\"micro\"], tpr[\"micro\"], _ = roc_curve(Y_test_1hot.ravel(), y_pred_capsnet.ravel())\n",
        "roc_auc[\"micro\"] = auc(fpr[\"micro\"], tpr[\"micro\"])"
      ]
    },
    {
      "cell_type": "code",
      "source": [],
      "metadata": {
        "id": "8z8cmxSqcUMa"
      },
      "execution_count": null,
      "outputs": []
    },
    {
      "cell_type": "code",
      "execution_count": null,
      "metadata": {
        "id": "IZDN5ioBJq-b",
        "colab": {
          "base_uri": "https://localhost:8080/",
          "height": 472
        },
        "outputId": "e04eb238-1dd8-4c76-8263-f8174c8f58fe"
      },
      "outputs": [
        {
          "output_type": "display_data",
          "data": {
            "text/plain": [
              "<Figure size 640x480 with 1 Axes>"
            ],
            "image/png": "[encoded data removed]"
          },
          "metadata": {}
        }
      ],
      "source": [
        "plt.figure()\n",
        "lw = 2\n",
        "plt.plot(fpr[2], tpr[2], color='darkorange',\n",
        "         lw=lw, label='ROC curve (area = %0.3f)' % roc_auc[2])\n",
        "plt.plot([0, 1], [0, 1], color='navy', lw=lw, linestyle='--')\n",
        "plt.xlim([0.0, 1.0])\n",
        "plt.ylim([0.0, 1.05])\n",
        "plt.xlabel('False Positive Rate')\n",
        "plt.ylabel('True Positive Rate')\n",
        "plt.title('Braib characteristic')\n",
        "plt.legend(loc=\"lower right\")\n",
        "plt.show()"
      ]
    }
  ],
  "metadata": {
    "accelerator": "GPU",
    "colab": {
      "gpuType": "T4",
      "machine_shape": "hm",
      "provenance": []
    },
    "kernelspec": {
      "display_name": "Python 3",
      "name": "python3"
    },
    "language_info": {
      "codemirror_mode": {
        "name": "ipython",
        "version": 3
      },
      "file_extension": ".py",
      "mimetype": "text/x-python",
      "name": "python",
      "nbconvert_exporter": "python",
      "pygments_lexer": "ipython3",
      "version": "3.7.1"
    }
  },
  "nbformat": 4,
  "nbformat_minor": 0
}